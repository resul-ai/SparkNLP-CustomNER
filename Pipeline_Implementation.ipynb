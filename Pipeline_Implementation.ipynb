{
  "cells": [
    {
      "cell_type": "markdown",
      "metadata": {
        "id": "I08sFJYCxR0Z"
      },
      "source": [
        "![JohnSnowLabs](https://nlp.johnsnowlabs.com/assets/images/logo.png)"
      ]
    },
    {
      "cell_type": "markdown",
      "metadata": {
        "id": "FwJ-P56kq6FU"
      },
      "source": [
        "[![Open In Colab](https://colab.research.google.com/assets/colab-badge.svg)](https://colab.research.google.com/drive/1zCMIC4DyUgCYibA69-rXsrPrVPMRIvUl?usp=sharing)"
      ]
    },
    {
      "cell_type": "markdown",
      "metadata": {
        "id": "nWu_IMfY4L1N"
      },
      "source": [
        "# **Interview Task**\n",
        "[Running a Spark NLP Healthcare Pipeline and Training a Custom NER Model](https://docs.google.com/document/d/1l_SpYGAlVGAEe9x-b8avgvKipCXetdap2ttc4UKreO4/edit?tab=t.0)  \n",
        "## **Chapter-I Pipeline Implementation:**\n"
      ]
    },
    {
      "cell_type": "markdown",
      "metadata": {
        "id": "okhT7AcXxben"
      },
      "source": [
        "## 1. Set Up Spark NLP for Healthcare"
      ]
    },
    {
      "cell_type": "code",
      "execution_count": 4,
      "metadata": {
        "id": "REmprZQ8Mbrr",
        "colab": {
          "base_uri": "https://localhost:8080/",
          "height": 73
        },
        "outputId": "a814b4bd-b4a9-4f72-ae6d-9e9ca106c52e"
      },
      "outputs": [
        {
          "output_type": "display_data",
          "data": {
            "text/plain": [
              "<IPython.core.display.HTML object>"
            ],
            "text/html": [
              "\n",
              "     <input type=\"file\" id=\"files-3d4e6157-2f8b-43a2-9356-8222a6d8e49a\" name=\"files[]\" multiple disabled\n",
              "        style=\"border:none\" />\n",
              "     <output id=\"result-3d4e6157-2f8b-43a2-9356-8222a6d8e49a\">\n",
              "      Upload widget is only available when the cell has been executed in the\n",
              "      current browser session. Please rerun this cell to enable.\n",
              "      </output>\n",
              "      <script>// Copyright 2017 Google LLC\n",
              "//\n",
              "// Licensed under the Apache License, Version 2.0 (the \"License\");\n",
              "// you may not use this file except in compliance with the License.\n",
              "// You may obtain a copy of the License at\n",
              "//\n",
              "//      http://www.apache.org/licenses/LICENSE-2.0\n",
              "//\n",
              "// Unless required by applicable law or agreed to in writing, software\n",
              "// distributed under the License is distributed on an \"AS IS\" BASIS,\n",
              "// WITHOUT WARRANTIES OR CONDITIONS OF ANY KIND, either express or implied.\n",
              "// See the License for the specific language governing permissions and\n",
              "// limitations under the License.\n",
              "\n",
              "/**\n",
              " * @fileoverview Helpers for google.colab Python module.\n",
              " */\n",
              "(function(scope) {\n",
              "function span(text, styleAttributes = {}) {\n",
              "  const element = document.createElement('span');\n",
              "  element.textContent = text;\n",
              "  for (const key of Object.keys(styleAttributes)) {\n",
              "    element.style[key] = styleAttributes[key];\n",
              "  }\n",
              "  return element;\n",
              "}\n",
              "\n",
              "// Max number of bytes which will be uploaded at a time.\n",
              "const MAX_PAYLOAD_SIZE = 100 * 1024;\n",
              "\n",
              "function _uploadFiles(inputId, outputId) {\n",
              "  const steps = uploadFilesStep(inputId, outputId);\n",
              "  const outputElement = document.getElementById(outputId);\n",
              "  // Cache steps on the outputElement to make it available for the next call\n",
              "  // to uploadFilesContinue from Python.\n",
              "  outputElement.steps = steps;\n",
              "\n",
              "  return _uploadFilesContinue(outputId);\n",
              "}\n",
              "\n",
              "// This is roughly an async generator (not supported in the browser yet),\n",
              "// where there are multiple asynchronous steps and the Python side is going\n",
              "// to poll for completion of each step.\n",
              "// This uses a Promise to block the python side on completion of each step,\n",
              "// then passes the result of the previous step as the input to the next step.\n",
              "function _uploadFilesContinue(outputId) {\n",
              "  const outputElement = document.getElementById(outputId);\n",
              "  const steps = outputElement.steps;\n",
              "\n",
              "  const next = steps.next(outputElement.lastPromiseValue);\n",
              "  return Promise.resolve(next.value.promise).then((value) => {\n",
              "    // Cache the last promise value to make it available to the next\n",
              "    // step of the generator.\n",
              "    outputElement.lastPromiseValue = value;\n",
              "    return next.value.response;\n",
              "  });\n",
              "}\n",
              "\n",
              "/**\n",
              " * Generator function which is called between each async step of the upload\n",
              " * process.\n",
              " * @param {string} inputId Element ID of the input file picker element.\n",
              " * @param {string} outputId Element ID of the output display.\n",
              " * @return {!Iterable<!Object>} Iterable of next steps.\n",
              " */\n",
              "function* uploadFilesStep(inputId, outputId) {\n",
              "  const inputElement = document.getElementById(inputId);\n",
              "  inputElement.disabled = false;\n",
              "\n",
              "  const outputElement = document.getElementById(outputId);\n",
              "  outputElement.innerHTML = '';\n",
              "\n",
              "  const pickedPromise = new Promise((resolve) => {\n",
              "    inputElement.addEventListener('change', (e) => {\n",
              "      resolve(e.target.files);\n",
              "    });\n",
              "  });\n",
              "\n",
              "  const cancel = document.createElement('button');\n",
              "  inputElement.parentElement.appendChild(cancel);\n",
              "  cancel.textContent = 'Cancel upload';\n",
              "  const cancelPromise = new Promise((resolve) => {\n",
              "    cancel.onclick = () => {\n",
              "      resolve(null);\n",
              "    };\n",
              "  });\n",
              "\n",
              "  // Wait for the user to pick the files.\n",
              "  const files = yield {\n",
              "    promise: Promise.race([pickedPromise, cancelPromise]),\n",
              "    response: {\n",
              "      action: 'starting',\n",
              "    }\n",
              "  };\n",
              "\n",
              "  cancel.remove();\n",
              "\n",
              "  // Disable the input element since further picks are not allowed.\n",
              "  inputElement.disabled = true;\n",
              "\n",
              "  if (!files) {\n",
              "    return {\n",
              "      response: {\n",
              "        action: 'complete',\n",
              "      }\n",
              "    };\n",
              "  }\n",
              "\n",
              "  for (const file of files) {\n",
              "    const li = document.createElement('li');\n",
              "    li.append(span(file.name, {fontWeight: 'bold'}));\n",
              "    li.append(span(\n",
              "        `(${file.type || 'n/a'}) - ${file.size} bytes, ` +\n",
              "        `last modified: ${\n",
              "            file.lastModifiedDate ? file.lastModifiedDate.toLocaleDateString() :\n",
              "                                    'n/a'} - `));\n",
              "    const percent = span('0% done');\n",
              "    li.appendChild(percent);\n",
              "\n",
              "    outputElement.appendChild(li);\n",
              "\n",
              "    const fileDataPromise = new Promise((resolve) => {\n",
              "      const reader = new FileReader();\n",
              "      reader.onload = (e) => {\n",
              "        resolve(e.target.result);\n",
              "      };\n",
              "      reader.readAsArrayBuffer(file);\n",
              "    });\n",
              "    // Wait for the data to be ready.\n",
              "    let fileData = yield {\n",
              "      promise: fileDataPromise,\n",
              "      response: {\n",
              "        action: 'continue',\n",
              "      }\n",
              "    };\n",
              "\n",
              "    // Use a chunked sending to avoid message size limits. See b/62115660.\n",
              "    let position = 0;\n",
              "    do {\n",
              "      const length = Math.min(fileData.byteLength - position, MAX_PAYLOAD_SIZE);\n",
              "      const chunk = new Uint8Array(fileData, position, length);\n",
              "      position += length;\n",
              "\n",
              "      const base64 = btoa(String.fromCharCode.apply(null, chunk));\n",
              "      yield {\n",
              "        response: {\n",
              "          action: 'append',\n",
              "          file: file.name,\n",
              "          data: base64,\n",
              "        },\n",
              "      };\n",
              "\n",
              "      let percentDone = fileData.byteLength === 0 ?\n",
              "          100 :\n",
              "          Math.round((position / fileData.byteLength) * 100);\n",
              "      percent.textContent = `${percentDone}% done`;\n",
              "\n",
              "    } while (position < fileData.byteLength);\n",
              "  }\n",
              "\n",
              "  // All done.\n",
              "  yield {\n",
              "    response: {\n",
              "      action: 'complete',\n",
              "    }\n",
              "  };\n",
              "}\n",
              "\n",
              "scope.google = scope.google || {};\n",
              "scope.google.colab = scope.google.colab || {};\n",
              "scope.google.colab._files = {\n",
              "  _uploadFiles,\n",
              "  _uploadFilesContinue,\n",
              "};\n",
              "})(self);\n",
              "</script> "
            ]
          },
          "metadata": {}
        },
        {
          "output_type": "stream",
          "name": "stdout",
          "text": [
            "Saving Medical Language Models for Data Scientists  Training License.json to Medical Language Models for Data Scientists  Training License.json\n"
          ]
        }
      ],
      "source": [
        "import json\n",
        "import os\n",
        "\n",
        "from google.colab import files\n",
        "\n",
        "if 'spark_jsl.json' not in os.listdir():\n",
        "  license_keys = files.upload()\n",
        "  os.rename(list(license_keys.keys())[0], 'spark_jsl.json')\n",
        "\n",
        "with open('spark_jsl.json') as f:\n",
        "    license_keys = json.load(f)\n",
        "\n",
        "# Defining license key-value pairs as local variables\n",
        "locals().update(license_keys)\n",
        "os.environ.update(license_keys)"
      ]
    },
    {
      "cell_type": "code",
      "execution_count": 5,
      "metadata": {
        "colab": {
          "base_uri": "https://localhost:8080/"
        },
        "id": "GiigSdavGaeg",
        "outputId": "a7c8e3a2-51d9-47cf-ff46-7a413b896f15"
      },
      "outputs": [
        {
          "output_type": "execute_result",
          "data": {
            "text/plain": [
              "dict_keys(['SPARK_NLP_LICENSE', 'SECRET', 'JSL_VERSION', 'PUBLIC_VERSION', 'AWS_ACCESS_KEY_ID', 'AWS_SECRET_ACCESS_KEY', 'AWS_SESSION_TOKEN'])"
            ]
          },
          "metadata": {},
          "execution_count": 5
        }
      ],
      "source": [
        "license_keys.keys()"
      ]
    },
    {
      "cell_type": "code",
      "execution_count": 6,
      "metadata": {
        "colab": {
          "base_uri": "https://localhost:8080/",
          "height": 35
        },
        "id": "MIjl47npIyCK",
        "outputId": "ef24eb44-3427-49fa-d1a6-bbfbf3bcedcc"
      },
      "outputs": [
        {
          "output_type": "execute_result",
          "data": {
            "text/plain": [
              "'5.4.1'"
            ],
            "application/vnd.google.colaboratory.intrinsic+json": {
              "type": "string"
            }
          },
          "metadata": {},
          "execution_count": 6
        }
      ],
      "source": [
        "license_keys['JSL_VERSION']"
      ]
    },
    {
      "cell_type": "code",
      "execution_count": 7,
      "metadata": {
        "colab": {
          "base_uri": "https://localhost:8080/",
          "height": 35
        },
        "id": "VL465qu3GKEG",
        "outputId": "1c82e830-6f3a-4cd0-c2f1-c74c00c66b73"
      },
      "outputs": [
        {
          "output_type": "execute_result",
          "data": {
            "text/plain": [
              "'5.4.1'"
            ],
            "application/vnd.google.colaboratory.intrinsic+json": {
              "type": "string"
            }
          },
          "metadata": {},
          "execution_count": 7
        }
      ],
      "source": [
        "license_keys['PUBLIC_VERSION']"
      ]
    },
    {
      "cell_type": "code",
      "execution_count": 8,
      "metadata": {
        "id": "_wRTzAtKjXpo",
        "colab": {
          "base_uri": "https://localhost:8080/"
        },
        "outputId": "b45c77fa-f760-40d3-d02c-54255894b991"
      },
      "outputs": [
        {
          "output_type": "stream",
          "name": "stdout",
          "text": [
            "\u001b[2K     \u001b[90m━━━━━━━━━━━━━━━━━━━━━━━━━━━━━━━━━━━━━━━━\u001b[0m \u001b[32m310.8/310.8 MB\u001b[0m \u001b[31m4.1 MB/s\u001b[0m eta \u001b[36m0:00:00\u001b[0m\n",
            "\u001b[?25h  Preparing metadata (setup.py) ... \u001b[?25l\u001b[?25hdone\n",
            "\u001b[2K     \u001b[90m━━━━━━━━━━━━━━━━━━━━━━━━━━━━━━━━━━━━━━━━\u001b[0m \u001b[32m55.6/55.6 kB\u001b[0m \u001b[31m3.8 MB/s\u001b[0m eta \u001b[36m0:00:00\u001b[0m\n",
            "\u001b[2K   \u001b[90m━━━━━━━━━━━━━━━━━━━━━━━━━━━━━━━━━━━━━━━━\u001b[0m \u001b[32m579.2/579.2 kB\u001b[0m \u001b[31m30.5 MB/s\u001b[0m eta \u001b[36m0:00:00\u001b[0m\n",
            "\u001b[?25h  Building wheel for pyspark (setup.py) ... \u001b[?25l\u001b[?25hdone\n",
            "\u001b[2K     \u001b[90m━━━━━━━━━━━━━━━━━━━━━━━━━━━━━━━━━━━━━━━━\u001b[0m \u001b[32m554.8/554.8 kB\u001b[0m \u001b[31m909.8 kB/s\u001b[0m eta \u001b[36m0:00:00\u001b[0m\n",
            "\u001b[2K   \u001b[90m━━━━━━━━━━━━━━━━━━━━━━━━━━━━━━━━━━━━━━━━\u001b[0m \u001b[32m95.6/95.6 kB\u001b[0m \u001b[31m2.5 MB/s\u001b[0m eta \u001b[36m0:00:00\u001b[0m\n",
            "\u001b[2K   \u001b[90m━━━━━━━━━━━━━━━━━━━━━━━━━━━━━━━━━━━━━━━━\u001b[0m \u001b[32m66.9/66.9 kB\u001b[0m \u001b[31m4.9 MB/s\u001b[0m eta \u001b[36m0:00:00\u001b[0m\n",
            "\u001b[?25h"
          ]
        }
      ],
      "source": [
        "# Installing pyspark and spark-nlp\n",
        "! pip install --upgrade -q pyspark==3.4.1 spark-nlp==$PUBLIC_VERSION\n",
        "\n",
        "\n",
        "# Installing Spark NLP Healthcare\n",
        "! pip install --upgrade -q spark-nlp-jsl==$JSL_VERSION  --extra-index-url https://pypi.johnsnowlabs.com/$SECRET\n",
        "\n",
        "# Installing Spark NLP Display Library for visualization\n",
        "! pip install -q spark-nlp-display"
      ]
    },
    {
      "cell_type": "code",
      "execution_count": 9,
      "metadata": {
        "colab": {
          "base_uri": "https://localhost:8080/",
          "height": 0
        },
        "id": "ziwjuhAV7DYH",
        "outputId": "2f3be8dd-b8c6-46d8-dc2a-f4d852bd2213"
      },
      "outputs": [
        {
          "output_type": "stream",
          "name": "stdout",
          "text": [
            "Spark NLP Version : 5.4.1\n",
            "Spark NLP_JSL Version : 5.4.1\n"
          ]
        },
        {
          "output_type": "execute_result",
          "data": {
            "text/plain": [
              "<pyspark.sql.session.SparkSession at 0x7be66ec2cca0>"
            ],
            "text/html": [
              "\n",
              "            <div>\n",
              "                <p><b>SparkSession - in-memory</b></p>\n",
              "                \n",
              "        <div>\n",
              "            <p><b>SparkContext</b></p>\n",
              "\n",
              "            <p><a href=\"http://3c40a4d08f69:4040\">Spark UI</a></p>\n",
              "\n",
              "            <dl>\n",
              "              <dt>Version</dt>\n",
              "                <dd><code>v3.4.1</code></dd>\n",
              "              <dt>Master</dt>\n",
              "                <dd><code>local[*]</code></dd>\n",
              "              <dt>AppName</dt>\n",
              "                <dd><code>Spark NLP Licensed</code></dd>\n",
              "            </dl>\n",
              "        </div>\n",
              "        \n",
              "            </div>\n",
              "        "
            ]
          },
          "metadata": {},
          "execution_count": 9
        }
      ],
      "source": [
        "import json\n",
        "import os\n",
        "\n",
        "import sparknlp\n",
        "import sparknlp_jsl\n",
        "\n",
        "from sparknlp.base import *\n",
        "from sparknlp.annotator import *\n",
        "from sparknlp_jsl.annotator import *\n",
        "from sparknlp_jsl.pipeline_tracer import PipelineTracer\n",
        "from sparknlp_jsl.pipeline_output_parser import PipelineOutputParser\n",
        "\n",
        "from pyspark.sql import SparkSession\n",
        "from pyspark.sql import functions as F\n",
        "from pyspark.ml import Pipeline,PipelineModel\n",
        "\n",
        "import pandas as pd\n",
        "pd.set_option('display.max_colwidth', 200)\n",
        "\n",
        "import warnings\n",
        "warnings.filterwarnings('ignore')\n",
        "\n",
        "params = {\"spark.driver.memory\":\"16G\",\n",
        "          \"spark.kryoserializer.buffer.max\":\"2000M\",\n",
        "          \"spark.driver.maxResultSize\":\"2000M\"}\n",
        "\n",
        "print(\"Spark NLP Version :\", sparknlp.version())\n",
        "print(\"Spark NLP_JSL Version :\", sparknlp_jsl.version())\n",
        "\n",
        "spark = sparknlp_jsl.start(license_keys['SECRET'],params=params)\n",
        "\n",
        "spark"
      ]
    },
    {
      "cell_type": "code",
      "execution_count": 10,
      "metadata": {
        "colab": {
          "base_uri": "https://localhost:8080/"
        },
        "id": "4l4VvgI1dRb6",
        "outputId": "bbdb561f-7ccf-41db-ec59-833064e2dabf"
      },
      "outputs": [
        {
          "output_type": "stream",
          "name": "stdout",
          "text": [
            "ner_clinical\n",
            "ner_posology\n",
            "ner_posology_small\n",
            "ner_posology_greedy\n",
            "ner_posology_large\n",
            "ner_clinical_large\n",
            "ner_posology_healthcare\n",
            "ner_posology_large_biobert\n",
            "ner_clinical_biobert\n",
            "ner_posology_biobert\n",
            "ner_posology_experimental\n",
            "ner_clinical_trials_abstracts\n",
            "ner_posology_emb_clinical_medium\n",
            "ner_posology_emb_clinical_large\n",
            "ner_posology_langtest\n",
            "ner_clinical_langtest\n",
            "ner_clinical_large_langtest\n",
            "ner_clinical_abbreviation_langtest\n"
          ]
        }
      ],
      "source": [
        "from sparknlp_jsl.pretrained import InternalResourceDownloader\n",
        "\n",
        "ner_models = InternalResourceDownloader.returnPrivateModels(\"MedicalNerModel\")\n",
        "for model, lang, version in ner_models:\n",
        "  if lang == \"en\" and (model.startswith(\"ner_clinical\") or model.startswith(\"ner_posology\")):\n",
        "    print(model)"
      ]
    },
    {
      "cell_type": "markdown",
      "source": [
        "## 2. Dataset Selection"
      ],
      "metadata": {
        "id": "ndUm4nh6cCrr"
      }
    },
    {
      "cell_type": "code",
      "execution_count": 11,
      "metadata": {
        "id": "v1lmxbPt1dZW"
      },
      "outputs": [],
      "source": [
        "# mt_samples dataset from John Snow Labs\n",
        "! wget -q https://raw.githubusercontent.com/JohnSnowLabs/spark-nlp-workshop/master/tutorials/Certification_Trainings/Healthcare/data/mt_samples_10.csv"
      ]
    },
    {
      "cell_type": "code",
      "execution_count": 12,
      "metadata": {
        "id": "f1S9J6CASrSE"
      },
      "outputs": [],
      "source": [
        "mt_samples_df = spark.read.csv(\"mt_samples_10.csv\", header=True, multiLine=True)"
      ]
    },
    {
      "cell_type": "code",
      "execution_count": 13,
      "metadata": {
        "colab": {
          "base_uri": "https://localhost:8080/"
        },
        "id": "Kt_9Qfmw30rA",
        "outputId": "1e07f0d5-f4ae-4071-fb09-12bc36017a08"
      },
      "outputs": [
        {
          "output_type": "stream",
          "name": "stdout",
          "text": [
            "root\n",
            " |-- index: string (nullable = true)\n",
            " |-- text: string (nullable = true)\n",
            "\n"
          ]
        }
      ],
      "source": [
        "mt_samples_df.printSchema()"
      ]
    },
    {
      "cell_type": "code",
      "execution_count": 14,
      "metadata": {
        "colab": {
          "base_uri": "https://localhost:8080/"
        },
        "id": "te55tz4dwAB5",
        "outputId": "99566645-b7e2-42b3-e55d-b679f1ca6685"
      },
      "outputs": [
        {
          "output_type": "stream",
          "name": "stdout",
          "text": [
            "+-----+----------------------------------------------------------------------------------------------------+\n",
            "|index|                                                                                                text|\n",
            "+-----+----------------------------------------------------------------------------------------------------+\n",
            "|    0|Sample Type / Medical Specialty:\\nHematology - Oncology\\nSample Name:\\nDischarge Summary - Mesoth...|\n",
            "|    1|Sample Type / Medical Specialty:\\nHematology - Oncology\\nSample Name:\\nBCCa Excision - Lower Lid\\...|\n",
            "|    2|Sample Type / Medical Specialty:\\nHematology - Oncology\\nSample Name:\\nAnemia - Consult\\nDescript...|\n",
            "|    3|Sample Type / Medical Specialty:\\nHematology - Oncology\\nSample Name:\\nIntensity-Modulated Radiat...|\n",
            "|    4|Sample Type / Medical Specialty:\\nHematology - Oncology\\nSample Name:\\nNeck Dissection\\nDescripti...|\n",
            "|    5|Sample Type / Medical Specialty:\\nHematology - Oncology\\nSample Name:\\nHDR Brachytherapy\\nDescrip...|\n",
            "|    6|Sample Type / Medical Specialty:\\nHematology - Oncology\\nSample Name:\\nBiopsy - Cervical Lymph No...|\n",
            "|    7|Sample Type / Medical Specialty:\\nHematology - Oncology\\nSample Name:\\nMetastatic Ovarian Cancer ...|\n",
            "|    8|Sample Type / Medical Specialty:\\nHematology - Oncology\\nSample Name:\\nBreast Radiation Therapy F...|\n",
            "|    9|Sample Type / Medical Specialty:\\nHematology - Oncology\\nSample Name:\\nLymph Node Excisional Biop...|\n",
            "+-----+----------------------------------------------------------------------------------------------------+\n",
            "\n"
          ]
        }
      ],
      "source": [
        "mt_samples_df.show(truncate=100)"
      ]
    },
    {
      "cell_type": "code",
      "execution_count": 15,
      "metadata": {
        "colab": {
          "base_uri": "https://localhost:8080/"
        },
        "id": "m5soib4Tw4PK",
        "outputId": "0328fc6a-4694-4e70-a36a-f753b2553313"
      },
      "outputs": [
        {
          "output_type": "stream",
          "name": "stdout",
          "text": [
            "Sample Type / Medical Specialty:\n",
            "Hematology - Oncology\n",
            "Sample Name:\n",
            "Discharge Summary - Mesothelioma - 1\n",
            "Description:\n",
            "Mesothelioma, pleural effusion, atrial fibrillation, anemia, ascites, esophageal reflux, and history of deep venous thrombosis.\n",
            "(Medical Transcription Sample Report)\n",
            "PRINCIPAL DIAGNOSIS:\n",
            "Mesothelioma.\n",
            "SECONDARY DIAGNOSES:\n",
            "Pleural effusion, atrial fibrillation, anemia, ascites, esophageal reflux, and history of deep venous thrombosis.\n",
            "PROCEDURES\n",
            "1. On August 24, 2007, decortication of the lung with pleural biopsy and transpleural fluoroscopy.\n",
            "2. On August 20, 2007, thoracentesis.\n",
            "3. On August 31, 2007, Port-A-Cath placement.\n",
            "HISTORY AND PHYSICAL:\n",
            "The patient is a 41-year-old Vietnamese female with a nonproductive cough that started last week. She has had right-sided chest pain radiating to her back with fever starting yesterday. She has a history of pericarditis and pericardectomy in May 2006 and developed cough with right-sided chest pain, and went to an urgent care center. Chest x-ray revealed right-sided pleural effusion.\n",
            "PAST MEDICAL HISTORY\n",
            "1. Pericardectomy.\n",
            "2. Pericarditis.\n",
            "2. Atrial fibrillation.\n",
            "4. RNCA with intracranial thrombolytic treatment.\n",
            "5 PTA of MCA.\n",
            "6. Mesenteric venous thrombosis.\n",
            "7. Pericardial window.\n",
            "8. Cholecystectomy.\n",
            "9. Left thoracentesis.\n",
            "FAMILY HISTORY:\n",
            "No family history of coronary artery disease, CVA, diabetes, CHF or MI. The patient has one family member, a sister, with history of cancer.\n",
            "SOCIAL HISTORY:\n",
            "She is married. Employed with the US Post Office. She is a mother of three. Denies tobacco, alcohol or illicit drug use.\n",
            "MEDICATIONS\n",
            "1. Coumadin 1 mg daily. Last INR was on Tuesday, August 14, 2007, and her INR was 2.3.\n",
            "2. Amiodarone 100 mg p.o. daily.\n",
            "REVIEW OF SYSTEMS:\n",
            "Complete review of systems negative except as in pulmonary as noted above. The patient also reports occasional numbness and tingling of her left arm.\n",
            "PHYSICAL EXAMINATION\n",
            "VITAL SIGNS: Blood pressure 123/95, heart rate 83, respirations 20, temperature 97, and oxygen saturation 97%.\n",
            "GENERAL: Positive nonproductive cough and pain with coughing.\n",
            "HEENT: Pupils are equal and reactive to light and accommodation. Tympanic membranes are clear.\n",
            "NECK: Supple. No lymphadenopathy. No masses.\n",
            "RESPIRATORY: Pleural friction rub is noted.\n",
            "GI: Soft, nondistended, and nontender. Positive bowel sounds. No organomegaly.\n",
            "EXTREMITIES: No edema, no clubbing, no cyanosis, no tenderness. Full range of motion. Normal pulses in all extremities.\n",
            "SKIN: No breakdown or lesions. No ulcers.\n",
            "NEUROLOGIC: Grossly intact. No focal deficits. Awake, alert, and oriented to person, place, and time.\n",
            "LABORATORY DATA:\n",
            "Labs are pending.\n",
            "HOSPITAL COURSE:\n",
            "The patient was admitted for a right-sided pleural effusion for thoracentesis on Monday by Dr. X. Her Coumadin was placed on hold. A repeat echocardiogram was checked. She was started on prophylaxis for DVT with Lovenox 40 mg subcutaneously. Her history dated back to March 2005 when she first sought medical attention for evidence of pericarditis, which was treated with pericardial window in an outside hospital, at that time she was also found to have mesenteric pain and thrombosis, is now anticoagulated. Her pericardial fluid was accumulated and she was seen by Dr. Y. At that time, she was recommended for pericardectomy, which was performed by Dr. Z. Review of her CT scan from March 2006 prior to her pericardectomy, already shows bilateral plural effusions. The patient improved clinically after the pericardectomy with resolution of her symptoms. Recently, she was readmitted to the hospital with chest pain and found to have bilateral pleural effusion, the right greater than the left. CT of the chest also revealed a large mediastinal lymph node. We reviewed the pathology obtained from the pericardectomy in March 2006, which was diagnostic of mesothelioma. At this time, chest tube placement for drainage of the fluid occurred and thoracoscopy with fluid biopsies, which were performed, which revealed epithelioid malignant mesothelioma. The patient was then stained with a PET CT, which showed extensive uptake in the chest, bilateral pleural pericardial effusions, and lymphadenopathy. She also had acidic fluid, pectoral and intramammary lymph nodes and uptake in L4 with SUV of 4. This was consistent with stage III disease. Her repeat echocardiogram showed an ejection fraction of 45% to 49%. She was transferred to Oncology service and started on chemotherapy on September 1, 2007 with cisplatin 75 mg/centimeter squared equaling 109 mg IV piggyback over 2 hours on September 1, 2007, Alimta 500 mg/ centimeter squared equaling 730 mg IV piggyback over 10 minutes. This was all initiated after a Port-A-Cath was placed. The chemotherapy was well tolerated and the patient was discharged the following day after discontinuing IV fluid and IV. Her Port-A-Cath was packed with heparin according to protocol.\n",
            "DISCHARGE MEDICATIONS:\n",
            "Zofran, Phenergan, Coumadin, and Lovenox, and Vicodin\n",
            "DISCHARGE INSTRUCTIONS:\n",
            "She was instructed to followup with Dr. XYZ in the office to check her INR on Tuesday. She was instructed to call if she had any other questions or concerns in the interim.\n",
            "Keywords:\n",
            "hematology - oncology, mesothelioma, pleural effusion, atrial fibrillation, anemia, ascites, esophageal reflux, deep venous thrombosis, port-a-cath placement, port a cath, iv piggyback, venous thrombosis, atrial, thrombosis, pericardial, lymphadenopathy, fluid, pericardectomy, chest, pleural,\n"
          ]
        }
      ],
      "source": [
        "print(mt_samples_df.limit(1).collect()[0]['text'])"
      ]
    },
    {
      "cell_type": "markdown",
      "metadata": {
        "id": "0vWIDpk50QfG"
      },
      "source": [
        "## 3. NER Pipeline Execution:"
      ]
    },
    {
      "cell_type": "markdown",
      "source": [
        "### Pipeline Function"
      ],
      "metadata": {
        "id": "cqd5lRNoe2bR"
      }
    },
    {
      "cell_type": "code",
      "execution_count": 16,
      "metadata": {
        "id": "kd3wwfajfyDb"
      },
      "outputs": [],
      "source": [
        "def get_pipeline_model(embeddings, model_name = 'ner_clinical'):\n",
        "\n",
        "  documentAssembler = DocumentAssembler()\\\n",
        "      .setInputCol(\"text\")\\\n",
        "      .setOutputCol(\"document\")\n",
        "\n",
        "  sentenceDetector = SentenceDetector()\\\n",
        "      .setInputCols([\"document\"])\\\n",
        "      .setOutputCol(\"sentence\")\n",
        "\n",
        "  tokenizer = Tokenizer()\\\n",
        "      .setInputCols([\"sentence\"])\\\n",
        "      .setOutputCol(\"token\")\n",
        "\n",
        "  word_embeddings = WordEmbeddingsModel.pretrained(embeddings, \"en\", \"clinical/models\")\\\n",
        "      .setInputCols([\"sentence\", \"token\"])\\\n",
        "      .setOutputCol(\"embeddings\")\n",
        "\n",
        "  loaded_ner_model = MedicalNerModel.pretrained(model_name, \"en\", \"clinical/models\") \\\n",
        "      .setInputCols([\"sentence\", \"token\", \"embeddings\"]) \\\n",
        "      .setOutputCol(\"ner\")\n",
        "\n",
        "  ner_converter = NerConverterInternal() \\\n",
        "      .setInputCols([\"sentence\", \"token\", \"ner\"]) \\\n",
        "      .setOutputCol(\"ner_chunk\")\n",
        "\n",
        "  nlpPipeline = Pipeline(stages=[\n",
        "      documentAssembler,\n",
        "      sentenceDetector,\n",
        "      tokenizer,\n",
        "      word_embeddings,\n",
        "      loaded_ner_model,\n",
        "      ner_converter])\n",
        "\n",
        "  model = nlpPipeline.fit(spark.createDataFrame([[\"\"]]).toDF(\"text\"))\n",
        "\n",
        "  return model"
      ]
    },
    {
      "cell_type": "markdown",
      "source": [
        "### Test ner_clinical pipeline"
      ],
      "metadata": {
        "id": "HNiCVooVc_P1"
      }
    },
    {
      "cell_type": "code",
      "source": [
        "embeddings = 'embeddings_clinical'\n",
        "model_name = 'ner_clinical'\n",
        "\n",
        "light_pipeline_model = get_pipeline_model(embeddings, model_name)\n",
        "light_model = LightPipeline(light_pipeline_model)"
      ],
      "metadata": {
        "colab": {
          "base_uri": "https://localhost:8080/"
        },
        "id": "_6U3FwscqDoM",
        "outputId": "97915599-3514-4ac5-8c0b-42b67e59c2f8"
      },
      "execution_count": 17,
      "outputs": [
        {
          "output_type": "stream",
          "name": "stdout",
          "text": [
            "embeddings_clinical download started this may take some time.\n",
            "Approximate size to download 1.6 GB\n",
            "[OK!]\n",
            "ner_clinical download started this may take some time.\n",
            "[OK!]\n"
          ]
        }
      ]
    },
    {
      "cell_type": "code",
      "execution_count": 18,
      "metadata": {
        "colab": {
          "base_uri": "https://localhost:8080/"
        },
        "id": "V81zaAe13qLU",
        "outputId": "2e862454-f818-4b67-b378-f219a82c04d2",
        "collapsed": true
      },
      "outputs": [
        {
          "output_type": "stream",
          "name": "stdout",
          "text": [
            "[{'document': [Annotation(document, 0, 43, I had a headache yesterday. I took an Advil., {}, [])],\n",
            "  'embeddings': [Annotation(word_embeddings, 0, 0, I, {'isOOV': 'false', 'pieceId': '-1', 'isWordStart': 'true', 'token': 'I', 'sentence': '0'}, []),\n",
            "                 Annotation(word_embeddings, 2, 4, had, {'isOOV': 'false', 'pieceId': '-1', 'isWordStart': 'true', 'token': 'had', 'sentence': '0'}, []),\n",
            "                 Annotation(word_embeddings, 6, 6, a, {'isOOV': 'false', 'pieceId': '-1', 'isWordStart': 'true', 'token': 'a', 'sentence': '0'}, []),\n",
            "                 Annotation(word_embeddings, 8, 15, headache, {'isOOV': 'false', 'pieceId': '-1', 'isWordStart': 'true', 'token': 'headache', 'sentence': '0'}, []),\n",
            "                 Annotation(word_embeddings, 17, 25, yesterday, {'isOOV': 'false', 'pieceId': '-1', 'isWordStart': 'true', 'token': 'yesterday', 'sentence': '0'}, []),\n",
            "                 Annotation(word_embeddings, 26, 26, ., {'isOOV': 'false', 'pieceId': '-1', 'isWordStart': 'true', 'token': '.', 'sentence': '0'}, []),\n",
            "                 Annotation(word_embeddings, 28, 28, I, {'isOOV': 'false', 'pieceId': '-1', 'isWordStart': 'true', 'token': 'I', 'sentence': '1'}, []),\n",
            "                 Annotation(word_embeddings, 30, 33, took, {'isOOV': 'false', 'pieceId': '-1', 'isWordStart': 'true', 'token': 'took', 'sentence': '1'}, []),\n",
            "                 Annotation(word_embeddings, 35, 36, an, {'isOOV': 'false', 'pieceId': '-1', 'isWordStart': 'true', 'token': 'an', 'sentence': '1'}, []),\n",
            "                 Annotation(word_embeddings, 38, 42, Advil, {'isOOV': 'false', 'pieceId': '-1', 'isWordStart': 'true', 'token': 'Advil', 'sentence': '1'}, []),\n",
            "                 Annotation(word_embeddings, 43, 43, ., {'isOOV': 'false', 'pieceId': '-1', 'isWordStart': 'true', 'token': '.', 'sentence': '1'}, [])],\n",
            "  'ner': [Annotation(named_entity, 0, 0, O, {'word': 'I', 'confidence': '0.9941', 'sentence': '0'}, []),\n",
            "          Annotation(named_entity, 2, 4, O, {'word': 'had', 'confidence': '0.9983', 'sentence': '0'}, []),\n",
            "          Annotation(named_entity, 6, 6, B-PROBLEM, {'word': 'a', 'confidence': '0.8939', 'sentence': '0'}, []),\n",
            "          Annotation(named_entity, 8, 15, I-PROBLEM, {'word': 'headache', 'confidence': '0.9879', 'sentence': '0'}, []),\n",
            "          Annotation(named_entity, 17, 25, O, {'word': 'yesterday', 'confidence': '0.9723', 'sentence': '0'}, []),\n",
            "          Annotation(named_entity, 26, 26, O, {'word': '.', 'confidence': '0.9999', 'sentence': '0'}, []),\n",
            "          Annotation(named_entity, 28, 28, O, {'word': 'I', 'confidence': '0.971', 'sentence': '1'}, []),\n",
            "          Annotation(named_entity, 30, 33, O, {'word': 'took', 'confidence': '0.9753', 'sentence': '1'}, []),\n",
            "          Annotation(named_entity, 35, 36, B-TREATMENT, {'word': 'an', 'confidence': '0.7887', 'sentence': '1'}, []),\n",
            "          Annotation(named_entity, 38, 42, I-TREATMENT, {'word': 'Advil', 'confidence': '0.7761', 'sentence': '1'}, []),\n",
            "          Annotation(named_entity, 43, 43, O, {'word': '.', 'confidence': '1.0', 'sentence': '1'}, [])],\n",
            "  'ner_chunk': [Annotation(chunk, 6, 15, a headache, {'chunk': '0', 'confidence': '0.94089997', 'ner_source': 'ner_chunk', 'entity': 'PROBLEM', 'sentence': '0'}, []),\n",
            "                Annotation(chunk, 35, 42, an Advil, {'chunk': '1', 'confidence': '0.7824', 'ner_source': 'ner_chunk', 'entity': 'TREATMENT', 'sentence': '1'}, [])],\n",
            "  'sentence': [Annotation(document, 0, 26, I had a headache yesterday., {'sentence': '0'}, []),\n",
            "               Annotation(document, 28, 43, I took an Advil., {'sentence': '1'}, [])],\n",
            "  'token': [Annotation(token, 0, 0, I, {'sentence': '0'}, []),\n",
            "            Annotation(token, 2, 4, had, {'sentence': '0'}, []),\n",
            "            Annotation(token, 6, 6, a, {'sentence': '0'}, []),\n",
            "            Annotation(token, 8, 15, headache, {'sentence': '0'}, []),\n",
            "            Annotation(token, 17, 25, yesterday, {'sentence': '0'}, []),\n",
            "            Annotation(token, 26, 26, ., {'sentence': '0'}, []),\n",
            "            Annotation(token, 28, 28, I, {'sentence': '1'}, []),\n",
            "            Annotation(token, 30, 33, took, {'sentence': '1'}, []),\n",
            "            Annotation(token, 35, 36, an, {'sentence': '1'}, []),\n",
            "            Annotation(token, 38, 42, Advil, {'sentence': '1'}, []),\n",
            "            Annotation(token, 43, 43, ., {'sentence': '1'}, [])]}]\n"
          ]
        }
      ],
      "source": [
        "text = \"I had a headache yesterday. I took an Advil.\"\n",
        "light_result = light_model.fullAnnotate(text)\n",
        "from pprint import pprint\n",
        "pprint(light_result)"
      ]
    },
    {
      "cell_type": "markdown",
      "source": [
        "### Extract **ner_clinical** predictions from the mt_samples via the pipeline"
      ],
      "metadata": {
        "id": "9Fua5HaEddmN"
      }
    },
    {
      "cell_type": "markdown",
      "source": [
        "#### Prepare input texts"
      ],
      "metadata": {
        "id": "_BCuobe1f8yJ"
      }
    },
    {
      "cell_type": "code",
      "source": [
        "# total_rows = mt_samples_df.count()\n",
        "# texts = [mt_samples_df.select(\"text\").collect()[i]['text'] for i in range(total_rows)]\n",
        "texts = mt_samples_df.select(\"text\").rdd.flatMap(lambda x: x).collect()\n",
        "print(len(texts))\n",
        "print(type(texts), type(texts[0]))"
      ],
      "metadata": {
        "colab": {
          "base_uri": "https://localhost:8080/"
        },
        "id": "t3nBISDV0zf4",
        "outputId": "e6f26890-7852-410b-fb17-02bfcca1e69f"
      },
      "execution_count": 19,
      "outputs": [
        {
          "output_type": "stream",
          "name": "stdout",
          "text": [
            "10\n",
            "<class 'list'> <class 'str'>\n"
          ]
        }
      ]
    },
    {
      "cell_type": "code",
      "source": [
        "for idx, text in enumerate(texts):\n",
        "  print(f\"Text {idx + 1}:\".center(100, '-'))\n",
        "  print(text)\n",
        "  if idx == 2:\n",
        "    break"
      ],
      "metadata": {
        "colab": {
          "base_uri": "https://localhost:8080/"
        },
        "collapsed": true,
        "id": "qKTHJn5Jwa81",
        "outputId": "c21d014a-9d25-48b8-95c7-7f0d03b73a52"
      },
      "execution_count": 20,
      "outputs": [
        {
          "output_type": "stream",
          "name": "stdout",
          "text": [
            "----------------------------------------------Text 1:-----------------------------------------------\n",
            "Sample Type / Medical Specialty:\n",
            "Hematology - Oncology\n",
            "Sample Name:\n",
            "Discharge Summary - Mesothelioma - 1\n",
            "Description:\n",
            "Mesothelioma, pleural effusion, atrial fibrillation, anemia, ascites, esophageal reflux, and history of deep venous thrombosis.\n",
            "(Medical Transcription Sample Report)\n",
            "PRINCIPAL DIAGNOSIS:\n",
            "Mesothelioma.\n",
            "SECONDARY DIAGNOSES:\n",
            "Pleural effusion, atrial fibrillation, anemia, ascites, esophageal reflux, and history of deep venous thrombosis.\n",
            "PROCEDURES\n",
            "1. On August 24, 2007, decortication of the lung with pleural biopsy and transpleural fluoroscopy.\n",
            "2. On August 20, 2007, thoracentesis.\n",
            "3. On August 31, 2007, Port-A-Cath placement.\n",
            "HISTORY AND PHYSICAL:\n",
            "The patient is a 41-year-old Vietnamese female with a nonproductive cough that started last week. She has had right-sided chest pain radiating to her back with fever starting yesterday. She has a history of pericarditis and pericardectomy in May 2006 and developed cough with right-sided chest pain, and went to an urgent care center. Chest x-ray revealed right-sided pleural effusion.\n",
            "PAST MEDICAL HISTORY\n",
            "1. Pericardectomy.\n",
            "2. Pericarditis.\n",
            "2. Atrial fibrillation.\n",
            "4. RNCA with intracranial thrombolytic treatment.\n",
            "5 PTA of MCA.\n",
            "6. Mesenteric venous thrombosis.\n",
            "7. Pericardial window.\n",
            "8. Cholecystectomy.\n",
            "9. Left thoracentesis.\n",
            "FAMILY HISTORY:\n",
            "No family history of coronary artery disease, CVA, diabetes, CHF or MI. The patient has one family member, a sister, with history of cancer.\n",
            "SOCIAL HISTORY:\n",
            "She is married. Employed with the US Post Office. She is a mother of three. Denies tobacco, alcohol or illicit drug use.\n",
            "MEDICATIONS\n",
            "1. Coumadin 1 mg daily. Last INR was on Tuesday, August 14, 2007, and her INR was 2.3.\n",
            "2. Amiodarone 100 mg p.o. daily.\n",
            "REVIEW OF SYSTEMS:\n",
            "Complete review of systems negative except as in pulmonary as noted above. The patient also reports occasional numbness and tingling of her left arm.\n",
            "PHYSICAL EXAMINATION\n",
            "VITAL SIGNS: Blood pressure 123/95, heart rate 83, respirations 20, temperature 97, and oxygen saturation 97%.\n",
            "GENERAL: Positive nonproductive cough and pain with coughing.\n",
            "HEENT: Pupils are equal and reactive to light and accommodation. Tympanic membranes are clear.\n",
            "NECK: Supple. No lymphadenopathy. No masses.\n",
            "RESPIRATORY: Pleural friction rub is noted.\n",
            "GI: Soft, nondistended, and nontender. Positive bowel sounds. No organomegaly.\n",
            "EXTREMITIES: No edema, no clubbing, no cyanosis, no tenderness. Full range of motion. Normal pulses in all extremities.\n",
            "SKIN: No breakdown or lesions. No ulcers.\n",
            "NEUROLOGIC: Grossly intact. No focal deficits. Awake, alert, and oriented to person, place, and time.\n",
            "LABORATORY DATA:\n",
            "Labs are pending.\n",
            "HOSPITAL COURSE:\n",
            "The patient was admitted for a right-sided pleural effusion for thoracentesis on Monday by Dr. X. Her Coumadin was placed on hold. A repeat echocardiogram was checked. She was started on prophylaxis for DVT with Lovenox 40 mg subcutaneously. Her history dated back to March 2005 when she first sought medical attention for evidence of pericarditis, which was treated with pericardial window in an outside hospital, at that time she was also found to have mesenteric pain and thrombosis, is now anticoagulated. Her pericardial fluid was accumulated and she was seen by Dr. Y. At that time, she was recommended for pericardectomy, which was performed by Dr. Z. Review of her CT scan from March 2006 prior to her pericardectomy, already shows bilateral plural effusions. The patient improved clinically after the pericardectomy with resolution of her symptoms. Recently, she was readmitted to the hospital with chest pain and found to have bilateral pleural effusion, the right greater than the left. CT of the chest also revealed a large mediastinal lymph node. We reviewed the pathology obtained from the pericardectomy in March 2006, which was diagnostic of mesothelioma. At this time, chest tube placement for drainage of the fluid occurred and thoracoscopy with fluid biopsies, which were performed, which revealed epithelioid malignant mesothelioma. The patient was then stained with a PET CT, which showed extensive uptake in the chest, bilateral pleural pericardial effusions, and lymphadenopathy. She also had acidic fluid, pectoral and intramammary lymph nodes and uptake in L4 with SUV of 4. This was consistent with stage III disease. Her repeat echocardiogram showed an ejection fraction of 45% to 49%. She was transferred to Oncology service and started on chemotherapy on September 1, 2007 with cisplatin 75 mg/centimeter squared equaling 109 mg IV piggyback over 2 hours on September 1, 2007, Alimta 500 mg/ centimeter squared equaling 730 mg IV piggyback over 10 minutes. This was all initiated after a Port-A-Cath was placed. The chemotherapy was well tolerated and the patient was discharged the following day after discontinuing IV fluid and IV. Her Port-A-Cath was packed with heparin according to protocol.\n",
            "DISCHARGE MEDICATIONS:\n",
            "Zofran, Phenergan, Coumadin, and Lovenox, and Vicodin\n",
            "DISCHARGE INSTRUCTIONS:\n",
            "She was instructed to followup with Dr. XYZ in the office to check her INR on Tuesday. She was instructed to call if she had any other questions or concerns in the interim.\n",
            "Keywords:\n",
            "hematology - oncology, mesothelioma, pleural effusion, atrial fibrillation, anemia, ascites, esophageal reflux, deep venous thrombosis, port-a-cath placement, port a cath, iv piggyback, venous thrombosis, atrial, thrombosis, pericardial, lymphadenopathy, fluid, pericardectomy, chest, pleural,\n",
            "----------------------------------------------Text 2:-----------------------------------------------\n",
            "Sample Type / Medical Specialty:\n",
            "Hematology - Oncology\n",
            "Sample Name:\n",
            "BCCa Excision - Lower Lid\n",
            "Description:\n",
            "Excision of large basal cell carcinoma, right lower lid, and repaired with used dorsal conjunctival flap in the upper lid and a large preauricular skin graft.\n",
            "(Medical Transcription Sample Report)\n",
            "PREOPERATIVE DIAGNOSIS:\n",
            "Extremely large basal cell carcinoma, right lower lid.\n",
            "POSTOPERATIVE DIAGNOSIS:\n",
            "Extremely large basal cell carcinoma, right lower lid.\n",
            "TITLE OF OPERATION:\n",
            "Excision of large basal cell carcinoma, right lower lid, and repaired with used dorsal conjunctival flap in the upper lid and a large preauricular skin graft.\n",
            "PROCEDURE:\n",
            "The patient was brought into the operating room and prepped and draped in usual fashion. Xylocaine 2% with epinephrine was injected beneath the conjunctiva and skin of the lower lid and also beneath the conjunctiva and skin of the upper lid. A frontal nerve block was also given on the right upper lid. The anesthetic agent was also injected in the right preauricular region which would provide a donor graft for the right lower lid defect. The area was marked with a marking pen with margins of 3 to 4 mm, and a #15 Bard-Parker blade was used to make an incision at the nasal and temporal margins of the lesion.\n",
            "The incision was carried inferiorly, and using a Steven scissors the normal skin, muscle, and conjunctiva was excised inferiorly. The specimen was then marked and sent to pathology for frozen section. Bleeding was controlled with a wet-field cautery, and the right upper lid was everted, and an incision was made 3 mm above the lid margin with the Bard-Parker blade in the entire length of the upper lid. The incision reached the orbicularis, and Steven scissors were used to separate the tarsus from the underlying orbicularis. Vertical cuts were made nasally and temporally, and a large dorsal conjunctival flap was fashioned with the conjunctiva attached superiorly. It was placed into the defect in the lower lid and sutured with multiple interrupted 6-0 Vicryl sutures nasally, temporally, and inferiorly.\n",
            "The defect in the skin was measured and an appropriate large preauricular graft was excised from the right preauricular region. The defect was closed with interrupted 5-0 Prolene sutures, and the preauricular graft was sutured in place with multiple interrupted 6-0 silk sutures. The upper border of the graft was attached to the upper lid after incision was made in the gray line with a Superblade, and the superior portion of the skin graft was sutured to the upper lid through the anterior lamella created by the razor blade incision.\n",
            "Cryotherapy was then used to treat the nasal and temporal margins of the area of excision because of positive margins, and following this an antibiotic steroid ointment was instilled and a light pressure dressing was applied. The patient tolerated the procedure well and was sent to recovery room in good condition.\n",
            "Keywords:\n",
            "hematology - oncology, basal cell carcinoma, cryotherapy, steven scissors, conjunctiva, conjunctival flap, frontal nerve block, frozen section, lower lid, orbicularis, skin graft, nasal and temporal margins, dorsal conjunctival flap, upper lid, basal, carcinoma, preauricular, incision, conjunctival,\n",
            "----------------------------------------------Text 3:-----------------------------------------------\n",
            "Sample Type / Medical Specialty:\n",
            "Hematology - Oncology\n",
            "Sample Name:\n",
            "Anemia - Consult\n",
            "Description:\n",
            "Refractory anemia that is transfusion dependent. At this time, he has been admitted for anemia with hemoglobin of 7.1 and requiring transfusion.\n",
            "(Medical Transcription Sample Report)\n",
            "DIAGNOSIS:\n",
            "Refractory anemia that is transfusion dependent.\n",
            "CHIEF COMPLAINT:\n",
            "I needed a blood transfusion.\n",
            "HISTORY:\n",
            "The patient is a 78-year-old gentleman with no substantial past medical history except for diabetes. He denies any comorbid complications of the diabetes including kidney disease, heart disease, stroke, vision loss, or neuropathy. At this time, he has been admitted for anemia with hemoglobin of 7.1 and requiring transfusion. He reports that he has no signs or symptom of bleeding and had a blood transfusion approximately two months ago and actually several weeks before that blood transfusion, he had a transfusion for anemia. He has been placed on B12, oral iron, and Procrit. At this time, we are asked to evaluate him for further causes and treatment for his anemia. He denies any constitutional complaints except for fatigue, malaise, and some dyspnea. He has no adenopathy that he reports. No fevers, night sweats, bone pain, rash, arthralgias, or myalgias.\n",
            "PAST MEDICAL HISTORY:\n",
            "Diabetes.\n",
            "PAST SURGICAL HISTORY:\n",
            "Hernia repair.\n",
            "ALLERGIES:\n",
            "He has no allergies.\n",
            "MEDICATIONS:\n",
            "Listed in the chart and include Coumadin, Lasix, metformin, folic acid, diltiazem, B12, Prevacid, and Feosol.\n",
            "SOCIAL HISTORY:\n",
            "He is a tobacco user. He does not drink. He lives alone, but has family and social support to look on him.\n",
            "FAMILY HISTORY:\n",
            "Negative for blood or cancer disorders according to the patient.\n",
            "PHYSICAL EXAMINATION:\n",
            "GENERAL: He is an elderly gentleman in no acute distress. He is sitting up in bed eating his breakfast. He is alert and oriented and answering questions appropriately.\n",
            "VITAL SIGNS: Blood pressure of 110/60, pulse of 99, respiratory rate of 14, and temperature of 97.4. He is 69 inches tall and weighs 174 pounds.\n",
            "HEENT: Sclerae show mild arcus senilis in the right. Left is clear. Pupils are equally round and reactive to light. Extraocular movements are intact. Oropharynx is clear.\n",
            "NECK: Supple. Trachea is midline. No jugular venous pressure distention is noted. No adenopathy in the cervical, supraclavicular, or axillary areas.\n",
            "CHEST: Clear.\n",
            "HEART: Regular rate and rhythm.\n",
            "ABDOMEN: Soft and nontender. There may be some fullness in the left upper quadrant, although I do not appreciate a true spleen with inspiration.\n",
            "EXTREMITIES: No clubbing, but there is some edema, but no cyanosis.\n",
            "NEUROLOGIC: Noncontributory.\n",
            "DERMATOLOGIC: Noncontributory.\n",
            "CARDIOVASCULAR: Noncontributory.\n",
            "IMPRESSION:\n",
            "At this time is refractory anemia, which is transfusion dependent. He is on B12, iron, folic acid, and Procrit. There are no sign or symptom of blood loss and a recent esophagogastroduodenoscopy, which was negative. His creatinine was 1. My impression at this time is that he probably has an underlying myelodysplastic syndrome or bone marrow failure. His creatinine on this hospitalization was up slightly to 1.6 and this may contribute to his anemia.\n",
            "RECOMMENDATIONS:\n",
            "At this time, my recommendation for the patient is that he undergoes further serologic evaluation with reticulocyte count, serum protein, and electrophoresis, LDH, B12, folate, erythropoietin level, and he should undergo a bone marrow aspiration and biopsy. I have discussed the procedure in detail which the patient. I have discussed the risks, benefits, and successes of that treatment and usefulness of the bone marrow and predicting his cause of refractory anemia and further therapeutic interventions, which might be beneficial to him. He is willing to proceed with the studies I have described to him. We will order an ultrasound of his abdomen because of the possible fullness of the spleen, and I will probably see him in follow up after this hospitalization.\n",
            "As always, we greatly appreciate being able to participate in the care of your patient. We appreciate the consultation of the patient.\n",
            "Keywords:\n",
            "hematology - oncology, electrophoresis, ldh, b12, folate, erythropoietin level, reticulocyte count, serum protein, blood transfusion, bone marrow, refractory anemia, anemia, myalgias, marrow, bone,\n"
          ]
        }
      ]
    },
    {
      "cell_type": "markdown",
      "source": [
        "#### **pipeline_tracer** to get structured output"
      ],
      "metadata": {
        "id": "UgjtI1-nelBd"
      }
    },
    {
      "cell_type": "code",
      "execution_count": 21,
      "metadata": {
        "id": "uzTqEZSUNfVi"
      },
      "outputs": [],
      "source": [
        "pipeline_tracer = PipelineTracer(light_pipeline_model)\n",
        "\n",
        "column_maps = pipeline_tracer.createParserDictionary()\n",
        "column_maps.update({\"document_identifier\": \"ner_pipeline\"})\n",
        "pipeline_parser = PipelineOutputParser(column_maps)"
      ]
    },
    {
      "cell_type": "markdown",
      "source": [
        "#### Getting prediction"
      ],
      "metadata": {
        "id": "oCfC6BnDfDqw"
      }
    },
    {
      "cell_type": "code",
      "source": [
        "from pyspark.sql.functions import monotonically_increasing_id\n",
        "import pandas as pd\n",
        "\n",
        "# This Empty list stores the results\n",
        "all_results = []\n",
        "all_texts = []\n",
        "\n",
        "# Apply the pipeline to each text\n",
        "for idx, text in enumerate(texts):\n",
        "    light_result = light_model.fullAnnotate([text])\n",
        "    result = pipeline_parser.run(light_result)\n",
        "\n",
        "    # add the results to the list\n",
        "    for entity in result['result'][0]['entities']:\n",
        "        all_results.append({\n",
        "            'text_id': idx,\n",
        "            'begin': entity['begin'],\n",
        "            'end': entity['end'],\n",
        "            'chunk': entity['chunk'],\n",
        "            'entity': entity['ner_label']\n",
        "        })\n",
        "\n",
        "    all_texts.append({'text_id': idx,'text': text})\n",
        "\n",
        "# convert the list to a pandas dataframe\n",
        "result_df = pd.DataFrame(all_results)\n",
        "text_df = pd.DataFrame(all_texts)"
      ],
      "metadata": {
        "id": "lJ1G97uoWhGQ"
      },
      "execution_count": 22,
      "outputs": []
    },
    {
      "cell_type": "code",
      "source": [
        "result_df.head(10)"
      ],
      "metadata": {
        "colab": {
          "base_uri": "https://localhost:8080/",
          "height": 363
        },
        "id": "YkcBwydgYrZ_",
        "outputId": "c7f904a1-6af5-441a-da51-d96d8e339ea6"
      },
      "execution_count": 23,
      "outputs": [
        {
          "output_type": "execute_result",
          "data": {
            "text/plain": [
              "   text_id  begin  end                   chunk   entity\n",
              "0        0     88   99            Mesothelioma  PROBLEM\n",
              "1        0    118  129            Mesothelioma  PROBLEM\n",
              "2        0    132  147        pleural effusion  PROBLEM\n",
              "3        0    150  168     atrial fibrillation  PROBLEM\n",
              "4        0    171  176                  anemia  PROBLEM\n",
              "5        0    179  185                 ascites  PROBLEM\n",
              "6        0    188  204       esophageal reflux  PROBLEM\n",
              "7        0    222  243  deep venous thrombosis  PROBLEM\n",
              "8        0    305  316            Mesothelioma  PROBLEM\n",
              "9        0    340  355        Pleural effusion  PROBLEM"
            ],
            "text/html": [
              "\n",
              "  <div id=\"df-9256a4a8-a745-40b5-a776-034f5dc3b918\" class=\"colab-df-container\">\n",
              "    <div>\n",
              "<style scoped>\n",
              "    .dataframe tbody tr th:only-of-type {\n",
              "        vertical-align: middle;\n",
              "    }\n",
              "\n",
              "    .dataframe tbody tr th {\n",
              "        vertical-align: top;\n",
              "    }\n",
              "\n",
              "    .dataframe thead th {\n",
              "        text-align: right;\n",
              "    }\n",
              "</style>\n",
              "<table border=\"1\" class=\"dataframe\">\n",
              "  <thead>\n",
              "    <tr style=\"text-align: right;\">\n",
              "      <th></th>\n",
              "      <th>text_id</th>\n",
              "      <th>begin</th>\n",
              "      <th>end</th>\n",
              "      <th>chunk</th>\n",
              "      <th>entity</th>\n",
              "    </tr>\n",
              "  </thead>\n",
              "  <tbody>\n",
              "    <tr>\n",
              "      <th>0</th>\n",
              "      <td>0</td>\n",
              "      <td>88</td>\n",
              "      <td>99</td>\n",
              "      <td>Mesothelioma</td>\n",
              "      <td>PROBLEM</td>\n",
              "    </tr>\n",
              "    <tr>\n",
              "      <th>1</th>\n",
              "      <td>0</td>\n",
              "      <td>118</td>\n",
              "      <td>129</td>\n",
              "      <td>Mesothelioma</td>\n",
              "      <td>PROBLEM</td>\n",
              "    </tr>\n",
              "    <tr>\n",
              "      <th>2</th>\n",
              "      <td>0</td>\n",
              "      <td>132</td>\n",
              "      <td>147</td>\n",
              "      <td>pleural effusion</td>\n",
              "      <td>PROBLEM</td>\n",
              "    </tr>\n",
              "    <tr>\n",
              "      <th>3</th>\n",
              "      <td>0</td>\n",
              "      <td>150</td>\n",
              "      <td>168</td>\n",
              "      <td>atrial fibrillation</td>\n",
              "      <td>PROBLEM</td>\n",
              "    </tr>\n",
              "    <tr>\n",
              "      <th>4</th>\n",
              "      <td>0</td>\n",
              "      <td>171</td>\n",
              "      <td>176</td>\n",
              "      <td>anemia</td>\n",
              "      <td>PROBLEM</td>\n",
              "    </tr>\n",
              "    <tr>\n",
              "      <th>5</th>\n",
              "      <td>0</td>\n",
              "      <td>179</td>\n",
              "      <td>185</td>\n",
              "      <td>ascites</td>\n",
              "      <td>PROBLEM</td>\n",
              "    </tr>\n",
              "    <tr>\n",
              "      <th>6</th>\n",
              "      <td>0</td>\n",
              "      <td>188</td>\n",
              "      <td>204</td>\n",
              "      <td>esophageal reflux</td>\n",
              "      <td>PROBLEM</td>\n",
              "    </tr>\n",
              "    <tr>\n",
              "      <th>7</th>\n",
              "      <td>0</td>\n",
              "      <td>222</td>\n",
              "      <td>243</td>\n",
              "      <td>deep venous thrombosis</td>\n",
              "      <td>PROBLEM</td>\n",
              "    </tr>\n",
              "    <tr>\n",
              "      <th>8</th>\n",
              "      <td>0</td>\n",
              "      <td>305</td>\n",
              "      <td>316</td>\n",
              "      <td>Mesothelioma</td>\n",
              "      <td>PROBLEM</td>\n",
              "    </tr>\n",
              "    <tr>\n",
              "      <th>9</th>\n",
              "      <td>0</td>\n",
              "      <td>340</td>\n",
              "      <td>355</td>\n",
              "      <td>Pleural effusion</td>\n",
              "      <td>PROBLEM</td>\n",
              "    </tr>\n",
              "  </tbody>\n",
              "</table>\n",
              "</div>\n",
              "    <div class=\"colab-df-buttons\">\n",
              "\n",
              "  <div class=\"colab-df-container\">\n",
              "    <button class=\"colab-df-convert\" onclick=\"convertToInteractive('df-9256a4a8-a745-40b5-a776-034f5dc3b918')\"\n",
              "            title=\"Convert this dataframe to an interactive table.\"\n",
              "            style=\"display:none;\">\n",
              "\n",
              "  <svg xmlns=\"http://www.w3.org/2000/svg\" height=\"24px\" viewBox=\"0 -960 960 960\">\n",
              "    <path d=\"M120-120v-720h720v720H120Zm60-500h600v-160H180v160Zm220 220h160v-160H400v160Zm0 220h160v-160H400v160ZM180-400h160v-160H180v160Zm440 0h160v-160H620v160ZM180-180h160v-160H180v160Zm440 0h160v-160H620v160Z\"/>\n",
              "  </svg>\n",
              "    </button>\n",
              "\n",
              "  <style>\n",
              "    .colab-df-container {\n",
              "      display:flex;\n",
              "      gap: 12px;\n",
              "    }\n",
              "\n",
              "    .colab-df-convert {\n",
              "      background-color: #E8F0FE;\n",
              "      border: none;\n",
              "      border-radius: 50%;\n",
              "      cursor: pointer;\n",
              "      display: none;\n",
              "      fill: #1967D2;\n",
              "      height: 32px;\n",
              "      padding: 0 0 0 0;\n",
              "      width: 32px;\n",
              "    }\n",
              "\n",
              "    .colab-df-convert:hover {\n",
              "      background-color: #E2EBFA;\n",
              "      box-shadow: 0px 1px 2px rgba(60, 64, 67, 0.3), 0px 1px 3px 1px rgba(60, 64, 67, 0.15);\n",
              "      fill: #174EA6;\n",
              "    }\n",
              "\n",
              "    .colab-df-buttons div {\n",
              "      margin-bottom: 4px;\n",
              "    }\n",
              "\n",
              "    [theme=dark] .colab-df-convert {\n",
              "      background-color: #3B4455;\n",
              "      fill: #D2E3FC;\n",
              "    }\n",
              "\n",
              "    [theme=dark] .colab-df-convert:hover {\n",
              "      background-color: #434B5C;\n",
              "      box-shadow: 0px 1px 3px 1px rgba(0, 0, 0, 0.15);\n",
              "      filter: drop-shadow(0px 1px 2px rgba(0, 0, 0, 0.3));\n",
              "      fill: #FFFFFF;\n",
              "    }\n",
              "  </style>\n",
              "\n",
              "    <script>\n",
              "      const buttonEl =\n",
              "        document.querySelector('#df-9256a4a8-a745-40b5-a776-034f5dc3b918 button.colab-df-convert');\n",
              "      buttonEl.style.display =\n",
              "        google.colab.kernel.accessAllowed ? 'block' : 'none';\n",
              "\n",
              "      async function convertToInteractive(key) {\n",
              "        const element = document.querySelector('#df-9256a4a8-a745-40b5-a776-034f5dc3b918');\n",
              "        const dataTable =\n",
              "          await google.colab.kernel.invokeFunction('convertToInteractive',\n",
              "                                                    [key], {});\n",
              "        if (!dataTable) return;\n",
              "\n",
              "        const docLinkHtml = 'Like what you see? Visit the ' +\n",
              "          '<a target=\"_blank\" href=https://colab.research.google.com/notebooks/data_table.ipynb>data table notebook</a>'\n",
              "          + ' to learn more about interactive tables.';\n",
              "        element.innerHTML = '';\n",
              "        dataTable['output_type'] = 'display_data';\n",
              "        await google.colab.output.renderOutput(dataTable, element);\n",
              "        const docLink = document.createElement('div');\n",
              "        docLink.innerHTML = docLinkHtml;\n",
              "        element.appendChild(docLink);\n",
              "      }\n",
              "    </script>\n",
              "  </div>\n",
              "\n",
              "\n",
              "<div id=\"df-cb2d96df-fd26-47fb-bf93-e5071d691029\">\n",
              "  <button class=\"colab-df-quickchart\" onclick=\"quickchart('df-cb2d96df-fd26-47fb-bf93-e5071d691029')\"\n",
              "            title=\"Suggest charts\"\n",
              "            style=\"display:none;\">\n",
              "\n",
              "<svg xmlns=\"http://www.w3.org/2000/svg\" height=\"24px\"viewBox=\"0 0 24 24\"\n",
              "     width=\"24px\">\n",
              "    <g>\n",
              "        <path d=\"M19 3H5c-1.1 0-2 .9-2 2v14c0 1.1.9 2 2 2h14c1.1 0 2-.9 2-2V5c0-1.1-.9-2-2-2zM9 17H7v-7h2v7zm4 0h-2V7h2v10zm4 0h-2v-4h2v4z\"/>\n",
              "    </g>\n",
              "</svg>\n",
              "  </button>\n",
              "\n",
              "<style>\n",
              "  .colab-df-quickchart {\n",
              "      --bg-color: #E8F0FE;\n",
              "      --fill-color: #1967D2;\n",
              "      --hover-bg-color: #E2EBFA;\n",
              "      --hover-fill-color: #174EA6;\n",
              "      --disabled-fill-color: #AAA;\n",
              "      --disabled-bg-color: #DDD;\n",
              "  }\n",
              "\n",
              "  [theme=dark] .colab-df-quickchart {\n",
              "      --bg-color: #3B4455;\n",
              "      --fill-color: #D2E3FC;\n",
              "      --hover-bg-color: #434B5C;\n",
              "      --hover-fill-color: #FFFFFF;\n",
              "      --disabled-bg-color: #3B4455;\n",
              "      --disabled-fill-color: #666;\n",
              "  }\n",
              "\n",
              "  .colab-df-quickchart {\n",
              "    background-color: var(--bg-color);\n",
              "    border: none;\n",
              "    border-radius: 50%;\n",
              "    cursor: pointer;\n",
              "    display: none;\n",
              "    fill: var(--fill-color);\n",
              "    height: 32px;\n",
              "    padding: 0;\n",
              "    width: 32px;\n",
              "  }\n",
              "\n",
              "  .colab-df-quickchart:hover {\n",
              "    background-color: var(--hover-bg-color);\n",
              "    box-shadow: 0 1px 2px rgba(60, 64, 67, 0.3), 0 1px 3px 1px rgba(60, 64, 67, 0.15);\n",
              "    fill: var(--button-hover-fill-color);\n",
              "  }\n",
              "\n",
              "  .colab-df-quickchart-complete:disabled,\n",
              "  .colab-df-quickchart-complete:disabled:hover {\n",
              "    background-color: var(--disabled-bg-color);\n",
              "    fill: var(--disabled-fill-color);\n",
              "    box-shadow: none;\n",
              "  }\n",
              "\n",
              "  .colab-df-spinner {\n",
              "    border: 2px solid var(--fill-color);\n",
              "    border-color: transparent;\n",
              "    border-bottom-color: var(--fill-color);\n",
              "    animation:\n",
              "      spin 1s steps(1) infinite;\n",
              "  }\n",
              "\n",
              "  @keyframes spin {\n",
              "    0% {\n",
              "      border-color: transparent;\n",
              "      border-bottom-color: var(--fill-color);\n",
              "      border-left-color: var(--fill-color);\n",
              "    }\n",
              "    20% {\n",
              "      border-color: transparent;\n",
              "      border-left-color: var(--fill-color);\n",
              "      border-top-color: var(--fill-color);\n",
              "    }\n",
              "    30% {\n",
              "      border-color: transparent;\n",
              "      border-left-color: var(--fill-color);\n",
              "      border-top-color: var(--fill-color);\n",
              "      border-right-color: var(--fill-color);\n",
              "    }\n",
              "    40% {\n",
              "      border-color: transparent;\n",
              "      border-right-color: var(--fill-color);\n",
              "      border-top-color: var(--fill-color);\n",
              "    }\n",
              "    60% {\n",
              "      border-color: transparent;\n",
              "      border-right-color: var(--fill-color);\n",
              "    }\n",
              "    80% {\n",
              "      border-color: transparent;\n",
              "      border-right-color: var(--fill-color);\n",
              "      border-bottom-color: var(--fill-color);\n",
              "    }\n",
              "    90% {\n",
              "      border-color: transparent;\n",
              "      border-bottom-color: var(--fill-color);\n",
              "    }\n",
              "  }\n",
              "</style>\n",
              "\n",
              "  <script>\n",
              "    async function quickchart(key) {\n",
              "      const quickchartButtonEl =\n",
              "        document.querySelector('#' + key + ' button');\n",
              "      quickchartButtonEl.disabled = true;  // To prevent multiple clicks.\n",
              "      quickchartButtonEl.classList.add('colab-df-spinner');\n",
              "      try {\n",
              "        const charts = await google.colab.kernel.invokeFunction(\n",
              "            'suggestCharts', [key], {});\n",
              "      } catch (error) {\n",
              "        console.error('Error during call to suggestCharts:', error);\n",
              "      }\n",
              "      quickchartButtonEl.classList.remove('colab-df-spinner');\n",
              "      quickchartButtonEl.classList.add('colab-df-quickchart-complete');\n",
              "    }\n",
              "    (() => {\n",
              "      let quickchartButtonEl =\n",
              "        document.querySelector('#df-cb2d96df-fd26-47fb-bf93-e5071d691029 button');\n",
              "      quickchartButtonEl.style.display =\n",
              "        google.colab.kernel.accessAllowed ? 'block' : 'none';\n",
              "    })();\n",
              "  </script>\n",
              "</div>\n",
              "\n",
              "    </div>\n",
              "  </div>\n"
            ],
            "application/vnd.google.colaboratory.intrinsic+json": {
              "type": "dataframe",
              "variable_name": "result_df",
              "summary": "{\n  \"name\": \"result_df\",\n  \"rows\": 802,\n  \"fields\": [\n    {\n      \"column\": \"text_id\",\n      \"properties\": {\n        \"dtype\": \"number\",\n        \"std\": 3,\n        \"min\": 0,\n        \"max\": 9,\n        \"num_unique_values\": 10,\n        \"samples\": [\n          8,\n          1,\n          5\n        ],\n        \"semantic_type\": \"\",\n        \"description\": \"\"\n      }\n    },\n    {\n      \"column\": \"begin\",\n      \"properties\": {\n        \"dtype\": \"number\",\n        \"std\": 2235,\n        \"min\": 68,\n        \"max\": 9376,\n        \"num_unique_values\": 760,\n        \"samples\": [\n          640,\n          959,\n          3826\n        ],\n        \"semantic_type\": \"\",\n        \"description\": \"\"\n      }\n    },\n    {\n      \"column\": \"end\",\n      \"properties\": {\n        \"dtype\": \"number\",\n        \"std\": 2234,\n        \"min\": 73,\n        \"max\": 9393,\n        \"num_unique_values\": 754,\n        \"samples\": [\n          5997,\n          1769,\n          7745\n        ],\n        \"semantic_type\": \"\",\n        \"description\": \"\"\n      }\n    },\n    {\n      \"column\": \"chunk\",\n      \"properties\": {\n        \"dtype\": \"string\",\n        \"num_unique_values\": 657,\n        \"samples\": [\n          \"beam radiotherapy\",\n          \"the special procedure\",\n          \"a previous incision line\"\n        ],\n        \"semantic_type\": \"\",\n        \"description\": \"\"\n      }\n    },\n    {\n      \"column\": \"entity\",\n      \"properties\": {\n        \"dtype\": \"category\",\n        \"num_unique_values\": 3,\n        \"samples\": [\n          \"PROBLEM\",\n          \"TREATMENT\",\n          \"TEST\"\n        ],\n        \"semantic_type\": \"\",\n        \"description\": \"\"\n      }\n    }\n  ]\n}"
            }
          },
          "metadata": {},
          "execution_count": 23
        }
      ]
    },
    {
      "cell_type": "code",
      "source": [
        "entity_counts = result_df['entity'].value_counts()\n",
        "print(entity_counts)"
      ],
      "metadata": {
        "colab": {
          "base_uri": "https://localhost:8080/"
        },
        "id": "lKK5rVs0hOnW",
        "outputId": "210aab10-fcd9-4689-e81d-d7dbf6e74ede"
      },
      "execution_count": 24,
      "outputs": [
        {
          "output_type": "stream",
          "name": "stdout",
          "text": [
            "entity\n",
            "PROBLEM      400\n",
            "TREATMENT    262\n",
            "TEST         140\n",
            "Name: count, dtype: int64\n"
          ]
        }
      ]
    },
    {
      "cell_type": "markdown",
      "source": [
        "#### **Save** the results of the NER and the corresponding texts as a csv file."
      ],
      "metadata": {
        "id": "pD4izrDGiEMj"
      }
    },
    {
      "cell_type": "code",
      "source": [
        "result_df.to_csv(\"/content/ner_clinical_mtsamples_ner_results_for_conll.csv\", index=False)\n",
        "text_df.to_csv(\"/content/mtsamples_texts.csv\", index=False)"
      ],
      "metadata": {
        "id": "3nxpiahqWiFp"
      },
      "execution_count": 25,
      "outputs": []
    },
    {
      "cell_type": "markdown",
      "source": [
        "### Test ner_posology pipeline"
      ],
      "metadata": {
        "id": "gWA0l4dZsZ_n"
      }
    },
    {
      "cell_type": "code",
      "source": [
        "text ='''The patient was prescribed 1 capsule of Parol with meals .\n",
        "He was seen by the endocrinology service and she was discharged on 40 units of insulin glargine at night , 12 units of insulin lispro with meals , and metformin 1000 mg two times a day .\n",
        "It was determined that all SGLT2 inhibitors should be discontinued indefinitely fro 3 months .'''"
      ],
      "metadata": {
        "id": "TEEyQVjhs8UL"
      },
      "execution_count": 27,
      "outputs": []
    },
    {
      "cell_type": "code",
      "source": [
        "embeddings = 'embeddings_clinical'\n",
        "model_name = 'ner_posology'\n",
        "\n",
        "light_pipeline_model = get_pipeline_model(embeddings, model_name)\n",
        "light_model = LightPipeline(light_pipeline_model)\n",
        "light_result = light_model.fullAnnotate(text)"
      ],
      "metadata": {
        "colab": {
          "base_uri": "https://localhost:8080/"
        },
        "outputId": "3e70f99f-43a8-4bd1-e3e2-227b1c3e6121",
        "id": "_nvYWXmMsZ_n"
      },
      "execution_count": 28,
      "outputs": [
        {
          "output_type": "stream",
          "name": "stdout",
          "text": [
            "embeddings_clinical download started this may take some time.\n",
            "Approximate size to download 1.6 GB\n",
            "[OK!]\n",
            "ner_posology download started this may take some time.\n",
            "[OK!]\n"
          ]
        }
      ]
    },
    {
      "cell_type": "code",
      "source": [
        "pprint(light_result)"
      ],
      "metadata": {
        "colab": {
          "base_uri": "https://localhost:8080/"
        },
        "collapsed": true,
        "id": "9yANVvAc4KWF",
        "outputId": "948eb4bf-e295-4a07-addd-f13d8b4111bd"
      },
      "execution_count": 29,
      "outputs": [
        {
          "output_type": "stream",
          "name": "stdout",
          "text": [
            "[{'document': [Annotation(document, 0, 339, The patient was prescribed 1 capsule of Parol with meals .\n",
            "He was seen by the endocrinology service and she was discharged on 40 units of insulin glargine at night , 12 units of insulin lispro with meals , and metformin 1000 mg two times a day .\n",
            "It was determined that all SGLT2 inhibitors should be discontinued indefinitely fro 3 months ., {}, [])],\n",
            "  'embeddings': [Annotation(word_embeddings, 0, 2, The, {'isOOV': 'false', 'pieceId': '-1', 'isWordStart': 'true', 'token': 'The', 'sentence': '0'}, []),\n",
            "                 Annotation(word_embeddings, 4, 10, patient, {'isOOV': 'false', 'pieceId': '-1', 'isWordStart': 'true', 'token': 'patient', 'sentence': '0'}, []),\n",
            "                 Annotation(word_embeddings, 12, 14, was, {'isOOV': 'false', 'pieceId': '-1', 'isWordStart': 'true', 'token': 'was', 'sentence': '0'}, []),\n",
            "                 Annotation(word_embeddings, 16, 25, prescribed, {'isOOV': 'false', 'pieceId': '-1', 'isWordStart': 'true', 'token': 'prescribed', 'sentence': '0'}, []),\n",
            "                 Annotation(word_embeddings, 27, 27, 1, {'isOOV': 'false', 'pieceId': '-1', 'isWordStart': 'true', 'token': '1', 'sentence': '0'}, []),\n",
            "                 Annotation(word_embeddings, 29, 35, capsule, {'isOOV': 'false', 'pieceId': '-1', 'isWordStart': 'true', 'token': 'capsule', 'sentence': '0'}, []),\n",
            "                 Annotation(word_embeddings, 37, 38, of, {'isOOV': 'false', 'pieceId': '-1', 'isWordStart': 'true', 'token': 'of', 'sentence': '0'}, []),\n",
            "                 Annotation(word_embeddings, 40, 44, Parol, {'isOOV': 'true', 'pieceId': '-1', 'isWordStart': 'true', 'token': 'Parol', 'sentence': '0'}, []),\n",
            "                 Annotation(word_embeddings, 46, 49, with, {'isOOV': 'false', 'pieceId': '-1', 'isWordStart': 'true', 'token': 'with', 'sentence': '0'}, []),\n",
            "                 Annotation(word_embeddings, 51, 55, meals, {'isOOV': 'false', 'pieceId': '-1', 'isWordStart': 'true', 'token': 'meals', 'sentence': '0'}, []),\n",
            "                 Annotation(word_embeddings, 57, 57, ., {'isOOV': 'false', 'pieceId': '-1', 'isWordStart': 'true', 'token': '.', 'sentence': '0'}, []),\n",
            "                 Annotation(word_embeddings, 59, 60, He, {'isOOV': 'false', 'pieceId': '-1', 'isWordStart': 'true', 'token': 'He', 'sentence': '1'}, []),\n",
            "                 Annotation(word_embeddings, 62, 64, was, {'isOOV': 'false', 'pieceId': '-1', 'isWordStart': 'true', 'token': 'was', 'sentence': '1'}, []),\n",
            "                 Annotation(word_embeddings, 66, 69, seen, {'isOOV': 'false', 'pieceId': '-1', 'isWordStart': 'true', 'token': 'seen', 'sentence': '1'}, []),\n",
            "                 Annotation(word_embeddings, 71, 72, by, {'isOOV': 'false', 'pieceId': '-1', 'isWordStart': 'true', 'token': 'by', 'sentence': '1'}, []),\n",
            "                 Annotation(word_embeddings, 74, 76, the, {'isOOV': 'false', 'pieceId': '-1', 'isWordStart': 'true', 'token': 'the', 'sentence': '1'}, []),\n",
            "                 Annotation(word_embeddings, 78, 90, endocrinology, {'isOOV': 'false', 'pieceId': '-1', 'isWordStart': 'true', 'token': 'endocrinology', 'sentence': '1'}, []),\n",
            "                 Annotation(word_embeddings, 92, 98, service, {'isOOV': 'false', 'pieceId': '-1', 'isWordStart': 'true', 'token': 'service', 'sentence': '1'}, []),\n",
            "                 Annotation(word_embeddings, 100, 102, and, {'isOOV': 'false', 'pieceId': '-1', 'isWordStart': 'true', 'token': 'and', 'sentence': '1'}, []),\n",
            "                 Annotation(word_embeddings, 104, 106, she, {'isOOV': 'false', 'pieceId': '-1', 'isWordStart': 'true', 'token': 'she', 'sentence': '1'}, []),\n",
            "                 Annotation(word_embeddings, 108, 110, was, {'isOOV': 'false', 'pieceId': '-1', 'isWordStart': 'true', 'token': 'was', 'sentence': '1'}, []),\n",
            "                 Annotation(word_embeddings, 112, 121, discharged, {'isOOV': 'false', 'pieceId': '-1', 'isWordStart': 'true', 'token': 'discharged', 'sentence': '1'}, []),\n",
            "                 Annotation(word_embeddings, 123, 124, on, {'isOOV': 'false', 'pieceId': '-1', 'isWordStart': 'true', 'token': 'on', 'sentence': '1'}, []),\n",
            "                 Annotation(word_embeddings, 126, 127, 40, {'isOOV': 'false', 'pieceId': '-1', 'isWordStart': 'true', 'token': '40', 'sentence': '1'}, []),\n",
            "                 Annotation(word_embeddings, 129, 133, units, {'isOOV': 'false', 'pieceId': '-1', 'isWordStart': 'true', 'token': 'units', 'sentence': '1'}, []),\n",
            "                 Annotation(word_embeddings, 135, 136, of, {'isOOV': 'false', 'pieceId': '-1', 'isWordStart': 'true', 'token': 'of', 'sentence': '1'}, []),\n",
            "                 Annotation(word_embeddings, 138, 144, insulin, {'isOOV': 'false', 'pieceId': '-1', 'isWordStart': 'true', 'token': 'insulin', 'sentence': '1'}, []),\n",
            "                 Annotation(word_embeddings, 146, 153, glargine, {'isOOV': 'false', 'pieceId': '-1', 'isWordStart': 'true', 'token': 'glargine', 'sentence': '1'}, []),\n",
            "                 Annotation(word_embeddings, 155, 156, at, {'isOOV': 'false', 'pieceId': '-1', 'isWordStart': 'true', 'token': 'at', 'sentence': '1'}, []),\n",
            "                 Annotation(word_embeddings, 158, 162, night, {'isOOV': 'false', 'pieceId': '-1', 'isWordStart': 'true', 'token': 'night', 'sentence': '1'}, []),\n",
            "                 Annotation(word_embeddings, 164, 164, ,, {'isOOV': 'false', 'pieceId': '-1', 'isWordStart': 'true', 'token': ',', 'sentence': '1'}, []),\n",
            "                 Annotation(word_embeddings, 166, 167, 12, {'isOOV': 'false', 'pieceId': '-1', 'isWordStart': 'true', 'token': '12', 'sentence': '1'}, []),\n",
            "                 Annotation(word_embeddings, 169, 173, units, {'isOOV': 'false', 'pieceId': '-1', 'isWordStart': 'true', 'token': 'units', 'sentence': '1'}, []),\n",
            "                 Annotation(word_embeddings, 175, 176, of, {'isOOV': 'false', 'pieceId': '-1', 'isWordStart': 'true', 'token': 'of', 'sentence': '1'}, []),\n",
            "                 Annotation(word_embeddings, 178, 184, insulin, {'isOOV': 'false', 'pieceId': '-1', 'isWordStart': 'true', 'token': 'insulin', 'sentence': '1'}, []),\n",
            "                 Annotation(word_embeddings, 186, 191, lispro, {'isOOV': 'false', 'pieceId': '-1', 'isWordStart': 'true', 'token': 'lispro', 'sentence': '1'}, []),\n",
            "                 Annotation(word_embeddings, 193, 196, with, {'isOOV': 'false', 'pieceId': '-1', 'isWordStart': 'true', 'token': 'with', 'sentence': '1'}, []),\n",
            "                 Annotation(word_embeddings, 198, 202, meals, {'isOOV': 'false', 'pieceId': '-1', 'isWordStart': 'true', 'token': 'meals', 'sentence': '1'}, []),\n",
            "                 Annotation(word_embeddings, 204, 204, ,, {'isOOV': 'false', 'pieceId': '-1', 'isWordStart': 'true', 'token': ',', 'sentence': '1'}, []),\n",
            "                 Annotation(word_embeddings, 206, 208, and, {'isOOV': 'false', 'pieceId': '-1', 'isWordStart': 'true', 'token': 'and', 'sentence': '1'}, []),\n",
            "                 Annotation(word_embeddings, 210, 218, metformin, {'isOOV': 'false', 'pieceId': '-1', 'isWordStart': 'true', 'token': 'metformin', 'sentence': '1'}, []),\n",
            "                 Annotation(word_embeddings, 220, 223, 1000, {'isOOV': 'false', 'pieceId': '-1', 'isWordStart': 'true', 'token': '1000', 'sentence': '1'}, []),\n",
            "                 Annotation(word_embeddings, 225, 226, mg, {'isOOV': 'false', 'pieceId': '-1', 'isWordStart': 'true', 'token': 'mg', 'sentence': '1'}, []),\n",
            "                 Annotation(word_embeddings, 228, 230, two, {'isOOV': 'false', 'pieceId': '-1', 'isWordStart': 'true', 'token': 'two', 'sentence': '1'}, []),\n",
            "                 Annotation(word_embeddings, 232, 236, times, {'isOOV': 'false', 'pieceId': '-1', 'isWordStart': 'true', 'token': 'times', 'sentence': '1'}, []),\n",
            "                 Annotation(word_embeddings, 238, 238, a, {'isOOV': 'false', 'pieceId': '-1', 'isWordStart': 'true', 'token': 'a', 'sentence': '1'}, []),\n",
            "                 Annotation(word_embeddings, 240, 242, day, {'isOOV': 'false', 'pieceId': '-1', 'isWordStart': 'true', 'token': 'day', 'sentence': '1'}, []),\n",
            "                 Annotation(word_embeddings, 244, 244, ., {'isOOV': 'false', 'pieceId': '-1', 'isWordStart': 'true', 'token': '.', 'sentence': '1'}, []),\n",
            "                 Annotation(word_embeddings, 246, 247, It, {'isOOV': 'false', 'pieceId': '-1', 'isWordStart': 'true', 'token': 'It', 'sentence': '2'}, []),\n",
            "                 Annotation(word_embeddings, 249, 251, was, {'isOOV': 'false', 'pieceId': '-1', 'isWordStart': 'true', 'token': 'was', 'sentence': '2'}, []),\n",
            "                 Annotation(word_embeddings, 253, 262, determined, {'isOOV': 'false', 'pieceId': '-1', 'isWordStart': 'true', 'token': 'determined', 'sentence': '2'}, []),\n",
            "                 Annotation(word_embeddings, 264, 267, that, {'isOOV': 'false', 'pieceId': '-1', 'isWordStart': 'true', 'token': 'that', 'sentence': '2'}, []),\n",
            "                 Annotation(word_embeddings, 269, 271, all, {'isOOV': 'false', 'pieceId': '-1', 'isWordStart': 'true', 'token': 'all', 'sentence': '2'}, []),\n",
            "                 Annotation(word_embeddings, 273, 277, SGLT2, {'isOOV': 'false', 'pieceId': '-1', 'isWordStart': 'true', 'token': 'SGLT2', 'sentence': '2'}, []),\n",
            "                 Annotation(word_embeddings, 279, 288, inhibitors, {'isOOV': 'false', 'pieceId': '-1', 'isWordStart': 'true', 'token': 'inhibitors', 'sentence': '2'}, []),\n",
            "                 Annotation(word_embeddings, 290, 295, should, {'isOOV': 'false', 'pieceId': '-1', 'isWordStart': 'true', 'token': 'should', 'sentence': '2'}, []),\n",
            "                 Annotation(word_embeddings, 297, 298, be, {'isOOV': 'false', 'pieceId': '-1', 'isWordStart': 'true', 'token': 'be', 'sentence': '2'}, []),\n",
            "                 Annotation(word_embeddings, 300, 311, discontinued, {'isOOV': 'false', 'pieceId': '-1', 'isWordStart': 'true', 'token': 'discontinued', 'sentence': '2'}, []),\n",
            "                 Annotation(word_embeddings, 313, 324, indefinitely, {'isOOV': 'false', 'pieceId': '-1', 'isWordStart': 'true', 'token': 'indefinitely', 'sentence': '2'}, []),\n",
            "                 Annotation(word_embeddings, 326, 328, fro, {'isOOV': 'false', 'pieceId': '-1', 'isWordStart': 'true', 'token': 'fro', 'sentence': '2'}, []),\n",
            "                 Annotation(word_embeddings, 330, 330, 3, {'isOOV': 'false', 'pieceId': '-1', 'isWordStart': 'true', 'token': '3', 'sentence': '2'}, []),\n",
            "                 Annotation(word_embeddings, 332, 337, months, {'isOOV': 'false', 'pieceId': '-1', 'isWordStart': 'true', 'token': 'months', 'sentence': '2'}, []),\n",
            "                 Annotation(word_embeddings, 339, 339, ., {'isOOV': 'false', 'pieceId': '-1', 'isWordStart': 'true', 'token': '.', 'sentence': '2'}, [])],\n",
            "  'ner': [Annotation(named_entity, 0, 2, O, {'word': 'The', 'confidence': '0.9996', 'sentence': '0'}, []),\n",
            "          Annotation(named_entity, 4, 10, O, {'word': 'patient', 'confidence': '0.9398', 'sentence': '0'}, []),\n",
            "          Annotation(named_entity, 12, 14, O, {'word': 'was', 'confidence': '0.9738', 'sentence': '0'}, []),\n",
            "          Annotation(named_entity, 16, 25, O, {'word': 'prescribed', 'confidence': '0.9695', 'sentence': '0'}, []),\n",
            "          Annotation(named_entity, 27, 27, B-DOSAGE, {'word': '1', 'confidence': '0.9995', 'sentence': '0'}, []),\n",
            "          Annotation(named_entity, 29, 35, B-FORM, {'word': 'capsule', 'confidence': '0.989', 'sentence': '0'}, []),\n",
            "          Annotation(named_entity, 37, 38, O, {'word': 'of', 'confidence': '0.9991', 'sentence': '0'}, []),\n",
            "          Annotation(named_entity, 40, 44, B-DRUG, {'word': 'Parol', 'confidence': '0.9981', 'sentence': '0'}, []),\n",
            "          Annotation(named_entity, 46, 49, B-FREQUENCY, {'word': 'with', 'confidence': '0.8015', 'sentence': '0'}, []),\n",
            "          Annotation(named_entity, 51, 55, I-FREQUENCY, {'word': 'meals', 'confidence': '0.9938', 'sentence': '0'}, []),\n",
            "          Annotation(named_entity, 57, 57, O, {'word': '.', 'confidence': '0.9999', 'sentence': '0'}, []),\n",
            "          Annotation(named_entity, 59, 60, O, {'word': 'He', 'confidence': '0.9998', 'sentence': '1'}, []),\n",
            "          Annotation(named_entity, 62, 64, O, {'word': 'was', 'confidence': '0.9908', 'sentence': '1'}, []),\n",
            "          Annotation(named_entity, 66, 69, O, {'word': 'seen', 'confidence': '0.9746', 'sentence': '1'}, []),\n",
            "          Annotation(named_entity, 71, 72, O, {'word': 'by', 'confidence': '0.9991', 'sentence': '1'}, []),\n",
            "          Annotation(named_entity, 74, 76, O, {'word': 'the', 'confidence': '0.9497', 'sentence': '1'}, []),\n",
            "          Annotation(named_entity, 78, 90, O, {'word': 'endocrinology', 'confidence': '0.9724', 'sentence': '1'}, []),\n",
            "          Annotation(named_entity, 92, 98, O, {'word': 'service', 'confidence': '0.5596', 'sentence': '1'}, []),\n",
            "          Annotation(named_entity, 100, 102, O, {'word': 'and', 'confidence': '0.9898', 'sentence': '1'}, []),\n",
            "          Annotation(named_entity, 104, 106, O, {'word': 'she', 'confidence': '0.9919', 'sentence': '1'}, []),\n",
            "          Annotation(named_entity, 108, 110, O, {'word': 'was', 'confidence': '0.991', 'sentence': '1'}, []),\n",
            "          Annotation(named_entity, 112, 121, O, {'word': 'discharged', 'confidence': '0.9476', 'sentence': '1'}, []),\n",
            "          Annotation(named_entity, 123, 124, O, {'word': 'on', 'confidence': '0.9968', 'sentence': '1'}, []),\n",
            "          Annotation(named_entity, 126, 127, B-DOSAGE, {'word': '40', 'confidence': '0.9933', 'sentence': '1'}, []),\n",
            "          Annotation(named_entity, 129, 133, I-DOSAGE, {'word': 'units', 'confidence': '0.6884', 'sentence': '1'}, []),\n",
            "          Annotation(named_entity, 135, 136, O, {'word': 'of', 'confidence': '0.9996', 'sentence': '1'}, []),\n",
            "          Annotation(named_entity, 138, 144, B-DRUG, {'word': 'insulin', 'confidence': '0.9983', 'sentence': '1'}, []),\n",
            "          Annotation(named_entity, 146, 153, I-DRUG, {'word': 'glargine', 'confidence': '0.7522', 'sentence': '1'}, []),\n",
            "          Annotation(named_entity, 155, 156, B-FREQUENCY, {'word': 'at', 'confidence': '0.5445', 'sentence': '1'}, []),\n",
            "          Annotation(named_entity, 158, 162, I-FREQUENCY, {'word': 'night', 'confidence': '0.9923', 'sentence': '1'}, []),\n",
            "          Annotation(named_entity, 164, 164, O, {'word': ',', 'confidence': '0.9984', 'sentence': '1'}, []),\n",
            "          Annotation(named_entity, 166, 167, B-DOSAGE, {'word': '12', 'confidence': '0.9952', 'sentence': '1'}, []),\n",
            "          Annotation(named_entity, 169, 173, I-DOSAGE, {'word': 'units', 'confidence': '0.7799', 'sentence': '1'}, []),\n",
            "          Annotation(named_entity, 175, 176, O, {'word': 'of', 'confidence': '0.9991', 'sentence': '1'}, []),\n",
            "          Annotation(named_entity, 178, 184, B-DRUG, {'word': 'insulin', 'confidence': '0.9994', 'sentence': '1'}, []),\n",
            "          Annotation(named_entity, 186, 191, I-DRUG, {'word': 'lispro', 'confidence': '0.5567', 'sentence': '1'}, []),\n",
            "          Annotation(named_entity, 193, 196, B-FREQUENCY, {'word': 'with', 'confidence': '0.8476', 'sentence': '1'}, []),\n",
            "          Annotation(named_entity, 198, 202, I-FREQUENCY, {'word': 'meals', 'confidence': '0.995', 'sentence': '1'}, []),\n",
            "          Annotation(named_entity, 204, 204, O, {'word': ',', 'confidence': '0.9993', 'sentence': '1'}, []),\n",
            "          Annotation(named_entity, 206, 208, O, {'word': 'and', 'confidence': '0.9837', 'sentence': '1'}, []),\n",
            "          Annotation(named_entity, 210, 218, B-DRUG, {'word': 'metformin', 'confidence': '0.9997', 'sentence': '1'}, []),\n",
            "          Annotation(named_entity, 220, 223, B-STRENGTH, {'word': '1000', 'confidence': '0.9639', 'sentence': '1'}, []),\n",
            "          Annotation(named_entity, 225, 226, I-STRENGTH, {'word': 'mg', 'confidence': '0.7268', 'sentence': '1'}, []),\n",
            "          Annotation(named_entity, 228, 230, B-FREQUENCY, {'word': 'two', 'confidence': '0.9867', 'sentence': '1'}, []),\n",
            "          Annotation(named_entity, 232, 236, I-FREQUENCY, {'word': 'times', 'confidence': '0.7557', 'sentence': '1'}, []),\n",
            "          Annotation(named_entity, 238, 238, I-FREQUENCY, {'word': 'a', 'confidence': '0.4834', 'sentence': '1'}, []),\n",
            "          Annotation(named_entity, 240, 242, I-FREQUENCY, {'word': 'day', 'confidence': '0.9991', 'sentence': '1'}, []),\n",
            "          Annotation(named_entity, 244, 244, O, {'word': '.', 'confidence': '1.0', 'sentence': '1'}, []),\n",
            "          Annotation(named_entity, 246, 247, O, {'word': 'It', 'confidence': '0.9994', 'sentence': '2'}, []),\n",
            "          Annotation(named_entity, 249, 251, O, {'word': 'was', 'confidence': '0.9927', 'sentence': '2'}, []),\n",
            "          Annotation(named_entity, 253, 262, O, {'word': 'determined', 'confidence': '0.9902', 'sentence': '2'}, []),\n",
            "          Annotation(named_entity, 264, 267, O, {'word': 'that', 'confidence': '0.9843', 'sentence': '2'}, []),\n",
            "          Annotation(named_entity, 269, 271, O, {'word': 'all', 'confidence': '0.9899', 'sentence': '2'}, []),\n",
            "          Annotation(named_entity, 273, 277, B-DRUG, {'word': 'SGLT2', 'confidence': '0.7548', 'sentence': '2'}, []),\n",
            "          Annotation(named_entity, 279, 288, I-DRUG, {'word': 'inhibitors', 'confidence': '0.993', 'sentence': '2'}, []),\n",
            "          Annotation(named_entity, 290, 295, O, {'word': 'should', 'confidence': '0.9999', 'sentence': '2'}, []),\n",
            "          Annotation(named_entity, 297, 298, O, {'word': 'be', 'confidence': '0.9828', 'sentence': '2'}, []),\n",
            "          Annotation(named_entity, 300, 311, O, {'word': 'discontinued', 'confidence': '0.9435', 'sentence': '2'}, []),\n",
            "          Annotation(named_entity, 313, 324, O, {'word': 'indefinitely', 'confidence': '0.9951', 'sentence': '2'}, []),\n",
            "          Annotation(named_entity, 326, 328, O, {'word': 'fro', 'confidence': '0.7486', 'sentence': '2'}, []),\n",
            "          Annotation(named_entity, 330, 330, O, {'word': '3', 'confidence': '0.3827', 'sentence': '2'}, []),\n",
            "          Annotation(named_entity, 332, 337, O, {'word': 'months', 'confidence': '0.8085', 'sentence': '2'}, []),\n",
            "          Annotation(named_entity, 339, 339, O, {'word': '.', 'confidence': '1.0', 'sentence': '2'}, [])],\n",
            "  'ner_chunk': [Annotation(chunk, 27, 27, 1, {'chunk': '0', 'confidence': '0.9995', 'ner_source': 'ner_chunk', 'entity': 'DOSAGE', 'sentence': '0'}, []),\n",
            "                Annotation(chunk, 29, 35, capsule, {'chunk': '1', 'confidence': '0.989', 'ner_source': 'ner_chunk', 'entity': 'FORM', 'sentence': '0'}, []),\n",
            "                Annotation(chunk, 40, 44, Parol, {'chunk': '2', 'confidence': '0.9981', 'ner_source': 'ner_chunk', 'entity': 'DRUG', 'sentence': '0'}, []),\n",
            "                Annotation(chunk, 46, 55, with meals, {'chunk': '3', 'confidence': '0.89765', 'ner_source': 'ner_chunk', 'entity': 'FREQUENCY', 'sentence': '0'}, []),\n",
            "                Annotation(chunk, 126, 133, 40 units, {'chunk': '4', 'confidence': '0.84085', 'ner_source': 'ner_chunk', 'entity': 'DOSAGE', 'sentence': '1'}, []),\n",
            "                Annotation(chunk, 138, 153, insulin glargine, {'chunk': '5', 'confidence': '0.87525', 'ner_source': 'ner_chunk', 'entity': 'DRUG', 'sentence': '1'}, []),\n",
            "                Annotation(chunk, 155, 162, at night, {'chunk': '6', 'confidence': '0.76839995', 'ner_source': 'ner_chunk', 'entity': 'FREQUENCY', 'sentence': '1'}, []),\n",
            "                Annotation(chunk, 166, 173, 12 units, {'chunk': '7', 'confidence': '0.88755', 'ner_source': 'ner_chunk', 'entity': 'DOSAGE', 'sentence': '1'}, []),\n",
            "                Annotation(chunk, 178, 191, insulin lispro, {'chunk': '8', 'confidence': '0.77805', 'ner_source': 'ner_chunk', 'entity': 'DRUG', 'sentence': '1'}, []),\n",
            "                Annotation(chunk, 193, 202, with meals, {'chunk': '9', 'confidence': '0.9213', 'ner_source': 'ner_chunk', 'entity': 'FREQUENCY', 'sentence': '1'}, []),\n",
            "                Annotation(chunk, 210, 218, metformin, {'chunk': '10', 'confidence': '0.9997', 'ner_source': 'ner_chunk', 'entity': 'DRUG', 'sentence': '1'}, []),\n",
            "                Annotation(chunk, 220, 226, 1000 mg, {'chunk': '11', 'confidence': '0.84535', 'ner_source': 'ner_chunk', 'entity': 'STRENGTH', 'sentence': '1'}, []),\n",
            "                Annotation(chunk, 228, 242, two times a day, {'chunk': '12', 'confidence': '0.806225', 'ner_source': 'ner_chunk', 'entity': 'FREQUENCY', 'sentence': '1'}, []),\n",
            "                Annotation(chunk, 273, 288, SGLT2 inhibitors, {'chunk': '13', 'confidence': '0.8739', 'ner_source': 'ner_chunk', 'entity': 'DRUG', 'sentence': '2'}, [])],\n",
            "  'sentence': [Annotation(document, 0, 57, The patient was prescribed 1 capsule of Parol with meals ., {'sentence': '0'}, []),\n",
            "               Annotation(document, 59, 244, He was seen by the endocrinology service and she was discharged on 40 units of insulin glargine at night , 12 units of insulin lispro with meals , and metformin 1000 mg two times a day ., {'sentence': '1'}, []),\n",
            "               Annotation(document, 246, 339, It was determined that all SGLT2 inhibitors should be discontinued indefinitely fro 3 months ., {'sentence': '2'}, [])],\n",
            "  'token': [Annotation(token, 0, 2, The, {'sentence': '0'}, []),\n",
            "            Annotation(token, 4, 10, patient, {'sentence': '0'}, []),\n",
            "            Annotation(token, 12, 14, was, {'sentence': '0'}, []),\n",
            "            Annotation(token, 16, 25, prescribed, {'sentence': '0'}, []),\n",
            "            Annotation(token, 27, 27, 1, {'sentence': '0'}, []),\n",
            "            Annotation(token, 29, 35, capsule, {'sentence': '0'}, []),\n",
            "            Annotation(token, 37, 38, of, {'sentence': '0'}, []),\n",
            "            Annotation(token, 40, 44, Parol, {'sentence': '0'}, []),\n",
            "            Annotation(token, 46, 49, with, {'sentence': '0'}, []),\n",
            "            Annotation(token, 51, 55, meals, {'sentence': '0'}, []),\n",
            "            Annotation(token, 57, 57, ., {'sentence': '0'}, []),\n",
            "            Annotation(token, 59, 60, He, {'sentence': '1'}, []),\n",
            "            Annotation(token, 62, 64, was, {'sentence': '1'}, []),\n",
            "            Annotation(token, 66, 69, seen, {'sentence': '1'}, []),\n",
            "            Annotation(token, 71, 72, by, {'sentence': '1'}, []),\n",
            "            Annotation(token, 74, 76, the, {'sentence': '1'}, []),\n",
            "            Annotation(token, 78, 90, endocrinology, {'sentence': '1'}, []),\n",
            "            Annotation(token, 92, 98, service, {'sentence': '1'}, []),\n",
            "            Annotation(token, 100, 102, and, {'sentence': '1'}, []),\n",
            "            Annotation(token, 104, 106, she, {'sentence': '1'}, []),\n",
            "            Annotation(token, 108, 110, was, {'sentence': '1'}, []),\n",
            "            Annotation(token, 112, 121, discharged, {'sentence': '1'}, []),\n",
            "            Annotation(token, 123, 124, on, {'sentence': '1'}, []),\n",
            "            Annotation(token, 126, 127, 40, {'sentence': '1'}, []),\n",
            "            Annotation(token, 129, 133, units, {'sentence': '1'}, []),\n",
            "            Annotation(token, 135, 136, of, {'sentence': '1'}, []),\n",
            "            Annotation(token, 138, 144, insulin, {'sentence': '1'}, []),\n",
            "            Annotation(token, 146, 153, glargine, {'sentence': '1'}, []),\n",
            "            Annotation(token, 155, 156, at, {'sentence': '1'}, []),\n",
            "            Annotation(token, 158, 162, night, {'sentence': '1'}, []),\n",
            "            Annotation(token, 164, 164, ,, {'sentence': '1'}, []),\n",
            "            Annotation(token, 166, 167, 12, {'sentence': '1'}, []),\n",
            "            Annotation(token, 169, 173, units, {'sentence': '1'}, []),\n",
            "            Annotation(token, 175, 176, of, {'sentence': '1'}, []),\n",
            "            Annotation(token, 178, 184, insulin, {'sentence': '1'}, []),\n",
            "            Annotation(token, 186, 191, lispro, {'sentence': '1'}, []),\n",
            "            Annotation(token, 193, 196, with, {'sentence': '1'}, []),\n",
            "            Annotation(token, 198, 202, meals, {'sentence': '1'}, []),\n",
            "            Annotation(token, 204, 204, ,, {'sentence': '1'}, []),\n",
            "            Annotation(token, 206, 208, and, {'sentence': '1'}, []),\n",
            "            Annotation(token, 210, 218, metformin, {'sentence': '1'}, []),\n",
            "            Annotation(token, 220, 223, 1000, {'sentence': '1'}, []),\n",
            "            Annotation(token, 225, 226, mg, {'sentence': '1'}, []),\n",
            "            Annotation(token, 228, 230, two, {'sentence': '1'}, []),\n",
            "            Annotation(token, 232, 236, times, {'sentence': '1'}, []),\n",
            "            Annotation(token, 238, 238, a, {'sentence': '1'}, []),\n",
            "            Annotation(token, 240, 242, day, {'sentence': '1'}, []),\n",
            "            Annotation(token, 244, 244, ., {'sentence': '1'}, []),\n",
            "            Annotation(token, 246, 247, It, {'sentence': '2'}, []),\n",
            "            Annotation(token, 249, 251, was, {'sentence': '2'}, []),\n",
            "            Annotation(token, 253, 262, determined, {'sentence': '2'}, []),\n",
            "            Annotation(token, 264, 267, that, {'sentence': '2'}, []),\n",
            "            Annotation(token, 269, 271, all, {'sentence': '2'}, []),\n",
            "            Annotation(token, 273, 277, SGLT2, {'sentence': '2'}, []),\n",
            "            Annotation(token, 279, 288, inhibitors, {'sentence': '2'}, []),\n",
            "            Annotation(token, 290, 295, should, {'sentence': '2'}, []),\n",
            "            Annotation(token, 297, 298, be, {'sentence': '2'}, []),\n",
            "            Annotation(token, 300, 311, discontinued, {'sentence': '2'}, []),\n",
            "            Annotation(token, 313, 324, indefinitely, {'sentence': '2'}, []),\n",
            "            Annotation(token, 326, 328, fro, {'sentence': '2'}, []),\n",
            "            Annotation(token, 330, 330, 3, {'sentence': '2'}, []),\n",
            "            Annotation(token, 332, 337, months, {'sentence': '2'}, []),\n",
            "            Annotation(token, 339, 339, ., {'sentence': '2'}, [])]}]\n"
          ]
        }
      ]
    },
    {
      "cell_type": "markdown",
      "source": [
        "### Extract **ner_posology** predictions from the mt_samples dataset via the pipeline"
      ],
      "metadata": {
        "id": "1AcTW0vCmlPd"
      }
    },
    {
      "cell_type": "code",
      "source": [
        "# Input texts for pipeline\n",
        "texts = mt_samples_df.select(\"text\").withColumn(\"text_id\", monotonically_increasing_id()).collect()"
      ],
      "metadata": {
        "id": "QAAWIjKkmrFF"
      },
      "execution_count": 33,
      "outputs": []
    },
    {
      "cell_type": "code",
      "source": [
        "texts[0]"
      ],
      "metadata": {
        "colab": {
          "base_uri": "https://localhost:8080/"
        },
        "collapsed": true,
        "id": "KMcquCDAmq0F",
        "outputId": "60fa6064-2e7e-41dd-d82b-c419fa200206"
      },
      "execution_count": 36,
      "outputs": [
        {
          "output_type": "execute_result",
          "data": {
            "text/plain": [
              "Row(text='Sample Type / Medical Specialty:\\nHematology - Oncology\\nSample Name:\\nDischarge Summary - Mesothelioma - 1\\nDescription:\\nMesothelioma, pleural effusion, atrial fibrillation, anemia, ascites, esophageal reflux, and history of deep venous thrombosis.\\n(Medical Transcription Sample Report)\\nPRINCIPAL DIAGNOSIS:\\nMesothelioma.\\nSECONDARY DIAGNOSES:\\nPleural effusion, atrial fibrillation, anemia, ascites, esophageal reflux, and history of deep venous thrombosis.\\nPROCEDURES\\n1. On August 24, 2007, decortication of the lung with pleural biopsy and transpleural fluoroscopy.\\n2. On August 20, 2007, thoracentesis.\\n3. On August 31, 2007, Port-A-Cath placement.\\nHISTORY AND PHYSICAL:\\nThe patient is a 41-year-old Vietnamese female with a nonproductive cough that started last week. She has had right-sided chest pain radiating to her back with fever starting yesterday. She has a history of pericarditis and pericardectomy in May 2006 and developed cough with right-sided chest pain, and went to an urgent care center. Chest x-ray revealed right-sided pleural effusion.\\nPAST MEDICAL HISTORY\\n1. Pericardectomy.\\n2. Pericarditis.\\n2. Atrial fibrillation.\\n4. RNCA with intracranial thrombolytic treatment.\\n5 PTA of MCA.\\n6. Mesenteric venous thrombosis.\\n7. Pericardial window.\\n8. Cholecystectomy.\\n9. Left thoracentesis.\\nFAMILY HISTORY:\\nNo family history of coronary artery disease, CVA, diabetes, CHF or MI. The patient has one family member, a sister, with history of cancer.\\nSOCIAL HISTORY:\\nShe is married. Employed with the US Post Office. She is a mother of three. Denies tobacco, alcohol or illicit drug use.\\nMEDICATIONS\\n1. Coumadin 1 mg daily. Last INR was on Tuesday, August 14, 2007, and her INR was 2.3.\\n2. Amiodarone 100 mg p.o. daily.\\nREVIEW OF SYSTEMS:\\nComplete review of systems negative except as in pulmonary as noted above. The patient also reports occasional numbness and tingling of her left arm.\\nPHYSICAL EXAMINATION\\nVITAL SIGNS: Blood pressure 123/95, heart rate 83, respirations 20, temperature 97, and oxygen saturation 97%.\\nGENERAL: Positive nonproductive cough and pain with coughing.\\nHEENT: Pupils are equal and reactive to light and accommodation. Tympanic membranes are clear.\\nNECK: Supple. No lymphadenopathy. No masses.\\nRESPIRATORY: Pleural friction rub is noted.\\nGI: Soft, nondistended, and nontender. Positive bowel sounds. No organomegaly.\\nEXTREMITIES: No edema, no clubbing, no cyanosis, no tenderness. Full range of motion. Normal pulses in all extremities.\\nSKIN: No breakdown or lesions. No ulcers.\\nNEUROLOGIC: Grossly intact. No focal deficits. Awake, alert, and oriented to person, place, and time.\\nLABORATORY DATA:\\nLabs are pending.\\nHOSPITAL COURSE:\\nThe patient was admitted for a right-sided pleural effusion for thoracentesis on Monday by Dr. X. Her Coumadin was placed on hold. A repeat echocardiogram was checked. She was started on prophylaxis for DVT with Lovenox 40 mg subcutaneously. Her history dated back to March 2005 when she first sought medical attention for evidence of pericarditis, which was treated with pericardial window in an outside hospital, at that time she was also found to have mesenteric pain and thrombosis, is now anticoagulated. Her pericardial fluid was accumulated and she was seen by Dr. Y. At that time, she was recommended for pericardectomy, which was performed by Dr. Z. Review of her CT scan from March 2006 prior to her pericardectomy, already shows bilateral plural effusions. The patient improved clinically after the pericardectomy with resolution of her symptoms. Recently, she was readmitted to the hospital with chest pain and found to have bilateral pleural effusion, the right greater than the left. CT of the chest also revealed a large mediastinal lymph node. We reviewed the pathology obtained from the pericardectomy in March 2006, which was diagnostic of mesothelioma. At this time, chest tube placement for drainage of the fluid occurred and thoracoscopy with fluid biopsies, which were performed, which revealed epithelioid malignant mesothelioma. The patient was then stained with a PET CT, which showed extensive uptake in the chest, bilateral pleural pericardial effusions, and lymphadenopathy. She also had acidic fluid, pectoral and intramammary lymph nodes and uptake in L4 with SUV of 4. This was consistent with stage III disease. Her repeat echocardiogram showed an ejection fraction of 45% to 49%. She was transferred to Oncology service and started on chemotherapy on September 1, 2007 with cisplatin 75 mg/centimeter squared equaling 109 mg IV piggyback over 2 hours on September 1, 2007, Alimta 500 mg/ centimeter squared equaling 730 mg IV piggyback over 10 minutes. This was all initiated after a Port-A-Cath was placed. The chemotherapy was well tolerated and the patient was discharged the following day after discontinuing IV fluid and IV. Her Port-A-Cath was packed with heparin according to protocol.\\nDISCHARGE MEDICATIONS:\\nZofran, Phenergan, Coumadin, and Lovenox, and Vicodin\\nDISCHARGE INSTRUCTIONS:\\nShe was instructed to followup with Dr. XYZ in the office to check her INR on Tuesday. She was instructed to call if she had any other questions or concerns in the interim.\\nKeywords:\\nhematology - oncology, mesothelioma, pleural effusion, atrial fibrillation, anemia, ascites, esophageal reflux, deep venous thrombosis, port-a-cath placement, port a cath, iv piggyback, venous thrombosis, atrial, thrombosis, pericardial, lymphadenopathy, fluid, pericardectomy, chest, pleural,', text_id=0)"
            ]
          },
          "metadata": {},
          "execution_count": 36
        }
      ]
    },
    {
      "cell_type": "code",
      "source": [
        "# Initialize empty lists to store results\n",
        "all_results = []\n",
        "all_texts = []\n",
        "\n",
        "# Process each text through the pipeline\n",
        "for row in texts:\n",
        "  text_id = row['text_id']\n",
        "  text = row['text']\n",
        "\n",
        "  # Save the text and its id\n",
        "  all_texts.append({'text_id': int(text_id),'text': text})\n",
        "\n",
        "  # Run the posology NER pipeline\n",
        "  light_result = light_model.fullAnnotate([text])\n",
        "  result = pipeline_parser.run(light_result)\n",
        "\n",
        "  # Create a row for each entity\n",
        "  for entity in result['result'][0]['entities']:\n",
        "      all_results.append({\n",
        "          'text_id': int(text_id),\n",
        "          'begin': entity['begin'],\n",
        "          'end': entity['end'],\n",
        "          'chunk': entity['chunk'],\n",
        "          'entity': entity['ner_label']\n",
        "      })\n",
        "\n",
        "# Convert results to DataFrames\n",
        "result_df = pd.DataFrame(all_results)\n",
        "texts_df = pd.DataFrame(all_texts)\n",
        "\n",
        "# Save as CSV files\n",
        "result_df.to_csv(f\"ner_posology_ner_results.csv\", index=False)\n",
        "texts_df.to_csv(f\"mtsamples_texts.csv\", index=False)"
      ],
      "metadata": {
        "id": "q0bDpksz4wJI"
      },
      "execution_count": 39,
      "outputs": []
    },
    {
      "cell_type": "code",
      "source": [
        "result_df.head(10)"
      ],
      "metadata": {
        "colab": {
          "base_uri": "https://localhost:8080/",
          "height": 363
        },
        "id": "fDANn1GSmqwp",
        "outputId": "b1071f4a-4512-4d86-c9e7-9f3d565829ae"
      },
      "execution_count": 40,
      "outputs": [
        {
          "output_type": "execute_result",
          "data": {
            "text/plain": [
              "   text_id  begin   end       chunk     entity\n",
              "0        0   1609  1616    Coumadin       DRUG\n",
              "1        0   1618  1621        1 mg   STRENGTH\n",
              "2        0   1623  1627       daily  FREQUENCY\n",
              "3        0   1696  1705  Amiodarone       DRUG\n",
              "4        0   1707  1712      100 mg   STRENGTH\n",
              "5        0   1714  1716         p.o      ROUTE\n",
              "6        0   1719  1723       daily  FREQUENCY\n",
              "7        0   2770  2777    Coumadin       DRUG\n",
              "8        0   2880  2886     Lovenox       DRUG\n",
              "9        0   2888  2892       40 mg   STRENGTH"
            ],
            "text/html": [
              "\n",
              "  <div id=\"df-6e6d1518-6ed0-4c0a-afed-4faf2b1918e8\" class=\"colab-df-container\">\n",
              "    <div>\n",
              "<style scoped>\n",
              "    .dataframe tbody tr th:only-of-type {\n",
              "        vertical-align: middle;\n",
              "    }\n",
              "\n",
              "    .dataframe tbody tr th {\n",
              "        vertical-align: top;\n",
              "    }\n",
              "\n",
              "    .dataframe thead th {\n",
              "        text-align: right;\n",
              "    }\n",
              "</style>\n",
              "<table border=\"1\" class=\"dataframe\">\n",
              "  <thead>\n",
              "    <tr style=\"text-align: right;\">\n",
              "      <th></th>\n",
              "      <th>text_id</th>\n",
              "      <th>begin</th>\n",
              "      <th>end</th>\n",
              "      <th>chunk</th>\n",
              "      <th>entity</th>\n",
              "    </tr>\n",
              "  </thead>\n",
              "  <tbody>\n",
              "    <tr>\n",
              "      <th>0</th>\n",
              "      <td>0</td>\n",
              "      <td>1609</td>\n",
              "      <td>1616</td>\n",
              "      <td>Coumadin</td>\n",
              "      <td>DRUG</td>\n",
              "    </tr>\n",
              "    <tr>\n",
              "      <th>1</th>\n",
              "      <td>0</td>\n",
              "      <td>1618</td>\n",
              "      <td>1621</td>\n",
              "      <td>1 mg</td>\n",
              "      <td>STRENGTH</td>\n",
              "    </tr>\n",
              "    <tr>\n",
              "      <th>2</th>\n",
              "      <td>0</td>\n",
              "      <td>1623</td>\n",
              "      <td>1627</td>\n",
              "      <td>daily</td>\n",
              "      <td>FREQUENCY</td>\n",
              "    </tr>\n",
              "    <tr>\n",
              "      <th>3</th>\n",
              "      <td>0</td>\n",
              "      <td>1696</td>\n",
              "      <td>1705</td>\n",
              "      <td>Amiodarone</td>\n",
              "      <td>DRUG</td>\n",
              "    </tr>\n",
              "    <tr>\n",
              "      <th>4</th>\n",
              "      <td>0</td>\n",
              "      <td>1707</td>\n",
              "      <td>1712</td>\n",
              "      <td>100 mg</td>\n",
              "      <td>STRENGTH</td>\n",
              "    </tr>\n",
              "    <tr>\n",
              "      <th>5</th>\n",
              "      <td>0</td>\n",
              "      <td>1714</td>\n",
              "      <td>1716</td>\n",
              "      <td>p.o</td>\n",
              "      <td>ROUTE</td>\n",
              "    </tr>\n",
              "    <tr>\n",
              "      <th>6</th>\n",
              "      <td>0</td>\n",
              "      <td>1719</td>\n",
              "      <td>1723</td>\n",
              "      <td>daily</td>\n",
              "      <td>FREQUENCY</td>\n",
              "    </tr>\n",
              "    <tr>\n",
              "      <th>7</th>\n",
              "      <td>0</td>\n",
              "      <td>2770</td>\n",
              "      <td>2777</td>\n",
              "      <td>Coumadin</td>\n",
              "      <td>DRUG</td>\n",
              "    </tr>\n",
              "    <tr>\n",
              "      <th>8</th>\n",
              "      <td>0</td>\n",
              "      <td>2880</td>\n",
              "      <td>2886</td>\n",
              "      <td>Lovenox</td>\n",
              "      <td>DRUG</td>\n",
              "    </tr>\n",
              "    <tr>\n",
              "      <th>9</th>\n",
              "      <td>0</td>\n",
              "      <td>2888</td>\n",
              "      <td>2892</td>\n",
              "      <td>40 mg</td>\n",
              "      <td>STRENGTH</td>\n",
              "    </tr>\n",
              "  </tbody>\n",
              "</table>\n",
              "</div>\n",
              "    <div class=\"colab-df-buttons\">\n",
              "\n",
              "  <div class=\"colab-df-container\">\n",
              "    <button class=\"colab-df-convert\" onclick=\"convertToInteractive('df-6e6d1518-6ed0-4c0a-afed-4faf2b1918e8')\"\n",
              "            title=\"Convert this dataframe to an interactive table.\"\n",
              "            style=\"display:none;\">\n",
              "\n",
              "  <svg xmlns=\"http://www.w3.org/2000/svg\" height=\"24px\" viewBox=\"0 -960 960 960\">\n",
              "    <path d=\"M120-120v-720h720v720H120Zm60-500h600v-160H180v160Zm220 220h160v-160H400v160Zm0 220h160v-160H400v160ZM180-400h160v-160H180v160Zm440 0h160v-160H620v160ZM180-180h160v-160H180v160Zm440 0h160v-160H620v160Z\"/>\n",
              "  </svg>\n",
              "    </button>\n",
              "\n",
              "  <style>\n",
              "    .colab-df-container {\n",
              "      display:flex;\n",
              "      gap: 12px;\n",
              "    }\n",
              "\n",
              "    .colab-df-convert {\n",
              "      background-color: #E8F0FE;\n",
              "      border: none;\n",
              "      border-radius: 50%;\n",
              "      cursor: pointer;\n",
              "      display: none;\n",
              "      fill: #1967D2;\n",
              "      height: 32px;\n",
              "      padding: 0 0 0 0;\n",
              "      width: 32px;\n",
              "    }\n",
              "\n",
              "    .colab-df-convert:hover {\n",
              "      background-color: #E2EBFA;\n",
              "      box-shadow: 0px 1px 2px rgba(60, 64, 67, 0.3), 0px 1px 3px 1px rgba(60, 64, 67, 0.15);\n",
              "      fill: #174EA6;\n",
              "    }\n",
              "\n",
              "    .colab-df-buttons div {\n",
              "      margin-bottom: 4px;\n",
              "    }\n",
              "\n",
              "    [theme=dark] .colab-df-convert {\n",
              "      background-color: #3B4455;\n",
              "      fill: #D2E3FC;\n",
              "    }\n",
              "\n",
              "    [theme=dark] .colab-df-convert:hover {\n",
              "      background-color: #434B5C;\n",
              "      box-shadow: 0px 1px 3px 1px rgba(0, 0, 0, 0.15);\n",
              "      filter: drop-shadow(0px 1px 2px rgba(0, 0, 0, 0.3));\n",
              "      fill: #FFFFFF;\n",
              "    }\n",
              "  </style>\n",
              "\n",
              "    <script>\n",
              "      const buttonEl =\n",
              "        document.querySelector('#df-6e6d1518-6ed0-4c0a-afed-4faf2b1918e8 button.colab-df-convert');\n",
              "      buttonEl.style.display =\n",
              "        google.colab.kernel.accessAllowed ? 'block' : 'none';\n",
              "\n",
              "      async function convertToInteractive(key) {\n",
              "        const element = document.querySelector('#df-6e6d1518-6ed0-4c0a-afed-4faf2b1918e8');\n",
              "        const dataTable =\n",
              "          await google.colab.kernel.invokeFunction('convertToInteractive',\n",
              "                                                    [key], {});\n",
              "        if (!dataTable) return;\n",
              "\n",
              "        const docLinkHtml = 'Like what you see? Visit the ' +\n",
              "          '<a target=\"_blank\" href=https://colab.research.google.com/notebooks/data_table.ipynb>data table notebook</a>'\n",
              "          + ' to learn more about interactive tables.';\n",
              "        element.innerHTML = '';\n",
              "        dataTable['output_type'] = 'display_data';\n",
              "        await google.colab.output.renderOutput(dataTable, element);\n",
              "        const docLink = document.createElement('div');\n",
              "        docLink.innerHTML = docLinkHtml;\n",
              "        element.appendChild(docLink);\n",
              "      }\n",
              "    </script>\n",
              "  </div>\n",
              "\n",
              "\n",
              "<div id=\"df-962ad3b1-b411-46f7-93a1-f7984cb85da6\">\n",
              "  <button class=\"colab-df-quickchart\" onclick=\"quickchart('df-962ad3b1-b411-46f7-93a1-f7984cb85da6')\"\n",
              "            title=\"Suggest charts\"\n",
              "            style=\"display:none;\">\n",
              "\n",
              "<svg xmlns=\"http://www.w3.org/2000/svg\" height=\"24px\"viewBox=\"0 0 24 24\"\n",
              "     width=\"24px\">\n",
              "    <g>\n",
              "        <path d=\"M19 3H5c-1.1 0-2 .9-2 2v14c0 1.1.9 2 2 2h14c1.1 0 2-.9 2-2V5c0-1.1-.9-2-2-2zM9 17H7v-7h2v7zm4 0h-2V7h2v10zm4 0h-2v-4h2v4z\"/>\n",
              "    </g>\n",
              "</svg>\n",
              "  </button>\n",
              "\n",
              "<style>\n",
              "  .colab-df-quickchart {\n",
              "      --bg-color: #E8F0FE;\n",
              "      --fill-color: #1967D2;\n",
              "      --hover-bg-color: #E2EBFA;\n",
              "      --hover-fill-color: #174EA6;\n",
              "      --disabled-fill-color: #AAA;\n",
              "      --disabled-bg-color: #DDD;\n",
              "  }\n",
              "\n",
              "  [theme=dark] .colab-df-quickchart {\n",
              "      --bg-color: #3B4455;\n",
              "      --fill-color: #D2E3FC;\n",
              "      --hover-bg-color: #434B5C;\n",
              "      --hover-fill-color: #FFFFFF;\n",
              "      --disabled-bg-color: #3B4455;\n",
              "      --disabled-fill-color: #666;\n",
              "  }\n",
              "\n",
              "  .colab-df-quickchart {\n",
              "    background-color: var(--bg-color);\n",
              "    border: none;\n",
              "    border-radius: 50%;\n",
              "    cursor: pointer;\n",
              "    display: none;\n",
              "    fill: var(--fill-color);\n",
              "    height: 32px;\n",
              "    padding: 0;\n",
              "    width: 32px;\n",
              "  }\n",
              "\n",
              "  .colab-df-quickchart:hover {\n",
              "    background-color: var(--hover-bg-color);\n",
              "    box-shadow: 0 1px 2px rgba(60, 64, 67, 0.3), 0 1px 3px 1px rgba(60, 64, 67, 0.15);\n",
              "    fill: var(--button-hover-fill-color);\n",
              "  }\n",
              "\n",
              "  .colab-df-quickchart-complete:disabled,\n",
              "  .colab-df-quickchart-complete:disabled:hover {\n",
              "    background-color: var(--disabled-bg-color);\n",
              "    fill: var(--disabled-fill-color);\n",
              "    box-shadow: none;\n",
              "  }\n",
              "\n",
              "  .colab-df-spinner {\n",
              "    border: 2px solid var(--fill-color);\n",
              "    border-color: transparent;\n",
              "    border-bottom-color: var(--fill-color);\n",
              "    animation:\n",
              "      spin 1s steps(1) infinite;\n",
              "  }\n",
              "\n",
              "  @keyframes spin {\n",
              "    0% {\n",
              "      border-color: transparent;\n",
              "      border-bottom-color: var(--fill-color);\n",
              "      border-left-color: var(--fill-color);\n",
              "    }\n",
              "    20% {\n",
              "      border-color: transparent;\n",
              "      border-left-color: var(--fill-color);\n",
              "      border-top-color: var(--fill-color);\n",
              "    }\n",
              "    30% {\n",
              "      border-color: transparent;\n",
              "      border-left-color: var(--fill-color);\n",
              "      border-top-color: var(--fill-color);\n",
              "      border-right-color: var(--fill-color);\n",
              "    }\n",
              "    40% {\n",
              "      border-color: transparent;\n",
              "      border-right-color: var(--fill-color);\n",
              "      border-top-color: var(--fill-color);\n",
              "    }\n",
              "    60% {\n",
              "      border-color: transparent;\n",
              "      border-right-color: var(--fill-color);\n",
              "    }\n",
              "    80% {\n",
              "      border-color: transparent;\n",
              "      border-right-color: var(--fill-color);\n",
              "      border-bottom-color: var(--fill-color);\n",
              "    }\n",
              "    90% {\n",
              "      border-color: transparent;\n",
              "      border-bottom-color: var(--fill-color);\n",
              "    }\n",
              "  }\n",
              "</style>\n",
              "\n",
              "  <script>\n",
              "    async function quickchart(key) {\n",
              "      const quickchartButtonEl =\n",
              "        document.querySelector('#' + key + ' button');\n",
              "      quickchartButtonEl.disabled = true;  // To prevent multiple clicks.\n",
              "      quickchartButtonEl.classList.add('colab-df-spinner');\n",
              "      try {\n",
              "        const charts = await google.colab.kernel.invokeFunction(\n",
              "            'suggestCharts', [key], {});\n",
              "      } catch (error) {\n",
              "        console.error('Error during call to suggestCharts:', error);\n",
              "      }\n",
              "      quickchartButtonEl.classList.remove('colab-df-spinner');\n",
              "      quickchartButtonEl.classList.add('colab-df-quickchart-complete');\n",
              "    }\n",
              "    (() => {\n",
              "      let quickchartButtonEl =\n",
              "        document.querySelector('#df-962ad3b1-b411-46f7-93a1-f7984cb85da6 button');\n",
              "      quickchartButtonEl.style.display =\n",
              "        google.colab.kernel.accessAllowed ? 'block' : 'none';\n",
              "    })();\n",
              "  </script>\n",
              "</div>\n",
              "\n",
              "    </div>\n",
              "  </div>\n"
            ],
            "application/vnd.google.colaboratory.intrinsic+json": {
              "type": "dataframe",
              "variable_name": "result_df",
              "summary": "{\n  \"name\": \"result_df\",\n  \"rows\": 122,\n  \"fields\": [\n    {\n      \"column\": \"text_id\",\n      \"properties\": {\n        \"dtype\": \"number\",\n        \"std\": 3,\n        \"min\": 0,\n        \"max\": 9,\n        \"num_unique_values\": 8,\n        \"samples\": [\n          1,\n          7,\n          0\n        ],\n        \"semantic_type\": \"\",\n        \"description\": \"\"\n      }\n    },\n    {\n      \"column\": \"begin\",\n      \"properties\": {\n        \"dtype\": \"number\",\n        \"std\": 1766,\n        \"min\": 230,\n        \"max\": 8651,\n        \"num_unique_values\": 122,\n        \"samples\": [\n          4555,\n          903,\n          959\n        ],\n        \"semantic_type\": \"\",\n        \"description\": \"\"\n      }\n    },\n    {\n      \"column\": \"end\",\n      \"properties\": {\n        \"dtype\": \"number\",\n        \"std\": 1766,\n        \"min\": 240,\n        \"max\": 8662,\n        \"num_unique_values\": 120,\n        \"samples\": [\n          721,\n          962,\n          1712\n        ],\n        \"semantic_type\": \"\",\n        \"description\": \"\"\n      }\n    },\n    {\n      \"column\": \"chunk\",\n      \"properties\": {\n        \"dtype\": \"string\",\n        \"num_unique_values\": 82,\n        \"samples\": [\n          \"anesthetic agent\",\n          \"Coumadin\",\n          \"fluid\"\n        ],\n        \"semantic_type\": \"\",\n        \"description\": \"\"\n      }\n    },\n    {\n      \"column\": \"entity\",\n      \"properties\": {\n        \"dtype\": \"category\",\n        \"num_unique_values\": 7,\n        \"samples\": [\n          \"DRUG\",\n          \"STRENGTH\",\n          \"FORM\"\n        ],\n        \"semantic_type\": \"\",\n        \"description\": \"\"\n      }\n    }\n  ]\n}"
            }
          },
          "metadata": {},
          "execution_count": 40
        }
      ]
    },
    {
      "cell_type": "code",
      "source": [
        "result_df[\"entity\"].value_counts()"
      ],
      "metadata": {
        "colab": {
          "base_uri": "https://localhost:8080/",
          "height": 335
        },
        "id": "sngIJ8s19pTB",
        "outputId": "1c4d5cb3-812d-4a98-d1bd-9557884bc013"
      },
      "execution_count": 42,
      "outputs": [
        {
          "output_type": "execute_result",
          "data": {
            "text/plain": [
              "entity\n",
              "DRUG         77\n",
              "ROUTE        14\n",
              "STRENGTH     13\n",
              "FREQUENCY    12\n",
              "FORM          3\n",
              "DURATION      2\n",
              "DOSAGE        1\n",
              "Name: count, dtype: int64"
            ],
            "text/html": [
              "<div>\n",
              "<style scoped>\n",
              "    .dataframe tbody tr th:only-of-type {\n",
              "        vertical-align: middle;\n",
              "    }\n",
              "\n",
              "    .dataframe tbody tr th {\n",
              "        vertical-align: top;\n",
              "    }\n",
              "\n",
              "    .dataframe thead th {\n",
              "        text-align: right;\n",
              "    }\n",
              "</style>\n",
              "<table border=\"1\" class=\"dataframe\">\n",
              "  <thead>\n",
              "    <tr style=\"text-align: right;\">\n",
              "      <th></th>\n",
              "      <th>count</th>\n",
              "    </tr>\n",
              "    <tr>\n",
              "      <th>entity</th>\n",
              "      <th></th>\n",
              "    </tr>\n",
              "  </thead>\n",
              "  <tbody>\n",
              "    <tr>\n",
              "      <th>DRUG</th>\n",
              "      <td>77</td>\n",
              "    </tr>\n",
              "    <tr>\n",
              "      <th>ROUTE</th>\n",
              "      <td>14</td>\n",
              "    </tr>\n",
              "    <tr>\n",
              "      <th>STRENGTH</th>\n",
              "      <td>13</td>\n",
              "    </tr>\n",
              "    <tr>\n",
              "      <th>FREQUENCY</th>\n",
              "      <td>12</td>\n",
              "    </tr>\n",
              "    <tr>\n",
              "      <th>FORM</th>\n",
              "      <td>3</td>\n",
              "    </tr>\n",
              "    <tr>\n",
              "      <th>DURATION</th>\n",
              "      <td>2</td>\n",
              "    </tr>\n",
              "    <tr>\n",
              "      <th>DOSAGE</th>\n",
              "      <td>1</td>\n",
              "    </tr>\n",
              "  </tbody>\n",
              "</table>\n",
              "</div><br><label><b>dtype:</b> int64</label>"
            ]
          },
          "metadata": {},
          "execution_count": 42
        }
      ]
    },
    {
      "cell_type": "code",
      "source": [],
      "metadata": {
        "id": "Zo92786c9tAR"
      },
      "execution_count": null,
      "outputs": []
    },
    {
      "cell_type": "markdown",
      "source": [
        "---  \n",
        "*`R.Caliskan`*\n"
      ],
      "metadata": {
        "id": "GeFyGbHW_JWW"
      }
    }
  ],
  "metadata": {
    "colab": {
      "machine_shape": "hm",
      "provenance": []
    },
    "kernelspec": {
      "display_name": "Python 3",
      "name": "python3"
    },
    "language_info": {
      "codemirror_mode": {
        "name": "ipython",
        "version": 3
      },
      "file_extension": ".py",
      "mimetype": "text/x-python",
      "name": "python",
      "nbconvert_exporter": "python",
      "pygments_lexer": "ipython3",
      "version": "3.9.7"
    },
    "vscode": {
      "interpreter": {
        "hash": "3f47d918ae832c68584484921185f5c85a1760864bf927a683dc6fb56366cc77"
      }
    }
  },
  "nbformat": 4,
  "nbformat_minor": 0
}
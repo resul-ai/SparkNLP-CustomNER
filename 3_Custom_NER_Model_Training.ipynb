{
  "cells": [
    {
      "cell_type": "markdown",
      "metadata": {
        "id": "view-in-github",
        "colab_type": "text"
      },
      "source": [
        "<a href=\"https://colab.research.google.com/github/russell-ai/SparkNLP-CustomNER/blob/main/3_Custom_NER_Model_Training.ipynb\" target=\"_parent\"><img src=\"https://colab.research.google.com/assets/colab-badge.svg\" alt=\"Open In Colab\"/></a>"
      ]
    },
    {
      "cell_type": "markdown",
      "metadata": {
        "id": "I08sFJYCxR0Z"
      },
      "source": [
        "![JohnSnowLabs](https://nlp.johnsnowlabs.com/assets/images/logo.png)"
      ]
    },
    {
      "cell_type": "markdown",
      "metadata": {
        "id": "nWu_IMfY4L1N"
      },
      "source": [
        "# **Interview Task**\n",
        "[Running a Spark NLP Healthcare Pipeline and Training a Custom NER Model](https://docs.google.com/document/d/1l_SpYGAlVGAEe9x-b8avgvKipCXetdap2ttc4UKreO4/edit?tab=t.0)  \n",
        "## **PART-III Custom NER Model Training:**\n",
        "  \n",
        "In this part, we will perform model training using the coNLL training dataset prepared in the previous part (Part 2)."
      ]
    },
    {
      "cell_type": "markdown",
      "metadata": {
        "id": "-68NMdHxJIco"
      },
      "source": [
        "## Environment Setup"
      ]
    },
    {
      "cell_type": "code",
      "execution_count": 1,
      "metadata": {
        "id": "h9Mn1PNTNJTq",
        "colab": {
          "base_uri": "https://localhost:8080/",
          "height": 73
        },
        "outputId": "26f64fd6-5ebd-4a0f-944a-780b69b24964"
      },
      "outputs": [
        {
          "output_type": "display_data",
          "data": {
            "text/plain": [
              "<IPython.core.display.HTML object>"
            ],
            "text/html": [
              "\n",
              "     <input type=\"file\" id=\"files-24d7cbb9-e186-4f90-b801-13bdfcbf0908\" name=\"files[]\" multiple disabled\n",
              "        style=\"border:none\" />\n",
              "     <output id=\"result-24d7cbb9-e186-4f90-b801-13bdfcbf0908\">\n",
              "      Upload widget is only available when the cell has been executed in the\n",
              "      current browser session. Please rerun this cell to enable.\n",
              "      </output>\n",
              "      <script>// Copyright 2017 Google LLC\n",
              "//\n",
              "// Licensed under the Apache License, Version 2.0 (the \"License\");\n",
              "// you may not use this file except in compliance with the License.\n",
              "// You may obtain a copy of the License at\n",
              "//\n",
              "//      http://www.apache.org/licenses/LICENSE-2.0\n",
              "//\n",
              "// Unless required by applicable law or agreed to in writing, software\n",
              "// distributed under the License is distributed on an \"AS IS\" BASIS,\n",
              "// WITHOUT WARRANTIES OR CONDITIONS OF ANY KIND, either express or implied.\n",
              "// See the License for the specific language governing permissions and\n",
              "// limitations under the License.\n",
              "\n",
              "/**\n",
              " * @fileoverview Helpers for google.colab Python module.\n",
              " */\n",
              "(function(scope) {\n",
              "function span(text, styleAttributes = {}) {\n",
              "  const element = document.createElement('span');\n",
              "  element.textContent = text;\n",
              "  for (const key of Object.keys(styleAttributes)) {\n",
              "    element.style[key] = styleAttributes[key];\n",
              "  }\n",
              "  return element;\n",
              "}\n",
              "\n",
              "// Max number of bytes which will be uploaded at a time.\n",
              "const MAX_PAYLOAD_SIZE = 100 * 1024;\n",
              "\n",
              "function _uploadFiles(inputId, outputId) {\n",
              "  const steps = uploadFilesStep(inputId, outputId);\n",
              "  const outputElement = document.getElementById(outputId);\n",
              "  // Cache steps on the outputElement to make it available for the next call\n",
              "  // to uploadFilesContinue from Python.\n",
              "  outputElement.steps = steps;\n",
              "\n",
              "  return _uploadFilesContinue(outputId);\n",
              "}\n",
              "\n",
              "// This is roughly an async generator (not supported in the browser yet),\n",
              "// where there are multiple asynchronous steps and the Python side is going\n",
              "// to poll for completion of each step.\n",
              "// This uses a Promise to block the python side on completion of each step,\n",
              "// then passes the result of the previous step as the input to the next step.\n",
              "function _uploadFilesContinue(outputId) {\n",
              "  const outputElement = document.getElementById(outputId);\n",
              "  const steps = outputElement.steps;\n",
              "\n",
              "  const next = steps.next(outputElement.lastPromiseValue);\n",
              "  return Promise.resolve(next.value.promise).then((value) => {\n",
              "    // Cache the last promise value to make it available to the next\n",
              "    // step of the generator.\n",
              "    outputElement.lastPromiseValue = value;\n",
              "    return next.value.response;\n",
              "  });\n",
              "}\n",
              "\n",
              "/**\n",
              " * Generator function which is called between each async step of the upload\n",
              " * process.\n",
              " * @param {string} inputId Element ID of the input file picker element.\n",
              " * @param {string} outputId Element ID of the output display.\n",
              " * @return {!Iterable<!Object>} Iterable of next steps.\n",
              " */\n",
              "function* uploadFilesStep(inputId, outputId) {\n",
              "  const inputElement = document.getElementById(inputId);\n",
              "  inputElement.disabled = false;\n",
              "\n",
              "  const outputElement = document.getElementById(outputId);\n",
              "  outputElement.innerHTML = '';\n",
              "\n",
              "  const pickedPromise = new Promise((resolve) => {\n",
              "    inputElement.addEventListener('change', (e) => {\n",
              "      resolve(e.target.files);\n",
              "    });\n",
              "  });\n",
              "\n",
              "  const cancel = document.createElement('button');\n",
              "  inputElement.parentElement.appendChild(cancel);\n",
              "  cancel.textContent = 'Cancel upload';\n",
              "  const cancelPromise = new Promise((resolve) => {\n",
              "    cancel.onclick = () => {\n",
              "      resolve(null);\n",
              "    };\n",
              "  });\n",
              "\n",
              "  // Wait for the user to pick the files.\n",
              "  const files = yield {\n",
              "    promise: Promise.race([pickedPromise, cancelPromise]),\n",
              "    response: {\n",
              "      action: 'starting',\n",
              "    }\n",
              "  };\n",
              "\n",
              "  cancel.remove();\n",
              "\n",
              "  // Disable the input element since further picks are not allowed.\n",
              "  inputElement.disabled = true;\n",
              "\n",
              "  if (!files) {\n",
              "    return {\n",
              "      response: {\n",
              "        action: 'complete',\n",
              "      }\n",
              "    };\n",
              "  }\n",
              "\n",
              "  for (const file of files) {\n",
              "    const li = document.createElement('li');\n",
              "    li.append(span(file.name, {fontWeight: 'bold'}));\n",
              "    li.append(span(\n",
              "        `(${file.type || 'n/a'}) - ${file.size} bytes, ` +\n",
              "        `last modified: ${\n",
              "            file.lastModifiedDate ? file.lastModifiedDate.toLocaleDateString() :\n",
              "                                    'n/a'} - `));\n",
              "    const percent = span('0% done');\n",
              "    li.appendChild(percent);\n",
              "\n",
              "    outputElement.appendChild(li);\n",
              "\n",
              "    const fileDataPromise = new Promise((resolve) => {\n",
              "      const reader = new FileReader();\n",
              "      reader.onload = (e) => {\n",
              "        resolve(e.target.result);\n",
              "      };\n",
              "      reader.readAsArrayBuffer(file);\n",
              "    });\n",
              "    // Wait for the data to be ready.\n",
              "    let fileData = yield {\n",
              "      promise: fileDataPromise,\n",
              "      response: {\n",
              "        action: 'continue',\n",
              "      }\n",
              "    };\n",
              "\n",
              "    // Use a chunked sending to avoid message size limits. See b/62115660.\n",
              "    let position = 0;\n",
              "    do {\n",
              "      const length = Math.min(fileData.byteLength - position, MAX_PAYLOAD_SIZE);\n",
              "      const chunk = new Uint8Array(fileData, position, length);\n",
              "      position += length;\n",
              "\n",
              "      const base64 = btoa(String.fromCharCode.apply(null, chunk));\n",
              "      yield {\n",
              "        response: {\n",
              "          action: 'append',\n",
              "          file: file.name,\n",
              "          data: base64,\n",
              "        },\n",
              "      };\n",
              "\n",
              "      let percentDone = fileData.byteLength === 0 ?\n",
              "          100 :\n",
              "          Math.round((position / fileData.byteLength) * 100);\n",
              "      percent.textContent = `${percentDone}% done`;\n",
              "\n",
              "    } while (position < fileData.byteLength);\n",
              "  }\n",
              "\n",
              "  // All done.\n",
              "  yield {\n",
              "    response: {\n",
              "      action: 'complete',\n",
              "    }\n",
              "  };\n",
              "}\n",
              "\n",
              "scope.google = scope.google || {};\n",
              "scope.google.colab = scope.google.colab || {};\n",
              "scope.google.colab._files = {\n",
              "  _uploadFiles,\n",
              "  _uploadFilesContinue,\n",
              "};\n",
              "})(self);\n",
              "</script> "
            ]
          },
          "metadata": {}
        },
        {
          "output_type": "stream",
          "name": "stdout",
          "text": [
            "Saving Medical Language Models for Data Scientists  Training License.json to Medical Language Models for Data Scientists  Training License.json\n"
          ]
        }
      ],
      "source": [
        "import json\n",
        "import os\n",
        "\n",
        "from google.colab import files\n",
        "\n",
        "if 'spark_jsl.json' not in os.listdir():\n",
        "  license_keys = files.upload()\n",
        "  os.rename(list(license_keys.keys())[0], 'spark_jsl.json')\n",
        "\n",
        "with open('spark_jsl.json') as f:\n",
        "    license_keys = json.load(f)\n",
        "\n",
        "# Defining license key-value pairs as local variables\n",
        "locals().update(license_keys)\n",
        "os.environ.update(license_keys)"
      ]
    },
    {
      "cell_type": "code",
      "execution_count": 2,
      "metadata": {
        "id": "yvHraBK7b-LU",
        "colab": {
          "base_uri": "https://localhost:8080/"
        },
        "outputId": "b79110b6-3ad5-4b30-a7f9-973fc950874c"
      },
      "outputs": [
        {
          "output_type": "stream",
          "name": "stdout",
          "text": [
            "\u001b[2K     \u001b[90m━━━━━━━━━━━━━━━━━━━━━━━━━━━━━━━━━━━━━━━━\u001b[0m \u001b[32m310.8/310.8 MB\u001b[0m \u001b[31m4.0 MB/s\u001b[0m eta \u001b[36m0:00:00\u001b[0m\n",
            "\u001b[?25h  Preparing metadata (setup.py) ... \u001b[?25l\u001b[?25hdone\n",
            "\u001b[2K     \u001b[90m━━━━━━━━━━━━━━━━━━━━━━━━━━━━━━━━━━━━━━━━\u001b[0m \u001b[32m55.6/55.6 kB\u001b[0m \u001b[31m3.4 MB/s\u001b[0m eta \u001b[36m0:00:00\u001b[0m\n",
            "\u001b[2K   \u001b[90m━━━━━━━━━━━━━━━━━━━━━━━━━━━━━━━━━━━━━━━━\u001b[0m \u001b[32m579.2/579.2 kB\u001b[0m \u001b[31m37.6 MB/s\u001b[0m eta \u001b[36m0:00:00\u001b[0m\n",
            "\u001b[?25h  Building wheel for pyspark (setup.py) ... \u001b[?25l\u001b[?25hdone\n",
            "\u001b[2K     \u001b[90m━━━━━━━━━━━━━━━━━━━━━━━━━━━━━━━━━━━━━━━━\u001b[0m \u001b[32m554.8/554.8 kB\u001b[0m \u001b[31m12.6 MB/s\u001b[0m eta \u001b[36m0:00:00\u001b[0m\n",
            "\u001b[2K   \u001b[90m━━━━━━━━━━━━━━━━━━━━━━━━━━━━━━━━━━━━━━━━\u001b[0m \u001b[32m95.6/95.6 kB\u001b[0m \u001b[31m6.6 MB/s\u001b[0m eta \u001b[36m0:00:00\u001b[0m\n",
            "\u001b[2K   \u001b[90m━━━━━━━━━━━━━━━━━━━━━━━━━━━━━━━━━━━━━━━━\u001b[0m \u001b[32m66.9/66.9 kB\u001b[0m \u001b[31m4.6 MB/s\u001b[0m eta \u001b[36m0:00:00\u001b[0m\n",
            "\u001b[2K   \u001b[90m━━━━━━━━━━━━━━━━━━━━━━━━━━━━━━━━━━━━━━━━\u001b[0m \u001b[32m1.6/1.6 MB\u001b[0m \u001b[31m41.4 MB/s\u001b[0m eta \u001b[36m0:00:00\u001b[0m\n",
            "\u001b[?25h"
          ]
        }
      ],
      "source": [
        "# Installing pyspark and spark-nlp\n",
        "! pip install --upgrade -q pyspark==3.4.1  spark-nlp==$PUBLIC_VERSION\n",
        "\n",
        "# Installing Spark NLP Healthcare\n",
        "! pip install --upgrade -q spark-nlp-jsl==$JSL_VERSION  --extra-index-url https://pypi.johnsnowlabs.com/$SECRET\n",
        "\n",
        "# Installing Spark NLP Display Library for visualization\n",
        "! pip install -q spark-nlp-display"
      ]
    },
    {
      "cell_type": "code",
      "execution_count": 3,
      "metadata": {
        "id": "wIp1yLCWNWsn"
      },
      "outputs": [],
      "source": [
        "# if you want to start the session with custom params as in start function above\n",
        "from pyspark.sql import SparkSession\n",
        "\n",
        "def start(SECRET):\n",
        "    builder = SparkSession.builder \\\n",
        "        .appName(\"Spark NLP Licensed\") \\\n",
        "        .master(\"local[*]\") \\\n",
        "        .config(\"spark.driver.memory\", \"16G\") \\\n",
        "        .config(\"spark.serializer\", \"org.apache.spark.serializer.KryoSerializer\") \\\n",
        "        .config(\"spark.kryoserializer.buffer.max\", \"2000M\") \\\n",
        "        .config(\"spark.jars.packages\", \"com.johnsnowlabs.nlp:spark-nlp_2.12:\"+PUBLIC_VERSION) \\\n",
        "        .config(\"spark.jars\", \"https://pypi.johnsnowlabs.com/\"+SECRET+\"/spark-nlp-jsl-\"+JSL_VERSION+\".jar\")\n",
        "\n",
        "    return builder.getOrCreate()\n",
        "\n",
        "#spark = start(SECRET)"
      ]
    },
    {
      "cell_type": "code",
      "execution_count": 4,
      "metadata": {
        "colab": {
          "base_uri": "https://localhost:8080/",
          "height": 254
        },
        "id": "1t5Kp93GcH7z",
        "outputId": "55480b43-dd5c-4d70-9ac2-f8efd41ea6d3"
      },
      "outputs": [
        {
          "output_type": "stream",
          "name": "stdout",
          "text": [
            "Spark NLP Version : 5.4.1\n",
            "Spark NLP_JSL Version : 5.4.1\n"
          ]
        },
        {
          "output_type": "execute_result",
          "data": {
            "text/plain": [
              "<pyspark.sql.session.SparkSession at 0x7d4eb93e88b0>"
            ],
            "text/html": [
              "\n",
              "            <div>\n",
              "                <p><b>SparkSession - in-memory</b></p>\n",
              "                \n",
              "        <div>\n",
              "            <p><b>SparkContext</b></p>\n",
              "\n",
              "            <p><a href=\"http://69bffb7576bc:4040\">Spark UI</a></p>\n",
              "\n",
              "            <dl>\n",
              "              <dt>Version</dt>\n",
              "                <dd><code>v3.4.1</code></dd>\n",
              "              <dt>Master</dt>\n",
              "                <dd><code>local[*]</code></dd>\n",
              "              <dt>AppName</dt>\n",
              "                <dd><code>Spark NLP Licensed</code></dd>\n",
              "            </dl>\n",
              "        </div>\n",
              "        \n",
              "            </div>\n",
              "        "
            ]
          },
          "metadata": {},
          "execution_count": 4
        }
      ],
      "source": [
        "import json\n",
        "import os\n",
        "\n",
        "from pyspark.ml import Pipeline,PipelineModel\n",
        "from pyspark.sql import SparkSession\n",
        "\n",
        "import sparknlp_jsl\n",
        "import sparknlp\n",
        "\n",
        "from sparknlp.annotator import *\n",
        "from sparknlp_jsl.annotator import *\n",
        "from sparknlp.base import *\n",
        "\n",
        "\n",
        "import warnings\n",
        "warnings.filterwarnings('ignore')\n",
        "\n",
        "params = {\"spark.driver.memory\":\"16G\", # Amount of memory to use for the driver process, i.e. where SparkContext is initialized\n",
        "          \"spark.kryoserializer.buffer.max\":\"2000M\", # Maximum allowable size of Kryo serialization buffer, in MiB unless otherwise specified.\n",
        "          \"spark.driver.maxResultSize\":\"2000M\"} # Limit of total size of serialized results of all partitions for each Spark action (e.g. collect) in bytes.\n",
        "                                                # Should be at least 1M, or 0 for unlimited.\n",
        "\n",
        "spark = sparknlp_jsl.start(license_keys['SECRET'],params=params)\n",
        "\n",
        "print (\"Spark NLP Version :\", sparknlp.version())\n",
        "print (\"Spark NLP_JSL Version :\", sparknlp_jsl.version())\n",
        "\n",
        "spark"
      ]
    },
    {
      "cell_type": "markdown",
      "metadata": {
        "id": "PeWhvSsHRXsf"
      },
      "source": [
        "## Download and prepare **clinical embeddings**"
      ]
    },
    {
      "cell_type": "code",
      "execution_count": 5,
      "metadata": {
        "colab": {
          "base_uri": "https://localhost:8080/"
        },
        "id": "Ua5dHNeyRWQc",
        "outputId": "435ee827-7070-45c7-c0de-00ca6a2ce8b9"
      },
      "outputs": [
        {
          "output_type": "stream",
          "name": "stdout",
          "text": [
            "embeddings_clinical download started this may take some time.\n",
            "Approximate size to download 1.6 GB\n",
            "[OK!]\n"
          ]
        }
      ],
      "source": [
        "clinical_embeddings = WordEmbeddingsModel.pretrained('embeddings_clinical', \"en\", \"clinical/models\")\\\n",
        "    .setInputCols([\"sentence\", \"token\"])\\\n",
        "    .setOutputCol(\"embeddings\")"
      ]
    },
    {
      "cell_type": "markdown",
      "metadata": {
        "id": "bfT1AaKvOG4J"
      },
      "source": [
        "## **Load** the CoNLL dataset"
      ]
    },
    {
      "cell_type": "code",
      "execution_count": 6,
      "metadata": {
        "id": "KMOycTPUcty7"
      },
      "outputs": [],
      "source": [
        "# You can either upload or download the file conll2003_text_file.conll.\n",
        "!wget -q https://raw.githubusercontent.com/russell-ai/SparkNLP-CustomNER/refs/heads/main/conll2003_text_file.conll -O /content/conll2003_text_file.conll"
      ]
    },
    {
      "cell_type": "code",
      "source": [
        "from sparknlp.training import CoNLL\n",
        "\n",
        "conll_data = CoNLL().readDataset(spark, \"/content/conll2003_text_file.conll\")\n",
        "print(\"Dataset loaded. Number of rows:\", conll_data.count())"
      ],
      "metadata": {
        "colab": {
          "base_uri": "https://localhost:8080/"
        },
        "id": "EJ1GYwGQOP1c",
        "outputId": "b9875dfa-77a8-4f99-8562-e1706353f6d7"
      },
      "execution_count": 8,
      "outputs": [
        {
          "output_type": "stream",
          "name": "stdout",
          "text": [
            "Dataset loaded. Number of rows: 2425\n"
          ]
        }
      ]
    },
    {
      "cell_type": "markdown",
      "source": [
        "## **Split** the dataset into train and test"
      ],
      "metadata": {
        "id": "I-z6BgqrQSAv"
      }
    },
    {
      "cell_type": "code",
      "execution_count": 9,
      "metadata": {
        "colab": {
          "base_uri": "https://localhost:8080/"
        },
        "id": "FetZIfagc-eh",
        "outputId": "491ec10e-ab2d-4932-a23a-816617703d78"
      },
      "outputs": [
        {
          "output_type": "stream",
          "name": "stdout",
          "text": [
            "Train set size: 1975\n",
            "Test set size: 450\n"
          ]
        }
      ],
      "source": [
        "train_data, test_data = conll_data.randomSplit([0.8, 0.2], seed=42)\n",
        "print(\"Train set size:\", train_data.count())\n",
        "print(\"Test set size:\", test_data.count())\n"
      ]
    },
    {
      "cell_type": "code",
      "source": [
        "train_data.show(10)"
      ],
      "metadata": {
        "colab": {
          "base_uri": "https://localhost:8080/"
        },
        "id": "QrkMRioTb81q",
        "outputId": "7eb76965-ab01-4168-fc2a-32b327d0e95a"
      },
      "execution_count": 10,
      "outputs": [
        {
          "output_type": "stream",
          "name": "stdout",
          "text": [
            "+--------------------+--------------------+--------------------+--------------------+--------------------+--------------------+\n",
            "|                text|            document|            sentence|               token|                 pos|               label|\n",
            "+--------------------+--------------------+--------------------+--------------------+--------------------+--------------------+\n",
            "|\" Hemostasis was ...|[{document, 0, 43...|[{document, 0, 43...|[{token, 0, 0, \",...|[{pos, 0, 0, NN, ...|[{named_entity, 0...|\n",
            "|\" It was our inte...|[{document, 0, 12...|[{document, 0, 12...|[{token, 0, 0, \",...|[{pos, 0, 0, NN, ...|[{named_entity, 0...|\n",
            "|( Medical Transcr...|[{document, 0, 83...|[{document, 0, 83...|[{token, 0, 0, (,...|[{pos, 0, 0, NN, ...|[{named_entity, 0...|\n",
            "|( Medical Transcr...|[{document, 0, 63...|[{document, 0, 63...|[{token, 0, 0, (,...|[{pos, 0, 0, NN, ...|[{named_entity, 0...|\n",
            "|( Medical Transcr...|[{document, 0, 90...|[{document, 0, 90...|[{token, 0, 0, (,...|[{pos, 0, 0, NN, ...|[{named_entity, 0...|\n",
            "|( Medical Transcr...|[{document, 0, 99...|[{document, 0, 99...|[{token, 0, 0, (,...|[{pos, 0, 0, NN, ...|[{named_entity, 0...|\n",
            "|( Medical Transcr...|[{document, 0, 24...|[{document, 0, 24...|[{token, 0, 0, (,...|[{pos, 0, 0, NN, ...|[{named_entity, 0...|\n",
            "|( Medical Transcr...|[{document, 0, 25...|[{document, 0, 25...|[{token, 0, 0, (,...|[{pos, 0, 0, NN, ...|[{named_entity, 0...|\n",
            "|( Medical Transcr...|[{document, 0, 12...|[{document, 0, 12...|[{token, 0, 0, (,...|[{pos, 0, 0, NN, ...|[{named_entity, 0...|\n",
            "|( Medical Transcr...|[{document, 0, 12...|[{document, 0, 12...|[{token, 0, 0, (,...|[{pos, 0, 0, NN, ...|[{named_entity, 0...|\n",
            "+--------------------+--------------------+--------------------+--------------------+--------------------+--------------------+\n",
            "only showing top 10 rows\n",
            "\n"
          ]
        }
      ]
    },
    {
      "cell_type": "markdown",
      "source": [
        "## Create TF Graph"
      ],
      "metadata": {
        "id": "-gPDYK9tQzQT"
      }
    },
    {
      "cell_type": "code",
      "execution_count": 13,
      "metadata": {
        "id": "Xn9AfwXOhIAA"
      },
      "outputs": [],
      "source": [
        "!pip install -q tensorflow==2.12.0\n",
        "!pip install -q tensorflow-addons"
      ]
    },
    {
      "cell_type": "code",
      "execution_count": 14,
      "metadata": {
        "id": "jp7luV4-wRsc"
      },
      "outputs": [],
      "source": [
        "from sparknlp_jsl.annotator import TFGraphBuilder"
      ]
    },
    {
      "cell_type": "code",
      "source": [
        "graph_folder_path = \"medical_ner_graphs\"\n",
        "ner_graph_builder = TFGraphBuilder()\\\n",
        "    .setModelName(\"ner_dl\")\\\n",
        "    .setInputCols([\"sentence\", \"token\", \"embeddings\"]) \\\n",
        "    .setLabelColumn(\"label\")\\\n",
        "    .setGraphFolder(graph_folder_path)\\\n",
        "    .setGraphFile(\"auto\")\\\n",
        "    .setHiddenUnitsNumber(24)\\\n",
        "    .setIsLicensed(True)"
      ],
      "metadata": {
        "id": "rL9b4OPFb_OC"
      },
      "execution_count": 15,
      "outputs": []
    },
    {
      "cell_type": "markdown",
      "metadata": {
        "id": "PT5pF7V7R69G"
      },
      "source": [
        "## Define NER tagger"
      ]
    },
    {
      "cell_type": "code",
      "source": [
        "nerTagger = MedicalNerApproach()\\\n",
        "    .setInputCols([\"sentence\", \"token\", \"embeddings\"])\\\n",
        "    .setLabelColumn(\"label\")\\\n",
        "    .setOutputCol(\"ner\")\\\n",
        "    .setMaxEpochs(30)\\\n",
        "    .setLr(0.003)\\\n",
        "    .setBatchSize(8)\\\n",
        "    .setRandomSeed(42)\\\n",
        "    .setVerbose(1)\\\n",
        "    .setEvaluationLogExtended(True) \\\n",
        "    .setEnableOutputLogs(True)\\\n",
        "    .setIncludeConfidence(True)\\\n",
        "    .setValidationSplit(0.2)\\\n",
        "    .setGraphFolder(graph_folder_path)\\\n",
        "    .setOutputLogsPath(\"./ner_logs\")\\\n",
        "    .setUseBestModel(True)\\\n",
        "    .setEarlyStoppingCriterion(0.001)\\\n",
        "    .setEarlyStoppingPatience(3)"
      ],
      "metadata": {
        "id": "Xz8o233RSBbe"
      },
      "execution_count": 16,
      "outputs": []
    },
    {
      "cell_type": "markdown",
      "source": [
        "## Create pipeline"
      ],
      "metadata": {
        "id": "hwy6OSFNSVKu"
      }
    },
    {
      "cell_type": "code",
      "source": [
        "ner_pipeline = Pipeline(stages=[\n",
        "    clinical_embeddings,\n",
        "    ner_graph_builder,\n",
        "    nerTagger\n",
        "])"
      ],
      "metadata": {
        "id": "pUH_NhcOSUOS"
      },
      "execution_count": 17,
      "outputs": []
    },
    {
      "cell_type": "markdown",
      "source": [
        "## Train the model"
      ],
      "metadata": {
        "id": "c_yN9GZl6P9k"
      }
    },
    {
      "cell_type": "code",
      "execution_count": 18,
      "metadata": {
        "colab": {
          "base_uri": "https://localhost:8080/"
        },
        "id": "u5Phv3rFSBR_",
        "outputId": "9a31cd34-b9b7-4e94-a53c-f1b86a2b61b4",
        "collapsed": true
      },
      "outputs": [
        {
          "output_type": "stream",
          "name": "stdout",
          "text": [
            "Starting model training...\n",
            "TF Graph Builder configuration:\n",
            "Model name: ner_dl\n",
            "Graph folder: medical_ner_graphs\n",
            "Graph file name: auto\n",
            "Build params: {'ntags': 13, 'embeddings_dim': 200, 'nchars': 78, 'is_medical': True, 'lstm_size': 24}\n"
          ]
        },
        {
          "output_type": "stream",
          "name": "stderr",
          "text": [
            "WARNING:tensorflow:From /usr/local/lib/python3.10/dist-packages/tensorflow/python/compat/v2_compat.py:107: disable_resource_variables (from tensorflow.python.ops.variable_scope) is deprecated and will be removed in a future version.\n",
            "Instructions for updating:\n",
            "non-resource variables are not supported in the long term\n",
            "WARNING:tensorflow:From /usr/local/lib/python3.10/dist-packages/tensorflow/python/ops/init_ops.py:93: calling GlorotUniform.__init__ (from tensorflow.python.ops.init_ops) with dtype is deprecated and will be removed in a future version.\n",
            "Instructions for updating:\n",
            "Call initializer instance with the dtype argument instead of passing it to the constructor\n",
            "WARNING:tensorflow:From /usr/local/lib/python3.10/dist-packages/tensorflow/python/ops/init_ops.py:93: calling Orthogonal.__init__ (from tensorflow.python.ops.init_ops) with dtype is deprecated and will be removed in a future version.\n",
            "Instructions for updating:\n",
            "Call initializer instance with the dtype argument instead of passing it to the constructor\n",
            "WARNING:tensorflow:From /usr/local/lib/python3.10/dist-packages/tensorflow/python/ops/init_ops.py:93: calling Zeros.__init__ (from tensorflow.python.ops.init_ops) with dtype is deprecated and will be removed in a future version.\n",
            "Instructions for updating:\n",
            "Call initializer instance with the dtype argument instead of passing it to the constructor\n"
          ]
        },
        {
          "output_type": "stream",
          "name": "stdout",
          "text": [
            "ner_dl graph exported to medical_ner_graphs/blstm_13_200_24_78.pb\n",
            "Model training completed.\n",
            "CPU times: user 16.7 s, sys: 1.22 s, total: 17.9 s\n",
            "Wall time: 7min 9s\n"
          ]
        }
      ],
      "source": [
        "%%time\n",
        "print(\"Starting model training...\")\n",
        "ner_model = ner_pipeline.fit(train_data)\n",
        "print(\"Model training completed.\")"
      ]
    },
    {
      "cell_type": "markdown",
      "source": [
        "### Training Logs"
      ],
      "metadata": {
        "id": "cn96kvKT6dvf"
      }
    },
    {
      "cell_type": "code",
      "execution_count": 19,
      "metadata": {
        "colab": {
          "base_uri": "https://localhost:8080/"
        },
        "id": "VYc5M2JHNTrQ",
        "outputId": "28f953ec-41d1-44d7-b3c0-b298c1d89a5e"
      },
      "outputs": [
        {
          "output_type": "stream",
          "name": "stdout",
          "text": [
            "ner_logs/MedicalNerApproach_56ee0db652c7.log\n"
          ]
        }
      ],
      "source": [
        "!ls ner_logs/MedicalNerApproach*"
      ]
    },
    {
      "cell_type": "code",
      "execution_count": 20,
      "metadata": {
        "colab": {
          "base_uri": "https://localhost:8080/"
        },
        "id": "sPZ2tmHFSBUy",
        "outputId": "e4e23b3b-6ac6-4e5f-8f5b-c4fd459b9baf"
      },
      "outputs": [
        {
          "output_type": "stream",
          "name": "stdout",
          "text": [
            "Name of the selected graph: /content/medical_ner_graphs/blstm_13_200_24_78.pb\n",
            "Training started - total epochs: 30 - lr: 0.003 - batch size: 8 - labels: 13 - chars: 77 - training examples: 1975\n",
            "\n",
            "\n",
            "Epoch 1/30 started, lr: 0.003, dataset size: 1975\n",
            "\n",
            "\n",
            "Epoch 1/30 - 21.31s - loss: 2646.0015 - avg training loss: 13.1641865 - batches: 201\n",
            "Quality on validation dataset (20.0%), validation examples = 395\n",
            "time to finish evaluation: 1.79s\n",
            "Total validation loss: 311.6654\tAvg validation loss: 6.2333\n",
            "label\t tp\t fp\t fn\t prec\t rec\t f1\n",
            "B-DRUG\t 42\t 20\t 21\t 0.67741936\t 0.6666667\t 0.672\n",
            "I-NAME\t 0\t 0\t 1\t 0.0\t 0.0\t 0.0\n",
            "I-TREATMENT\t 87\t 58\t 74\t 0.6\t 0.54037267\t 0.5686274\n",
            "B-DATE\t 0\t 0\t 20\t 0.0\t 0.0\t 0.0\n",
            "I-DATE\t 0\t 0\t 8\t 0.0\t 0.0\t 0.0\n",
            "I-PROBLEM\t 357\t 145\t 100\t 0.71115535\t 0.78118163\t 0.74452555\n",
            "B-NAME\t 0\t 0\t 4\t 0.0\t 0.0\t 0.0\n",
            "B-PROBLEM\t 209\t 80\t 84\t 0.7231834\t 0.7133106\t 0.718213\n",
            "I-TEST\t 31\t 7\t 69\t 0.81578946\t 0.31\t 0.44927537\n",
            "B-TEST\t 16\t 5\t 79\t 0.7619048\t 0.16842106\t 0.27586207\n",
            "B-TREATMENT\t 54\t 48\t 73\t 0.5294118\t 0.42519686\t 0.4716157\n",
            "I-DRUG\t 0\t 1\t 25\t 0.0\t 0.0\t 0.0\n",
            "tp: 796 fp: 364 fn: 558 labels: 12\n",
            "Macro-average\t prec: 0.40157202, rec: 0.3004291, f1: 0.34371433\n",
            "Micro-average\t prec: 0.6862069, rec: 0.58788776, f1: 0.6332538\n",
            "\n",
            "\n",
            "Epoch 2/30 started, lr: 0.0029850747, dataset size: 1975\n",
            "\n",
            "\n",
            "Epoch 2/30 - 20.51s - loss: 1488.4817 - avg training loss: 7.4053817 - batches: 201\n",
            "Quality on validation dataset (20.0%), validation examples = 395\n",
            "time to finish evaluation: 0.96s\n",
            "Total validation loss: 192.7022\tAvg validation loss: 3.8540\n",
            "label\t tp\t fp\t fn\t prec\t rec\t f1\n",
            "B-DRUG\t 48\t 13\t 15\t 0.78688526\t 0.7619048\t 0.7741936\n",
            "I-NAME\t 0\t 0\t 1\t 0.0\t 0.0\t 0.0\n",
            "I-TREATMENT\t 96\t 33\t 65\t 0.74418604\t 0.5962733\t 0.66206896\n",
            "B-DATE\t 11\t 2\t 9\t 0.84615386\t 0.55\t 0.6666666\n",
            "I-DATE\t 0\t 0\t 8\t 0.0\t 0.0\t 0.0\n",
            "I-PROBLEM\t 360\t 77\t 97\t 0.82379866\t 0.7877462\t 0.80536914\n",
            "B-NAME\t 0\t 0\t 4\t 0.0\t 0.0\t 0.0\n",
            "B-PROBLEM\t 224\t 58\t 69\t 0.79432625\t 0.76450515\t 0.7791304\n",
            "I-TEST\t 51\t 13\t 49\t 0.796875\t 0.51\t 0.6219512\n",
            "B-TEST\t 36\t 2\t 59\t 0.94736844\t 0.37894738\t 0.5413534\n",
            "B-TREATMENT\t 66\t 26\t 61\t 0.7173913\t 0.51968503\t 0.60273975\n",
            "I-DRUG\t 13\t 10\t 12\t 0.5652174\t 0.52\t 0.5416667\n",
            "tp: 905 fp: 234 fn: 449 labels: 12\n",
            "Macro-average\t prec: 0.58518356, rec: 0.44908845, f1: 0.5081819\n",
            "Micro-average\t prec: 0.7945566, rec: 0.66839, f1: 0.7260329\n",
            "\n",
            "\n",
            "Epoch 3/30 started, lr: 0.0029702971, dataset size: 1975\n",
            "\n",
            "\n",
            "Epoch 3/30 - 18.74s - loss: 1078.9657 - avg training loss: 5.3679886 - batches: 201\n",
            "Quality on validation dataset (20.0%), validation examples = 395\n",
            "time to finish evaluation: 1.26s\n",
            "Total validation loss: 167.3999\tAvg validation loss: 3.3480\n",
            "label\t tp\t fp\t fn\t prec\t rec\t f1\n",
            "B-DRUG\t 48\t 12\t 15\t 0.8\t 0.7619048\t 0.78048784\n",
            "I-NAME\t 0\t 0\t 1\t 0.0\t 0.0\t 0.0\n",
            "I-TREATMENT\t 115\t 37\t 46\t 0.7565789\t 0.71428573\t 0.7348243\n",
            "B-DATE\t 12\t 2\t 8\t 0.85714287\t 0.6\t 0.70588243\n",
            "I-DATE\t 2\t 0\t 6\t 1.0\t 0.25\t 0.4\n",
            "I-PROBLEM\t 330\t 45\t 127\t 0.88\t 0.7221007\t 0.7932693\n",
            "B-NAME\t 0\t 0\t 4\t 0.0\t 0.0\t 0.0\n",
            "B-PROBLEM\t 228\t 41\t 65\t 0.84758365\t 0.778157\t 0.81138796\n",
            "I-TEST\t 55\t 13\t 45\t 0.8088235\t 0.55\t 0.6547619\n",
            "B-TEST\t 60\t 10\t 35\t 0.85714287\t 0.6315789\t 0.7272726\n",
            "B-TREATMENT\t 88\t 40\t 39\t 0.6875\t 0.6929134\t 0.6901961\n",
            "I-DRUG\t 13\t 8\t 12\t 0.61904764\t 0.52\t 0.5652174\n",
            "tp: 951 fp: 208 fn: 403 labels: 12\n",
            "Macro-average\t prec: 0.6761516, rec: 0.5184117, f1: 0.586867\n",
            "Micro-average\t prec: 0.82053494, rec: 0.7023634, f1: 0.7568643\n",
            "\n",
            "\n",
            "Epoch 4/30 started, lr: 0.002955665, dataset size: 1975\n",
            "\n",
            "\n",
            "Epoch 4/30 - 19.37s - loss: 867.8418 - avg training loss: 4.3176208 - batches: 201\n",
            "Quality on validation dataset (20.0%), validation examples = 395\n",
            "time to finish evaluation: 0.79s\n",
            "Total validation loss: 131.1596\tAvg validation loss: 2.6232\n",
            "label\t tp\t fp\t fn\t prec\t rec\t f1\n",
            "B-DRUG\t 48\t 9\t 15\t 0.84210527\t 0.7619048\t 0.79999995\n",
            "I-NAME\t 0\t 0\t 1\t 0.0\t 0.0\t 0.0\n",
            "I-TREATMENT\t 111\t 15\t 50\t 0.88095236\t 0.68944097\t 0.77351916\n",
            "B-DATE\t 20\t 2\t 0\t 0.90909094\t 1.0\t 0.95238096\n",
            "I-DATE\t 2\t 0\t 6\t 1.0\t 0.25\t 0.4\n",
            "I-PROBLEM\t 377\t 56\t 80\t 0.8706697\t 0.8249453\t 0.847191\n",
            "B-NAME\t 0\t 0\t 4\t 0.0\t 0.0\t 0.0\n",
            "B-PROBLEM\t 252\t 48\t 41\t 0.84\t 0.86006826\t 0.8499156\n",
            "I-TEST\t 66\t 12\t 34\t 0.84615386\t 0.66\t 0.74157304\n",
            "B-TEST\t 77\t 17\t 18\t 0.81914896\t 0.8105263\t 0.81481487\n",
            "B-TREATMENT\t 78\t 20\t 49\t 0.79591835\t 0.61417323\t 0.6933333\n",
            "I-DRUG\t 15\t 6\t 10\t 0.71428573\t 0.6\t 0.65217394\n",
            "tp: 1046 fp: 185 fn: 308 labels: 12\n",
            "Macro-average\t prec: 0.7098604, rec: 0.5892549, f1: 0.64395934\n",
            "Micro-average\t prec: 0.84971565, rec: 0.77252585, f1: 0.8092843\n",
            "\n",
            "\n",
            "Epoch 5/30 started, lr: 0.0029411765, dataset size: 1975\n",
            "\n",
            "\n",
            "Epoch 5/30 - 18.05s - loss: 769.4441 - avg training loss: 3.8280802 - batches: 201\n",
            "Quality on validation dataset (20.0%), validation examples = 395\n",
            "time to finish evaluation: 1.36s\n",
            "Total validation loss: 121.7736\tAvg validation loss: 2.4355\n",
            "label\t tp\t fp\t fn\t prec\t rec\t f1\n",
            "B-DRUG\t 53\t 8\t 10\t 0.86885244\t 0.84126985\t 0.8548387\n",
            "I-NAME\t 0\t 0\t 1\t 0.0\t 0.0\t 0.0\n",
            "I-TREATMENT\t 104\t 25\t 57\t 0.8062016\t 0.6459627\t 0.71724135\n",
            "B-DATE\t 18\t 2\t 2\t 0.9\t 0.9\t 0.9\n",
            "I-DATE\t 2\t 0\t 6\t 1.0\t 0.25\t 0.4\n",
            "I-PROBLEM\t 375\t 64\t 82\t 0.85421413\t 0.8205689\t 0.8370536\n",
            "B-NAME\t 0\t 0\t 4\t 0.0\t 0.0\t 0.0\n",
            "B-PROBLEM\t 253\t 52\t 40\t 0.8295082\t 0.8634812\t 0.84615386\n",
            "I-TEST\t 79\t 24\t 21\t 0.7669903\t 0.79\t 0.7783251\n",
            "B-TEST\t 81\t 26\t 14\t 0.7570093\t 0.85263157\t 0.8019802\n",
            "B-TREATMENT\t 86\t 25\t 41\t 0.7747748\t 0.6771653\t 0.7226891\n",
            "I-DRUG\t 16\t 5\t 9\t 0.7619048\t 0.64\t 0.6956521\n",
            "tp: 1067 fp: 231 fn: 287 labels: 12\n",
            "Macro-average\t prec: 0.693288, rec: 0.6067566, f1: 0.6471425\n",
            "Micro-average\t prec: 0.8220339, rec: 0.78803545, f1: 0.80467576\n",
            "\n",
            "\n",
            "Epoch 6/30 started, lr: 0.0029268293, dataset size: 1975\n",
            "\n",
            "\n",
            "Epoch 6/30 - 18.87s - loss: 673.9932 - avg training loss: 3.3532002 - batches: 201\n",
            "Quality on validation dataset (20.0%), validation examples = 395\n",
            "time to finish evaluation: 0.69s\n",
            "Total validation loss: 103.6541\tAvg validation loss: 2.0731\n",
            "label\t tp\t fp\t fn\t prec\t rec\t f1\n",
            "B-DRUG\t 54\t 8\t 9\t 0.87096775\t 0.85714287\t 0.864\n",
            "I-NAME\t 0\t 0\t 1\t 0.0\t 0.0\t 0.0\n",
            "I-TREATMENT\t 116\t 22\t 45\t 0.8405797\t 0.7204969\t 0.7759197\n",
            "B-DATE\t 20\t 3\t 0\t 0.8695652\t 1.0\t 0.9302325\n",
            "I-DATE\t 3\t 1\t 5\t 0.75\t 0.375\t 0.5\n",
            "I-PROBLEM\t 372\t 36\t 85\t 0.9117647\t 0.81400436\t 0.8601156\n",
            "B-NAME\t 0\t 0\t 4\t 0.0\t 0.0\t 0.0\n",
            "B-PROBLEM\t 261\t 44\t 32\t 0.8557377\t 0.890785\t 0.87290967\n",
            "I-TEST\t 81\t 22\t 19\t 0.78640777\t 0.81\t 0.7980296\n",
            "B-TEST\t 86\t 30\t 9\t 0.7413793\t 0.9052632\t 0.81516594\n",
            "B-TREATMENT\t 95\t 24\t 32\t 0.79831934\t 0.7480315\t 0.77235776\n",
            "I-DRUG\t 16\t 8\t 9\t 0.6666667\t 0.64\t 0.6530613\n",
            "tp: 1104 fp: 198 fn: 250 labels: 12\n",
            "Macro-average\t prec: 0.6742824, rec: 0.64672697, f1: 0.6602172\n",
            "Micro-average\t prec: 0.84792626, rec: 0.8153619, f1: 0.83132535\n",
            "\n",
            "\n",
            "Epoch 7/30 started, lr: 0.0029126215, dataset size: 1975\n",
            "\n",
            "\n",
            "Epoch 7/30 - 17.70s - loss: 608.45807 - avg training loss: 3.0271547 - batches: 201\n",
            "Quality on validation dataset (20.0%), validation examples = 395\n",
            "time to finish evaluation: 1.07s\n",
            "Total validation loss: 96.2057\tAvg validation loss: 1.9241\n",
            "label\t tp\t fp\t fn\t prec\t rec\t f1\n",
            "B-DRUG\t 51\t 10\t 12\t 0.8360656\t 0.8095238\t 0.8225807\n",
            "I-NAME\t 0\t 0\t 1\t 0.0\t 0.0\t 0.0\n",
            "I-TREATMENT\t 132\t 41\t 29\t 0.7630058\t 0.8198758\t 0.79041916\n",
            "B-DATE\t 18\t 2\t 2\t 0.9\t 0.9\t 0.9\n",
            "I-DATE\t 2\t 0\t 6\t 1.0\t 0.25\t 0.4\n",
            "I-PROBLEM\t 386\t 51\t 71\t 0.8832952\t 0.84463894\t 0.8635346\n",
            "B-NAME\t 0\t 0\t 4\t 0.0\t 0.0\t 0.0\n",
            "B-PROBLEM\t 258\t 36\t 35\t 0.877551\t 0.8805461\t 0.87904596\n",
            "I-TEST\t 74\t 11\t 26\t 0.87058824\t 0.74\t 0.8\n",
            "B-TEST\t 81\t 16\t 14\t 0.83505154\t 0.85263157\t 0.84375\n",
            "B-TREATMENT\t 101\t 39\t 26\t 0.7214286\t 0.79527557\t 0.7565543\n",
            "I-DRUG\t 14\t 5\t 11\t 0.7368421\t 0.56\t 0.6363636\n",
            "tp: 1117 fp: 211 fn: 237 labels: 12\n",
            "Macro-average\t prec: 0.70198566, rec: 0.62104094, f1: 0.6590371\n",
            "Micro-average\t prec: 0.84111446, rec: 0.8249631, f1: 0.8329604\n",
            "\n",
            "\n",
            "Epoch 8/30 started, lr: 0.0028985508, dataset size: 1975\n",
            "\n",
            "\n",
            "Epoch 8/30 - 17.64s - loss: 549.8809 - avg training loss: 2.7357259 - batches: 201\n",
            "Quality on validation dataset (20.0%), validation examples = 395\n",
            "time to finish evaluation: 0.65s\n",
            "Total validation loss: 92.2155\tAvg validation loss: 1.8443\n",
            "label\t tp\t fp\t fn\t prec\t rec\t f1\n",
            "B-DRUG\t 54\t 9\t 9\t 0.85714287\t 0.85714287\t 0.85714287\n",
            "I-NAME\t 0\t 0\t 1\t 0.0\t 0.0\t 0.0\n",
            "I-TREATMENT\t 124\t 23\t 37\t 0.8435374\t 0.77018636\t 0.8051948\n",
            "B-DATE\t 18\t 3\t 2\t 0.85714287\t 0.9\t 0.87804884\n",
            "I-DATE\t 2\t 0\t 6\t 1.0\t 0.25\t 0.4\n",
            "I-PROBLEM\t 391\t 65\t 66\t 0.85745615\t 0.85557985\t 0.85651696\n",
            "B-NAME\t 0\t 0\t 4\t 0.0\t 0.0\t 0.0\n",
            "B-PROBLEM\t 259\t 40\t 34\t 0.8662207\t 0.88395905\t 0.87499994\n",
            "I-TEST\t 77\t 8\t 23\t 0.90588236\t 0.77\t 0.8324324\n",
            "B-TEST\t 83\t 12\t 12\t 0.8736842\t 0.8736842\t 0.8736842\n",
            "B-TREATMENT\t 97\t 28\t 30\t 0.776\t 0.7637795\t 0.76984125\n",
            "I-DRUG\t 16\t 5\t 9\t 0.7619048\t 0.64\t 0.6956521\n",
            "tp: 1121 fp: 193 fn: 233 labels: 12\n",
            "Macro-average\t prec: 0.7165809, rec: 0.630361, f1: 0.67071146\n",
            "Micro-average\t prec: 0.85312027, rec: 0.8279173, f1: 0.8403298\n",
            "\n",
            "\n",
            "Epoch 9/30 started, lr: 0.0028846154, dataset size: 1975\n",
            "\n",
            "\n",
            "Epoch 9/30 - 18.21s - loss: 509.83243 - avg training loss: 2.5364797 - batches: 201\n",
            "Quality on validation dataset (20.0%), validation examples = 395\n",
            "time to finish evaluation: 0.64s\n",
            "Total validation loss: 90.6181\tAvg validation loss: 1.8124\n",
            "label\t tp\t fp\t fn\t prec\t rec\t f1\n",
            "B-DRUG\t 52\t 7\t 11\t 0.88135594\t 0.82539684\t 0.8524591\n",
            "I-NAME\t 0\t 0\t 1\t 0.0\t 0.0\t 0.0\n",
            "I-TREATMENT\t 123\t 30\t 38\t 0.8039216\t 0.76397514\t 0.78343946\n",
            "B-DATE\t 19\t 0\t 1\t 1.0\t 0.95\t 0.9743589\n",
            "I-DATE\t 8\t 0\t 0\t 1.0\t 1.0\t 1.0\n",
            "I-PROBLEM\t 370\t 39\t 87\t 0.9046455\t 0.809628\t 0.8545035\n",
            "B-NAME\t 0\t 0\t 4\t 0.0\t 0.0\t 0.0\n",
            "B-PROBLEM\t 251\t 35\t 42\t 0.87762237\t 0.8566553\t 0.8670121\n",
            "I-TEST\t 86\t 33\t 14\t 0.7226891\t 0.86\t 0.7853882\n",
            "B-TEST\t 88\t 28\t 7\t 0.7586207\t 0.9263158\t 0.8341232\n",
            "B-TREATMENT\t 100\t 27\t 27\t 0.78740156\t 0.78740156\t 0.78740156\n",
            "I-DRUG\t 16\t 8\t 9\t 0.6666667\t 0.64\t 0.6530613\n",
            "tp: 1113 fp: 207 fn: 241 labels: 12\n",
            "Macro-average\t prec: 0.70024365, rec: 0.7016144, f1: 0.70092833\n",
            "Micro-average\t prec: 0.8431818, rec: 0.82200885, f1: 0.8324607\n",
            "\n",
            "\n",
            "Epoch 10/30 started, lr: 0.0028708135, dataset size: 1975\n",
            "\n",
            "\n",
            "Epoch 10/30 - 18.85s - loss: 488.5639 - avg training loss: 2.4306662 - batches: 201\n",
            "Quality on validation dataset (20.0%), validation examples = 395\n",
            "time to finish evaluation: 0.93s\n",
            "Total validation loss: 99.3815\tAvg validation loss: 1.9876\n",
            "label\t tp\t fp\t fn\t prec\t rec\t f1\n",
            "B-DRUG\t 50\t 8\t 13\t 0.86206895\t 0.7936508\t 0.82644624\n",
            "I-NAME\t 0\t 0\t 1\t 0.0\t 0.0\t 0.0\n",
            "I-TREATMENT\t 130\t 43\t 31\t 0.7514451\t 0.8074534\t 0.77844316\n",
            "B-DATE\t 18\t 1\t 2\t 0.94736844\t 0.9\t 0.92307687\n",
            "I-DATE\t 8\t 6\t 0\t 0.5714286\t 1.0\t 0.72727275\n",
            "I-PROBLEM\t 419\t 157\t 38\t 0.7274306\t 0.916849\t 0.81122947\n",
            "B-NAME\t 0\t 0\t 4\t 0.0\t 0.0\t 0.0\n",
            "B-PROBLEM\t 260\t 44\t 33\t 0.8552632\t 0.887372\t 0.87102175\n",
            "I-TEST\t 85\t 22\t 15\t 0.7943925\t 0.85\t 0.8212561\n",
            "B-TEST\t 88\t 18\t 7\t 0.8301887\t 0.9263158\t 0.87562186\n",
            "B-TREATMENT\t 99\t 26\t 28\t 0.792\t 0.77952754\t 0.78571427\n",
            "I-DRUG\t 15\t 8\t 10\t 0.65217394\t 0.6\t 0.62500006\n",
            "tp: 1172 fp: 333 fn: 182 labels: 12\n",
            "Macro-average\t prec: 0.64864665, rec: 0.70509744, f1: 0.6756951\n",
            "Micro-average\t prec: 0.77873755, rec: 0.8655835, f1: 0.81986713\n",
            "\n",
            "\n",
            "Epoch 11/30 started, lr: 0.002857143, dataset size: 1975\n",
            "\n",
            "\n",
            "Epoch 11/30 - 16.11s - loss: 461.77026 - avg training loss: 2.2973645 - batches: 201\n",
            "Quality on validation dataset (20.0%), validation examples = 395\n",
            "time to finish evaluation: 0.66s\n",
            "Total validation loss: 90.4990\tAvg validation loss: 1.8100\n",
            "label\t tp\t fp\t fn\t prec\t rec\t f1\n",
            "B-DRUG\t 52\t 8\t 11\t 0.8666667\t 0.82539684\t 0.8455285\n",
            "I-NAME\t 0\t 0\t 1\t 0.0\t 0.0\t 0.0\n",
            "I-TREATMENT\t 115\t 37\t 46\t 0.7565789\t 0.71428573\t 0.7348243\n",
            "B-DATE\t 17\t 1\t 3\t 0.9444444\t 0.85\t 0.8947368\n",
            "I-DATE\t 8\t 7\t 0\t 0.53333336\t 1.0\t 0.69565225\n",
            "I-PROBLEM\t 379\t 44\t 78\t 0.8959811\t 0.8293217\t 0.86136365\n",
            "B-NAME\t 0\t 0\t 4\t 0.0\t 0.0\t 0.0\n",
            "B-PROBLEM\t 265\t 49\t 28\t 0.843949\t 0.9044369\t 0.87314665\n",
            "I-TEST\t 75\t 23\t 25\t 0.7653061\t 0.75\t 0.7575758\n",
            "B-TEST\t 85\t 22\t 10\t 0.7943925\t 0.8947368\t 0.8415842\n",
            "B-TREATMENT\t 101\t 41\t 26\t 0.7112676\t 0.79527557\t 0.75092936\n",
            "I-DRUG\t 16\t 9\t 9\t 0.64\t 0.64\t 0.64\n",
            "tp: 1113 fp: 241 fn: 241 labels: 12\n",
            "Macro-average\t prec: 0.6459933, rec: 0.68362117, f1: 0.6642748\n",
            "Micro-average\t prec: 0.82200885, rec: 0.82200885, f1: 0.8220088\n",
            "\n",
            "\n",
            "Epoch 12/30 started, lr: 0.002843602, dataset size: 1975\n",
            "\n",
            "\n",
            "Epoch 12/30 - 15.84s - loss: 429.41418 - avg training loss: 2.136389 - batches: 201\n",
            "Quality on validation dataset (20.0%), validation examples = 395\n",
            "time to finish evaluation: 0.72s\n",
            "Total validation loss: 87.4269\tAvg validation loss: 1.7485\n",
            "label\t tp\t fp\t fn\t prec\t rec\t f1\n",
            "B-DRUG\t 54\t 8\t 9\t 0.87096775\t 0.85714287\t 0.864\n",
            "I-NAME\t 0\t 0\t 1\t 0.0\t 0.0\t 0.0\n",
            "I-TREATMENT\t 130\t 49\t 31\t 0.72625697\t 0.8074534\t 0.76470584\n",
            "B-DATE\t 20\t 3\t 0\t 0.8695652\t 1.0\t 0.9302325\n",
            "I-DATE\t 5\t 0\t 3\t 1.0\t 0.625\t 0.7692308\n",
            "I-PROBLEM\t 385\t 48\t 72\t 0.8891455\t 0.84245074\t 0.8651685\n",
            "B-NAME\t 0\t 0\t 4\t 0.0\t 0.0\t 0.0\n",
            "B-PROBLEM\t 254\t 24\t 39\t 0.91366905\t 0.8668942\t 0.8896673\n",
            "I-TEST\t 72\t 16\t 28\t 0.8181818\t 0.72\t 0.76595753\n",
            "B-TEST\t 85\t 14\t 10\t 0.85858583\t 0.8947368\t 0.8762887\n",
            "B-TREATMENT\t 105\t 49\t 22\t 0.6818182\t 0.8267717\t 0.74733096\n",
            "I-DRUG\t 17\t 7\t 8\t 0.7083333\t 0.68\t 0.6938775\n",
            "tp: 1127 fp: 218 fn: 227 labels: 12\n",
            "Macro-average\t prec: 0.6947103, rec: 0.67670417, f1: 0.6855891\n",
            "Micro-average\t prec: 0.8379182, rec: 0.8323486, f1: 0.8351241\n",
            "\n",
            "\n",
            "Epoch 13/30 started, lr: 0.002830189, dataset size: 1975\n",
            "\n",
            "\n",
            "Epoch 13/30 - 16.14s - loss: 421.14133 - avg training loss: 2.0952306 - batches: 201\n",
            "Quality on validation dataset (20.0%), validation examples = 395\n",
            "time to finish evaluation: 0.68s\n",
            "Total validation loss: 88.9001\tAvg validation loss: 1.7780\n",
            "label\t tp\t fp\t fn\t prec\t rec\t f1\n",
            "B-DRUG\t 49\t 4\t 14\t 0.9245283\t 0.7777778\t 0.84482765\n",
            "I-NAME\t 0\t 0\t 1\t 0.0\t 0.0\t 0.0\n",
            "I-TREATMENT\t 133\t 46\t 28\t 0.7430168\t 0.82608694\t 0.782353\n",
            "B-DATE\t 17\t 1\t 3\t 0.9444444\t 0.85\t 0.8947368\n",
            "I-DATE\t 8\t 6\t 0\t 0.5714286\t 1.0\t 0.72727275\n",
            "I-PROBLEM\t 396\t 67\t 61\t 0.8552916\t 0.86652076\t 0.8608695\n",
            "B-NAME\t 0\t 0\t 4\t 0.0\t 0.0\t 0.0\n",
            "B-PROBLEM\t 265\t 47\t 28\t 0.849359\t 0.9044369\t 0.87603307\n",
            "I-TEST\t 83\t 19\t 17\t 0.8137255\t 0.83\t 0.82178223\n",
            "B-TEST\t 89\t 18\t 6\t 0.8317757\t 0.9368421\t 0.8811881\n",
            "B-TREATMENT\t 103\t 39\t 24\t 0.7253521\t 0.8110236\t 0.7657992\n",
            "I-DRUG\t 16\t 6\t 9\t 0.72727275\t 0.64\t 0.68085104\n",
            "tp: 1159 fp: 253 fn: 195 labels: 12\n",
            "Macro-average\t prec: 0.6655162, rec: 0.7035573, f1: 0.68400824\n",
            "Micro-average\t prec: 0.8208215, rec: 0.8559823, f1: 0.83803326\n",
            "\n",
            "\n",
            "Epoch 14/30 started, lr: 0.0028169013, dataset size: 1975\n",
            "\n",
            "\n",
            "Epoch 14/30 - 17.40s - loss: 407.48157 - avg training loss: 2.0272715 - batches: 201\n",
            "Quality on validation dataset (20.0%), validation examples = 395\n",
            "time to finish evaluation: 0.67s\n",
            "Total validation loss: 82.7749\tAvg validation loss: 1.6555\n",
            "label\t tp\t fp\t fn\t prec\t rec\t f1\n",
            "B-DRUG\t 51\t 8\t 12\t 0.86440676\t 0.8095238\t 0.83606553\n",
            "I-NAME\t 0\t 0\t 1\t 0.0\t 0.0\t 0.0\n",
            "I-TREATMENT\t 135\t 55\t 26\t 0.7105263\t 0.8385093\t 0.7692308\n",
            "B-DATE\t 18\t 1\t 2\t 0.94736844\t 0.9\t 0.92307687\n",
            "I-DATE\t 8\t 5\t 0\t 0.61538464\t 1.0\t 0.76190484\n",
            "I-PROBLEM\t 385\t 53\t 72\t 0.8789954\t 0.84245074\t 0.8603352\n",
            "B-NAME\t 0\t 0\t 4\t 0.0\t 0.0\t 0.0\n",
            "B-PROBLEM\t 254\t 28\t 39\t 0.9007092\t 0.8668942\t 0.8834783\n",
            "I-TEST\t 85\t 29\t 15\t 0.74561405\t 0.85\t 0.7943925\n",
            "B-TEST\t 89\t 18\t 6\t 0.8317757\t 0.9368421\t 0.8811881\n",
            "B-TREATMENT\t 102\t 33\t 25\t 0.75555557\t 0.8031496\t 0.778626\n",
            "I-DRUG\t 17\t 10\t 8\t 0.6296296\t 0.68\t 0.65384614\n",
            "tp: 1144 fp: 240 fn: 210 labels: 12\n",
            "Macro-average\t prec: 0.65666384, rec: 0.71061414, f1: 0.68257457\n",
            "Micro-average\t prec: 0.8265896, rec: 0.844904, f1: 0.8356465\n",
            "\n",
            "\n",
            "Epoch 15/30 started, lr: 0.0028037382, dataset size: 1975\n",
            "\n",
            "\n",
            "Epoch 15/30 - 15.29s - loss: 401.27365 - avg training loss: 1.9963863 - batches: 201\n",
            "Quality on validation dataset (20.0%), validation examples = 395\n",
            "time to finish evaluation: 1.14s\n",
            "Total validation loss: 79.2198\tAvg validation loss: 1.5844\n",
            "label\t tp\t fp\t fn\t prec\t rec\t f1\n",
            "B-DRUG\t 52\t 6\t 11\t 0.8965517\t 0.82539684\t 0.8595041\n",
            "I-NAME\t 0\t 0\t 1\t 0.0\t 0.0\t 0.0\n",
            "I-TREATMENT\t 127\t 38\t 34\t 0.76969695\t 0.78881985\t 0.7791411\n",
            "B-DATE\t 17\t 0\t 3\t 1.0\t 0.85\t 0.9189189\n",
            "I-DATE\t 8\t 0\t 0\t 1.0\t 1.0\t 1.0\n",
            "I-PROBLEM\t 376\t 41\t 81\t 0.9016787\t 0.8227571\t 0.8604119\n",
            "B-NAME\t 1\t 0\t 3\t 1.0\t 0.25\t 0.4\n",
            "B-PROBLEM\t 258\t 22\t 35\t 0.92142856\t 0.8805461\t 0.90052354\n",
            "I-TEST\t 85\t 19\t 15\t 0.8173077\t 0.85\t 0.8333334\n",
            "B-TEST\t 88\t 18\t 7\t 0.8301887\t 0.9263158\t 0.87562186\n",
            "B-TREATMENT\t 97\t 25\t 30\t 0.795082\t 0.7637795\t 0.77911645\n",
            "I-DRUG\t 17\t 6\t 8\t 0.73913044\t 0.68\t 0.7083334\n",
            "tp: 1126 fp: 175 fn: 228 labels: 12\n",
            "Macro-average\t prec: 0.80592203, rec: 0.71980125, f1: 0.7604311\n",
            "Micro-average\t prec: 0.8654881, rec: 0.83161, f1: 0.84821093\n",
            "\n",
            "\n",
            "Epoch 16/30 started, lr: 0.0027906976, dataset size: 1975\n",
            "\n",
            "\n",
            "Epoch 16/30 - 17.82s - loss: 362.74097 - avg training loss: 1.8046814 - batches: 201\n",
            "Quality on validation dataset (20.0%), validation examples = 395\n",
            "time to finish evaluation: 0.66s\n",
            "Total validation loss: 87.6135\tAvg validation loss: 1.7523\n",
            "label\t tp\t fp\t fn\t prec\t rec\t f1\n",
            "B-DRUG\t 51\t 10\t 12\t 0.8360656\t 0.8095238\t 0.8225807\n",
            "I-NAME\t 0\t 0\t 1\t 0.0\t 0.0\t 0.0\n",
            "I-TREATMENT\t 122\t 26\t 39\t 0.8243243\t 0.757764\t 0.78964406\n",
            "B-DATE\t 19\t 1\t 1\t 0.95\t 0.95\t 0.95\n",
            "I-DATE\t 8\t 0\t 0\t 1.0\t 1.0\t 1.0\n",
            "I-PROBLEM\t 423\t 174\t 34\t 0.7085427\t 0.9256017\t 0.80265653\n",
            "B-NAME\t 0\t 1\t 4\t 0.0\t 0.0\t 0.0\n",
            "B-PROBLEM\t 270\t 66\t 23\t 0.8035714\t 0.9215017\t 0.85850555\n",
            "I-TEST\t 79\t 15\t 21\t 0.84042555\t 0.79\t 0.814433\n",
            "B-TEST\t 85\t 17\t 10\t 0.8333333\t 0.8947368\t 0.8629441\n",
            "B-TREATMENT\t 95\t 24\t 32\t 0.79831934\t 0.7480315\t 0.77235776\n",
            "I-DRUG\t 17\t 5\t 8\t 0.77272725\t 0.68\t 0.7234042\n",
            "tp: 1169 fp: 339 fn: 185 labels: 12\n",
            "Macro-average\t prec: 0.6972758, rec: 0.70642996, f1: 0.70182306\n",
            "Micro-average\t prec: 0.77519894, rec: 0.8633678, f1: 0.8169112\n",
            "\n",
            "\n",
            "Epoch 17/30 started, lr: 0.0027777776, dataset size: 1975\n",
            "\n",
            "\n",
            "Epoch 17/30 - 14.37s - loss: 353.54184 - avg training loss: 1.7589146 - batches: 201\n",
            "Quality on validation dataset (20.0%), validation examples = 395\n",
            "time to finish evaluation: 1.16s\n",
            "Total validation loss: 89.5133\tAvg validation loss: 1.7903\n",
            "label\t tp\t fp\t fn\t prec\t rec\t f1\n",
            "B-DRUG\t 52\t 10\t 11\t 0.83870965\t 0.82539684\t 0.832\n",
            "I-NAME\t 0\t 0\t 1\t 0.0\t 0.0\t 0.0\n",
            "I-TREATMENT\t 110\t 30\t 51\t 0.78571427\t 0.6832298\t 0.73089695\n",
            "B-DATE\t 20\t 3\t 0\t 0.8695652\t 1.0\t 0.9302325\n",
            "I-DATE\t 5\t 0\t 3\t 1.0\t 0.625\t 0.7692308\n",
            "I-PROBLEM\t 369\t 38\t 88\t 0.9066339\t 0.8074398\t 0.8541667\n",
            "B-NAME\t 0\t 0\t 4\t 0.0\t 0.0\t 0.0\n",
            "B-PROBLEM\t 260\t 37\t 33\t 0.87542087\t 0.887372\t 0.881356\n",
            "I-TEST\t 77\t 25\t 23\t 0.75490195\t 0.77\t 0.7623763\n",
            "B-TEST\t 87\t 20\t 8\t 0.8130841\t 0.9157895\t 0.8613861\n",
            "B-TREATMENT\t 93\t 35\t 34\t 0.7265625\t 0.7322835\t 0.7294118\n",
            "I-DRUG\t 17\t 7\t 8\t 0.7083333\t 0.68\t 0.6938775\n",
            "tp: 1090 fp: 205 fn: 264 labels: 12\n",
            "Macro-average\t prec: 0.6899105, rec: 0.66054267, f1: 0.67490727\n",
            "Micro-average\t prec: 0.8416988, rec: 0.8050222, f1: 0.82295203\n",
            "\n",
            "\n",
            "Epoch 18/30 started, lr: 0.0027649768, dataset size: 1975\n",
            "\n",
            "\n",
            "Epoch 18/30 - 16.90s - loss: 335.9083 - avg training loss: 1.6711855 - batches: 201\n",
            "Quality on validation dataset (20.0%), validation examples = 395\n",
            "time to finish evaluation: 0.93s\n",
            "Total validation loss: 82.6051\tAvg validation loss: 1.6521\n",
            "label\t tp\t fp\t fn\t prec\t rec\t f1\n",
            "B-DRUG\t 50\t 12\t 13\t 0.8064516\t 0.7936508\t 0.8\n",
            "I-NAME\t 0\t 0\t 1\t 0.0\t 0.0\t 0.0\n",
            "I-TREATMENT\t 128\t 45\t 33\t 0.7398844\t 0.7950311\t 0.7664671\n",
            "B-DATE\t 18\t 2\t 2\t 0.9\t 0.9\t 0.9\n",
            "I-DATE\t 8\t 4\t 0\t 0.6666667\t 1.0\t 0.8\n",
            "I-PROBLEM\t 383\t 58\t 74\t 0.86848074\t 0.8380744\t 0.85300666\n",
            "B-NAME\t 0\t 0\t 4\t 0.0\t 0.0\t 0.0\n",
            "B-PROBLEM\t 256\t 31\t 37\t 0.8919861\t 0.8737201\t 0.8827586\n",
            "I-TEST\t 81\t 23\t 19\t 0.77884614\t 0.81\t 0.7941176\n",
            "B-TEST\t 89\t 18\t 6\t 0.8317757\t 0.9368421\t 0.8811881\n",
            "B-TREATMENT\t 101\t 27\t 26\t 0.7890625\t 0.79527557\t 0.7921568\n",
            "I-DRUG\t 14\t 9\t 11\t 0.6086956\t 0.56\t 0.58333325\n",
            "tp: 1128 fp: 229 fn: 226 labels: 12\n",
            "Macro-average\t prec: 0.6568208, rec: 0.69188285, f1: 0.6738961\n",
            "Micro-average\t prec: 0.8312454, rec: 0.83308715, f1: 0.83216524\n",
            "\n",
            "\n",
            "Epoch 19/30 started, lr: 0.0027522936, dataset size: 1975\n",
            "\n",
            "\n",
            "Epoch 19/30 - 14.95s - loss: 352.53217 - avg training loss: 1.7538913 - batches: 201\n",
            "Quality on validation dataset (20.0%), validation examples = 395\n",
            "time to finish evaluation: 0.68s\n",
            "Total validation loss: 81.8718\tAvg validation loss: 1.6374\n",
            "label\t tp\t fp\t fn\t prec\t rec\t f1\n",
            "B-DRUG\t 52\t 10\t 11\t 0.83870965\t 0.82539684\t 0.832\n",
            "I-NAME\t 0\t 0\t 1\t 0.0\t 0.0\t 0.0\n",
            "I-TREATMENT\t 115\t 31\t 46\t 0.7876712\t 0.71428573\t 0.7491857\n",
            "B-DATE\t 16\t 0\t 4\t 1.0\t 0.8\t 0.88888896\n",
            "I-DATE\t 8\t 9\t 0\t 0.47058824\t 1.0\t 0.64\n",
            "I-PROBLEM\t 386\t 32\t 71\t 0.923445\t 0.84463894\t 0.8822857\n",
            "B-NAME\t 0\t 0\t 4\t 0.0\t 0.0\t 0.0\n",
            "B-PROBLEM\t 262\t 25\t 31\t 0.912892\t 0.89419794\t 0.9034482\n",
            "I-TEST\t 78\t 26\t 22\t 0.75\t 0.78\t 0.7647059\n",
            "B-TEST\t 88\t 22\t 7\t 0.8\t 0.9263158\t 0.8585366\n",
            "B-TREATMENT\t 100\t 38\t 27\t 0.7246377\t 0.78740156\t 0.754717\n",
            "I-DRUG\t 17\t 12\t 8\t 0.5862069\t 0.68\t 0.6296296\n",
            "tp: 1122 fp: 205 fn: 232 labels: 12\n",
            "Macro-average\t prec: 0.6495126, rec: 0.68768644, f1: 0.66805464\n",
            "Micro-average\t prec: 0.8455162, rec: 0.82865584, f1: 0.8370011\n",
            "Early stopping: validation set macro F1 has not improved for more than 3 epochs\n"
          ]
        }
      ],
      "source": [
        "! cat ner_logs/MedicalNerApproach*"
      ]
    },
    {
      "cell_type": "markdown",
      "metadata": {
        "id": "qLKJpTfKWLwC"
      },
      "source": [
        "## **Evaluate**"
      ]
    },
    {
      "cell_type": "code",
      "execution_count": 21,
      "metadata": {
        "colab": {
          "base_uri": "https://localhost:8080/"
        },
        "id": "L1vuNwvOAdqr",
        "outputId": "c3b0d080-8776-4972-fd54-5e0ac522b43e"
      },
      "outputs": [
        {
          "output_type": "stream",
          "name": "stdout",
          "text": [
            "+---------+-----+----+----+-----+---------+------+------+\n",
            "|   entity|   tp|  fp|  fn|total|precision|recall|    f1|\n",
            "+---------+-----+----+----+-----+---------+------+------+\n",
            "|     NAME|  1.0| 0.0| 1.0|  2.0|      1.0|   0.5|0.6667|\n",
            "|  PROBLEM|315.0|49.0|57.0|372.0|   0.8654|0.8468| 0.856|\n",
            "|     DATE| 20.0| 1.0| 2.0| 22.0|   0.9524|0.9091|0.9302|\n",
            "|     DRUG| 63.0|16.0|16.0| 79.0|   0.7975|0.7975|0.7975|\n",
            "|TREATMENT|121.0|38.0|54.0|175.0|    0.761|0.6914|0.7246|\n",
            "|     TEST|139.0|36.0|30.0|169.0|   0.7943|0.8225|0.8081|\n",
            "+---------+-----+----+----+-----+---------+------+------+\n",
            "\n",
            "+------------------+\n",
            "|             macro|\n",
            "+------------------+\n",
            "|0.7971727121989102|\n",
            "+------------------+\n",
            "\n",
            "None\n",
            "+------------------+\n",
            "|             micro|\n",
            "+------------------+\n",
            "|0.8139125167727216|\n",
            "+------------------+\n",
            "\n",
            "None\n"
          ]
        }
      ],
      "source": [
        "from sparknlp_jsl.eval import NerDLMetrics\n",
        "import pyspark.sql.functions as F\n",
        "\n",
        "pred_df = ner_model.stages[2].transform(clinical_embeddings.transform(test_data))\n",
        "\n",
        "evaler = NerDLMetrics(mode=\"full_chunk\")\n",
        "\n",
        "eval_result = evaler.computeMetricsFromDF(pred_df.select(\"label\",\"ner\"), prediction_col=\"ner\", label_col=\"label\", drop_o = True, case_sensitive = True).cache()\n",
        "\n",
        "eval_result.withColumn(\"precision\", F.round(eval_result[\"precision\"],4))\\\n",
        "           .withColumn(\"recall\", F.round(eval_result[\"recall\"],4))\\\n",
        "           .withColumn(\"f1\", F.round(eval_result[\"f1\"],4)).show(100)\n",
        "\n",
        "print(eval_result.selectExpr(\"avg(f1) as macro\").show())\n",
        "print (eval_result.selectExpr(\"sum(f1*total) as sumprod\",\"sum(total) as sumtotal\").selectExpr(\"sumprod/sumtotal as micro\").show())"
      ]
    },
    {
      "cell_type": "code",
      "source": [
        "from sklearn.metrics import classification_report\n",
        "\n",
        "def show_sklearn_report(spark_results):\n",
        "    # Spark sonuçlarından gerekli bilgileri al\n",
        "    y_true = []\n",
        "    y_pred = []\n",
        "\n",
        "    # Her entity tipi için gerçek ve tahmin edilen sayıları hesapla\n",
        "    for row in spark_results.collect():\n",
        "        entity = row['entity']\n",
        "        tp = int(row['tp'])  # True positives\n",
        "        fp = int(row['fp'])  # False positives\n",
        "        fn = int(row['fn'])  # False negatives\n",
        "\n",
        "        # True positives için entity'yi gerçek ve tahmin listelerine ekle\n",
        "        y_true.extend([entity] * tp)\n",
        "        y_pred.extend([entity] * tp)\n",
        "\n",
        "        # False positives için diğer entity'leri tahmin listesine ekle\n",
        "        y_true.extend(['OTHER'] * fp)\n",
        "        y_pred.extend([entity] * fp)\n",
        "\n",
        "        # False negatives için entity'yi gerçek listeye ekle\n",
        "        y_true.extend([entity] * fn)\n",
        "        y_pred.extend(['OTHER'] * fn)\n",
        "\n",
        "    # Unique entity'leri al\n",
        "    labels = sorted(list(set(y_true) - {'OTHER'}))\n",
        "\n",
        "    # sklearn report'u oluştur\n",
        "    report = classification_report(\n",
        "        y_true,\n",
        "        y_pred,\n",
        "        labels=labels,\n",
        "        digits=4\n",
        "    )\n",
        "\n",
        "    return report\n",
        "\n",
        "# Kullanımı\n",
        "print(\"sklearn Classification Report:\")\n",
        "report = show_sklearn_report(eval_result)\n",
        "print(report)"
      ],
      "metadata": {
        "colab": {
          "base_uri": "https://localhost:8080/"
        },
        "id": "nrLOUYxrBCvO",
        "outputId": "b8c44fb6-fd21-4c6d-8cd6-3def5bdcfedc"
      },
      "execution_count": 43,
      "outputs": [
        {
          "output_type": "stream",
          "name": "stdout",
          "text": [
            "sklearn Classification Report:\n",
            "              precision    recall  f1-score   support\n",
            "\n",
            "        DATE     0.9524    0.9091    0.9302        22\n",
            "        DRUG     0.7975    0.7975    0.7975        79\n",
            "        NAME     1.0000    0.5000    0.6667         2\n",
            "     PROBLEM     0.8654    0.8468    0.8560       372\n",
            "        TEST     0.7943    0.8225    0.8081       169\n",
            "   TREATMENT     0.7610    0.6914    0.7246       175\n",
            "\n",
            "   micro avg     0.8248    0.8046    0.8146       819\n",
            "   macro avg     0.8618    0.7612    0.7972       819\n",
            "weighted avg     0.8245    0.8046    0.8139       819\n",
            "\n"
          ]
        }
      ]
    },
    {
      "cell_type": "markdown",
      "source": [
        "## **Bonus**\n",
        "### Generate training graphs"
      ],
      "metadata": {
        "id": "zYNdTK7sULNl"
      }
    },
    {
      "cell_type": "code",
      "source": [
        "from sparknlp_jsl.training_log_parser import ner_log_parser\n",
        "\n",
        "print(\"Generating training graphs...\")\n",
        "parser = ner_log_parser()"
      ],
      "metadata": {
        "colab": {
          "base_uri": "https://localhost:8080/"
        },
        "id": "ul6otrnJUGe2",
        "outputId": "043480c0-1c89-43fb-bf92-49b7105c6d09"
      },
      "execution_count": null,
      "outputs": [
        {
          "output_type": "stream",
          "name": "stdout",
          "text": [
            "Generating training graphs...\n",
            "NER Log Parser Initiated\n"
          ]
        }
      ]
    },
    {
      "cell_type": "code",
      "source": [
        "log_files = [f for f in os.listdir(\"./ner_logs\") if f.startswith(\"MedicalNerApproach\")]\n",
        "log_file = sorted(log_files)[-1]"
      ],
      "metadata": {
        "id": "g82_YJ_PU0aG"
      },
      "execution_count": null,
      "outputs": []
    },
    {
      "cell_type": "code",
      "source": [
        "# Plot loss graph\n",
        "parser.loss_plot(f\"./ner_logs/{log_file}\")"
      ],
      "metadata": {
        "colab": {
          "base_uri": "https://localhost:8080/",
          "height": 542
        },
        "id": "JCHJERU861IO",
        "outputId": "be7b9a1c-4393-4750-f0d4-f024dec8b596"
      },
      "execution_count": null,
      "outputs": [
        {
          "output_type": "display_data",
          "data": {
            "text/html": [
              "<html>\n",
              "<head><meta charset=\"utf-8\" /></head>\n",
              "<body>\n",
              "    <div>            <script src=\"https://cdnjs.cloudflare.com/ajax/libs/mathjax/2.7.5/MathJax.js?config=TeX-AMS-MML_SVG\"></script><script type=\"text/javascript\">if (window.MathJax && window.MathJax.Hub && window.MathJax.Hub.Config) {window.MathJax.Hub.Config({SVG: {font: \"STIX-Web\"}});}</script>                <script type=\"text/javascript\">window.PlotlyConfig = {MathJaxConfig: 'local'};</script>\n",
              "        <script charset=\"utf-8\" src=\"https://cdn.plot.ly/plotly-2.35.2.min.js\"></script>                <div id=\"1bcc8d47-52cc-41b4-9508-f8131901bd90\" class=\"plotly-graph-div\" style=\"height:525px; width:100%;\"></div>            <script type=\"text/javascript\">                                    window.PLOTLYENV=window.PLOTLYENV || {};                                    if (document.getElementById(\"1bcc8d47-52cc-41b4-9508-f8131901bd90\")) {                    Plotly.newPlot(                        \"1bcc8d47-52cc-41b4-9508-f8131901bd90\",                        [{\"hovertemplate\":\"Epochs=%{x}\\u003cbr\\u003eValidation Loss=%{y}\\u003cextra\\u003e\\u003c\\u002fextra\\u003e\",\"legendgroup\":\"\",\"line\":{\"color\":\"#636efa\",\"dash\":\"solid\"},\"marker\":{\"symbol\":\"circle\"},\"mode\":\"lines\",\"name\":\"\",\"orientation\":\"v\",\"showlegend\":false,\"x\":[1.0,2.0,3.0,4.0,5.0,6.0,7.0,8.0,9.0,10.0,11.0,12.0,13.0,14.0,15.0,16.0,17.0,18.0,19.0,20.0,21.0,22.0,23.0,24.0,25.0,26.0,27.0,28.0,29.0,30.0],\"xaxis\":\"x\",\"y\":[136.058,103.6009,91.5351,72.9941,66.2677,58.438,47.4856,55.5246,43.933,44.4505,43.6038,47.3768,36.156,92.0414,39.5353,42.1664,33.7998,39.8779,35.7392,36.0378,34.4959,51.0471,40.2982,65.1825,32.7947,42.099,27.4711,29.458,33.3275,33.8072],\"yaxis\":\"y\",\"type\":\"scatter\"}],                        {\"template\":{\"data\":{\"histogram2dcontour\":[{\"type\":\"histogram2dcontour\",\"colorbar\":{\"outlinewidth\":0,\"ticks\":\"\"},\"colorscale\":[[0.0,\"#0d0887\"],[0.1111111111111111,\"#46039f\"],[0.2222222222222222,\"#7201a8\"],[0.3333333333333333,\"#9c179e\"],[0.4444444444444444,\"#bd3786\"],[0.5555555555555556,\"#d8576b\"],[0.6666666666666666,\"#ed7953\"],[0.7777777777777778,\"#fb9f3a\"],[0.8888888888888888,\"#fdca26\"],[1.0,\"#f0f921\"]]}],\"choropleth\":[{\"type\":\"choropleth\",\"colorbar\":{\"outlinewidth\":0,\"ticks\":\"\"}}],\"histogram2d\":[{\"type\":\"histogram2d\",\"colorbar\":{\"outlinewidth\":0,\"ticks\":\"\"},\"colorscale\":[[0.0,\"#0d0887\"],[0.1111111111111111,\"#46039f\"],[0.2222222222222222,\"#7201a8\"],[0.3333333333333333,\"#9c179e\"],[0.4444444444444444,\"#bd3786\"],[0.5555555555555556,\"#d8576b\"],[0.6666666666666666,\"#ed7953\"],[0.7777777777777778,\"#fb9f3a\"],[0.8888888888888888,\"#fdca26\"],[1.0,\"#f0f921\"]]}],\"heatmap\":[{\"type\":\"heatmap\",\"colorbar\":{\"outlinewidth\":0,\"ticks\":\"\"},\"colorscale\":[[0.0,\"#0d0887\"],[0.1111111111111111,\"#46039f\"],[0.2222222222222222,\"#7201a8\"],[0.3333333333333333,\"#9c179e\"],[0.4444444444444444,\"#bd3786\"],[0.5555555555555556,\"#d8576b\"],[0.6666666666666666,\"#ed7953\"],[0.7777777777777778,\"#fb9f3a\"],[0.8888888888888888,\"#fdca26\"],[1.0,\"#f0f921\"]]}],\"heatmapgl\":[{\"type\":\"heatmapgl\",\"colorbar\":{\"outlinewidth\":0,\"ticks\":\"\"},\"colorscale\":[[0.0,\"#0d0887\"],[0.1111111111111111,\"#46039f\"],[0.2222222222222222,\"#7201a8\"],[0.3333333333333333,\"#9c179e\"],[0.4444444444444444,\"#bd3786\"],[0.5555555555555556,\"#d8576b\"],[0.6666666666666666,\"#ed7953\"],[0.7777777777777778,\"#fb9f3a\"],[0.8888888888888888,\"#fdca26\"],[1.0,\"#f0f921\"]]}],\"contourcarpet\":[{\"type\":\"contourcarpet\",\"colorbar\":{\"outlinewidth\":0,\"ticks\":\"\"}}],\"contour\":[{\"type\":\"contour\",\"colorbar\":{\"outlinewidth\":0,\"ticks\":\"\"},\"colorscale\":[[0.0,\"#0d0887\"],[0.1111111111111111,\"#46039f\"],[0.2222222222222222,\"#7201a8\"],[0.3333333333333333,\"#9c179e\"],[0.4444444444444444,\"#bd3786\"],[0.5555555555555556,\"#d8576b\"],[0.6666666666666666,\"#ed7953\"],[0.7777777777777778,\"#fb9f3a\"],[0.8888888888888888,\"#fdca26\"],[1.0,\"#f0f921\"]]}],\"surface\":[{\"type\":\"surface\",\"colorbar\":{\"outlinewidth\":0,\"ticks\":\"\"},\"colorscale\":[[0.0,\"#0d0887\"],[0.1111111111111111,\"#46039f\"],[0.2222222222222222,\"#7201a8\"],[0.3333333333333333,\"#9c179e\"],[0.4444444444444444,\"#bd3786\"],[0.5555555555555556,\"#d8576b\"],[0.6666666666666666,\"#ed7953\"],[0.7777777777777778,\"#fb9f3a\"],[0.8888888888888888,\"#fdca26\"],[1.0,\"#f0f921\"]]}],\"mesh3d\":[{\"type\":\"mesh3d\",\"colorbar\":{\"outlinewidth\":0,\"ticks\":\"\"}}],\"scatter\":[{\"fillpattern\":{\"fillmode\":\"overlay\",\"size\":10,\"solidity\":0.2},\"type\":\"scatter\"}],\"parcoords\":[{\"type\":\"parcoords\",\"line\":{\"colorbar\":{\"outlinewidth\":0,\"ticks\":\"\"}}}],\"scatterpolargl\":[{\"type\":\"scatterpolargl\",\"marker\":{\"colorbar\":{\"outlinewidth\":0,\"ticks\":\"\"}}}],\"bar\":[{\"error_x\":{\"color\":\"#2a3f5f\"},\"error_y\":{\"color\":\"#2a3f5f\"},\"marker\":{\"line\":{\"color\":\"#E5ECF6\",\"width\":0.5},\"pattern\":{\"fillmode\":\"overlay\",\"size\":10,\"solidity\":0.2}},\"type\":\"bar\"}],\"scattergeo\":[{\"type\":\"scattergeo\",\"marker\":{\"colorbar\":{\"outlinewidth\":0,\"ticks\":\"\"}}}],\"scatterpolar\":[{\"type\":\"scatterpolar\",\"marker\":{\"colorbar\":{\"outlinewidth\":0,\"ticks\":\"\"}}}],\"histogram\":[{\"marker\":{\"pattern\":{\"fillmode\":\"overlay\",\"size\":10,\"solidity\":0.2}},\"type\":\"histogram\"}],\"scattergl\":[{\"type\":\"scattergl\",\"marker\":{\"colorbar\":{\"outlinewidth\":0,\"ticks\":\"\"}}}],\"scatter3d\":[{\"type\":\"scatter3d\",\"line\":{\"colorbar\":{\"outlinewidth\":0,\"ticks\":\"\"}},\"marker\":{\"colorbar\":{\"outlinewidth\":0,\"ticks\":\"\"}}}],\"scattermapbox\":[{\"type\":\"scattermapbox\",\"marker\":{\"colorbar\":{\"outlinewidth\":0,\"ticks\":\"\"}}}],\"scatterternary\":[{\"type\":\"scatterternary\",\"marker\":{\"colorbar\":{\"outlinewidth\":0,\"ticks\":\"\"}}}],\"scattercarpet\":[{\"type\":\"scattercarpet\",\"marker\":{\"colorbar\":{\"outlinewidth\":0,\"ticks\":\"\"}}}],\"carpet\":[{\"aaxis\":{\"endlinecolor\":\"#2a3f5f\",\"gridcolor\":\"white\",\"linecolor\":\"white\",\"minorgridcolor\":\"white\",\"startlinecolor\":\"#2a3f5f\"},\"baxis\":{\"endlinecolor\":\"#2a3f5f\",\"gridcolor\":\"white\",\"linecolor\":\"white\",\"minorgridcolor\":\"white\",\"startlinecolor\":\"#2a3f5f\"},\"type\":\"carpet\"}],\"table\":[{\"cells\":{\"fill\":{\"color\":\"#EBF0F8\"},\"line\":{\"color\":\"white\"}},\"header\":{\"fill\":{\"color\":\"#C8D4E3\"},\"line\":{\"color\":\"white\"}},\"type\":\"table\"}],\"barpolar\":[{\"marker\":{\"line\":{\"color\":\"#E5ECF6\",\"width\":0.5},\"pattern\":{\"fillmode\":\"overlay\",\"size\":10,\"solidity\":0.2}},\"type\":\"barpolar\"}],\"pie\":[{\"automargin\":true,\"type\":\"pie\"}]},\"layout\":{\"autotypenumbers\":\"strict\",\"colorway\":[\"#636efa\",\"#EF553B\",\"#00cc96\",\"#ab63fa\",\"#FFA15A\",\"#19d3f3\",\"#FF6692\",\"#B6E880\",\"#FF97FF\",\"#FECB52\"],\"font\":{\"color\":\"#2a3f5f\"},\"hovermode\":\"closest\",\"hoverlabel\":{\"align\":\"left\"},\"paper_bgcolor\":\"white\",\"plot_bgcolor\":\"#E5ECF6\",\"polar\":{\"bgcolor\":\"#E5ECF6\",\"angularaxis\":{\"gridcolor\":\"white\",\"linecolor\":\"white\",\"ticks\":\"\"},\"radialaxis\":{\"gridcolor\":\"white\",\"linecolor\":\"white\",\"ticks\":\"\"}},\"ternary\":{\"bgcolor\":\"#E5ECF6\",\"aaxis\":{\"gridcolor\":\"white\",\"linecolor\":\"white\",\"ticks\":\"\"},\"baxis\":{\"gridcolor\":\"white\",\"linecolor\":\"white\",\"ticks\":\"\"},\"caxis\":{\"gridcolor\":\"white\",\"linecolor\":\"white\",\"ticks\":\"\"}},\"coloraxis\":{\"colorbar\":{\"outlinewidth\":0,\"ticks\":\"\"}},\"colorscale\":{\"sequential\":[[0.0,\"#0d0887\"],[0.1111111111111111,\"#46039f\"],[0.2222222222222222,\"#7201a8\"],[0.3333333333333333,\"#9c179e\"],[0.4444444444444444,\"#bd3786\"],[0.5555555555555556,\"#d8576b\"],[0.6666666666666666,\"#ed7953\"],[0.7777777777777778,\"#fb9f3a\"],[0.8888888888888888,\"#fdca26\"],[1.0,\"#f0f921\"]],\"sequentialminus\":[[0.0,\"#0d0887\"],[0.1111111111111111,\"#46039f\"],[0.2222222222222222,\"#7201a8\"],[0.3333333333333333,\"#9c179e\"],[0.4444444444444444,\"#bd3786\"],[0.5555555555555556,\"#d8576b\"],[0.6666666666666666,\"#ed7953\"],[0.7777777777777778,\"#fb9f3a\"],[0.8888888888888888,\"#fdca26\"],[1.0,\"#f0f921\"]],\"diverging\":[[0,\"#8e0152\"],[0.1,\"#c51b7d\"],[0.2,\"#de77ae\"],[0.3,\"#f1b6da\"],[0.4,\"#fde0ef\"],[0.5,\"#f7f7f7\"],[0.6,\"#e6f5d0\"],[0.7,\"#b8e186\"],[0.8,\"#7fbc41\"],[0.9,\"#4d9221\"],[1,\"#276419\"]]},\"xaxis\":{\"gridcolor\":\"white\",\"linecolor\":\"white\",\"ticks\":\"\",\"title\":{\"standoff\":15},\"zerolinecolor\":\"white\",\"automargin\":true,\"zerolinewidth\":2},\"yaxis\":{\"gridcolor\":\"white\",\"linecolor\":\"white\",\"ticks\":\"\",\"title\":{\"standoff\":15},\"zerolinecolor\":\"white\",\"automargin\":true,\"zerolinewidth\":2},\"scene\":{\"xaxis\":{\"backgroundcolor\":\"#E5ECF6\",\"gridcolor\":\"white\",\"linecolor\":\"white\",\"showbackground\":true,\"ticks\":\"\",\"zerolinecolor\":\"white\",\"gridwidth\":2},\"yaxis\":{\"backgroundcolor\":\"#E5ECF6\",\"gridcolor\":\"white\",\"linecolor\":\"white\",\"showbackground\":true,\"ticks\":\"\",\"zerolinecolor\":\"white\",\"gridwidth\":2},\"zaxis\":{\"backgroundcolor\":\"#E5ECF6\",\"gridcolor\":\"white\",\"linecolor\":\"white\",\"showbackground\":true,\"ticks\":\"\",\"zerolinecolor\":\"white\",\"gridwidth\":2}},\"shapedefaults\":{\"line\":{\"color\":\"#2a3f5f\"}},\"annotationdefaults\":{\"arrowcolor\":\"#2a3f5f\",\"arrowhead\":0,\"arrowwidth\":1},\"geo\":{\"bgcolor\":\"white\",\"landcolor\":\"#E5ECF6\",\"subunitcolor\":\"white\",\"showland\":true,\"showlakes\":true,\"lakecolor\":\"white\"},\"title\":{\"x\":0.05},\"mapbox\":{\"style\":\"light\"}}},\"xaxis\":{\"anchor\":\"y\",\"domain\":[0.0,1.0],\"title\":{\"text\":\"Epochs\"}},\"yaxis\":{\"anchor\":\"x\",\"domain\":[0.0,1.0],\"title\":{\"text\":\"Validation Loss\"}},\"legend\":{\"tracegroupgap\":0},\"title\":{\"text\":\"Validation Loss Plot\"}},                        {\"responsive\": true}                    ).then(function(){\n",
              "                            \n",
              "var gd = document.getElementById('1bcc8d47-52cc-41b4-9508-f8131901bd90');\n",
              "var x = new MutationObserver(function (mutations, observer) {{\n",
              "        var display = window.getComputedStyle(gd).display;\n",
              "        if (!display || display === 'none') {{\n",
              "            console.log([gd, 'removed!']);\n",
              "            Plotly.purge(gd);\n",
              "            observer.disconnect();\n",
              "        }}\n",
              "}});\n",
              "\n",
              "// Listen for the removal of the full notebook cells\n",
              "var notebookContainer = gd.closest('#notebook-container');\n",
              "if (notebookContainer) {{\n",
              "    x.observe(notebookContainer, {childList: true});\n",
              "}}\n",
              "\n",
              "// Listen for the clearing of the current output cell\n",
              "var outputEl = gd.closest('.output');\n",
              "if (outputEl) {{\n",
              "    x.observe(outputEl, {childList: true});\n",
              "}}\n",
              "\n",
              "                        })                };                            </script>        </div>\n",
              "</body>\n",
              "</html>"
            ]
          },
          "metadata": {}
        }
      ]
    },
    {
      "cell_type": "code",
      "source": [
        "# Plot other metric graphs\n",
        "parser.get_charts(f'./ner_logs/{log_file}')"
      ],
      "metadata": {
        "colab": {
          "base_uri": "https://localhost:8080/",
          "height": 817
        },
        "id": "GJrPunOLUtxE",
        "outputId": "d16af617-33f7-4006-f261-9fde9f6dfa64"
      },
      "execution_count": null,
      "outputs": [
        {
          "output_type": "display_data",
          "data": {
            "text/html": [
              "<html>\n",
              "<head><meta charset=\"utf-8\" /></head>\n",
              "<body>\n",
              "    <div>            <script src=\"https://cdnjs.cloudflare.com/ajax/libs/mathjax/2.7.5/MathJax.js?config=TeX-AMS-MML_SVG\"></script><script type=\"text/javascript\">if (window.MathJax && window.MathJax.Hub && window.MathJax.Hub.Config) {window.MathJax.Hub.Config({SVG: {font: \"STIX-Web\"}});}</script>                <script type=\"text/javascript\">window.PlotlyConfig = {MathJaxConfig: 'local'};</script>\n",
              "        <script charset=\"utf-8\" src=\"https://cdn.plot.ly/plotly-2.35.2.min.js\"></script>                <div id=\"dee6cdbc-ae08-4039-9f8e-d4af50f93f6a\" class=\"plotly-graph-div\" style=\"height:800px; width:1200px;\"></div>            <script type=\"text/javascript\">                                    window.PLOTLYENV=window.PLOTLYENV || {};                                    if (document.getElementById(\"dee6cdbc-ae08-4039-9f8e-d4af50f93f6a\")) {                    Plotly.newPlot(                        \"dee6cdbc-ae08-4039-9f8e-d4af50f93f6a\",                        [{\"mode\":\"lines+markers\",\"name\":\"prec macro_avg\",\"text\":\"prec-macro_avg\",\"x\":[0,1,2,3,4,5,6,7,8,9],\"y\":[0.0,0.26005748,0.4296038,0.41880432,0.45859957,0.65091735,0.6647071,0.7167217,0.7805853,0.75816566],\"type\":\"scatter\",\"xaxis\":\"x\",\"yaxis\":\"y\"},{\"mode\":\"lines+markers\",\"name\":\"prec-micro_avg\",\"text\":\"prec-micro_avg\",\"x\":[0,1,2,3,4,5,6,7,8,9],\"y\":[0.0,0.3902439,0.44390243,0.41111112,0.49433962,0.5614754,0.67622954,0.63076925,0.70428014,0.6916996],\"type\":\"scatter\",\"xaxis\":\"x\",\"yaxis\":\"y\"},{\"mode\":\"lines+markers\",\"name\":\"rec macro_avg\",\"text\":\"rec-macro_avg\",\"x\":[0,1,2,3,4,5,6,7,8,9],\"y\":[0.0,0.055614844,0.301542,0.34944606,0.44745123,0.40702525,0.5574675,0.51228476,0.6598473,0.58804756],\"type\":\"scatter\",\"xaxis\":\"x2\",\"yaxis\":\"y2\"},{\"mode\":\"lines+markers\",\"name\":\"rec-micro_avg\",\"text\":\"rec-micro_avg\",\"x\":[0,1,2,3,4,5,6,7,8,9],\"y\":[0.0,0.05904059,0.33579335,0.4095941,0.48339483,0.50553507,0.6088561,0.6051661,0.6678967,0.6457565],\"type\":\"scatter\",\"xaxis\":\"x2\",\"yaxis\":\"y2\"},{\"mode\":\"lines+markers\",\"name\":\"f1 macro_avg\",\"text\":\"f1-macro_avg\",\"x\":[0,1,2,3,4,5,6,7,8,9],\"y\":[0.0,0.09163334,0.35435775,0.38099435,0.4529568,0.5008585,0.6063824,0.59749985,0.71515614,0.66235787],\"type\":\"scatter\",\"xaxis\":\"x3\",\"yaxis\":\"y3\"},{\"mode\":\"lines+markers\",\"name\":\"f1-micro_avg\",\"text\":\"f1-micro_avg\",\"x\":[0,1,2,3,4,5,6,7,8,9],\"y\":[0.0,0.1025641,0.38235295,0.41035122,0.48880598,0.53203887,0.6407767,0.6177025,0.68560606,0.66793895],\"type\":\"scatter\",\"xaxis\":\"x3\",\"yaxis\":\"y3\"}],                        {\"template\":{\"data\":{\"histogram2dcontour\":[{\"type\":\"histogram2dcontour\",\"colorbar\":{\"outlinewidth\":0,\"ticks\":\"\"},\"colorscale\":[[0.0,\"#0d0887\"],[0.1111111111111111,\"#46039f\"],[0.2222222222222222,\"#7201a8\"],[0.3333333333333333,\"#9c179e\"],[0.4444444444444444,\"#bd3786\"],[0.5555555555555556,\"#d8576b\"],[0.6666666666666666,\"#ed7953\"],[0.7777777777777778,\"#fb9f3a\"],[0.8888888888888888,\"#fdca26\"],[1.0,\"#f0f921\"]]}],\"choropleth\":[{\"type\":\"choropleth\",\"colorbar\":{\"outlinewidth\":0,\"ticks\":\"\"}}],\"histogram2d\":[{\"type\":\"histogram2d\",\"colorbar\":{\"outlinewidth\":0,\"ticks\":\"\"},\"colorscale\":[[0.0,\"#0d0887\"],[0.1111111111111111,\"#46039f\"],[0.2222222222222222,\"#7201a8\"],[0.3333333333333333,\"#9c179e\"],[0.4444444444444444,\"#bd3786\"],[0.5555555555555556,\"#d8576b\"],[0.6666666666666666,\"#ed7953\"],[0.7777777777777778,\"#fb9f3a\"],[0.8888888888888888,\"#fdca26\"],[1.0,\"#f0f921\"]]}],\"heatmap\":[{\"type\":\"heatmap\",\"colorbar\":{\"outlinewidth\":0,\"ticks\":\"\"},\"colorscale\":[[0.0,\"#0d0887\"],[0.1111111111111111,\"#46039f\"],[0.2222222222222222,\"#7201a8\"],[0.3333333333333333,\"#9c179e\"],[0.4444444444444444,\"#bd3786\"],[0.5555555555555556,\"#d8576b\"],[0.6666666666666666,\"#ed7953\"],[0.7777777777777778,\"#fb9f3a\"],[0.8888888888888888,\"#fdca26\"],[1.0,\"#f0f921\"]]}],\"heatmapgl\":[{\"type\":\"heatmapgl\",\"colorbar\":{\"outlinewidth\":0,\"ticks\":\"\"},\"colorscale\":[[0.0,\"#0d0887\"],[0.1111111111111111,\"#46039f\"],[0.2222222222222222,\"#7201a8\"],[0.3333333333333333,\"#9c179e\"],[0.4444444444444444,\"#bd3786\"],[0.5555555555555556,\"#d8576b\"],[0.6666666666666666,\"#ed7953\"],[0.7777777777777778,\"#fb9f3a\"],[0.8888888888888888,\"#fdca26\"],[1.0,\"#f0f921\"]]}],\"contourcarpet\":[{\"type\":\"contourcarpet\",\"colorbar\":{\"outlinewidth\":0,\"ticks\":\"\"}}],\"contour\":[{\"type\":\"contour\",\"colorbar\":{\"outlinewidth\":0,\"ticks\":\"\"},\"colorscale\":[[0.0,\"#0d0887\"],[0.1111111111111111,\"#46039f\"],[0.2222222222222222,\"#7201a8\"],[0.3333333333333333,\"#9c179e\"],[0.4444444444444444,\"#bd3786\"],[0.5555555555555556,\"#d8576b\"],[0.6666666666666666,\"#ed7953\"],[0.7777777777777778,\"#fb9f3a\"],[0.8888888888888888,\"#fdca26\"],[1.0,\"#f0f921\"]]}],\"surface\":[{\"type\":\"surface\",\"colorbar\":{\"outlinewidth\":0,\"ticks\":\"\"},\"colorscale\":[[0.0,\"#0d0887\"],[0.1111111111111111,\"#46039f\"],[0.2222222222222222,\"#7201a8\"],[0.3333333333333333,\"#9c179e\"],[0.4444444444444444,\"#bd3786\"],[0.5555555555555556,\"#d8576b\"],[0.6666666666666666,\"#ed7953\"],[0.7777777777777778,\"#fb9f3a\"],[0.8888888888888888,\"#fdca26\"],[1.0,\"#f0f921\"]]}],\"mesh3d\":[{\"type\":\"mesh3d\",\"colorbar\":{\"outlinewidth\":0,\"ticks\":\"\"}}],\"scatter\":[{\"fillpattern\":{\"fillmode\":\"overlay\",\"size\":10,\"solidity\":0.2},\"type\":\"scatter\"}],\"parcoords\":[{\"type\":\"parcoords\",\"line\":{\"colorbar\":{\"outlinewidth\":0,\"ticks\":\"\"}}}],\"scatterpolargl\":[{\"type\":\"scatterpolargl\",\"marker\":{\"colorbar\":{\"outlinewidth\":0,\"ticks\":\"\"}}}],\"bar\":[{\"error_x\":{\"color\":\"#2a3f5f\"},\"error_y\":{\"color\":\"#2a3f5f\"},\"marker\":{\"line\":{\"color\":\"#E5ECF6\",\"width\":0.5},\"pattern\":{\"fillmode\":\"overlay\",\"size\":10,\"solidity\":0.2}},\"type\":\"bar\"}],\"scattergeo\":[{\"type\":\"scattergeo\",\"marker\":{\"colorbar\":{\"outlinewidth\":0,\"ticks\":\"\"}}}],\"scatterpolar\":[{\"type\":\"scatterpolar\",\"marker\":{\"colorbar\":{\"outlinewidth\":0,\"ticks\":\"\"}}}],\"histogram\":[{\"marker\":{\"pattern\":{\"fillmode\":\"overlay\",\"size\":10,\"solidity\":0.2}},\"type\":\"histogram\"}],\"scattergl\":[{\"type\":\"scattergl\",\"marker\":{\"colorbar\":{\"outlinewidth\":0,\"ticks\":\"\"}}}],\"scatter3d\":[{\"type\":\"scatter3d\",\"line\":{\"colorbar\":{\"outlinewidth\":0,\"ticks\":\"\"}},\"marker\":{\"colorbar\":{\"outlinewidth\":0,\"ticks\":\"\"}}}],\"scattermapbox\":[{\"type\":\"scattermapbox\",\"marker\":{\"colorbar\":{\"outlinewidth\":0,\"ticks\":\"\"}}}],\"scatterternary\":[{\"type\":\"scatterternary\",\"marker\":{\"colorbar\":{\"outlinewidth\":0,\"ticks\":\"\"}}}],\"scattercarpet\":[{\"type\":\"scattercarpet\",\"marker\":{\"colorbar\":{\"outlinewidth\":0,\"ticks\":\"\"}}}],\"carpet\":[{\"aaxis\":{\"endlinecolor\":\"#2a3f5f\",\"gridcolor\":\"white\",\"linecolor\":\"white\",\"minorgridcolor\":\"white\",\"startlinecolor\":\"#2a3f5f\"},\"baxis\":{\"endlinecolor\":\"#2a3f5f\",\"gridcolor\":\"white\",\"linecolor\":\"white\",\"minorgridcolor\":\"white\",\"startlinecolor\":\"#2a3f5f\"},\"type\":\"carpet\"}],\"table\":[{\"cells\":{\"fill\":{\"color\":\"#EBF0F8\"},\"line\":{\"color\":\"white\"}},\"header\":{\"fill\":{\"color\":\"#C8D4E3\"},\"line\":{\"color\":\"white\"}},\"type\":\"table\"}],\"barpolar\":[{\"marker\":{\"line\":{\"color\":\"#E5ECF6\",\"width\":0.5},\"pattern\":{\"fillmode\":\"overlay\",\"size\":10,\"solidity\":0.2}},\"type\":\"barpolar\"}],\"pie\":[{\"automargin\":true,\"type\":\"pie\"}]},\"layout\":{\"autotypenumbers\":\"strict\",\"colorway\":[\"#636efa\",\"#EF553B\",\"#00cc96\",\"#ab63fa\",\"#FFA15A\",\"#19d3f3\",\"#FF6692\",\"#B6E880\",\"#FF97FF\",\"#FECB52\"],\"font\":{\"color\":\"#2a3f5f\"},\"hovermode\":\"closest\",\"hoverlabel\":{\"align\":\"left\"},\"paper_bgcolor\":\"white\",\"plot_bgcolor\":\"#E5ECF6\",\"polar\":{\"bgcolor\":\"#E5ECF6\",\"angularaxis\":{\"gridcolor\":\"white\",\"linecolor\":\"white\",\"ticks\":\"\"},\"radialaxis\":{\"gridcolor\":\"white\",\"linecolor\":\"white\",\"ticks\":\"\"}},\"ternary\":{\"bgcolor\":\"#E5ECF6\",\"aaxis\":{\"gridcolor\":\"white\",\"linecolor\":\"white\",\"ticks\":\"\"},\"baxis\":{\"gridcolor\":\"white\",\"linecolor\":\"white\",\"ticks\":\"\"},\"caxis\":{\"gridcolor\":\"white\",\"linecolor\":\"white\",\"ticks\":\"\"}},\"coloraxis\":{\"colorbar\":{\"outlinewidth\":0,\"ticks\":\"\"}},\"colorscale\":{\"sequential\":[[0.0,\"#0d0887\"],[0.1111111111111111,\"#46039f\"],[0.2222222222222222,\"#7201a8\"],[0.3333333333333333,\"#9c179e\"],[0.4444444444444444,\"#bd3786\"],[0.5555555555555556,\"#d8576b\"],[0.6666666666666666,\"#ed7953\"],[0.7777777777777778,\"#fb9f3a\"],[0.8888888888888888,\"#fdca26\"],[1.0,\"#f0f921\"]],\"sequentialminus\":[[0.0,\"#0d0887\"],[0.1111111111111111,\"#46039f\"],[0.2222222222222222,\"#7201a8\"],[0.3333333333333333,\"#9c179e\"],[0.4444444444444444,\"#bd3786\"],[0.5555555555555556,\"#d8576b\"],[0.6666666666666666,\"#ed7953\"],[0.7777777777777778,\"#fb9f3a\"],[0.8888888888888888,\"#fdca26\"],[1.0,\"#f0f921\"]],\"diverging\":[[0,\"#8e0152\"],[0.1,\"#c51b7d\"],[0.2,\"#de77ae\"],[0.3,\"#f1b6da\"],[0.4,\"#fde0ef\"],[0.5,\"#f7f7f7\"],[0.6,\"#e6f5d0\"],[0.7,\"#b8e186\"],[0.8,\"#7fbc41\"],[0.9,\"#4d9221\"],[1,\"#276419\"]]},\"xaxis\":{\"gridcolor\":\"white\",\"linecolor\":\"white\",\"ticks\":\"\",\"title\":{\"standoff\":15},\"zerolinecolor\":\"white\",\"automargin\":true,\"zerolinewidth\":2},\"yaxis\":{\"gridcolor\":\"white\",\"linecolor\":\"white\",\"ticks\":\"\",\"title\":{\"standoff\":15},\"zerolinecolor\":\"white\",\"automargin\":true,\"zerolinewidth\":2},\"scene\":{\"xaxis\":{\"backgroundcolor\":\"#E5ECF6\",\"gridcolor\":\"white\",\"linecolor\":\"white\",\"showbackground\":true,\"ticks\":\"\",\"zerolinecolor\":\"white\",\"gridwidth\":2},\"yaxis\":{\"backgroundcolor\":\"#E5ECF6\",\"gridcolor\":\"white\",\"linecolor\":\"white\",\"showbackground\":true,\"ticks\":\"\",\"zerolinecolor\":\"white\",\"gridwidth\":2},\"zaxis\":{\"backgroundcolor\":\"#E5ECF6\",\"gridcolor\":\"white\",\"linecolor\":\"white\",\"showbackground\":true,\"ticks\":\"\",\"zerolinecolor\":\"white\",\"gridwidth\":2}},\"shapedefaults\":{\"line\":{\"color\":\"#2a3f5f\"}},\"annotationdefaults\":{\"arrowcolor\":\"#2a3f5f\",\"arrowhead\":0,\"arrowwidth\":1},\"geo\":{\"bgcolor\":\"white\",\"landcolor\":\"#E5ECF6\",\"subunitcolor\":\"white\",\"showland\":true,\"showlakes\":true,\"lakecolor\":\"white\"},\"title\":{\"x\":0.05},\"mapbox\":{\"style\":\"light\"}}},\"xaxis\":{\"anchor\":\"y\",\"domain\":[0.0,1.0]},\"yaxis\":{\"anchor\":\"x\",\"domain\":[0.7777777777777778,1.0]},\"xaxis2\":{\"anchor\":\"y2\",\"domain\":[0.0,1.0]},\"yaxis2\":{\"anchor\":\"x2\",\"domain\":[0.3888888888888889,0.6111111111111112]},\"xaxis3\":{\"anchor\":\"y3\",\"domain\":[0.0,1.0]},\"yaxis3\":{\"anchor\":\"x3\",\"domain\":[0.0,0.22222222222222224]},\"annotations\":[{\"font\":{\"size\":16},\"showarrow\":false,\"text\":\"Validation Precision\",\"x\":0.5,\"xanchor\":\"center\",\"xref\":\"paper\",\"y\":1.0,\"yanchor\":\"bottom\",\"yref\":\"paper\"},{\"font\":{\"size\":16},\"showarrow\":false,\"text\":\"Validation Recall\",\"x\":0.5,\"xanchor\":\"center\",\"xref\":\"paper\",\"y\":0.6111111111111112,\"yanchor\":\"bottom\",\"yref\":\"paper\"},{\"font\":{\"size\":16},\"showarrow\":false,\"text\":\"Validation F1\",\"x\":0.5,\"xanchor\":\"center\",\"xref\":\"paper\",\"y\":0.22222222222222224,\"yanchor\":\"bottom\",\"yref\":\"paper\"}],\"title\":{\"text\":\"Validation Scores\"},\"height\":800,\"width\":1200},                        {\"responsive\": true}                    ).then(function(){\n",
              "                            \n",
              "var gd = document.getElementById('dee6cdbc-ae08-4039-9f8e-d4af50f93f6a');\n",
              "var x = new MutationObserver(function (mutations, observer) {{\n",
              "        var display = window.getComputedStyle(gd).display;\n",
              "        if (!display || display === 'none') {{\n",
              "            console.log([gd, 'removed!']);\n",
              "            Plotly.purge(gd);\n",
              "            observer.disconnect();\n",
              "        }}\n",
              "}});\n",
              "\n",
              "// Listen for the removal of the full notebook cells\n",
              "var notebookContainer = gd.closest('#notebook-container');\n",
              "if (notebookContainer) {{\n",
              "    x.observe(notebookContainer, {childList: true});\n",
              "}}\n",
              "\n",
              "// Listen for the clearing of the current output cell\n",
              "var outputEl = gd.closest('.output');\n",
              "if (outputEl) {{\n",
              "    x.observe(outputEl, {childList: true});\n",
              "}}\n",
              "\n",
              "                        })                };                            </script>        </div>\n",
              "</body>\n",
              "</html>"
            ]
          },
          "metadata": {}
        }
      ]
    },
    {
      "cell_type": "markdown",
      "metadata": {
        "id": "77HQ3yYyT-RZ"
      },
      "source": [
        "### Save the model to disk"
      ]
    },
    {
      "cell_type": "code",
      "execution_count": 22,
      "metadata": {
        "id": "_KEUa1yaSBZW",
        "colab": {
          "base_uri": "https://localhost:8080/"
        },
        "outputId": "aaebdd58-4639-4d56-e98f-f12ad358f20d"
      },
      "outputs": [
        {
          "output_type": "stream",
          "name": "stdout",
          "text": [
            "Model saved to ./models/new_medical_ner\n"
          ]
        }
      ],
      "source": [
        "model_path = \"./models/new_medical_ner\"\n",
        "ner_model.stages[-1].write().overwrite().save(model_path)\n",
        "print(f\"Model saved to {model_path}\")"
      ]
    },
    {
      "cell_type": "markdown",
      "source": [
        "\n",
        "\n",
        "---\n",
        "\n"
      ],
      "metadata": {
        "id": "-ggPkNl67Due"
      }
    },
    {
      "cell_type": "markdown",
      "source": [
        "## Example prediction"
      ],
      "metadata": {
        "id": "6kF7w3r5WzbI"
      }
    },
    {
      "cell_type": "code",
      "source": [
        "from pyspark.ml import PipelineModel\n",
        "from sparknlp_jsl.annotator import MedicalNerModel\n",
        "from sparknlp.annotator import DocumentAssembler, SentenceDetector, Tokenizer\n",
        "from sparknlp.base import Pipeline\n",
        "from sparknlp_display import NerVisualizer\n",
        "import pyspark.sql.functions as F\n",
        "\n",
        "print(\"Example prediction and visualization:\")\n",
        "\n",
        "# Saved NER model\n",
        "ner_model_path = \"models/new_medical_ner\"\n",
        "\n",
        "# Create a new pipeline with the saved NER model\n",
        "document = DocumentAssembler()\\\n",
        "    .setInputCol(\"text\")\\\n",
        "    .setOutputCol(\"document\")\n",
        "\n",
        "sentence = SentenceDetector()\\\n",
        "    .setInputCols(['document'])\\\n",
        "    .setOutputCol('sentence')\n",
        "\n",
        "token = Tokenizer()\\\n",
        "    .setInputCols(['sentence'])\\\n",
        "    .setOutputCol('token')\n",
        "\n",
        "loaded_ner_model = MedicalNerModel.load(ner_model_path)\\\n",
        "    .setInputCols([\"sentence\", \"token\", \"embeddings\"])\\\n",
        "    .setOutputCol(\"ner\")\n",
        "\n",
        "converter = NerConverterInternal()\\\n",
        "    .setInputCols([\"document\", \"token\", \"ner\"])\\\n",
        "    .setOutputCol(\"ner_span\")\n",
        "\n",
        "ner_prediction_pipeline = Pipeline(stages=[\n",
        "    document,\n",
        "    sentence,\n",
        "    token,\n",
        "    clinical_embeddings,\n",
        "    loaded_ner_model,\n",
        "    converter])\n",
        "\n",
        "empty_data = spark.createDataFrame([['']]).toDF(\"text\")\n",
        "\n",
        "prediction_model = ner_prediction_pipeline.fit(empty_data)\n",
        "\n",
        "from sparknlp.base import LightPipeline\n",
        "\n",
        "light_model = LightPipeline(prediction_model)\n"
      ],
      "metadata": {
        "colab": {
          "base_uri": "https://localhost:8080/"
        },
        "id": "Ia6saMphWsM4",
        "outputId": "ffe26153-c942-4e72-e7e7-1a39d0c0f335"
      },
      "execution_count": 23,
      "outputs": [
        {
          "output_type": "stream",
          "name": "stdout",
          "text": [
            "Example prediction and visualization:\n"
          ]
        }
      ]
    },
    {
      "cell_type": "code",
      "source": [
        "text = \"\"\"A 28-year-old female with a history of gestational diabetes mellitus diagnosed eight years prior to presentation and subsequent type two diabetes mellitus ( T2DM ), one prior episode of HTG-induced pancreatitis three years prior to presentation , associated with an acute hepatitis , and obesity with a body mass index ( BMI ) of 33.5 kg/m2 , presented with a one-week history of polyuria , polydipsia , poor appetite , and vomiting .\n",
        "Two weeks prior to presentation , she was treated with a five-day course of amoxicillin for a respiratory tract infection .\n",
        "She was on metformin , glipizide , and dapagliflozin for T2DM and atorvastatin and gemfibrozil for HTG . She had been on dapagliflozin for six months at the time of presentation .\n",
        "Physical examination on presentation was significant for dry oral mucosa ; significantly , her abdominal examination was benign with no tenderness , guarding , or rigidity .\n",
        "Pertinent laboratory findings on admission were : serum glucose 111 mg/dl , bicarbonate 18 mmol/l , anion gap 20 , creatinine 0.4 mg/dL , triglycerides 508 mg/dL , total cholesterol 122 mg/dL , glycated hemoglobin ( HbA1c ) 10% , and venous pH 7.27 .\n",
        "Serum lipase was normal at 43 U/L . Serum acetone levels could not be assessed as blood samples kept hemolyzing due to significant lipemia .\n",
        "The patient was initially admitted for starvation ketosis , as she reported poor oral intake for three days prior to admission .\n",
        "However , serum chemistry obtained six hours after presentation revealed her glucose was 186 mg/dL , the anion gap was still elevated at 21 , serum bicarbonate was 16 mmol/L , triglyceride level peaked at 2050 mg/dL , and lipase was 52 U/L .\n",
        "The β-hydroxybutyrate level was obtained and found to be elevated at 5.29 mmol/L - the original sample was centrifuged and the chylomicron layer removed prior to analysis due to interference from turbidity caused by lipemia again .\n",
        "The patient was treated with an insulin drip for euDKA and HTG with a reduction in the anion gap to 13 and triglycerides to 1400 mg/dL , within 24 hours .\n",
        "Her euDKA was thought to be precipitated by her respiratory tract infection in the setting of SGLT2 inhibitor use .\n",
        "The patient was seen by the endocrinology service and she was discharged on 40 units of insulin glargine at night , 12 units of insulin lispro with meals , and metformin 1000 mg two times a day .\n",
        "It was determined that all SGLT2 inhibitors should be discontinued indefinitely . She had close follow-up with endocrinology post discharge .\"\"\"\n",
        "\n",
        "light_result = light_model.fullAnnotate(text)\n",
        "\n",
        "from sparknlp_display import NerVisualizer\n",
        "\n",
        "visualiser = NerVisualizer()\n",
        "\n",
        "visualiser.display(light_result[0], label_col='ner_span', document_col='document', save_path=\"display_bert_result.html\")\n"
      ],
      "metadata": {
        "colab": {
          "base_uri": "https://localhost:8080/",
          "height": 1000
        },
        "id": "2X2J_TK0s90B",
        "outputId": "718bc5a4-1932-4017-8a98-cbdebc4e9ee3"
      },
      "execution_count": 24,
      "outputs": [
        {
          "output_type": "display_data",
          "data": {
            "text/plain": [
              "<IPython.core.display.HTML object>"
            ],
            "text/html": [
              "\n",
              "<style>\n",
              "    @import url('https://fonts.googleapis.com/css2?family=Montserrat:wght@300;400;500;600;700&display=swap');\n",
              "    @import url('https://fonts.googleapis.com/css2?family=Vistol Regular:wght@300;400;500;600;700&display=swap');\n",
              "    \n",
              "    .spark-nlp-display-scroll-entities {\n",
              "        border: 1px solid #E7EDF0;\n",
              "        border-radius: 3px;\n",
              "        text-align: justify;\n",
              "        \n",
              "    }\n",
              "    .spark-nlp-display-scroll-entities span {  \n",
              "        font-size: 14px;\n",
              "        line-height: 24px;\n",
              "        color: #536B76;\n",
              "        font-family: 'Montserrat', sans-serif !important;\n",
              "    }\n",
              "    \n",
              "    .spark-nlp-display-entity-wrapper{\n",
              "    \n",
              "        display: inline-grid;\n",
              "        text-align: center;\n",
              "        border-radius: 4px;\n",
              "        margin: 0 2px 5px 2px;\n",
              "        padding: 1px\n",
              "    }\n",
              "    .spark-nlp-display-entity-name{\n",
              "        font-size: 14px;\n",
              "        line-height: 24px;\n",
              "        font-family: 'Montserrat', sans-serif !important;\n",
              "        \n",
              "        background: #f1f2f3;\n",
              "        border-width: medium;\n",
              "        text-align: center;\n",
              "        \n",
              "        font-weight: 400;\n",
              "        \n",
              "        border-radius: 5px;\n",
              "        padding: 2px 5px;\n",
              "        display: block;\n",
              "        margin: 3px 2px;\n",
              "    \n",
              "    }\n",
              "    .spark-nlp-display-entity-type{\n",
              "        font-size: 14px;\n",
              "        line-height: 24px;\n",
              "        color: #ffffff;\n",
              "        font-family: 'Montserrat', sans-serif !important;\n",
              "        \n",
              "        text-transform: uppercase;\n",
              "        \n",
              "        font-weight: 500;\n",
              "\n",
              "        display: block;\n",
              "        padding: 3px 5px;\n",
              "    }\n",
              "    \n",
              "    .spark-nlp-display-entity-resolution{\n",
              "        font-size: 14px;\n",
              "        line-height: 24px;\n",
              "        color: #ffffff;\n",
              "        font-family: 'Vistol Regular', sans-serif !important;\n",
              "        \n",
              "        text-transform: uppercase;\n",
              "        \n",
              "        font-weight: 500;\n",
              "\n",
              "        display: block;\n",
              "        padding: 3px 5px;\n",
              "    }\n",
              "    \n",
              "    .spark-nlp-display-others{\n",
              "        font-size: 14px;\n",
              "        line-height: 24px;\n",
              "        font-family: 'Montserrat', sans-serif !important;\n",
              "        \n",
              "        font-weight: 400;\n",
              "    }\n",
              "\n",
              "</style>\n",
              " <span class=\"spark-nlp-display-others\" style=\"background-color: white\">A 28-year-old female with a history of </span><span class=\"spark-nlp-display-entity-wrapper\" style=\"background-color: #800080\"><span class=\"spark-nlp-display-entity-name\">gestational diabetes mellitus </span><span class=\"spark-nlp-display-entity-type\">PROBLEM</span></span><span class=\"spark-nlp-display-others\" style=\"background-color: white\"> diagnosed eight years prior to presentation and </span><span class=\"spark-nlp-display-entity-wrapper\" style=\"background-color: #800080\"><span class=\"spark-nlp-display-entity-name\">subsequent type two diabetes mellitus </span><span class=\"spark-nlp-display-entity-type\">PROBLEM</span></span><span class=\"spark-nlp-display-others\" style=\"background-color: white\"> ( </span><span class=\"spark-nlp-display-entity-wrapper\" style=\"background-color: #800080\"><span class=\"spark-nlp-display-entity-name\">T2DM </span><span class=\"spark-nlp-display-entity-type\">PROBLEM</span></span><span class=\"spark-nlp-display-others\" style=\"background-color: white\"> ), one prior episode of </span><span class=\"spark-nlp-display-entity-wrapper\" style=\"background-color: #800080\"><span class=\"spark-nlp-display-entity-name\">HTG-induced pancreatitis </span><span class=\"spark-nlp-display-entity-type\">PROBLEM</span></span><span class=\"spark-nlp-display-others\" style=\"background-color: white\"> three years prior to presentation , associated with </span><span class=\"spark-nlp-display-entity-wrapper\" style=\"background-color: #800080\"><span class=\"spark-nlp-display-entity-name\">an acute hepatitis </span><span class=\"spark-nlp-display-entity-type\">PROBLEM</span></span><span class=\"spark-nlp-display-others\" style=\"background-color: white\"> , and </span><span class=\"spark-nlp-display-entity-wrapper\" style=\"background-color: #800080\"><span class=\"spark-nlp-display-entity-name\">obesity </span><span class=\"spark-nlp-display-entity-type\">PROBLEM</span></span><span class=\"spark-nlp-display-others\" style=\"background-color: white\"> with </span><span class=\"spark-nlp-display-entity-wrapper\" style=\"background-color: #800080\"><span class=\"spark-nlp-display-entity-name\">a body mass index </span><span class=\"spark-nlp-display-entity-type\">PROBLEM</span></span><span class=\"spark-nlp-display-others\" style=\"background-color: white\"> ( BMI ) of 33.5 </span><span class=\"spark-nlp-display-entity-wrapper\" style=\"background-color: #800080\"><span class=\"spark-nlp-display-entity-name\">kg/m2 </span><span class=\"spark-nlp-display-entity-type\">PROBLEM</span></span><span class=\"spark-nlp-display-others\" style=\"background-color: white\"> , presented with a one-week history of </span><span class=\"spark-nlp-display-entity-wrapper\" style=\"background-color: #800080\"><span class=\"spark-nlp-display-entity-name\">polyuria </span><span class=\"spark-nlp-display-entity-type\">PROBLEM</span></span><span class=\"spark-nlp-display-others\" style=\"background-color: white\"> , </span><span class=\"spark-nlp-display-entity-wrapper\" style=\"background-color: #800080\"><span class=\"spark-nlp-display-entity-name\">polydipsia </span><span class=\"spark-nlp-display-entity-type\">PROBLEM</span></span><span class=\"spark-nlp-display-others\" style=\"background-color: white\"> , </span><span class=\"spark-nlp-display-entity-wrapper\" style=\"background-color: #800080\"><span class=\"spark-nlp-display-entity-name\">poor appetite </span><span class=\"spark-nlp-display-entity-type\">PROBLEM</span></span><span class=\"spark-nlp-display-others\" style=\"background-color: white\"> , and </span><span class=\"spark-nlp-display-entity-wrapper\" style=\"background-color: #800080\"><span class=\"spark-nlp-display-entity-name\">vomiting </span><span class=\"spark-nlp-display-entity-type\">PROBLEM</span></span><span class=\"spark-nlp-display-others\" style=\"background-color: white\"> .<br>Two weeks prior to presentation , she was treated with a five-day course of </span><span class=\"spark-nlp-display-entity-wrapper\" style=\"background-color: #8B668B\"><span class=\"spark-nlp-display-entity-name\">amoxicillin </span><span class=\"spark-nlp-display-entity-type\">DRUG</span></span><span class=\"spark-nlp-display-others\" style=\"background-color: white\"> for </span><span class=\"spark-nlp-display-entity-wrapper\" style=\"background-color: #800080\"><span class=\"spark-nlp-display-entity-name\">a respiratory tract infection </span><span class=\"spark-nlp-display-entity-type\">PROBLEM</span></span><span class=\"spark-nlp-display-others\" style=\"background-color: white\"> .<br>She was on </span><span class=\"spark-nlp-display-entity-wrapper\" style=\"background-color: #8B668B\"><span class=\"spark-nlp-display-entity-name\">metformin </span><span class=\"spark-nlp-display-entity-type\">DRUG</span></span><span class=\"spark-nlp-display-others\" style=\"background-color: white\"> , </span><span class=\"spark-nlp-display-entity-wrapper\" style=\"background-color: #8B668B\"><span class=\"spark-nlp-display-entity-name\">glipizide </span><span class=\"spark-nlp-display-entity-type\">DRUG</span></span><span class=\"spark-nlp-display-others\" style=\"background-color: white\"> , and </span><span class=\"spark-nlp-display-entity-wrapper\" style=\"background-color: #8B668B\"><span class=\"spark-nlp-display-entity-name\">dapagliflozin </span><span class=\"spark-nlp-display-entity-type\">DRUG</span></span><span class=\"spark-nlp-display-others\" style=\"background-color: white\"> for </span><span class=\"spark-nlp-display-entity-wrapper\" style=\"background-color: #800080\"><span class=\"spark-nlp-display-entity-name\">T2DM </span><span class=\"spark-nlp-display-entity-type\">PROBLEM</span></span><span class=\"spark-nlp-display-others\" style=\"background-color: white\"> and </span><span class=\"spark-nlp-display-entity-wrapper\" style=\"background-color: #8B668B\"><span class=\"spark-nlp-display-entity-name\">atorvastatin </span><span class=\"spark-nlp-display-entity-type\">DRUG</span></span><span class=\"spark-nlp-display-others\" style=\"background-color: white\"> and </span><span class=\"spark-nlp-display-entity-wrapper\" style=\"background-color: #8B668B\"><span class=\"spark-nlp-display-entity-name\">gemfibrozil </span><span class=\"spark-nlp-display-entity-type\">DRUG</span></span><span class=\"spark-nlp-display-others\" style=\"background-color: white\"> for </span><span class=\"spark-nlp-display-entity-wrapper\" style=\"background-color: #800080\"><span class=\"spark-nlp-display-entity-name\">HTG </span><span class=\"spark-nlp-display-entity-type\">PROBLEM</span></span><span class=\"spark-nlp-display-others\" style=\"background-color: white\"> . She had been on </span><span class=\"spark-nlp-display-entity-wrapper\" style=\"background-color: #8B668B\"><span class=\"spark-nlp-display-entity-name\">dapagliflozin </span><span class=\"spark-nlp-display-entity-type\">DRUG</span></span><span class=\"spark-nlp-display-others\" style=\"background-color: white\"> for six months at the time of presentation .<br></span><span class=\"spark-nlp-display-entity-wrapper\" style=\"background-color: #77b5fe\"><span class=\"spark-nlp-display-entity-name\">Physical examination </span><span class=\"spark-nlp-display-entity-type\">TEST</span></span><span class=\"spark-nlp-display-others\" style=\"background-color: white\"> on presentation was significant for </span><span class=\"spark-nlp-display-entity-wrapper\" style=\"background-color: #800080\"><span class=\"spark-nlp-display-entity-name\">dry oral mucosa </span><span class=\"spark-nlp-display-entity-type\">PROBLEM</span></span><span class=\"spark-nlp-display-others\" style=\"background-color: white\"> ; significantly , </span><span class=\"spark-nlp-display-entity-wrapper\" style=\"background-color: #77b5fe\"><span class=\"spark-nlp-display-entity-name\">her abdominal examination </span><span class=\"spark-nlp-display-entity-type\">TEST</span></span><span class=\"spark-nlp-display-others\" style=\"background-color: white\"> was benign with no </span><span class=\"spark-nlp-display-entity-wrapper\" style=\"background-color: #800080\"><span class=\"spark-nlp-display-entity-name\">tenderness </span><span class=\"spark-nlp-display-entity-type\">PROBLEM</span></span><span class=\"spark-nlp-display-others\" style=\"background-color: white\"> , </span><span class=\"spark-nlp-display-entity-wrapper\" style=\"background-color: #800080\"><span class=\"spark-nlp-display-entity-name\">guarding </span><span class=\"spark-nlp-display-entity-type\">PROBLEM</span></span><span class=\"spark-nlp-display-others\" style=\"background-color: white\"> , or </span><span class=\"spark-nlp-display-entity-wrapper\" style=\"background-color: #800080\"><span class=\"spark-nlp-display-entity-name\">rigidity </span><span class=\"spark-nlp-display-entity-type\">PROBLEM</span></span><span class=\"spark-nlp-display-others\" style=\"background-color: white\"> .<br></span><span class=\"spark-nlp-display-entity-wrapper\" style=\"background-color: #77b5fe\"><span class=\"spark-nlp-display-entity-name\">Pertinent laboratory </span><span class=\"spark-nlp-display-entity-type\">TEST</span></span><span class=\"spark-nlp-display-others\" style=\"background-color: white\"> findings on </span><span class=\"spark-nlp-display-entity-wrapper\" style=\"background-color: #77b5fe\"><span class=\"spark-nlp-display-entity-name\">admission </span><span class=\"spark-nlp-display-entity-type\">TEST</span></span><span class=\"spark-nlp-display-others\" style=\"background-color: white\"> were : </span><span class=\"spark-nlp-display-entity-wrapper\" style=\"background-color: #77b5fe\"><span class=\"spark-nlp-display-entity-name\">serum glucose 111 mg/dl </span><span class=\"spark-nlp-display-entity-type\">TEST</span></span><span class=\"spark-nlp-display-others\" style=\"background-color: white\"> , </span><span class=\"spark-nlp-display-entity-wrapper\" style=\"background-color: #77b5fe\"><span class=\"spark-nlp-display-entity-name\">bicarbonate 18 mmol/l </span><span class=\"spark-nlp-display-entity-type\">TEST</span></span><span class=\"spark-nlp-display-others\" style=\"background-color: white\"> , </span><span class=\"spark-nlp-display-entity-wrapper\" style=\"background-color: #77b5fe\"><span class=\"spark-nlp-display-entity-name\">anion gap </span><span class=\"spark-nlp-display-entity-type\">TEST</span></span><span class=\"spark-nlp-display-others\" style=\"background-color: white\"> 20 , </span><span class=\"spark-nlp-display-entity-wrapper\" style=\"background-color: #77b5fe\"><span class=\"spark-nlp-display-entity-name\">creatinine 0.4 mg/dL </span><span class=\"spark-nlp-display-entity-type\">TEST</span></span><span class=\"spark-nlp-display-others\" style=\"background-color: white\"> , </span><span class=\"spark-nlp-display-entity-wrapper\" style=\"background-color: #77b5fe\"><span class=\"spark-nlp-display-entity-name\">triglycerides 508 mg/dL </span><span class=\"spark-nlp-display-entity-type\">TEST</span></span><span class=\"spark-nlp-display-others\" style=\"background-color: white\"> , </span><span class=\"spark-nlp-display-entity-wrapper\" style=\"background-color: #77b5fe\"><span class=\"spark-nlp-display-entity-name\">total cholesterol </span><span class=\"spark-nlp-display-entity-type\">TEST</span></span><span class=\"spark-nlp-display-others\" style=\"background-color: white\"> 122 </span><span class=\"spark-nlp-display-entity-wrapper\" style=\"background-color: #77b5fe\"><span class=\"spark-nlp-display-entity-name\">mg/dL </span><span class=\"spark-nlp-display-entity-type\">TEST</span></span><span class=\"spark-nlp-display-others\" style=\"background-color: white\"> , </span><span class=\"spark-nlp-display-entity-wrapper\" style=\"background-color: #77b5fe\"><span class=\"spark-nlp-display-entity-name\">glycated hemoglobin </span><span class=\"spark-nlp-display-entity-type\">TEST</span></span><span class=\"spark-nlp-display-others\" style=\"background-color: white\"> ( </span><span class=\"spark-nlp-display-entity-wrapper\" style=\"background-color: #77b5fe\"><span class=\"spark-nlp-display-entity-name\">HbA1c ) 10% </span><span class=\"spark-nlp-display-entity-type\">TEST</span></span><span class=\"spark-nlp-display-others\" style=\"background-color: white\"> , and </span><span class=\"spark-nlp-display-entity-wrapper\" style=\"background-color: #77b5fe\"><span class=\"spark-nlp-display-entity-name\">venous pH </span><span class=\"spark-nlp-display-entity-type\">TEST</span></span><span class=\"spark-nlp-display-others\" style=\"background-color: white\"> 7.27 .<br></span><span class=\"spark-nlp-display-entity-wrapper\" style=\"background-color: #77b5fe\"><span class=\"spark-nlp-display-entity-name\">Serum lipase </span><span class=\"spark-nlp-display-entity-type\">TEST</span></span><span class=\"spark-nlp-display-others\" style=\"background-color: white\"> was normal at 43 U/L . </span><span class=\"spark-nlp-display-entity-wrapper\" style=\"background-color: #77b5fe\"><span class=\"spark-nlp-display-entity-name\">Serum acetone </span><span class=\"spark-nlp-display-entity-type\">TEST</span></span><span class=\"spark-nlp-display-others\" style=\"background-color: white\"> levels could not be assessed as </span><span class=\"spark-nlp-display-entity-wrapper\" style=\"background-color: #77b5fe\"><span class=\"spark-nlp-display-entity-name\">blood samples </span><span class=\"spark-nlp-display-entity-type\">TEST</span></span><span class=\"spark-nlp-display-others\" style=\"background-color: white\"> kept </span><span class=\"spark-nlp-display-entity-wrapper\" style=\"background-color: #77b5fe\"><span class=\"spark-nlp-display-entity-name\">hemolyzing </span><span class=\"spark-nlp-display-entity-type\">TEST</span></span><span class=\"spark-nlp-display-others\" style=\"background-color: white\"> due to </span><span class=\"spark-nlp-display-entity-wrapper\" style=\"background-color: #800080\"><span class=\"spark-nlp-display-entity-name\">significant lipemia </span><span class=\"spark-nlp-display-entity-type\">PROBLEM</span></span><span class=\"spark-nlp-display-others\" style=\"background-color: white\"> .<br>The patient was initially admitted for </span><span class=\"spark-nlp-display-entity-wrapper\" style=\"background-color: #800080\"><span class=\"spark-nlp-display-entity-name\">starvation ketosis </span><span class=\"spark-nlp-display-entity-type\">PROBLEM</span></span><span class=\"spark-nlp-display-others\" style=\"background-color: white\"> , as she reported poor oral intake for three days prior to admission .<br>However , </span><span class=\"spark-nlp-display-entity-wrapper\" style=\"background-color: #77b5fe\"><span class=\"spark-nlp-display-entity-name\">serum chemistry </span><span class=\"spark-nlp-display-entity-type\">TEST</span></span><span class=\"spark-nlp-display-others\" style=\"background-color: white\"> obtained six hours after presentation revealed </span><span class=\"spark-nlp-display-entity-wrapper\" style=\"background-color: #77b5fe\"><span class=\"spark-nlp-display-entity-name\">her glucose </span><span class=\"spark-nlp-display-entity-type\">TEST</span></span><span class=\"spark-nlp-display-others\" style=\"background-color: white\"> was 186 </span><span class=\"spark-nlp-display-entity-wrapper\" style=\"background-color: #77b5fe\"><span class=\"spark-nlp-display-entity-name\">mg/dL </span><span class=\"spark-nlp-display-entity-type\">TEST</span></span><span class=\"spark-nlp-display-others\" style=\"background-color: white\"> , </span><span class=\"spark-nlp-display-entity-wrapper\" style=\"background-color: #800080\"><span class=\"spark-nlp-display-entity-name\">the anion gap </span><span class=\"spark-nlp-display-entity-type\">PROBLEM</span></span><span class=\"spark-nlp-display-others\" style=\"background-color: white\"> was still </span><span class=\"spark-nlp-display-entity-wrapper\" style=\"background-color: #800080\"><span class=\"spark-nlp-display-entity-name\">elevated </span><span class=\"spark-nlp-display-entity-type\">PROBLEM</span></span><span class=\"spark-nlp-display-others\" style=\"background-color: white\"> at 21 , </span><span class=\"spark-nlp-display-entity-wrapper\" style=\"background-color: #77b5fe\"><span class=\"spark-nlp-display-entity-name\">serum bicarbonate </span><span class=\"spark-nlp-display-entity-type\">TEST</span></span><span class=\"spark-nlp-display-others\" style=\"background-color: white\"> was 16 </span><span class=\"spark-nlp-display-entity-wrapper\" style=\"background-color: #77b5fe\"><span class=\"spark-nlp-display-entity-name\">mmol/L </span><span class=\"spark-nlp-display-entity-type\">TEST</span></span><span class=\"spark-nlp-display-others\" style=\"background-color: white\"> , </span><span class=\"spark-nlp-display-entity-wrapper\" style=\"background-color: #77b5fe\"><span class=\"spark-nlp-display-entity-name\">triglyceride </span><span class=\"spark-nlp-display-entity-type\">TEST</span></span><span class=\"spark-nlp-display-others\" style=\"background-color: white\"> level peaked at </span><span class=\"spark-nlp-display-entity-wrapper\" style=\"background-color: #77b5fe\"><span class=\"spark-nlp-display-entity-name\">2050 mg/dL </span><span class=\"spark-nlp-display-entity-type\">TEST</span></span><span class=\"spark-nlp-display-others\" style=\"background-color: white\"> , and </span><span class=\"spark-nlp-display-entity-wrapper\" style=\"background-color: #77b5fe\"><span class=\"spark-nlp-display-entity-name\">lipase </span><span class=\"spark-nlp-display-entity-type\">TEST</span></span><span class=\"spark-nlp-display-others\" style=\"background-color: white\"> was </span><span class=\"spark-nlp-display-entity-wrapper\" style=\"background-color: #77b5fe\"><span class=\"spark-nlp-display-entity-name\">52 U/L </span><span class=\"spark-nlp-display-entity-type\">TEST</span></span><span class=\"spark-nlp-display-others\" style=\"background-color: white\"> .<br></span><span class=\"spark-nlp-display-entity-wrapper\" style=\"background-color: #77b5fe\"><span class=\"spark-nlp-display-entity-name\">The β-hydroxybutyrate </span><span class=\"spark-nlp-display-entity-type\">TEST</span></span><span class=\"spark-nlp-display-others\" style=\"background-color: white\"> level was obtained and found to be </span><span class=\"spark-nlp-display-entity-wrapper\" style=\"background-color: #800080\"><span class=\"spark-nlp-display-entity-name\">elevated </span><span class=\"spark-nlp-display-entity-type\">PROBLEM</span></span><span class=\"spark-nlp-display-others\" style=\"background-color: white\"> at 5.29 mmol/L - the original sample was centrifuged and </span><span class=\"spark-nlp-display-entity-wrapper\" style=\"background-color: #77b5fe\"><span class=\"spark-nlp-display-entity-name\">the chylomicron layer </span><span class=\"spark-nlp-display-entity-type\">TEST</span></span><span class=\"spark-nlp-display-others\" style=\"background-color: white\"> removed prior to </span><span class=\"spark-nlp-display-entity-wrapper\" style=\"background-color: #77b5fe\"><span class=\"spark-nlp-display-entity-name\">analysis </span><span class=\"spark-nlp-display-entity-type\">TEST</span></span><span class=\"spark-nlp-display-others\" style=\"background-color: white\"> due to </span><span class=\"spark-nlp-display-entity-wrapper\" style=\"background-color: #800080\"><span class=\"spark-nlp-display-entity-name\">interference </span><span class=\"spark-nlp-display-entity-type\">PROBLEM</span></span><span class=\"spark-nlp-display-others\" style=\"background-color: white\"> from </span><span class=\"spark-nlp-display-entity-wrapper\" style=\"background-color: #800080\"><span class=\"spark-nlp-display-entity-name\">turbidity </span><span class=\"spark-nlp-display-entity-type\">PROBLEM</span></span><span class=\"spark-nlp-display-others\" style=\"background-color: white\"> caused by </span><span class=\"spark-nlp-display-entity-wrapper\" style=\"background-color: #800080\"><span class=\"spark-nlp-display-entity-name\">lipemia </span><span class=\"spark-nlp-display-entity-type\">PROBLEM</span></span><span class=\"spark-nlp-display-others\" style=\"background-color: white\"> again .<br>The patient was treated with </span><span class=\"spark-nlp-display-entity-wrapper\" style=\"background-color: #8b6673\"><span class=\"spark-nlp-display-entity-name\">an insulin drip </span><span class=\"spark-nlp-display-entity-type\">TREATMENT</span></span><span class=\"spark-nlp-display-others\" style=\"background-color: white\"> for euDKA and </span><span class=\"spark-nlp-display-entity-wrapper\" style=\"background-color: #800080\"><span class=\"spark-nlp-display-entity-name\">HTG </span><span class=\"spark-nlp-display-entity-type\">PROBLEM</span></span><span class=\"spark-nlp-display-others\" style=\"background-color: white\"> with </span><span class=\"spark-nlp-display-entity-wrapper\" style=\"background-color: #8b6673\"><span class=\"spark-nlp-display-entity-name\">a reduction </span><span class=\"spark-nlp-display-entity-type\">TREATMENT</span></span><span class=\"spark-nlp-display-others\" style=\"background-color: white\"> in </span><span class=\"spark-nlp-display-entity-wrapper\" style=\"background-color: #800080\"><span class=\"spark-nlp-display-entity-name\">the anion gap </span><span class=\"spark-nlp-display-entity-type\">PROBLEM</span></span><span class=\"spark-nlp-display-others\" style=\"background-color: white\"> to 13 and </span><span class=\"spark-nlp-display-entity-wrapper\" style=\"background-color: #77b5fe\"><span class=\"spark-nlp-display-entity-name\">triglycerides </span><span class=\"spark-nlp-display-entity-type\">TEST</span></span><span class=\"spark-nlp-display-others\" style=\"background-color: white\"> to </span><span class=\"spark-nlp-display-entity-wrapper\" style=\"background-color: #77b5fe\"><span class=\"spark-nlp-display-entity-name\">1400 mg/dL </span><span class=\"spark-nlp-display-entity-type\">TEST</span></span><span class=\"spark-nlp-display-others\" style=\"background-color: white\"> , within 24 hours .<br>Her euDKA was thought to be precipitated by </span><span class=\"spark-nlp-display-entity-wrapper\" style=\"background-color: #800080\"><span class=\"spark-nlp-display-entity-name\">her respiratory tract infection </span><span class=\"spark-nlp-display-entity-type\">PROBLEM</span></span><span class=\"spark-nlp-display-others\" style=\"background-color: white\"> in the setting of </span><span class=\"spark-nlp-display-entity-wrapper\" style=\"background-color: #8B668B\"><span class=\"spark-nlp-display-entity-name\">SGLT2 inhibitor </span><span class=\"spark-nlp-display-entity-type\">DRUG</span></span><span class=\"spark-nlp-display-others\" style=\"background-color: white\"> use .<br>The patient was seen by the endocrinology service and she was discharged on 40 units of </span><span class=\"spark-nlp-display-entity-wrapper\" style=\"background-color: #8B668B\"><span class=\"spark-nlp-display-entity-name\">insulin glargine </span><span class=\"spark-nlp-display-entity-type\">DRUG</span></span><span class=\"spark-nlp-display-others\" style=\"background-color: white\"> at night , 12 units of </span><span class=\"spark-nlp-display-entity-wrapper\" style=\"background-color: #8B668B\"><span class=\"spark-nlp-display-entity-name\">insulin lispro </span><span class=\"spark-nlp-display-entity-type\">DRUG</span></span><span class=\"spark-nlp-display-others\" style=\"background-color: white\"> with meals , and </span><span class=\"spark-nlp-display-entity-wrapper\" style=\"background-color: #8B668B\"><span class=\"spark-nlp-display-entity-name\">metformin 1000 mg </span><span class=\"spark-nlp-display-entity-type\">DRUG</span></span><span class=\"spark-nlp-display-others\" style=\"background-color: white\"> two times a day .<br>It was determined that all </span><span class=\"spark-nlp-display-entity-wrapper\" style=\"background-color: #8B668B\"><span class=\"spark-nlp-display-entity-name\">SGLT2 inhibitors </span><span class=\"spark-nlp-display-entity-type\">DRUG</span></span><span class=\"spark-nlp-display-others\" style=\"background-color: white\"> should be discontinued indefinitely . She had close follow-up with endocrinology post discharge .</span></div>"
            ]
          },
          "metadata": {}
        }
      ]
    },
    {
      "cell_type": "markdown",
      "source": [
        "\n",
        "\n",
        "---\n",
        "*`R.Caliskan`*\n"
      ],
      "metadata": {
        "id": "mz9eFSjXXFbg"
      }
    }
  ],
  "metadata": {
    "colab": {
      "provenance": [],
      "gpuType": "T4",
      "include_colab_link": true
    },
    "kernelspec": {
      "display_name": "Python 3",
      "name": "python3"
    },
    "language_info": {
      "codemirror_mode": {
        "name": "ipython",
        "version": 3
      },
      "file_extension": ".py",
      "mimetype": "text/x-python",
      "name": "python",
      "nbconvert_exporter": "python",
      "pygments_lexer": "ipython3",
      "version": "3.7.6"
    },
    "accelerator": "GPU"
  },
  "nbformat": 4,
  "nbformat_minor": 0
}
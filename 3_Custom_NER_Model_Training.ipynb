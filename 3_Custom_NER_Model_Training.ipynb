{
  "cells": [
    {
      "cell_type": "markdown",
      "metadata": {
        "id": "view-in-github",
        "colab_type": "text"
      },
      "source": [
        "<a href=\"https://colab.research.google.com/github/russell-ai/SparkNLP-CustomNER/blob/main/3_Custom_NER_Model_Training.ipynb\" target=\"_parent\"><img src=\"https://colab.research.google.com/assets/colab-badge.svg\" alt=\"Open In Colab\"/></a>"
      ]
    },
    {
      "cell_type": "markdown",
      "metadata": {
        "id": "I08sFJYCxR0Z"
      },
      "source": [
        "![JohnSnowLabs](https://nlp.johnsnowlabs.com/assets/images/logo.png)"
      ]
    },
    {
      "cell_type": "markdown",
      "metadata": {
        "id": "nWu_IMfY4L1N"
      },
      "source": [
        "# **Interview Task**\n",
        "[Running a Spark NLP Healthcare Pipeline and Training a Custom NER Model](https://docs.google.com/document/d/1l_SpYGAlVGAEe9x-b8avgvKipCXetdap2ttc4UKreO4/edit?tab=t.0)  \n",
        "## **PART-III Custom NER Model Training:**\n",
        "  \n",
        "In this part, we will perform model training using the coNLL training dataset prepared in the previous part (Part 2)."
      ]
    },
    {
      "cell_type": "markdown",
      "metadata": {
        "id": "-68NMdHxJIco"
      },
      "source": [
        "## Environment Setup"
      ]
    },
    {
      "cell_type": "code",
      "execution_count": 1,
      "metadata": {
        "id": "h9Mn1PNTNJTq",
        "colab": {
          "base_uri": "https://localhost:8080/",
          "height": 73
        },
        "outputId": "1a7e0071-33a9-47a0-9f66-7ff51c7370d2"
      },
      "outputs": [
        {
          "output_type": "display_data",
          "data": {
            "text/plain": [
              "<IPython.core.display.HTML object>"
            ],
            "text/html": [
              "\n",
              "     <input type=\"file\" id=\"files-3c3320a7-274b-4961-89f8-51f3346fb12d\" name=\"files[]\" multiple disabled\n",
              "        style=\"border:none\" />\n",
              "     <output id=\"result-3c3320a7-274b-4961-89f8-51f3346fb12d\">\n",
              "      Upload widget is only available when the cell has been executed in the\n",
              "      current browser session. Please rerun this cell to enable.\n",
              "      </output>\n",
              "      <script>// Copyright 2017 Google LLC\n",
              "//\n",
              "// Licensed under the Apache License, Version 2.0 (the \"License\");\n",
              "// you may not use this file except in compliance with the License.\n",
              "// You may obtain a copy of the License at\n",
              "//\n",
              "//      http://www.apache.org/licenses/LICENSE-2.0\n",
              "//\n",
              "// Unless required by applicable law or agreed to in writing, software\n",
              "// distributed under the License is distributed on an \"AS IS\" BASIS,\n",
              "// WITHOUT WARRANTIES OR CONDITIONS OF ANY KIND, either express or implied.\n",
              "// See the License for the specific language governing permissions and\n",
              "// limitations under the License.\n",
              "\n",
              "/**\n",
              " * @fileoverview Helpers for google.colab Python module.\n",
              " */\n",
              "(function(scope) {\n",
              "function span(text, styleAttributes = {}) {\n",
              "  const element = document.createElement('span');\n",
              "  element.textContent = text;\n",
              "  for (const key of Object.keys(styleAttributes)) {\n",
              "    element.style[key] = styleAttributes[key];\n",
              "  }\n",
              "  return element;\n",
              "}\n",
              "\n",
              "// Max number of bytes which will be uploaded at a time.\n",
              "const MAX_PAYLOAD_SIZE = 100 * 1024;\n",
              "\n",
              "function _uploadFiles(inputId, outputId) {\n",
              "  const steps = uploadFilesStep(inputId, outputId);\n",
              "  const outputElement = document.getElementById(outputId);\n",
              "  // Cache steps on the outputElement to make it available for the next call\n",
              "  // to uploadFilesContinue from Python.\n",
              "  outputElement.steps = steps;\n",
              "\n",
              "  return _uploadFilesContinue(outputId);\n",
              "}\n",
              "\n",
              "// This is roughly an async generator (not supported in the browser yet),\n",
              "// where there are multiple asynchronous steps and the Python side is going\n",
              "// to poll for completion of each step.\n",
              "// This uses a Promise to block the python side on completion of each step,\n",
              "// then passes the result of the previous step as the input to the next step.\n",
              "function _uploadFilesContinue(outputId) {\n",
              "  const outputElement = document.getElementById(outputId);\n",
              "  const steps = outputElement.steps;\n",
              "\n",
              "  const next = steps.next(outputElement.lastPromiseValue);\n",
              "  return Promise.resolve(next.value.promise).then((value) => {\n",
              "    // Cache the last promise value to make it available to the next\n",
              "    // step of the generator.\n",
              "    outputElement.lastPromiseValue = value;\n",
              "    return next.value.response;\n",
              "  });\n",
              "}\n",
              "\n",
              "/**\n",
              " * Generator function which is called between each async step of the upload\n",
              " * process.\n",
              " * @param {string} inputId Element ID of the input file picker element.\n",
              " * @param {string} outputId Element ID of the output display.\n",
              " * @return {!Iterable<!Object>} Iterable of next steps.\n",
              " */\n",
              "function* uploadFilesStep(inputId, outputId) {\n",
              "  const inputElement = document.getElementById(inputId);\n",
              "  inputElement.disabled = false;\n",
              "\n",
              "  const outputElement = document.getElementById(outputId);\n",
              "  outputElement.innerHTML = '';\n",
              "\n",
              "  const pickedPromise = new Promise((resolve) => {\n",
              "    inputElement.addEventListener('change', (e) => {\n",
              "      resolve(e.target.files);\n",
              "    });\n",
              "  });\n",
              "\n",
              "  const cancel = document.createElement('button');\n",
              "  inputElement.parentElement.appendChild(cancel);\n",
              "  cancel.textContent = 'Cancel upload';\n",
              "  const cancelPromise = new Promise((resolve) => {\n",
              "    cancel.onclick = () => {\n",
              "      resolve(null);\n",
              "    };\n",
              "  });\n",
              "\n",
              "  // Wait for the user to pick the files.\n",
              "  const files = yield {\n",
              "    promise: Promise.race([pickedPromise, cancelPromise]),\n",
              "    response: {\n",
              "      action: 'starting',\n",
              "    }\n",
              "  };\n",
              "\n",
              "  cancel.remove();\n",
              "\n",
              "  // Disable the input element since further picks are not allowed.\n",
              "  inputElement.disabled = true;\n",
              "\n",
              "  if (!files) {\n",
              "    return {\n",
              "      response: {\n",
              "        action: 'complete',\n",
              "      }\n",
              "    };\n",
              "  }\n",
              "\n",
              "  for (const file of files) {\n",
              "    const li = document.createElement('li');\n",
              "    li.append(span(file.name, {fontWeight: 'bold'}));\n",
              "    li.append(span(\n",
              "        `(${file.type || 'n/a'}) - ${file.size} bytes, ` +\n",
              "        `last modified: ${\n",
              "            file.lastModifiedDate ? file.lastModifiedDate.toLocaleDateString() :\n",
              "                                    'n/a'} - `));\n",
              "    const percent = span('0% done');\n",
              "    li.appendChild(percent);\n",
              "\n",
              "    outputElement.appendChild(li);\n",
              "\n",
              "    const fileDataPromise = new Promise((resolve) => {\n",
              "      const reader = new FileReader();\n",
              "      reader.onload = (e) => {\n",
              "        resolve(e.target.result);\n",
              "      };\n",
              "      reader.readAsArrayBuffer(file);\n",
              "    });\n",
              "    // Wait for the data to be ready.\n",
              "    let fileData = yield {\n",
              "      promise: fileDataPromise,\n",
              "      response: {\n",
              "        action: 'continue',\n",
              "      }\n",
              "    };\n",
              "\n",
              "    // Use a chunked sending to avoid message size limits. See b/62115660.\n",
              "    let position = 0;\n",
              "    do {\n",
              "      const length = Math.min(fileData.byteLength - position, MAX_PAYLOAD_SIZE);\n",
              "      const chunk = new Uint8Array(fileData, position, length);\n",
              "      position += length;\n",
              "\n",
              "      const base64 = btoa(String.fromCharCode.apply(null, chunk));\n",
              "      yield {\n",
              "        response: {\n",
              "          action: 'append',\n",
              "          file: file.name,\n",
              "          data: base64,\n",
              "        },\n",
              "      };\n",
              "\n",
              "      let percentDone = fileData.byteLength === 0 ?\n",
              "          100 :\n",
              "          Math.round((position / fileData.byteLength) * 100);\n",
              "      percent.textContent = `${percentDone}% done`;\n",
              "\n",
              "    } while (position < fileData.byteLength);\n",
              "  }\n",
              "\n",
              "  // All done.\n",
              "  yield {\n",
              "    response: {\n",
              "      action: 'complete',\n",
              "    }\n",
              "  };\n",
              "}\n",
              "\n",
              "scope.google = scope.google || {};\n",
              "scope.google.colab = scope.google.colab || {};\n",
              "scope.google.colab._files = {\n",
              "  _uploadFiles,\n",
              "  _uploadFilesContinue,\n",
              "};\n",
              "})(self);\n",
              "</script> "
            ]
          },
          "metadata": {}
        },
        {
          "output_type": "stream",
          "name": "stdout",
          "text": [
            "Saving Medical Language Models for Data Scientists  Training License.json to Medical Language Models for Data Scientists  Training License.json\n"
          ]
        }
      ],
      "source": [
        "import json\n",
        "import os\n",
        "\n",
        "from google.colab import files\n",
        "\n",
        "if 'spark_jsl.json' not in os.listdir():\n",
        "  license_keys = files.upload()\n",
        "  os.rename(list(license_keys.keys())[0], 'spark_jsl.json')\n",
        "\n",
        "with open('spark_jsl.json') as f:\n",
        "    license_keys = json.load(f)\n",
        "\n",
        "# Defining license key-value pairs as local variables\n",
        "locals().update(license_keys)\n",
        "os.environ.update(license_keys)"
      ]
    },
    {
      "cell_type": "code",
      "execution_count": 2,
      "metadata": {
        "id": "yvHraBK7b-LU",
        "colab": {
          "base_uri": "https://localhost:8080/"
        },
        "outputId": "35ccfc2e-bf22-49d9-8393-37e70e4d4c7d"
      },
      "outputs": [
        {
          "output_type": "stream",
          "name": "stdout",
          "text": [
            "\u001b[2K     \u001b[90m━━━━━━━━━━━━━━━━━━━━━━━━━━━━━━━━━━━━━━━━\u001b[0m \u001b[32m310.8/310.8 MB\u001b[0m \u001b[31m4.1 MB/s\u001b[0m eta \u001b[36m0:00:00\u001b[0m\n",
            "\u001b[?25h  Preparing metadata (setup.py) ... \u001b[?25l\u001b[?25hdone\n",
            "\u001b[2K     \u001b[90m━━━━━━━━━━━━━━━━━━━━━━━━━━━━━━━━━━━━━━━━\u001b[0m \u001b[32m55.6/55.6 kB\u001b[0m \u001b[31m5.6 MB/s\u001b[0m eta \u001b[36m0:00:00\u001b[0m\n",
            "\u001b[2K   \u001b[90m━━━━━━━━━━━━━━━━━━━━━━━━━━━━━━━━━━━━━━━━\u001b[0m \u001b[32m579.2/579.2 kB\u001b[0m \u001b[31m43.5 MB/s\u001b[0m eta \u001b[36m0:00:00\u001b[0m\n",
            "\u001b[?25h  Building wheel for pyspark (setup.py) ... \u001b[?25l\u001b[?25hdone\n",
            "\u001b[2K     \u001b[90m━━━━━━━━━━━━━━━━━━━━━━━━━━━━━━━━━━━━━━━━\u001b[0m \u001b[32m554.8/554.8 kB\u001b[0m \u001b[31m8.7 MB/s\u001b[0m eta \u001b[36m0:00:00\u001b[0m\n",
            "\u001b[2K   \u001b[90m━━━━━━━━━━━━━━━━━━━━━━━━━━━━━━━━━━━━━━━━\u001b[0m \u001b[32m95.6/95.6 kB\u001b[0m \u001b[31m5.1 MB/s\u001b[0m eta \u001b[36m0:00:00\u001b[0m\n",
            "\u001b[2K   \u001b[90m━━━━━━━━━━━━━━━━━━━━━━━━━━━━━━━━━━━━━━━━\u001b[0m \u001b[32m66.9/66.9 kB\u001b[0m \u001b[31m6.3 MB/s\u001b[0m eta \u001b[36m0:00:00\u001b[0m\n",
            "\u001b[2K   \u001b[90m━━━━━━━━━━━━━━━━━━━━━━━━━━━━━━━━━━━━━━━━\u001b[0m \u001b[32m1.6/1.6 MB\u001b[0m \u001b[31m43.8 MB/s\u001b[0m eta \u001b[36m0:00:00\u001b[0m\n",
            "\u001b[?25h"
          ]
        }
      ],
      "source": [
        "# Installing pyspark and spark-nlp\n",
        "! pip install --upgrade -q pyspark==3.4.1  spark-nlp==$PUBLIC_VERSION\n",
        "\n",
        "# Installing Spark NLP Healthcare\n",
        "! pip install --upgrade -q spark-nlp-jsl==$JSL_VERSION  --extra-index-url https://pypi.johnsnowlabs.com/$SECRET\n",
        "\n",
        "# Installing Spark NLP Display Library for visualization\n",
        "! pip install -q spark-nlp-display"
      ]
    },
    {
      "cell_type": "code",
      "execution_count": 3,
      "metadata": {
        "id": "wIp1yLCWNWsn"
      },
      "outputs": [],
      "source": [
        "# if you want to start the session with custom params as in start function above\n",
        "from pyspark.sql import SparkSession\n",
        "\n",
        "def start(SECRET):\n",
        "    builder = SparkSession.builder \\\n",
        "        .appName(\"Spark NLP Licensed\") \\\n",
        "        .master(\"local[*]\") \\\n",
        "        .config(\"spark.driver.memory\", \"16G\") \\\n",
        "        .config(\"spark.serializer\", \"org.apache.spark.serializer.KryoSerializer\") \\\n",
        "        .config(\"spark.kryoserializer.buffer.max\", \"2000M\") \\\n",
        "        .config(\"spark.jars.packages\", \"com.johnsnowlabs.nlp:spark-nlp_2.12:\"+PUBLIC_VERSION) \\\n",
        "        .config(\"spark.jars\", \"https://pypi.johnsnowlabs.com/\"+SECRET+\"/spark-nlp-jsl-\"+JSL_VERSION+\".jar\")\n",
        "\n",
        "    return builder.getOrCreate()\n",
        "\n",
        "#spark = start(SECRET)"
      ]
    },
    {
      "cell_type": "code",
      "execution_count": 4,
      "metadata": {
        "colab": {
          "base_uri": "https://localhost:8080/",
          "height": 254
        },
        "id": "1t5Kp93GcH7z",
        "outputId": "bb9931f8-eaa1-47db-c4d4-890b949cccaa"
      },
      "outputs": [
        {
          "output_type": "stream",
          "name": "stdout",
          "text": [
            "Spark NLP Version : 5.4.1\n",
            "Spark NLP_JSL Version : 5.4.1\n"
          ]
        },
        {
          "output_type": "execute_result",
          "data": {
            "text/plain": [
              "<pyspark.sql.session.SparkSession at 0x7d32991d9cf0>"
            ],
            "text/html": [
              "\n",
              "            <div>\n",
              "                <p><b>SparkSession - in-memory</b></p>\n",
              "                \n",
              "        <div>\n",
              "            <p><b>SparkContext</b></p>\n",
              "\n",
              "            <p><a href=\"http://8c6bbb500b2d:4040\">Spark UI</a></p>\n",
              "\n",
              "            <dl>\n",
              "              <dt>Version</dt>\n",
              "                <dd><code>v3.4.1</code></dd>\n",
              "              <dt>Master</dt>\n",
              "                <dd><code>local[*]</code></dd>\n",
              "              <dt>AppName</dt>\n",
              "                <dd><code>Spark NLP Licensed</code></dd>\n",
              "            </dl>\n",
              "        </div>\n",
              "        \n",
              "            </div>\n",
              "        "
            ]
          },
          "metadata": {},
          "execution_count": 4
        }
      ],
      "source": [
        "import json\n",
        "import os\n",
        "\n",
        "from pyspark.ml import Pipeline,PipelineModel\n",
        "from pyspark.sql import SparkSession\n",
        "\n",
        "import sparknlp_jsl\n",
        "import sparknlp\n",
        "\n",
        "from sparknlp.annotator import *\n",
        "from sparknlp_jsl.annotator import *\n",
        "from sparknlp.base import *\n",
        "\n",
        "\n",
        "import warnings\n",
        "warnings.filterwarnings('ignore')\n",
        "\n",
        "params = {\"spark.driver.memory\":\"16G\", # Amount of memory to use for the driver process, i.e. where SparkContext is initialized\n",
        "          \"spark.kryoserializer.buffer.max\":\"2000M\", # Maximum allowable size of Kryo serialization buffer, in MiB unless otherwise specified.\n",
        "          \"spark.driver.maxResultSize\":\"2000M\"} # Limit of total size of serialized results of all partitions for each Spark action (e.g. collect) in bytes.\n",
        "                                                # Should be at least 1M, or 0 for unlimited.\n",
        "\n",
        "spark = sparknlp_jsl.start(license_keys['SECRET'],params=params)\n",
        "\n",
        "print (\"Spark NLP Version :\", sparknlp.version())\n",
        "print (\"Spark NLP_JSL Version :\", sparknlp_jsl.version())\n",
        "\n",
        "spark"
      ]
    },
    {
      "cell_type": "markdown",
      "metadata": {
        "id": "PeWhvSsHRXsf"
      },
      "source": [
        "## Download and prepare **clinical embeddings**"
      ]
    },
    {
      "cell_type": "code",
      "execution_count": 5,
      "metadata": {
        "colab": {
          "base_uri": "https://localhost:8080/"
        },
        "id": "Ua5dHNeyRWQc",
        "outputId": "7b415126-40b3-4745-dead-8e750c585776"
      },
      "outputs": [
        {
          "output_type": "stream",
          "name": "stdout",
          "text": [
            "embeddings_clinical download started this may take some time.\n",
            "Approximate size to download 1.6 GB\n",
            "[OK!]\n"
          ]
        }
      ],
      "source": [
        "clinical_embeddings = WordEmbeddingsModel.pretrained('embeddings_clinical', \"en\", \"clinical/models\")\\\n",
        "    .setInputCols([\"sentence\", \"token\"])\\\n",
        "    .setOutputCol(\"embeddings\")"
      ]
    },
    {
      "cell_type": "markdown",
      "metadata": {
        "id": "bfT1AaKvOG4J"
      },
      "source": [
        "## **Load** the CoNLL dataset"
      ]
    },
    {
      "cell_type": "code",
      "execution_count": 45,
      "metadata": {
        "id": "KMOycTPUcty7"
      },
      "outputs": [],
      "source": [
        "# You can either upload or download the file conll2003_text_file.conll.\n",
        "#!wget -q https://raw.githubusercontent.com/russell-ai/SparkNLP-CustomNER/refs/heads/main/conll2003_text_file.conll -O /content/conll2003_text_file.conll"
      ]
    },
    {
      "cell_type": "code",
      "source": [
        "from sparknlp.training import CoNLL\n",
        "\n",
        "conll_data = CoNLL().readDataset(spark, \"/content/conll2003_text_file.conll\")\n",
        "print(\"Dataset loaded. Number of rows:\", conll_data.count())"
      ],
      "metadata": {
        "colab": {
          "base_uri": "https://localhost:8080/"
        },
        "id": "EJ1GYwGQOP1c",
        "outputId": "efcf97c4-3d4b-474b-92a9-df49689bc525"
      },
      "execution_count": 6,
      "outputs": [
        {
          "output_type": "stream",
          "name": "stdout",
          "text": [
            "Dataset loaded. Number of rows: 422\n"
          ]
        }
      ]
    },
    {
      "cell_type": "markdown",
      "source": [
        "## **Split** the dataset into train and test"
      ],
      "metadata": {
        "id": "I-z6BgqrQSAv"
      }
    },
    {
      "cell_type": "code",
      "execution_count": 7,
      "metadata": {
        "colab": {
          "base_uri": "https://localhost:8080/"
        },
        "id": "FetZIfagc-eh",
        "outputId": "7ead6514-63e7-4dc2-ebc3-1d980cfd18d3"
      },
      "outputs": [
        {
          "output_type": "stream",
          "name": "stdout",
          "text": [
            "Train set size: 352\n",
            "Test set size: 70\n"
          ]
        }
      ],
      "source": [
        "train_data, test_data = conll_data.randomSplit([0.8, 0.2], seed=42)\n",
        "print(\"Train set size:\", train_data.count())\n",
        "print(\"Test set size:\", test_data.count())\n"
      ]
    },
    {
      "cell_type": "code",
      "source": [
        "train_data.show(10)"
      ],
      "metadata": {
        "colab": {
          "base_uri": "https://localhost:8080/"
        },
        "id": "QrkMRioTb81q",
        "outputId": "34bb2405-d7bf-41a6-852f-4989337ce418"
      },
      "execution_count": 8,
      "outputs": [
        {
          "output_type": "stream",
          "name": "stdout",
          "text": [
            "+--------------------+--------------------+--------------------+--------------------+--------------------+--------------------+\n",
            "|                text|            document|            sentence|               token|                 pos|               label|\n",
            "+--------------------+--------------------+--------------------+--------------------+--------------------+--------------------+\n",
            "|( Medical Transcr...|[{document, 0, 10...|[{document, 0, 10...|[{token, 0, 0, (,...|[{pos, 0, 0, NN, ...|[{named_entity, 0...|\n",
            "|( Medical Transcr...|[{document, 0, 25...|[{document, 0, 25...|[{token, 0, 0, (,...|[{pos, 0, 0, NN, ...|[{named_entity, 0...|\n",
            "|( Medical Transcr...|[{document, 0, 10...|[{document, 0, 10...|[{token, 0, 0, (,...|[{pos, 0, 0, NN, ...|[{named_entity, 0...|\n",
            "|( Medical Transcr...|[{document, 0, 76...|[{document, 0, 76...|[{token, 0, 0, (,...|[{pos, 0, 0, NN, ...|[{named_entity, 0...|\n",
            "|1 . Coumadi n 1 m...|[{document, 0, 25...|[{document, 0, 25...|[{token, 0, 0, 1,...|[{pos, 0, 0, NN, ...|[{named_entity, 0...|\n",
            "|1 . On August 24 ...|[{document, 0, 10...|[{document, 0, 10...|[{token, 0, 0, 1,...|[{pos, 0, 0, NN, ...|[{named_entity, 0...|\n",
            "|2 . A #10 flat fl...|[{document, 0, 13...|[{document, 0, 13...|[{token, 0, 0, 2,...|[{pos, 0, 0, NN, ...|[{named_entity, 0...|\n",
            "|2 . Amiodaron e 1...|[{document, 0, 35...|[{document, 0, 35...|[{token, 0, 0, 2,...|[{pos, 0, 0, NN, ...|[{named_entity, 0...|\n",
            "|2 . Atrial fibril...|[{document, 0, 25...|[{document, 0, 25...|[{token, 0, 0, 2,...|[{pos, 0, 0, NN, ...|[{named_entity, 0...|\n",
            "|2 . On August 20 ...|[{document, 0, 41...|[{document, 0, 41...|[{token, 0, 0, 2,...|[{pos, 0, 0, NN, ...|[{named_entity, 0...|\n",
            "+--------------------+--------------------+--------------------+--------------------+--------------------+--------------------+\n",
            "only showing top 10 rows\n",
            "\n"
          ]
        }
      ]
    },
    {
      "cell_type": "markdown",
      "source": [
        "## Create TF Graph"
      ],
      "metadata": {
        "id": "-gPDYK9tQzQT"
      }
    },
    {
      "cell_type": "code",
      "execution_count": 14,
      "metadata": {
        "id": "Xn9AfwXOhIAA"
      },
      "outputs": [],
      "source": [
        "!pip install -q tensorflow==2.12.0\n",
        "!pip install -q tensorflow-addons"
      ]
    },
    {
      "cell_type": "code",
      "execution_count": 15,
      "metadata": {
        "id": "jp7luV4-wRsc"
      },
      "outputs": [],
      "source": [
        "from sparknlp_jsl.annotator import TFGraphBuilder"
      ]
    },
    {
      "cell_type": "code",
      "source": [
        "graph_folder_path = \"medical_ner_graphs\"\n",
        "ner_graph_builder = TFGraphBuilder()\\\n",
        "    .setModelName(\"ner_dl\")\\\n",
        "    .setInputCols([\"sentence\", \"token\", \"embeddings\"]) \\\n",
        "    .setLabelColumn(\"label\")\\\n",
        "    .setGraphFolder(graph_folder_path)\\\n",
        "    .setGraphFile(\"auto\")\\\n",
        "    .setHiddenUnitsNumber(24)\\\n",
        "    .setIsLicensed(True)"
      ],
      "metadata": {
        "id": "rL9b4OPFb_OC"
      },
      "execution_count": 16,
      "outputs": []
    },
    {
      "cell_type": "markdown",
      "metadata": {
        "id": "PT5pF7V7R69G"
      },
      "source": [
        "## Define NER tagger"
      ]
    },
    {
      "cell_type": "code",
      "source": [
        "nerTagger = MedicalNerApproach()\\\n",
        "    .setInputCols([\"sentence\", \"token\", \"embeddings\"])\\\n",
        "    .setLabelColumn(\"label\")\\\n",
        "    .setOutputCol(\"ner\")\\\n",
        "    .setMaxEpochs(30)\\\n",
        "    .setLr(0.003)\\\n",
        "    .setBatchSize(8)\\\n",
        "    .setRandomSeed(42)\\\n",
        "    .setVerbose(1)\\\n",
        "    .setEvaluationLogExtended(True) \\\n",
        "    .setEnableOutputLogs(True)\\\n",
        "    .setIncludeConfidence(True)\\\n",
        "    .setValidationSplit(0.2)\\\n",
        "    .setGraphFolder(graph_folder_path)\\\n",
        "    .setOutputLogsPath(\"./ner_logs\")\\\n",
        "    .setUseBestModel(True)\\\n",
        "    .setEarlyStoppingCriterion(0.001)\\\n",
        "    .setEarlyStoppingPatience(3)"
      ],
      "metadata": {
        "id": "Xz8o233RSBbe"
      },
      "execution_count": 17,
      "outputs": []
    },
    {
      "cell_type": "markdown",
      "source": [
        "## Create pipeline"
      ],
      "metadata": {
        "id": "hwy6OSFNSVKu"
      }
    },
    {
      "cell_type": "code",
      "source": [
        "ner_pipeline = Pipeline(stages=[\n",
        "    clinical_embeddings,\n",
        "    ner_graph_builder,\n",
        "    nerTagger\n",
        "])"
      ],
      "metadata": {
        "id": "pUH_NhcOSUOS"
      },
      "execution_count": 18,
      "outputs": []
    },
    {
      "cell_type": "markdown",
      "source": [
        "## Train the model"
      ],
      "metadata": {
        "id": "c_yN9GZl6P9k"
      }
    },
    {
      "cell_type": "code",
      "execution_count": 19,
      "metadata": {
        "colab": {
          "base_uri": "https://localhost:8080/"
        },
        "id": "u5Phv3rFSBR_",
        "outputId": "aef23244-6a1d-4eb9-cd4c-5530ed8130ff",
        "collapsed": true
      },
      "outputs": [
        {
          "output_type": "stream",
          "name": "stdout",
          "text": [
            "Starting model training...\n",
            "TF Graph Builder configuration:\n",
            "Model name: ner_dl\n",
            "Graph folder: medical_ner_graphs\n",
            "Graph file name: auto\n",
            "Build params: {'ntags': 7, 'embeddings_dim': 200, 'nchars': 74, 'is_medical': True, 'lstm_size': 24}\n"
          ]
        },
        {
          "output_type": "stream",
          "name": "stderr",
          "text": [
            "WARNING:tensorflow:From /usr/local/lib/python3.10/dist-packages/tensorflow/python/compat/v2_compat.py:107: disable_resource_variables (from tensorflow.python.ops.variable_scope) is deprecated and will be removed in a future version.\n",
            "Instructions for updating:\n",
            "non-resource variables are not supported in the long term\n",
            "WARNING:tensorflow:From /usr/local/lib/python3.10/dist-packages/tensorflow/python/ops/init_ops.py:93: calling GlorotUniform.__init__ (from tensorflow.python.ops.init_ops) with dtype is deprecated and will be removed in a future version.\n",
            "Instructions for updating:\n",
            "Call initializer instance with the dtype argument instead of passing it to the constructor\n",
            "WARNING:tensorflow:From /usr/local/lib/python3.10/dist-packages/tensorflow/python/ops/init_ops.py:93: calling Orthogonal.__init__ (from tensorflow.python.ops.init_ops) with dtype is deprecated and will be removed in a future version.\n",
            "Instructions for updating:\n",
            "Call initializer instance with the dtype argument instead of passing it to the constructor\n",
            "WARNING:tensorflow:From /usr/local/lib/python3.10/dist-packages/tensorflow/python/ops/init_ops.py:93: calling Zeros.__init__ (from tensorflow.python.ops.init_ops) with dtype is deprecated and will be removed in a future version.\n",
            "Instructions for updating:\n",
            "Call initializer instance with the dtype argument instead of passing it to the constructor\n"
          ]
        },
        {
          "output_type": "stream",
          "name": "stdout",
          "text": [
            "ner_dl graph exported to medical_ner_graphs/blstm_7_200_24_74.pb\n",
            "Model training completed.\n",
            "CPU times: user 14.7 s, sys: 933 ms, total: 15.6 s\n",
            "Wall time: 3min 14s\n"
          ]
        }
      ],
      "source": [
        "%%time\n",
        "print(\"Starting model training...\")\n",
        "ner_model = ner_pipeline.fit(train_data)\n",
        "print(\"Model training completed.\")"
      ]
    },
    {
      "cell_type": "markdown",
      "source": [
        "### Training Logs"
      ],
      "metadata": {
        "id": "cn96kvKT6dvf"
      }
    },
    {
      "cell_type": "code",
      "execution_count": 20,
      "metadata": {
        "colab": {
          "base_uri": "https://localhost:8080/"
        },
        "id": "VYc5M2JHNTrQ",
        "outputId": "1a9b138e-9df6-4e1b-bf06-134d8f2742bf"
      },
      "outputs": [
        {
          "output_type": "stream",
          "name": "stdout",
          "text": [
            "ner_logs/MedicalNerApproach_98353b8fb840.log\n"
          ]
        }
      ],
      "source": [
        "!ls ner_logs/MedicalNerApproach*"
      ]
    },
    {
      "cell_type": "code",
      "execution_count": 21,
      "metadata": {
        "colab": {
          "base_uri": "https://localhost:8080/"
        },
        "id": "sPZ2tmHFSBUy",
        "outputId": "93844998-8698-48f8-f2f3-ac554939f59e"
      },
      "outputs": [
        {
          "output_type": "stream",
          "name": "stdout",
          "text": [
            "Name of the selected graph: /content/medical_ner_graphs/blstm_7_200_24_74.pb\n",
            "Training started - total epochs: 30 - lr: 0.003 - batch size: 8 - labels: 7 - chars: 73 - training examples: 352\n",
            "\n",
            "\n",
            "Epoch 1/30 started, lr: 0.003, dataset size: 352\n",
            "\n",
            "\n",
            "Epoch 1/30 - 5.94s - loss: 694.8274 - avg training loss: 18.77912 - batches: 37\n",
            "Quality on validation dataset (20.0%), validation examples = 70\n",
            "time to finish evaluation: 0.81s\n",
            "Total validation loss: 136.0580\tAvg validation loss: 12.3689\n",
            "label\t tp\t fp\t fn\t prec\t rec\t f1\n",
            "I-TREATMENT\t 0\t 0\t 49\t 0.0\t 0.0\t 0.0\n",
            "I-PROBLEM\t 0\t 0\t 74\t 0.0\t 0.0\t 0.0\n",
            "B-PROBLEM\t 0\t 0\t 57\t 0.0\t 0.0\t 0.0\n",
            "I-TEST\t 0\t 0\t 18\t 0.0\t 0.0\t 0.0\n",
            "B-TEST\t 0\t 0\t 23\t 0.0\t 0.0\t 0.0\n",
            "B-TREATMENT\t 0\t 0\t 50\t 0.0\t 0.0\t 0.0\n",
            "tp: 0 fp: 0 fn: 271 labels: 6\n",
            "Macro-average\t prec: 0.0, rec: 0.0, f1: NaN\n",
            "Micro-average\t prec: 0.0, rec: 0.0, f1: 0.0\n",
            "\n",
            "\n",
            "Epoch 2/30 started, lr: 0.0029850747, dataset size: 352\n",
            "\n",
            "\n",
            "Epoch 2/30 - 5.59s - loss: 497.97433 - avg training loss: 13.458766 - batches: 37\n",
            "Quality on validation dataset (20.0%), validation examples = 70\n",
            "time to finish evaluation: 0.24s\n",
            "Total validation loss: 103.6009\tAvg validation loss: 9.4183\n",
            "label\t tp\t fp\t fn\t prec\t rec\t f1\n",
            "I-TREATMENT\t 1\t 2\t 48\t 0.33333334\t 0.020408163\t 0.038461536\n",
            "I-PROBLEM\t 31\t 36\t 43\t 0.46268657\t 0.4189189\t 0.43971628\n",
            "B-PROBLEM\t 6\t 20\t 51\t 0.23076923\t 0.10526316\t 0.14457832\n",
            "I-TEST\t 0\t 0\t 18\t 0.0\t 0.0\t 0.0\n",
            "B-TEST\t 1\t 0\t 22\t 1.0\t 0.04347826\t 0.083333336\n",
            "B-TREATMENT\t 2\t 3\t 48\t 0.4\t 0.04\t 0.07272728\n",
            "tp: 41 fp: 61 fn: 230 labels: 6\n",
            "Macro-average\t prec: 0.40446487, rec: 0.10467809, f1: 0.16631326\n",
            "Micro-average\t prec: 0.4019608, rec: 0.15129152, f1: 0.21983914\n",
            "\n",
            "\n",
            "Epoch 3/30 started, lr: 0.0029702971, dataset size: 352\n",
            "\n",
            "\n",
            "Epoch 3/30 - 5.03s - loss: 398.4107 - avg training loss: 10.767857 - batches: 37\n",
            "Quality on validation dataset (20.0%), validation examples = 70\n",
            "time to finish evaluation: 0.21s\n",
            "Total validation loss: 91.5351\tAvg validation loss: 8.3214\n",
            "label\t tp\t fp\t fn\t prec\t rec\t f1\n",
            "I-TREATMENT\t 0\t 6\t 49\t 0.0\t 0.0\t 0.0\n",
            "I-PROBLEM\t 61\t 96\t 13\t 0.38853502\t 0.8243243\t 0.52813846\n",
            "B-PROBLEM\t 25\t 43\t 32\t 0.36764705\t 0.4385965\t 0.39999998\n",
            "I-TEST\t 0\t 0\t 18\t 0.0\t 0.0\t 0.0\n",
            "B-TEST\t 0\t 0\t 23\t 0.0\t 0.0\t 0.0\n",
            "B-TREATMENT\t 13\t 7\t 37\t 0.65\t 0.26\t 0.37142855\n",
            "tp: 99 fp: 152 fn: 172 labels: 6\n",
            "Macro-average\t prec: 0.23436368, rec: 0.25382015, f1: 0.2437042\n",
            "Micro-average\t prec: 0.39442232, rec: 0.36531365, f1: 0.37931034\n",
            "\n",
            "\n",
            "Epoch 4/30 started, lr: 0.002955665, dataset size: 352\n",
            "\n",
            "\n",
            "Epoch 4/30 - 6.44s - loss: 338.72134 - avg training loss: 9.154631 - batches: 37\n",
            "Quality on validation dataset (20.0%), validation examples = 70\n",
            "time to finish evaluation: 0.16s\n",
            "Total validation loss: 72.9941\tAvg validation loss: 6.6358\n",
            "label\t tp\t fp\t fn\t prec\t rec\t f1\n",
            "I-TREATMENT\t 6\t 8\t 43\t 0.42857143\t 0.12244898\t 0.1904762\n",
            "I-PROBLEM\t 59\t 91\t 15\t 0.39333335\t 0.7972973\t 0.52678573\n",
            "B-PROBLEM\t 30\t 25\t 27\t 0.54545456\t 0.5263158\t 0.53571427\n",
            "I-TEST\t 0\t 0\t 18\t 0.0\t 0.0\t 0.0\n",
            "B-TEST\t 0\t 0\t 23\t 0.0\t 0.0\t 0.0\n",
            "B-TREATMENT\t 27\t 24\t 23\t 0.5294118\t 0.54\t 0.53465354\n",
            "tp: 122 fp: 148 fn: 149 labels: 6\n",
            "Macro-average\t prec: 0.31612852, rec: 0.33101034, f1: 0.32339832\n",
            "Micro-average\t prec: 0.45185184, rec: 0.4501845, f1: 0.45101663\n",
            "\n",
            "\n",
            "Epoch 5/30 started, lr: 0.0029411765, dataset size: 352\n",
            "\n",
            "\n",
            "Epoch 5/30 - 4.84s - loss: 288.3329 - avg training loss: 7.792781 - batches: 37\n",
            "Quality on validation dataset (20.0%), validation examples = 70\n",
            "time to finish evaluation: 0.18s\n",
            "Total validation loss: 66.2677\tAvg validation loss: 6.0243\n",
            "label\t tp\t fp\t fn\t prec\t rec\t f1\n",
            "I-TREATMENT\t 6\t 10\t 43\t 0.375\t 0.12244898\t 0.18461539\n",
            "I-PROBLEM\t 57\t 67\t 17\t 0.45967743\t 0.7702703\t 0.5757576\n",
            "B-PROBLEM\t 39\t 58\t 18\t 0.40206185\t 0.68421054\t 0.5064935\n",
            "I-TEST\t 3\t 0\t 15\t 1.0\t 0.16666667\t 0.2857143\n",
            "B-TEST\t 4\t 0\t 19\t 1.0\t 0.17391305\t 0.2962963\n",
            "B-TREATMENT\t 8\t 3\t 42\t 0.72727275\t 0.16\t 0.2622951\n",
            "tp: 117 fp: 138 fn: 154 labels: 6\n",
            "Macro-average\t prec: 0.6606687, rec: 0.34625158, f1: 0.4543708\n",
            "Micro-average\t prec: 0.45882353, rec: 0.43173432, f1: 0.44486693\n",
            "\n",
            "\n",
            "Epoch 6/30 started, lr: 0.0029268293, dataset size: 352\n",
            "\n",
            "\n",
            "Epoch 6/30 - 6.23s - loss: 242.18785 - avg training loss: 6.5456176 - batches: 37\n",
            "Quality on validation dataset (20.0%), validation examples = 70\n",
            "time to finish evaluation: 0.32s\n",
            "Total validation loss: 58.4380\tAvg validation loss: 5.3125\n",
            "label\t tp\t fp\t fn\t prec\t rec\t f1\n",
            "I-TREATMENT\t 5\t 6\t 44\t 0.45454547\t 0.10204082\t 0.16666669\n",
            "I-PROBLEM\t 56\t 53\t 18\t 0.51376146\t 0.7567568\t 0.6120218\n",
            "B-PROBLEM\t 41\t 65\t 16\t 0.38679245\t 0.71929824\t 0.5030675\n",
            "I-TEST\t 2\t 0\t 16\t 1.0\t 0.11111111\t 0.19999999\n",
            "B-TEST\t 2\t 0\t 21\t 1.0\t 0.08695652\t 0.16000001\n",
            "B-TREATMENT\t 12\t 4\t 38\t 0.75\t 0.24\t 0.36363634\n",
            "tp: 118 fp: 128 fn: 153 labels: 6\n",
            "Macro-average\t prec: 0.6841832, rec: 0.33602726, f1: 0.45069954\n",
            "Micro-average\t prec: 0.4796748, rec: 0.43542436, f1: 0.45647967\n",
            "\n",
            "\n",
            "Epoch 7/30 started, lr: 0.0029126215, dataset size: 352\n",
            "\n",
            "\n",
            "Epoch 7/30 - 3.48s - loss: 220.9841 - avg training loss: 5.9725432 - batches: 37\n",
            "Quality on validation dataset (20.0%), validation examples = 70\n",
            "time to finish evaluation: 0.16s\n",
            "Total validation loss: 47.4856\tAvg validation loss: 4.3169\n",
            "label\t tp\t fp\t fn\t prec\t rec\t f1\n",
            "I-TREATMENT\t 25\t 12\t 24\t 0.6756757\t 0.5102041\t 0.5813954\n",
            "I-PROBLEM\t 59\t 47\t 15\t 0.5566038\t 0.7972973\t 0.65555555\n",
            "B-PROBLEM\t 37\t 31\t 20\t 0.5441176\t 0.64912283\t 0.59200007\n",
            "I-TEST\t 3\t 0\t 15\t 1.0\t 0.16666667\t 0.2857143\n",
            "B-TEST\t 3\t 0\t 20\t 1.0\t 0.13043478\t 0.23076923\n",
            "B-TREATMENT\t 35\t 21\t 15\t 0.625\t 0.7\t 0.6603773\n",
            "tp: 162 fp: 111 fn: 109 labels: 6\n",
            "Macro-average\t prec: 0.7335662, rec: 0.4922876, f1: 0.5891821\n",
            "Micro-average\t prec: 0.5934066, rec: 0.59778595, f1: 0.5955882\n",
            "\n",
            "\n",
            "Epoch 8/30 started, lr: 0.0028985508, dataset size: 352\n",
            "\n",
            "\n",
            "Epoch 8/30 - 4.06s - loss: 210.17075 - avg training loss: 5.68029 - batches: 37\n",
            "Quality on validation dataset (20.0%), validation examples = 70\n",
            "time to finish evaluation: 0.21s\n",
            "Total validation loss: 55.5246\tAvg validation loss: 5.0477\n",
            "label\t tp\t fp\t fn\t prec\t rec\t f1\n",
            "I-TREATMENT\t 4\t 7\t 45\t 0.36363637\t 0.08163265\t 0.13333334\n",
            "I-PROBLEM\t 60\t 64\t 14\t 0.48387095\t 0.8108108\t 0.60606056\n",
            "B-PROBLEM\t 47\t 58\t 10\t 0.44761905\t 0.8245614\t 0.5802469\n",
            "I-TEST\t 3\t 1\t 15\t 0.75\t 0.16666667\t 0.27272728\n",
            "B-TEST\t 3\t 0\t 20\t 1.0\t 0.13043478\t 0.23076923\n",
            "B-TREATMENT\t 9\t 8\t 41\t 0.5294118\t 0.18\t 0.26865673\n",
            "tp: 126 fp: 138 fn: 145 labels: 6\n",
            "Macro-average\t prec: 0.59575635, rec: 0.3656844, f1: 0.45319235\n",
            "Micro-average\t prec: 0.47727272, rec: 0.46494466, f1: 0.47102803\n",
            "\n",
            "\n",
            "Epoch 9/30 started, lr: 0.0028846154, dataset size: 352\n",
            "\n",
            "\n",
            "Epoch 9/30 - 4.64s - loss: 175.3338 - avg training loss: 4.7387514 - batches: 37\n",
            "Quality on validation dataset (20.0%), validation examples = 70\n",
            "time to finish evaluation: 0.34s\n",
            "Total validation loss: 43.9330\tAvg validation loss: 3.9939\n",
            "label\t tp\t fp\t fn\t prec\t rec\t f1\n",
            "I-TREATMENT\t 20\t 14\t 29\t 0.5882353\t 0.40816328\t 0.48192775\n",
            "I-PROBLEM\t 56\t 31\t 18\t 0.6436782\t 0.7567568\t 0.6956522\n",
            "B-PROBLEM\t 43\t 28\t 14\t 0.6056338\t 0.75438595\t 0.671875\n",
            "I-TEST\t 12\t 2\t 6\t 0.85714287\t 0.6666667\t 0.75\n",
            "B-TEST\t 9\t 3\t 14\t 0.75\t 0.39130434\t 0.5142857\n",
            "B-TREATMENT\t 31\t 12\t 19\t 0.7209302\t 0.62\t 0.6666667\n",
            "tp: 171 fp: 90 fn: 100 labels: 6\n",
            "Macro-average\t prec: 0.6942701, rec: 0.5995462, f1: 0.6434406\n",
            "Micro-average\t prec: 0.6551724, rec: 0.6309963, f1: 0.64285713\n",
            "\n",
            "\n",
            "Epoch 10/30 started, lr: 0.0028708135, dataset size: 352\n",
            "\n",
            "\n",
            "Epoch 10/30 - 7.14s - loss: 142.31012 - avg training loss: 3.8462195 - batches: 37\n",
            "Quality on validation dataset (20.0%), validation examples = 70\n",
            "time to finish evaluation: 0.12s\n",
            "Total validation loss: 44.4505\tAvg validation loss: 4.0410\n",
            "label\t tp\t fp\t fn\t prec\t rec\t f1\n",
            "I-TREATMENT\t 11\t 1\t 38\t 0.9166667\t 0.2244898\t 0.36065573\n",
            "I-PROBLEM\t 64\t 47\t 10\t 0.5765766\t 0.8648649\t 0.69189185\n",
            "B-PROBLEM\t 49\t 61\t 8\t 0.44545454\t 0.8596491\t 0.5868263\n",
            "I-TEST\t 5\t 0\t 13\t 1.0\t 0.2777778\t 0.43478262\n",
            "B-TEST\t 4\t 0\t 19\t 1.0\t 0.17391305\t 0.2962963\n",
            "B-TREATMENT\t 13\t 1\t 37\t 0.9285714\t 0.26\t 0.40624997\n",
            "tp: 146 fp: 110 fn: 125 labels: 6\n",
            "Macro-average\t prec: 0.8112115, rec: 0.44344905, f1: 0.57343155\n",
            "Micro-average\t prec: 0.5703125, rec: 0.5387454, f1: 0.5540797\n",
            "\n",
            "\n",
            "Epoch 11/30 started, lr: 0.002857143, dataset size: 352\n",
            "\n",
            "\n",
            "Epoch 11/30 - 4.49s - loss: 137.87067 - avg training loss: 3.7262342 - batches: 37\n",
            "Quality on validation dataset (20.0%), validation examples = 70\n",
            "time to finish evaluation: 0.24s\n",
            "Total validation loss: 43.6038\tAvg validation loss: 3.9640\n",
            "label\t tp\t fp\t fn\t prec\t rec\t f1\n",
            "I-TREATMENT\t 26\t 25\t 23\t 0.50980395\t 0.53061223\t 0.52\n",
            "I-PROBLEM\t 48\t 21\t 26\t 0.6956522\t 0.6486486\t 0.6713287\n",
            "B-PROBLEM\t 39\t 23\t 18\t 0.62903225\t 0.68421054\t 0.6554622\n",
            "I-TEST\t 5\t 0\t 13\t 1.0\t 0.2777778\t 0.43478262\n",
            "B-TEST\t 4\t 0\t 19\t 1.0\t 0.17391305\t 0.2962963\n",
            "B-TREATMENT\t 35\t 24\t 15\t 0.59322035\t 0.7\t 0.64220184\n",
            "tp: 157 fp: 93 fn: 114 labels: 6\n",
            "Macro-average\t prec: 0.73795146, rec: 0.50252706, f1: 0.59789926\n",
            "Micro-average\t prec: 0.628, rec: 0.5793358, f1: 0.6026872\n",
            "\n",
            "\n",
            "Epoch 12/30 started, lr: 0.002843602, dataset size: 352\n",
            "\n",
            "\n",
            "Epoch 12/30 - 3.71s - loss: 133.61667 - avg training loss: 3.6112614 - batches: 37\n",
            "Quality on validation dataset (20.0%), validation examples = 70\n",
            "time to finish evaluation: 0.20s\n",
            "Total validation loss: 47.3768\tAvg validation loss: 4.3070\n",
            "label\t tp\t fp\t fn\t prec\t rec\t f1\n",
            "I-TREATMENT\t 23\t 18\t 26\t 0.5609756\t 0.46938777\t 0.51111114\n",
            "I-PROBLEM\t 57\t 36\t 17\t 0.61290324\t 0.7702703\t 0.6826348\n",
            "B-PROBLEM\t 44\t 35\t 13\t 0.556962\t 0.7719298\t 0.64705884\n",
            "I-TEST\t 5\t 0\t 13\t 1.0\t 0.2777778\t 0.43478262\n",
            "B-TEST\t 4\t 0\t 19\t 1.0\t 0.17391305\t 0.2962963\n",
            "B-TREATMENT\t 31\t 15\t 19\t 0.67391306\t 0.62\t 0.6458333\n",
            "tp: 164 fp: 104 fn: 107 labels: 6\n",
            "Macro-average\t prec: 0.7341257, rec: 0.5138798, f1: 0.6045684\n",
            "Micro-average\t prec: 0.6119403, rec: 0.6051661, f1: 0.6085344\n",
            "\n",
            "\n",
            "Epoch 13/30 started, lr: 0.002830189, dataset size: 352\n",
            "\n",
            "\n",
            "Epoch 13/30 - 3.18s - loss: 126.488945 - avg training loss: 3.41862 - batches: 37\n",
            "Quality on validation dataset (20.0%), validation examples = 70\n",
            "time to finish evaluation: 0.15s\n",
            "Total validation loss: 36.1560\tAvg validation loss: 3.2869\n",
            "label\t tp\t fp\t fn\t prec\t rec\t f1\n",
            "I-TREATMENT\t 27\t 22\t 22\t 0.5510204\t 0.5510204\t 0.5510204\n",
            "I-PROBLEM\t 53\t 22\t 21\t 0.70666665\t 0.7162162\t 0.7114094\n",
            "B-PROBLEM\t 44\t 26\t 13\t 0.62857145\t 0.7719298\t 0.6929134\n",
            "I-TEST\t 12\t 0\t 6\t 1.0\t 0.6666667\t 0.8\n",
            "B-TEST\t 9\t 1\t 14\t 0.9\t 0.39130434\t 0.5454545\n",
            "B-TREATMENT\t 34\t 15\t 16\t 0.6938776\t 0.68\t 0.6868687\n",
            "tp: 179 fp: 86 fn: 92 labels: 6\n",
            "Macro-average\t prec: 0.7466894, rec: 0.6295229, f1: 0.6831185\n",
            "Micro-average\t prec: 0.6754717, rec: 0.6605166, f1: 0.66791046\n",
            "\n",
            "\n",
            "Epoch 14/30 started, lr: 0.0028169013, dataset size: 352\n",
            "\n",
            "\n",
            "Epoch 14/30 - 5.04s - loss: 120.62044 - avg training loss: 3.260012 - batches: 37\n",
            "Quality on validation dataset (20.0%), validation examples = 70\n",
            "time to finish evaluation: 0.24s\n",
            "Total validation loss: 92.0414\tAvg validation loss: 8.3674\n",
            "label\t tp\t fp\t fn\t prec\t rec\t f1\n",
            "I-TREATMENT\t 18\t 5\t 31\t 0.7826087\t 0.36734694\t 0.5\n",
            "I-PROBLEM\t 58\t 26\t 16\t 0.6904762\t 0.7837838\t 0.73417723\n",
            "B-PROBLEM\t 47\t 35\t 10\t 0.5731707\t 0.8245614\t 0.676259\n",
            "I-TEST\t 12\t 5\t 6\t 0.7058824\t 0.6666667\t 0.6857143\n",
            "B-TEST\t 11\t 4\t 12\t 0.73333335\t 0.47826087\t 0.57894737\n",
            "B-TREATMENT\t 24\t 5\t 26\t 0.82758623\t 0.48\t 0.60759497\n",
            "tp: 170 fp: 80 fn: 101 labels: 6\n",
            "Macro-average\t prec: 0.7188429, rec: 0.6001033, f1: 0.6541283\n",
            "Micro-average\t prec: 0.68, rec: 0.6273063, f1: 0.65259117\n",
            "\n",
            "\n",
            "Epoch 15/30 started, lr: 0.0028037382, dataset size: 352\n",
            "\n",
            "\n",
            "Epoch 15/30 - 3.67s - loss: 98.97367 - avg training loss: 2.6749642 - batches: 37\n",
            "Quality on validation dataset (20.0%), validation examples = 70\n",
            "time to finish evaluation: 0.12s\n",
            "Total validation loss: 39.5353\tAvg validation loss: 3.5941\n",
            "label\t tp\t fp\t fn\t prec\t rec\t f1\n",
            "I-TREATMENT\t 24\t 17\t 25\t 0.58536583\t 0.48979592\t 0.53333336\n",
            "I-PROBLEM\t 52\t 22\t 22\t 0.7027027\t 0.7027027\t 0.7027027\n",
            "B-PROBLEM\t 43\t 29\t 14\t 0.5972222\t 0.75438595\t 0.6666666\n",
            "I-TEST\t 11\t 0\t 7\t 1.0\t 0.6111111\t 0.7586207\n",
            "B-TEST\t 8\t 1\t 15\t 0.8888889\t 0.3478261\t 0.5\n",
            "B-TREATMENT\t 32\t 16\t 18\t 0.6666667\t 0.64\t 0.6530613\n",
            "tp: 170 fp: 85 fn: 101 labels: 6\n",
            "Macro-average\t prec: 0.740141, rec: 0.5909703, f1: 0.6571973\n",
            "Micro-average\t prec: 0.6666667, rec: 0.6273063, f1: 0.6463878\n",
            "\n",
            "\n",
            "Epoch 16/30 started, lr: 0.0027906976, dataset size: 352\n",
            "\n",
            "\n",
            "Epoch 16/30 - 3.56s - loss: 79.41129 - avg training loss: 2.1462512 - batches: 37\n",
            "Quality on validation dataset (20.0%), validation examples = 70\n",
            "time to finish evaluation: 0.15s\n",
            "Total validation loss: 42.1664\tAvg validation loss: 3.8333\n",
            "label\t tp\t fp\t fn\t prec\t rec\t f1\n",
            "I-TREATMENT\t 23\t 7\t 26\t 0.76666665\t 0.46938777\t 0.5822785\n",
            "I-PROBLEM\t 59\t 30\t 15\t 0.66292137\t 0.7972973\t 0.7239264\n",
            "B-PROBLEM\t 44\t 34\t 13\t 0.5641026\t 0.7719298\t 0.6518519\n",
            "I-TEST\t 12\t 0\t 6\t 1.0\t 0.6666667\t 0.8\n",
            "B-TEST\t 10\t 1\t 13\t 0.90909094\t 0.4347826\t 0.58823526\n",
            "B-TREATMENT\t 28\t 10\t 22\t 0.7368421\t 0.56\t 0.6363636\n",
            "tp: 176 fp: 82 fn: 95 labels: 6\n",
            "Macro-average\t prec: 0.7732706, rec: 0.61667734, f1: 0.686153\n",
            "Micro-average\t prec: 0.68217057, rec: 0.6494465, f1: 0.6654064\n",
            "\n",
            "\n",
            "Epoch 17/30 started, lr: 0.0027777776, dataset size: 352\n",
            "\n",
            "\n",
            "Epoch 17/30 - 5.21s - loss: 80.69006 - avg training loss: 2.1808126 - batches: 37\n",
            "Quality on validation dataset (20.0%), validation examples = 70\n",
            "time to finish evaluation: 0.22s\n",
            "Total validation loss: 33.7998\tAvg validation loss: 3.0727\n",
            "label\t tp\t fp\t fn\t prec\t rec\t f1\n",
            "I-TREATMENT\t 24\t 6\t 25\t 0.8\t 0.48979592\t 0.60759497\n",
            "I-PROBLEM\t 59\t 32\t 15\t 0.64835167\t 0.7972973\t 0.71515155\n",
            "B-PROBLEM\t 45\t 28\t 12\t 0.6164383\t 0.7894737\t 0.69230765\n",
            "I-TEST\t 13\t 0\t 5\t 1.0\t 0.7222222\t 0.83870965\n",
            "B-TEST\t 15\t 1\t 8\t 0.9375\t 0.65217394\t 0.7692307\n",
            "B-TREATMENT\t 32\t 7\t 18\t 0.82051283\t 0.64\t 0.7191011\n",
            "tp: 188 fp: 74 fn: 83 labels: 6\n",
            "Macro-average\t prec: 0.8038004, rec: 0.6818271, f1: 0.7378066\n",
            "Micro-average\t prec: 0.71755725, rec: 0.69372696, f1: 0.70544094\n",
            "\n",
            "\n",
            "Epoch 18/30 started, lr: 0.0027649768, dataset size: 352\n",
            "\n",
            "\n",
            "Epoch 18/30 - 4.34s - loss: 73.94742 - avg training loss: 1.9985789 - batches: 37\n",
            "Quality on validation dataset (20.0%), validation examples = 70\n",
            "time to finish evaluation: 0.16s\n",
            "Total validation loss: 39.8779\tAvg validation loss: 3.6253\n",
            "label\t tp\t fp\t fn\t prec\t rec\t f1\n",
            "I-TREATMENT\t 28\t 9\t 21\t 0.7567568\t 0.5714286\t 0.65116286\n",
            "I-PROBLEM\t 63\t 18\t 11\t 0.7777778\t 0.8513514\t 0.8129032\n",
            "B-PROBLEM\t 46\t 25\t 11\t 0.64788735\t 0.80701756\t 0.71875\n",
            "I-TEST\t 16\t 0\t 2\t 1.0\t 0.8888889\t 0.94117653\n",
            "B-TEST\t 15\t 2\t 8\t 0.88235295\t 0.65217394\t 0.75000006\n",
            "B-TREATMENT\t 33\t 11\t 17\t 0.75\t 0.66\t 0.70212764\n",
            "tp: 201 fp: 65 fn: 70 labels: 6\n",
            "Macro-average\t prec: 0.8024625, rec: 0.73847675, f1: 0.76914114\n",
            "Micro-average\t prec: 0.7556391, rec: 0.74169743, f1: 0.74860334\n",
            "\n",
            "\n",
            "Epoch 19/30 started, lr: 0.0027522936, dataset size: 352\n",
            "\n",
            "\n",
            "Epoch 19/30 - 4.14s - loss: 68.59242 - avg training loss: 1.8538493 - batches: 37\n",
            "Quality on validation dataset (20.0%), validation examples = 70\n",
            "time to finish evaluation: 0.20s\n",
            "Total validation loss: 35.7392\tAvg validation loss: 3.2490\n",
            "label\t tp\t fp\t fn\t prec\t rec\t f1\n",
            "I-TREATMENT\t 24\t 2\t 25\t 0.9230769\t 0.48979592\t 0.64000005\n",
            "I-PROBLEM\t 66\t 33\t 8\t 0.6666667\t 0.8918919\t 0.7630058\n",
            "B-PROBLEM\t 48\t 31\t 9\t 0.6075949\t 0.84210527\t 0.7058823\n",
            "I-TEST\t 14\t 0\t 4\t 1.0\t 0.7777778\t 0.875\n",
            "B-TEST\t 14\t 1\t 9\t 0.93333334\t 0.6086956\t 0.73684216\n",
            "B-TREATMENT\t 32\t 3\t 18\t 0.9142857\t 0.64\t 0.75294113\n",
            "tp: 198 fp: 70 fn: 73 labels: 6\n",
            "Macro-average\t prec: 0.8408263, rec: 0.70837766, f1: 0.76894015\n",
            "Micro-average\t prec: 0.73880595, rec: 0.7306273, f1: 0.7346939\n",
            "\n",
            "\n",
            "Epoch 20/30 started, lr: 0.0027397259, dataset size: 352\n",
            "\n",
            "\n",
            "Epoch 20/30 - 4.82s - loss: 55.22623 - avg training loss: 1.4926008 - batches: 37\n",
            "Quality on validation dataset (20.0%), validation examples = 70\n",
            "time to finish evaluation: 0.14s\n",
            "Total validation loss: 36.0378\tAvg validation loss: 3.2762\n",
            "label\t tp\t fp\t fn\t prec\t rec\t f1\n",
            "I-TREATMENT\t 31\t 15\t 18\t 0.67391306\t 0.63265306\t 0.6526316\n",
            "I-PROBLEM\t 56\t 23\t 18\t 0.70886075\t 0.7567568\t 0.73202616\n",
            "B-PROBLEM\t 44\t 24\t 13\t 0.64705884\t 0.7719298\t 0.704\n",
            "I-TEST\t 14\t 0\t 4\t 1.0\t 0.7777778\t 0.875\n",
            "B-TEST\t 18\t 2\t 5\t 0.9\t 0.7826087\t 0.8372093\n",
            "B-TREATMENT\t 35\t 7\t 15\t 0.8333333\t 0.7\t 0.76086956\n",
            "tp: 198 fp: 71 fn: 73 labels: 6\n",
            "Macro-average\t prec: 0.7938611, rec: 0.7369544, f1: 0.76435006\n",
            "Micro-average\t prec: 0.7360595, rec: 0.7306273, f1: 0.7333334\n",
            "\n",
            "\n",
            "Epoch 21/30 started, lr: 0.0027272727, dataset size: 352\n",
            "\n",
            "\n",
            "Epoch 21/30 - 3.27s - loss: 46.579876 - avg training loss: 1.2589155 - batches: 37\n",
            "Quality on validation dataset (20.0%), validation examples = 70\n",
            "time to finish evaluation: 0.13s\n",
            "Total validation loss: 34.4959\tAvg validation loss: 3.1360\n",
            "label\t tp\t fp\t fn\t prec\t rec\t f1\n",
            "I-TREATMENT\t 26\t 8\t 23\t 0.7647059\t 0.53061223\t 0.62650603\n",
            "I-PROBLEM\t 53\t 21\t 21\t 0.7162162\t 0.7162162\t 0.71621627\n",
            "B-PROBLEM\t 43\t 24\t 14\t 0.64179105\t 0.75438595\t 0.6935484\n",
            "I-TEST\t 15\t 2\t 3\t 0.88235295\t 0.8333333\t 0.8571428\n",
            "B-TEST\t 18\t 5\t 5\t 0.7826087\t 0.7826087\t 0.7826087\n",
            "B-TREATMENT\t 32\t 8\t 18\t 0.8\t 0.64\t 0.7111111\n",
            "tp: 187 fp: 68 fn: 84 labels: 6\n",
            "Macro-average\t prec: 0.76461244, rec: 0.70952606, f1: 0.73604006\n",
            "Micro-average\t prec: 0.73333335, rec: 0.6900369, f1: 0.7110266\n",
            "\n",
            "\n",
            "Epoch 22/30 started, lr: 0.0027149322, dataset size: 352\n",
            "\n",
            "\n",
            "Epoch 22/30 - 3.17s - loss: 44.567104 - avg training loss: 1.2045163 - batches: 37\n",
            "Quality on validation dataset (20.0%), validation examples = 70\n",
            "time to finish evaluation: 0.16s\n",
            "Total validation loss: 51.0471\tAvg validation loss: 4.6406\n",
            "label\t tp\t fp\t fn\t prec\t rec\t f1\n",
            "I-TREATMENT\t 27\t 6\t 22\t 0.8181818\t 0.5510204\t 0.6585366\n",
            "I-PROBLEM\t 60\t 26\t 14\t 0.6976744\t 0.8108108\t 0.75\n",
            "B-PROBLEM\t 45\t 23\t 12\t 0.6617647\t 0.7894737\t 0.71999997\n",
            "I-TEST\t 15\t 5\t 3\t 0.75\t 0.8333333\t 0.7894737\n",
            "B-TEST\t 18\t 3\t 5\t 0.85714287\t 0.7826087\t 0.8181819\n",
            "B-TREATMENT\t 33\t 6\t 17\t 0.84615386\t 0.66\t 0.74157304\n",
            "tp: 198 fp: 69 fn: 73 labels: 6\n",
            "Macro-average\t prec: 0.7718196, rec: 0.7378745, f1: 0.7544654\n",
            "Micro-average\t prec: 0.74157304, rec: 0.7306273, f1: 0.7360594\n",
            "\n",
            "\n",
            "Epoch 23/30 started, lr: 0.0027027028, dataset size: 352\n",
            "\n",
            "\n",
            "Epoch 23/30 - 3.63s - loss: 42.525444 - avg training loss: 1.1493363 - batches: 37\n",
            "Quality on validation dataset (20.0%), validation examples = 70\n",
            "time to finish evaluation: 0.30s\n",
            "Total validation loss: 40.2982\tAvg validation loss: 3.6635\n",
            "label\t tp\t fp\t fn\t prec\t rec\t f1\n",
            "I-TREATMENT\t 27\t 6\t 22\t 0.8181818\t 0.5510204\t 0.6585366\n",
            "I-PROBLEM\t 51\t 22\t 23\t 0.69863015\t 0.6891892\t 0.6938776\n",
            "B-PROBLEM\t 39\t 24\t 18\t 0.61904764\t 0.68421054\t 0.65000004\n",
            "I-TEST\t 15\t 9\t 3\t 0.625\t 0.8333333\t 0.71428573\n",
            "B-TEST\t 19\t 12\t 4\t 0.61290324\t 0.82608694\t 0.70370376\n",
            "B-TREATMENT\t 32\t 7\t 18\t 0.82051283\t 0.64\t 0.7191011\n",
            "tp: 183 fp: 80 fn: 88 labels: 6\n",
            "Macro-average\t prec: 0.6990459, rec: 0.70397335, f1: 0.701501\n",
            "Micro-average\t prec: 0.6958175, rec: 0.67527676, f1: 0.6853933\n",
            "\n",
            "\n",
            "Epoch 24/30 started, lr: 0.002690583, dataset size: 352\n",
            "\n",
            "\n",
            "Epoch 24/30 - 4.36s - loss: 39.04049 - avg training loss: 1.0551484 - batches: 37\n",
            "Quality on validation dataset (20.0%), validation examples = 70\n",
            "time to finish evaluation: 0.14s\n",
            "Total validation loss: 65.1825\tAvg validation loss: 5.9257\n",
            "label\t tp\t fp\t fn\t prec\t rec\t f1\n",
            "I-TREATMENT\t 23\t 2\t 26\t 0.92\t 0.46938777\t 0.6216216\n",
            "I-PROBLEM\t 65\t 36\t 9\t 0.64356434\t 0.8783784\t 0.74285716\n",
            "B-PROBLEM\t 48\t 36\t 9\t 0.5714286\t 0.84210527\t 0.68085104\n",
            "I-TEST\t 11\t 0\t 7\t 1.0\t 0.6111111\t 0.7586207\n",
            "B-TEST\t 15\t 3\t 8\t 0.8333333\t 0.65217394\t 0.7317073\n",
            "B-TREATMENT\t 26\t 3\t 24\t 0.8965517\t 0.52\t 0.6582278\n",
            "tp: 188 fp: 80 fn: 83 labels: 6\n",
            "Macro-average\t prec: 0.81081295, rec: 0.66219276, f1: 0.7290052\n",
            "Micro-average\t prec: 0.70149255, rec: 0.69372696, f1: 0.69758815\n",
            "\n",
            "\n",
            "Epoch 25/30 started, lr: 0.0026785715, dataset size: 352\n",
            "\n",
            "\n",
            "Epoch 25/30 - 3.33s - loss: 53.064095 - avg training loss: 1.4341648 - batches: 37\n",
            "Quality on validation dataset (20.0%), validation examples = 70\n",
            "time to finish evaluation: 0.13s\n",
            "Total validation loss: 32.7947\tAvg validation loss: 2.9813\n",
            "label\t tp\t fp\t fn\t prec\t rec\t f1\n",
            "I-TREATMENT\t 34\t 5\t 15\t 0.8717949\t 0.6938776\t 0.7727273\n",
            "I-PROBLEM\t 56\t 12\t 18\t 0.8235294\t 0.7567568\t 0.7887324\n",
            "B-PROBLEM\t 38\t 12\t 19\t 0.76\t 0.6666667\t 0.71028036\n",
            "I-TEST\t 14\t 15\t 4\t 0.4827586\t 0.7777778\t 0.59574467\n",
            "B-TEST\t 18\t 15\t 5\t 0.54545456\t 0.7826087\t 0.64285713\n",
            "B-TREATMENT\t 38\t 8\t 12\t 0.82608694\t 0.76\t 0.7916667\n",
            "tp: 198 fp: 67 fn: 73 labels: 6\n",
            "Macro-average\t prec: 0.7182707, rec: 0.73961455, f1: 0.72878635\n",
            "Micro-average\t prec: 0.7471698, rec: 0.7306273, f1: 0.738806\n",
            "\n",
            "\n",
            "Epoch 26/30 started, lr: 0.0026666666, dataset size: 352\n",
            "\n",
            "\n",
            "Epoch 26/30 - 3.20s - loss: 53.137074 - avg training loss: 1.4361371 - batches: 37\n",
            "Quality on validation dataset (20.0%), validation examples = 70\n",
            "time to finish evaluation: 0.13s\n",
            "Total validation loss: 42.0990\tAvg validation loss: 3.8272\n",
            "label\t tp\t fp\t fn\t prec\t rec\t f1\n",
            "I-TREATMENT\t 27\t 5\t 22\t 0.84375\t 0.5510204\t 0.6666666\n",
            "I-PROBLEM\t 64\t 27\t 10\t 0.7032967\t 0.8648649\t 0.7757576\n",
            "B-PROBLEM\t 48\t 27\t 9\t 0.64\t 0.84210527\t 0.7272727\n",
            "I-TEST\t 13\t 1\t 5\t 0.9285714\t 0.7222222\t 0.8125\n",
            "B-TEST\t 18\t 5\t 5\t 0.7826087\t 0.7826087\t 0.7826087\n",
            "B-TREATMENT\t 29\t 4\t 21\t 0.8787879\t 0.58\t 0.69879514\n",
            "tp: 199 fp: 69 fn: 72 labels: 6\n",
            "Macro-average\t prec: 0.7961691, rec: 0.7238036, f1: 0.7582637\n",
            "Micro-average\t prec: 0.7425373, rec: 0.73431736, f1: 0.73840445\n",
            "\n",
            "\n",
            "Epoch 27/30 started, lr: 0.0026548672, dataset size: 352\n",
            "\n",
            "\n",
            "Epoch 27/30 - 4.45s - loss: 43.774307 - avg training loss: 1.1830894 - batches: 37\n",
            "Quality on validation dataset (20.0%), validation examples = 70\n",
            "time to finish evaluation: 0.19s\n",
            "Total validation loss: 27.4711\tAvg validation loss: 2.4974\n",
            "label\t tp\t fp\t fn\t prec\t rec\t f1\n",
            "I-TREATMENT\t 42\t 16\t 7\t 0.7241379\t 0.85714287\t 0.78504676\n",
            "I-PROBLEM\t 58\t 11\t 16\t 0.8405797\t 0.7837838\t 0.8111888\n",
            "B-PROBLEM\t 42\t 14\t 15\t 0.75\t 0.7368421\t 0.7433628\n",
            "I-TEST\t 12\t 0\t 6\t 1.0\t 0.6666667\t 0.8\n",
            "B-TEST\t 16\t 2\t 7\t 0.8888889\t 0.6956522\t 0.7804878\n",
            "B-TREATMENT\t 42\t 12\t 8\t 0.7777778\t 0.84\t 0.8076922\n",
            "tp: 212 fp: 55 fn: 59 labels: 6\n",
            "Macro-average\t prec: 0.8302307, rec: 0.7633479, f1: 0.79538584\n",
            "Micro-average\t prec: 0.7940075, rec: 0.78228784, f1: 0.78810406\n",
            "\n",
            "\n",
            "Epoch 28/30 started, lr: 0.002643172, dataset size: 352\n",
            "\n",
            "\n",
            "Epoch 28/30 - 4.19s - loss: 34.01867 - avg training loss: 0.91942346 - batches: 37\n",
            "Quality on validation dataset (20.0%), validation examples = 70\n",
            "time to finish evaluation: 0.13s\n",
            "Total validation loss: 29.4580\tAvg validation loss: 2.6780\n",
            "label\t tp\t fp\t fn\t prec\t rec\t f1\n",
            "I-TREATMENT\t 28\t 4\t 21\t 0.875\t 0.5714286\t 0.69135803\n",
            "I-PROBLEM\t 65\t 26\t 9\t 0.71428573\t 0.8783784\t 0.7878788\n",
            "B-PROBLEM\t 48\t 22\t 9\t 0.6857143\t 0.84210527\t 0.75590545\n",
            "I-TEST\t 16\t 7\t 2\t 0.6956522\t 0.8888889\t 0.7804878\n",
            "B-TEST\t 19\t 5\t 4\t 0.7916667\t 0.82608694\t 0.8085106\n",
            "B-TREATMENT\t 32\t 4\t 18\t 0.8888889\t 0.64\t 0.74418604\n",
            "tp: 208 fp: 68 fn: 63 labels: 6\n",
            "Macro-average\t prec: 0.7752013, rec: 0.7744813, f1: 0.7748411\n",
            "Micro-average\t prec: 0.7536232, rec: 0.7675277, f1: 0.76051193\n",
            "\n",
            "\n",
            "Epoch 29/30 started, lr: 0.002631579, dataset size: 352\n",
            "\n",
            "\n",
            "Epoch 29/30 - 3.14s - loss: 36.183155 - avg training loss: 0.9779231 - batches: 37\n",
            "Quality on validation dataset (20.0%), validation examples = 70\n",
            "time to finish evaluation: 0.12s\n",
            "Total validation loss: 33.3275\tAvg validation loss: 3.0298\n",
            "label\t tp\t fp\t fn\t prec\t rec\t f1\n",
            "I-TREATMENT\t 31\t 4\t 18\t 0.8857143\t 0.63265306\t 0.7380953\n",
            "I-PROBLEM\t 62\t 27\t 12\t 0.6966292\t 0.8378378\t 0.7607362\n",
            "B-PROBLEM\t 44\t 26\t 13\t 0.62857145\t 0.7719298\t 0.6929134\n",
            "I-TEST\t 11\t 0\t 7\t 1.0\t 0.6111111\t 0.7586207\n",
            "B-TEST\t 15\t 2\t 8\t 0.88235295\t 0.65217394\t 0.75000006\n",
            "B-TREATMENT\t 36\t 6\t 14\t 0.85714287\t 0.72\t 0.78260875\n",
            "tp: 199 fp: 65 fn: 72 labels: 6\n",
            "Macro-average\t prec: 0.8250685, rec: 0.70428437, f1: 0.75990677\n",
            "Micro-average\t prec: 0.7537879, rec: 0.73431736, f1: 0.7439252\n",
            "\n",
            "\n",
            "Epoch 30/30 started, lr: 0.0026200875, dataset size: 352\n",
            "\n",
            "\n",
            "Epoch 30/30 - 4.43s - loss: 46.364 - avg training loss: 1.2530811 - batches: 37\n",
            "Quality on validation dataset (20.0%), validation examples = 70\n",
            "time to finish evaluation: 0.26s\n",
            "Total validation loss: 33.8072\tAvg validation loss: 3.0734\n",
            "label\t tp\t fp\t fn\t prec\t rec\t f1\n",
            "I-TREATMENT\t 25\t 1\t 24\t 0.96153843\t 0.5102041\t 0.6666666\n",
            "I-PROBLEM\t 61\t 24\t 13\t 0.7176471\t 0.8243243\t 0.7672956\n",
            "B-PROBLEM\t 48\t 25\t 9\t 0.65753424\t 0.84210527\t 0.7384615\n",
            "I-TEST\t 15\t 3\t 3\t 0.8333333\t 0.8333333\t 0.8333333\n",
            "B-TEST\t 19\t 6\t 4\t 0.76\t 0.82608694\t 0.7916667\n",
            "B-TREATMENT\t 31\t 2\t 19\t 0.93939394\t 0.62\t 0.74698794\n",
            "tp: 199 fp: 61 fn: 72 labels: 6\n",
            "Macro-average\t prec: 0.81157446, rec: 0.7426757, f1: 0.77559793\n",
            "Micro-average\t prec: 0.7653846, rec: 0.73431736, f1: 0.7495292\n"
          ]
        }
      ],
      "source": [
        "! cat ner_logs/MedicalNerApproach*"
      ]
    },
    {
      "cell_type": "markdown",
      "metadata": {
        "id": "qLKJpTfKWLwC"
      },
      "source": [
        "## **Evaluate**"
      ]
    },
    {
      "cell_type": "code",
      "execution_count": 22,
      "metadata": {
        "colab": {
          "base_uri": "https://localhost:8080/"
        },
        "id": "L1vuNwvOAdqr",
        "outputId": "105c734d-c931-4476-ec98-1733f82e0ce7"
      },
      "outputs": [
        {
          "output_type": "stream",
          "name": "stdout",
          "text": [
            "+---------+----+----+----+-----+---------+------+------+\n",
            "|   entity|  tp|  fp|  fn|total|precision|recall|    f1|\n",
            "+---------+----+----+----+-----+---------+------+------+\n",
            "|  PROBLEM|47.0|14.0|26.0| 73.0|   0.7705|0.6438|0.7015|\n",
            "|TREATMENT|28.0|34.0| 7.0| 35.0|   0.4516|   0.8|0.5773|\n",
            "|     TEST|14.0| 3.0|14.0| 28.0|   0.8235|   0.5|0.6222|\n",
            "+---------+----+----+----+-----+---------+------+------+\n",
            "\n",
            "+-----------------+\n",
            "|            macro|\n",
            "+-----------------+\n",
            "|0.633678115721507|\n",
            "+-----------------+\n",
            "\n",
            "None\n",
            "+------------------+\n",
            "|             micro|\n",
            "+------------------+\n",
            "|0.6532159045081848|\n",
            "+------------------+\n",
            "\n",
            "None\n"
          ]
        }
      ],
      "source": [
        "from sparknlp_jsl.eval import NerDLMetrics\n",
        "import pyspark.sql.functions as F\n",
        "\n",
        "pred_df = ner_model.stages[2].transform(clinical_embeddings.transform(test_data))\n",
        "\n",
        "evaler = NerDLMetrics(mode=\"full_chunk\")\n",
        "\n",
        "eval_result = evaler.computeMetricsFromDF(pred_df.select(\"label\",\"ner\"), prediction_col=\"ner\", label_col=\"label\", drop_o = True, case_sensitive = True).cache()\n",
        "\n",
        "eval_result.withColumn(\"precision\", F.round(eval_result[\"precision\"],4))\\\n",
        "           .withColumn(\"recall\", F.round(eval_result[\"recall\"],4))\\\n",
        "           .withColumn(\"f1\", F.round(eval_result[\"f1\"],4)).show(100)\n",
        "\n",
        "print(eval_result.selectExpr(\"avg(f1) as macro\").show())\n",
        "print (eval_result.selectExpr(\"sum(f1*total) as sumprod\",\"sum(total) as sumtotal\").selectExpr(\"sumprod/sumtotal as micro\").show())"
      ]
    },
    {
      "cell_type": "markdown",
      "source": [
        "## **Bonus**\n",
        "### Generate training graphs"
      ],
      "metadata": {
        "id": "zYNdTK7sULNl"
      }
    },
    {
      "cell_type": "code",
      "source": [
        "from sparknlp_jsl.training_log_parser import ner_log_parser\n",
        "\n",
        "print(\"Generating training graphs...\")\n",
        "parser = ner_log_parser()"
      ],
      "metadata": {
        "colab": {
          "base_uri": "https://localhost:8080/"
        },
        "id": "ul6otrnJUGe2",
        "outputId": "043480c0-1c89-43fb-bf92-49b7105c6d09"
      },
      "execution_count": 23,
      "outputs": [
        {
          "output_type": "stream",
          "name": "stdout",
          "text": [
            "Generating training graphs...\n",
            "NER Log Parser Initiated\n"
          ]
        }
      ]
    },
    {
      "cell_type": "code",
      "source": [
        "log_files = [f for f in os.listdir(\"./ner_logs\") if f.startswith(\"MedicalNerApproach\")]\n",
        "log_file = sorted(log_files)[-1]"
      ],
      "metadata": {
        "id": "g82_YJ_PU0aG"
      },
      "execution_count": 24,
      "outputs": []
    },
    {
      "cell_type": "code",
      "source": [
        "# Plot loss graph\n",
        "parser.loss_plot(f\"./ner_logs/{log_file}\")"
      ],
      "metadata": {
        "colab": {
          "base_uri": "https://localhost:8080/",
          "height": 542
        },
        "id": "JCHJERU861IO",
        "outputId": "be7b9a1c-4393-4750-f0d4-f024dec8b596"
      },
      "execution_count": 25,
      "outputs": [
        {
          "output_type": "display_data",
          "data": {
            "text/html": [
              "<html>\n",
              "<head><meta charset=\"utf-8\" /></head>\n",
              "<body>\n",
              "    <div>            <script src=\"https://cdnjs.cloudflare.com/ajax/libs/mathjax/2.7.5/MathJax.js?config=TeX-AMS-MML_SVG\"></script><script type=\"text/javascript\">if (window.MathJax && window.MathJax.Hub && window.MathJax.Hub.Config) {window.MathJax.Hub.Config({SVG: {font: \"STIX-Web\"}});}</script>                <script type=\"text/javascript\">window.PlotlyConfig = {MathJaxConfig: 'local'};</script>\n",
              "        <script charset=\"utf-8\" src=\"https://cdn.plot.ly/plotly-2.35.2.min.js\"></script>                <div id=\"1bcc8d47-52cc-41b4-9508-f8131901bd90\" class=\"plotly-graph-div\" style=\"height:525px; width:100%;\"></div>            <script type=\"text/javascript\">                                    window.PLOTLYENV=window.PLOTLYENV || {};                                    if (document.getElementById(\"1bcc8d47-52cc-41b4-9508-f8131901bd90\")) {                    Plotly.newPlot(                        \"1bcc8d47-52cc-41b4-9508-f8131901bd90\",                        [{\"hovertemplate\":\"Epochs=%{x}\\u003cbr\\u003eValidation Loss=%{y}\\u003cextra\\u003e\\u003c\\u002fextra\\u003e\",\"legendgroup\":\"\",\"line\":{\"color\":\"#636efa\",\"dash\":\"solid\"},\"marker\":{\"symbol\":\"circle\"},\"mode\":\"lines\",\"name\":\"\",\"orientation\":\"v\",\"showlegend\":false,\"x\":[1.0,2.0,3.0,4.0,5.0,6.0,7.0,8.0,9.0,10.0,11.0,12.0,13.0,14.0,15.0,16.0,17.0,18.0,19.0,20.0,21.0,22.0,23.0,24.0,25.0,26.0,27.0,28.0,29.0,30.0],\"xaxis\":\"x\",\"y\":[136.058,103.6009,91.5351,72.9941,66.2677,58.438,47.4856,55.5246,43.933,44.4505,43.6038,47.3768,36.156,92.0414,39.5353,42.1664,33.7998,39.8779,35.7392,36.0378,34.4959,51.0471,40.2982,65.1825,32.7947,42.099,27.4711,29.458,33.3275,33.8072],\"yaxis\":\"y\",\"type\":\"scatter\"}],                        {\"template\":{\"data\":{\"histogram2dcontour\":[{\"type\":\"histogram2dcontour\",\"colorbar\":{\"outlinewidth\":0,\"ticks\":\"\"},\"colorscale\":[[0.0,\"#0d0887\"],[0.1111111111111111,\"#46039f\"],[0.2222222222222222,\"#7201a8\"],[0.3333333333333333,\"#9c179e\"],[0.4444444444444444,\"#bd3786\"],[0.5555555555555556,\"#d8576b\"],[0.6666666666666666,\"#ed7953\"],[0.7777777777777778,\"#fb9f3a\"],[0.8888888888888888,\"#fdca26\"],[1.0,\"#f0f921\"]]}],\"choropleth\":[{\"type\":\"choropleth\",\"colorbar\":{\"outlinewidth\":0,\"ticks\":\"\"}}],\"histogram2d\":[{\"type\":\"histogram2d\",\"colorbar\":{\"outlinewidth\":0,\"ticks\":\"\"},\"colorscale\":[[0.0,\"#0d0887\"],[0.1111111111111111,\"#46039f\"],[0.2222222222222222,\"#7201a8\"],[0.3333333333333333,\"#9c179e\"],[0.4444444444444444,\"#bd3786\"],[0.5555555555555556,\"#d8576b\"],[0.6666666666666666,\"#ed7953\"],[0.7777777777777778,\"#fb9f3a\"],[0.8888888888888888,\"#fdca26\"],[1.0,\"#f0f921\"]]}],\"heatmap\":[{\"type\":\"heatmap\",\"colorbar\":{\"outlinewidth\":0,\"ticks\":\"\"},\"colorscale\":[[0.0,\"#0d0887\"],[0.1111111111111111,\"#46039f\"],[0.2222222222222222,\"#7201a8\"],[0.3333333333333333,\"#9c179e\"],[0.4444444444444444,\"#bd3786\"],[0.5555555555555556,\"#d8576b\"],[0.6666666666666666,\"#ed7953\"],[0.7777777777777778,\"#fb9f3a\"],[0.8888888888888888,\"#fdca26\"],[1.0,\"#f0f921\"]]}],\"heatmapgl\":[{\"type\":\"heatmapgl\",\"colorbar\":{\"outlinewidth\":0,\"ticks\":\"\"},\"colorscale\":[[0.0,\"#0d0887\"],[0.1111111111111111,\"#46039f\"],[0.2222222222222222,\"#7201a8\"],[0.3333333333333333,\"#9c179e\"],[0.4444444444444444,\"#bd3786\"],[0.5555555555555556,\"#d8576b\"],[0.6666666666666666,\"#ed7953\"],[0.7777777777777778,\"#fb9f3a\"],[0.8888888888888888,\"#fdca26\"],[1.0,\"#f0f921\"]]}],\"contourcarpet\":[{\"type\":\"contourcarpet\",\"colorbar\":{\"outlinewidth\":0,\"ticks\":\"\"}}],\"contour\":[{\"type\":\"contour\",\"colorbar\":{\"outlinewidth\":0,\"ticks\":\"\"},\"colorscale\":[[0.0,\"#0d0887\"],[0.1111111111111111,\"#46039f\"],[0.2222222222222222,\"#7201a8\"],[0.3333333333333333,\"#9c179e\"],[0.4444444444444444,\"#bd3786\"],[0.5555555555555556,\"#d8576b\"],[0.6666666666666666,\"#ed7953\"],[0.7777777777777778,\"#fb9f3a\"],[0.8888888888888888,\"#fdca26\"],[1.0,\"#f0f921\"]]}],\"surface\":[{\"type\":\"surface\",\"colorbar\":{\"outlinewidth\":0,\"ticks\":\"\"},\"colorscale\":[[0.0,\"#0d0887\"],[0.1111111111111111,\"#46039f\"],[0.2222222222222222,\"#7201a8\"],[0.3333333333333333,\"#9c179e\"],[0.4444444444444444,\"#bd3786\"],[0.5555555555555556,\"#d8576b\"],[0.6666666666666666,\"#ed7953\"],[0.7777777777777778,\"#fb9f3a\"],[0.8888888888888888,\"#fdca26\"],[1.0,\"#f0f921\"]]}],\"mesh3d\":[{\"type\":\"mesh3d\",\"colorbar\":{\"outlinewidth\":0,\"ticks\":\"\"}}],\"scatter\":[{\"fillpattern\":{\"fillmode\":\"overlay\",\"size\":10,\"solidity\":0.2},\"type\":\"scatter\"}],\"parcoords\":[{\"type\":\"parcoords\",\"line\":{\"colorbar\":{\"outlinewidth\":0,\"ticks\":\"\"}}}],\"scatterpolargl\":[{\"type\":\"scatterpolargl\",\"marker\":{\"colorbar\":{\"outlinewidth\":0,\"ticks\":\"\"}}}],\"bar\":[{\"error_x\":{\"color\":\"#2a3f5f\"},\"error_y\":{\"color\":\"#2a3f5f\"},\"marker\":{\"line\":{\"color\":\"#E5ECF6\",\"width\":0.5},\"pattern\":{\"fillmode\":\"overlay\",\"size\":10,\"solidity\":0.2}},\"type\":\"bar\"}],\"scattergeo\":[{\"type\":\"scattergeo\",\"marker\":{\"colorbar\":{\"outlinewidth\":0,\"ticks\":\"\"}}}],\"scatterpolar\":[{\"type\":\"scatterpolar\",\"marker\":{\"colorbar\":{\"outlinewidth\":0,\"ticks\":\"\"}}}],\"histogram\":[{\"marker\":{\"pattern\":{\"fillmode\":\"overlay\",\"size\":10,\"solidity\":0.2}},\"type\":\"histogram\"}],\"scattergl\":[{\"type\":\"scattergl\",\"marker\":{\"colorbar\":{\"outlinewidth\":0,\"ticks\":\"\"}}}],\"scatter3d\":[{\"type\":\"scatter3d\",\"line\":{\"colorbar\":{\"outlinewidth\":0,\"ticks\":\"\"}},\"marker\":{\"colorbar\":{\"outlinewidth\":0,\"ticks\":\"\"}}}],\"scattermapbox\":[{\"type\":\"scattermapbox\",\"marker\":{\"colorbar\":{\"outlinewidth\":0,\"ticks\":\"\"}}}],\"scatterternary\":[{\"type\":\"scatterternary\",\"marker\":{\"colorbar\":{\"outlinewidth\":0,\"ticks\":\"\"}}}],\"scattercarpet\":[{\"type\":\"scattercarpet\",\"marker\":{\"colorbar\":{\"outlinewidth\":0,\"ticks\":\"\"}}}],\"carpet\":[{\"aaxis\":{\"endlinecolor\":\"#2a3f5f\",\"gridcolor\":\"white\",\"linecolor\":\"white\",\"minorgridcolor\":\"white\",\"startlinecolor\":\"#2a3f5f\"},\"baxis\":{\"endlinecolor\":\"#2a3f5f\",\"gridcolor\":\"white\",\"linecolor\":\"white\",\"minorgridcolor\":\"white\",\"startlinecolor\":\"#2a3f5f\"},\"type\":\"carpet\"}],\"table\":[{\"cells\":{\"fill\":{\"color\":\"#EBF0F8\"},\"line\":{\"color\":\"white\"}},\"header\":{\"fill\":{\"color\":\"#C8D4E3\"},\"line\":{\"color\":\"white\"}},\"type\":\"table\"}],\"barpolar\":[{\"marker\":{\"line\":{\"color\":\"#E5ECF6\",\"width\":0.5},\"pattern\":{\"fillmode\":\"overlay\",\"size\":10,\"solidity\":0.2}},\"type\":\"barpolar\"}],\"pie\":[{\"automargin\":true,\"type\":\"pie\"}]},\"layout\":{\"autotypenumbers\":\"strict\",\"colorway\":[\"#636efa\",\"#EF553B\",\"#00cc96\",\"#ab63fa\",\"#FFA15A\",\"#19d3f3\",\"#FF6692\",\"#B6E880\",\"#FF97FF\",\"#FECB52\"],\"font\":{\"color\":\"#2a3f5f\"},\"hovermode\":\"closest\",\"hoverlabel\":{\"align\":\"left\"},\"paper_bgcolor\":\"white\",\"plot_bgcolor\":\"#E5ECF6\",\"polar\":{\"bgcolor\":\"#E5ECF6\",\"angularaxis\":{\"gridcolor\":\"white\",\"linecolor\":\"white\",\"ticks\":\"\"},\"radialaxis\":{\"gridcolor\":\"white\",\"linecolor\":\"white\",\"ticks\":\"\"}},\"ternary\":{\"bgcolor\":\"#E5ECF6\",\"aaxis\":{\"gridcolor\":\"white\",\"linecolor\":\"white\",\"ticks\":\"\"},\"baxis\":{\"gridcolor\":\"white\",\"linecolor\":\"white\",\"ticks\":\"\"},\"caxis\":{\"gridcolor\":\"white\",\"linecolor\":\"white\",\"ticks\":\"\"}},\"coloraxis\":{\"colorbar\":{\"outlinewidth\":0,\"ticks\":\"\"}},\"colorscale\":{\"sequential\":[[0.0,\"#0d0887\"],[0.1111111111111111,\"#46039f\"],[0.2222222222222222,\"#7201a8\"],[0.3333333333333333,\"#9c179e\"],[0.4444444444444444,\"#bd3786\"],[0.5555555555555556,\"#d8576b\"],[0.6666666666666666,\"#ed7953\"],[0.7777777777777778,\"#fb9f3a\"],[0.8888888888888888,\"#fdca26\"],[1.0,\"#f0f921\"]],\"sequentialminus\":[[0.0,\"#0d0887\"],[0.1111111111111111,\"#46039f\"],[0.2222222222222222,\"#7201a8\"],[0.3333333333333333,\"#9c179e\"],[0.4444444444444444,\"#bd3786\"],[0.5555555555555556,\"#d8576b\"],[0.6666666666666666,\"#ed7953\"],[0.7777777777777778,\"#fb9f3a\"],[0.8888888888888888,\"#fdca26\"],[1.0,\"#f0f921\"]],\"diverging\":[[0,\"#8e0152\"],[0.1,\"#c51b7d\"],[0.2,\"#de77ae\"],[0.3,\"#f1b6da\"],[0.4,\"#fde0ef\"],[0.5,\"#f7f7f7\"],[0.6,\"#e6f5d0\"],[0.7,\"#b8e186\"],[0.8,\"#7fbc41\"],[0.9,\"#4d9221\"],[1,\"#276419\"]]},\"xaxis\":{\"gridcolor\":\"white\",\"linecolor\":\"white\",\"ticks\":\"\",\"title\":{\"standoff\":15},\"zerolinecolor\":\"white\",\"automargin\":true,\"zerolinewidth\":2},\"yaxis\":{\"gridcolor\":\"white\",\"linecolor\":\"white\",\"ticks\":\"\",\"title\":{\"standoff\":15},\"zerolinecolor\":\"white\",\"automargin\":true,\"zerolinewidth\":2},\"scene\":{\"xaxis\":{\"backgroundcolor\":\"#E5ECF6\",\"gridcolor\":\"white\",\"linecolor\":\"white\",\"showbackground\":true,\"ticks\":\"\",\"zerolinecolor\":\"white\",\"gridwidth\":2},\"yaxis\":{\"backgroundcolor\":\"#E5ECF6\",\"gridcolor\":\"white\",\"linecolor\":\"white\",\"showbackground\":true,\"ticks\":\"\",\"zerolinecolor\":\"white\",\"gridwidth\":2},\"zaxis\":{\"backgroundcolor\":\"#E5ECF6\",\"gridcolor\":\"white\",\"linecolor\":\"white\",\"showbackground\":true,\"ticks\":\"\",\"zerolinecolor\":\"white\",\"gridwidth\":2}},\"shapedefaults\":{\"line\":{\"color\":\"#2a3f5f\"}},\"annotationdefaults\":{\"arrowcolor\":\"#2a3f5f\",\"arrowhead\":0,\"arrowwidth\":1},\"geo\":{\"bgcolor\":\"white\",\"landcolor\":\"#E5ECF6\",\"subunitcolor\":\"white\",\"showland\":true,\"showlakes\":true,\"lakecolor\":\"white\"},\"title\":{\"x\":0.05},\"mapbox\":{\"style\":\"light\"}}},\"xaxis\":{\"anchor\":\"y\",\"domain\":[0.0,1.0],\"title\":{\"text\":\"Epochs\"}},\"yaxis\":{\"anchor\":\"x\",\"domain\":[0.0,1.0],\"title\":{\"text\":\"Validation Loss\"}},\"legend\":{\"tracegroupgap\":0},\"title\":{\"text\":\"Validation Loss Plot\"}},                        {\"responsive\": true}                    ).then(function(){\n",
              "                            \n",
              "var gd = document.getElementById('1bcc8d47-52cc-41b4-9508-f8131901bd90');\n",
              "var x = new MutationObserver(function (mutations, observer) {{\n",
              "        var display = window.getComputedStyle(gd).display;\n",
              "        if (!display || display === 'none') {{\n",
              "            console.log([gd, 'removed!']);\n",
              "            Plotly.purge(gd);\n",
              "            observer.disconnect();\n",
              "        }}\n",
              "}});\n",
              "\n",
              "// Listen for the removal of the full notebook cells\n",
              "var notebookContainer = gd.closest('#notebook-container');\n",
              "if (notebookContainer) {{\n",
              "    x.observe(notebookContainer, {childList: true});\n",
              "}}\n",
              "\n",
              "// Listen for the clearing of the current output cell\n",
              "var outputEl = gd.closest('.output');\n",
              "if (outputEl) {{\n",
              "    x.observe(outputEl, {childList: true});\n",
              "}}\n",
              "\n",
              "                        })                };                            </script>        </div>\n",
              "</body>\n",
              "</html>"
            ]
          },
          "metadata": {}
        }
      ]
    },
    {
      "cell_type": "code",
      "source": [
        "# Plot other metric graphs\n",
        "parser.get_charts(f'./ner_logs/{log_file}')"
      ],
      "metadata": {
        "colab": {
          "base_uri": "https://localhost:8080/",
          "height": 817
        },
        "id": "GJrPunOLUtxE",
        "outputId": "d16af617-33f7-4006-f261-9fde9f6dfa64"
      },
      "execution_count": 47,
      "outputs": [
        {
          "output_type": "display_data",
          "data": {
            "text/html": [
              "<html>\n",
              "<head><meta charset=\"utf-8\" /></head>\n",
              "<body>\n",
              "    <div>            <script src=\"https://cdnjs.cloudflare.com/ajax/libs/mathjax/2.7.5/MathJax.js?config=TeX-AMS-MML_SVG\"></script><script type=\"text/javascript\">if (window.MathJax && window.MathJax.Hub && window.MathJax.Hub.Config) {window.MathJax.Hub.Config({SVG: {font: \"STIX-Web\"}});}</script>                <script type=\"text/javascript\">window.PlotlyConfig = {MathJaxConfig: 'local'};</script>\n",
              "        <script charset=\"utf-8\" src=\"https://cdn.plot.ly/plotly-2.35.2.min.js\"></script>                <div id=\"dee6cdbc-ae08-4039-9f8e-d4af50f93f6a\" class=\"plotly-graph-div\" style=\"height:800px; width:1200px;\"></div>            <script type=\"text/javascript\">                                    window.PLOTLYENV=window.PLOTLYENV || {};                                    if (document.getElementById(\"dee6cdbc-ae08-4039-9f8e-d4af50f93f6a\")) {                    Plotly.newPlot(                        \"dee6cdbc-ae08-4039-9f8e-d4af50f93f6a\",                        [{\"mode\":\"lines+markers\",\"name\":\"prec macro_avg\",\"text\":\"prec-macro_avg\",\"x\":[0,1,2,3,4,5,6,7,8,9],\"y\":[0.0,0.26005748,0.4296038,0.41880432,0.45859957,0.65091735,0.6647071,0.7167217,0.7805853,0.75816566],\"type\":\"scatter\",\"xaxis\":\"x\",\"yaxis\":\"y\"},{\"mode\":\"lines+markers\",\"name\":\"prec-micro_avg\",\"text\":\"prec-micro_avg\",\"x\":[0,1,2,3,4,5,6,7,8,9],\"y\":[0.0,0.3902439,0.44390243,0.41111112,0.49433962,0.5614754,0.67622954,0.63076925,0.70428014,0.6916996],\"type\":\"scatter\",\"xaxis\":\"x\",\"yaxis\":\"y\"},{\"mode\":\"lines+markers\",\"name\":\"rec macro_avg\",\"text\":\"rec-macro_avg\",\"x\":[0,1,2,3,4,5,6,7,8,9],\"y\":[0.0,0.055614844,0.301542,0.34944606,0.44745123,0.40702525,0.5574675,0.51228476,0.6598473,0.58804756],\"type\":\"scatter\",\"xaxis\":\"x2\",\"yaxis\":\"y2\"},{\"mode\":\"lines+markers\",\"name\":\"rec-micro_avg\",\"text\":\"rec-micro_avg\",\"x\":[0,1,2,3,4,5,6,7,8,9],\"y\":[0.0,0.05904059,0.33579335,0.4095941,0.48339483,0.50553507,0.6088561,0.6051661,0.6678967,0.6457565],\"type\":\"scatter\",\"xaxis\":\"x2\",\"yaxis\":\"y2\"},{\"mode\":\"lines+markers\",\"name\":\"f1 macro_avg\",\"text\":\"f1-macro_avg\",\"x\":[0,1,2,3,4,5,6,7,8,9],\"y\":[0.0,0.09163334,0.35435775,0.38099435,0.4529568,0.5008585,0.6063824,0.59749985,0.71515614,0.66235787],\"type\":\"scatter\",\"xaxis\":\"x3\",\"yaxis\":\"y3\"},{\"mode\":\"lines+markers\",\"name\":\"f1-micro_avg\",\"text\":\"f1-micro_avg\",\"x\":[0,1,2,3,4,5,6,7,8,9],\"y\":[0.0,0.1025641,0.38235295,0.41035122,0.48880598,0.53203887,0.6407767,0.6177025,0.68560606,0.66793895],\"type\":\"scatter\",\"xaxis\":\"x3\",\"yaxis\":\"y3\"}],                        {\"template\":{\"data\":{\"histogram2dcontour\":[{\"type\":\"histogram2dcontour\",\"colorbar\":{\"outlinewidth\":0,\"ticks\":\"\"},\"colorscale\":[[0.0,\"#0d0887\"],[0.1111111111111111,\"#46039f\"],[0.2222222222222222,\"#7201a8\"],[0.3333333333333333,\"#9c179e\"],[0.4444444444444444,\"#bd3786\"],[0.5555555555555556,\"#d8576b\"],[0.6666666666666666,\"#ed7953\"],[0.7777777777777778,\"#fb9f3a\"],[0.8888888888888888,\"#fdca26\"],[1.0,\"#f0f921\"]]}],\"choropleth\":[{\"type\":\"choropleth\",\"colorbar\":{\"outlinewidth\":0,\"ticks\":\"\"}}],\"histogram2d\":[{\"type\":\"histogram2d\",\"colorbar\":{\"outlinewidth\":0,\"ticks\":\"\"},\"colorscale\":[[0.0,\"#0d0887\"],[0.1111111111111111,\"#46039f\"],[0.2222222222222222,\"#7201a8\"],[0.3333333333333333,\"#9c179e\"],[0.4444444444444444,\"#bd3786\"],[0.5555555555555556,\"#d8576b\"],[0.6666666666666666,\"#ed7953\"],[0.7777777777777778,\"#fb9f3a\"],[0.8888888888888888,\"#fdca26\"],[1.0,\"#f0f921\"]]}],\"heatmap\":[{\"type\":\"heatmap\",\"colorbar\":{\"outlinewidth\":0,\"ticks\":\"\"},\"colorscale\":[[0.0,\"#0d0887\"],[0.1111111111111111,\"#46039f\"],[0.2222222222222222,\"#7201a8\"],[0.3333333333333333,\"#9c179e\"],[0.4444444444444444,\"#bd3786\"],[0.5555555555555556,\"#d8576b\"],[0.6666666666666666,\"#ed7953\"],[0.7777777777777778,\"#fb9f3a\"],[0.8888888888888888,\"#fdca26\"],[1.0,\"#f0f921\"]]}],\"heatmapgl\":[{\"type\":\"heatmapgl\",\"colorbar\":{\"outlinewidth\":0,\"ticks\":\"\"},\"colorscale\":[[0.0,\"#0d0887\"],[0.1111111111111111,\"#46039f\"],[0.2222222222222222,\"#7201a8\"],[0.3333333333333333,\"#9c179e\"],[0.4444444444444444,\"#bd3786\"],[0.5555555555555556,\"#d8576b\"],[0.6666666666666666,\"#ed7953\"],[0.7777777777777778,\"#fb9f3a\"],[0.8888888888888888,\"#fdca26\"],[1.0,\"#f0f921\"]]}],\"contourcarpet\":[{\"type\":\"contourcarpet\",\"colorbar\":{\"outlinewidth\":0,\"ticks\":\"\"}}],\"contour\":[{\"type\":\"contour\",\"colorbar\":{\"outlinewidth\":0,\"ticks\":\"\"},\"colorscale\":[[0.0,\"#0d0887\"],[0.1111111111111111,\"#46039f\"],[0.2222222222222222,\"#7201a8\"],[0.3333333333333333,\"#9c179e\"],[0.4444444444444444,\"#bd3786\"],[0.5555555555555556,\"#d8576b\"],[0.6666666666666666,\"#ed7953\"],[0.7777777777777778,\"#fb9f3a\"],[0.8888888888888888,\"#fdca26\"],[1.0,\"#f0f921\"]]}],\"surface\":[{\"type\":\"surface\",\"colorbar\":{\"outlinewidth\":0,\"ticks\":\"\"},\"colorscale\":[[0.0,\"#0d0887\"],[0.1111111111111111,\"#46039f\"],[0.2222222222222222,\"#7201a8\"],[0.3333333333333333,\"#9c179e\"],[0.4444444444444444,\"#bd3786\"],[0.5555555555555556,\"#d8576b\"],[0.6666666666666666,\"#ed7953\"],[0.7777777777777778,\"#fb9f3a\"],[0.8888888888888888,\"#fdca26\"],[1.0,\"#f0f921\"]]}],\"mesh3d\":[{\"type\":\"mesh3d\",\"colorbar\":{\"outlinewidth\":0,\"ticks\":\"\"}}],\"scatter\":[{\"fillpattern\":{\"fillmode\":\"overlay\",\"size\":10,\"solidity\":0.2},\"type\":\"scatter\"}],\"parcoords\":[{\"type\":\"parcoords\",\"line\":{\"colorbar\":{\"outlinewidth\":0,\"ticks\":\"\"}}}],\"scatterpolargl\":[{\"type\":\"scatterpolargl\",\"marker\":{\"colorbar\":{\"outlinewidth\":0,\"ticks\":\"\"}}}],\"bar\":[{\"error_x\":{\"color\":\"#2a3f5f\"},\"error_y\":{\"color\":\"#2a3f5f\"},\"marker\":{\"line\":{\"color\":\"#E5ECF6\",\"width\":0.5},\"pattern\":{\"fillmode\":\"overlay\",\"size\":10,\"solidity\":0.2}},\"type\":\"bar\"}],\"scattergeo\":[{\"type\":\"scattergeo\",\"marker\":{\"colorbar\":{\"outlinewidth\":0,\"ticks\":\"\"}}}],\"scatterpolar\":[{\"type\":\"scatterpolar\",\"marker\":{\"colorbar\":{\"outlinewidth\":0,\"ticks\":\"\"}}}],\"histogram\":[{\"marker\":{\"pattern\":{\"fillmode\":\"overlay\",\"size\":10,\"solidity\":0.2}},\"type\":\"histogram\"}],\"scattergl\":[{\"type\":\"scattergl\",\"marker\":{\"colorbar\":{\"outlinewidth\":0,\"ticks\":\"\"}}}],\"scatter3d\":[{\"type\":\"scatter3d\",\"line\":{\"colorbar\":{\"outlinewidth\":0,\"ticks\":\"\"}},\"marker\":{\"colorbar\":{\"outlinewidth\":0,\"ticks\":\"\"}}}],\"scattermapbox\":[{\"type\":\"scattermapbox\",\"marker\":{\"colorbar\":{\"outlinewidth\":0,\"ticks\":\"\"}}}],\"scatterternary\":[{\"type\":\"scatterternary\",\"marker\":{\"colorbar\":{\"outlinewidth\":0,\"ticks\":\"\"}}}],\"scattercarpet\":[{\"type\":\"scattercarpet\",\"marker\":{\"colorbar\":{\"outlinewidth\":0,\"ticks\":\"\"}}}],\"carpet\":[{\"aaxis\":{\"endlinecolor\":\"#2a3f5f\",\"gridcolor\":\"white\",\"linecolor\":\"white\",\"minorgridcolor\":\"white\",\"startlinecolor\":\"#2a3f5f\"},\"baxis\":{\"endlinecolor\":\"#2a3f5f\",\"gridcolor\":\"white\",\"linecolor\":\"white\",\"minorgridcolor\":\"white\",\"startlinecolor\":\"#2a3f5f\"},\"type\":\"carpet\"}],\"table\":[{\"cells\":{\"fill\":{\"color\":\"#EBF0F8\"},\"line\":{\"color\":\"white\"}},\"header\":{\"fill\":{\"color\":\"#C8D4E3\"},\"line\":{\"color\":\"white\"}},\"type\":\"table\"}],\"barpolar\":[{\"marker\":{\"line\":{\"color\":\"#E5ECF6\",\"width\":0.5},\"pattern\":{\"fillmode\":\"overlay\",\"size\":10,\"solidity\":0.2}},\"type\":\"barpolar\"}],\"pie\":[{\"automargin\":true,\"type\":\"pie\"}]},\"layout\":{\"autotypenumbers\":\"strict\",\"colorway\":[\"#636efa\",\"#EF553B\",\"#00cc96\",\"#ab63fa\",\"#FFA15A\",\"#19d3f3\",\"#FF6692\",\"#B6E880\",\"#FF97FF\",\"#FECB52\"],\"font\":{\"color\":\"#2a3f5f\"},\"hovermode\":\"closest\",\"hoverlabel\":{\"align\":\"left\"},\"paper_bgcolor\":\"white\",\"plot_bgcolor\":\"#E5ECF6\",\"polar\":{\"bgcolor\":\"#E5ECF6\",\"angularaxis\":{\"gridcolor\":\"white\",\"linecolor\":\"white\",\"ticks\":\"\"},\"radialaxis\":{\"gridcolor\":\"white\",\"linecolor\":\"white\",\"ticks\":\"\"}},\"ternary\":{\"bgcolor\":\"#E5ECF6\",\"aaxis\":{\"gridcolor\":\"white\",\"linecolor\":\"white\",\"ticks\":\"\"},\"baxis\":{\"gridcolor\":\"white\",\"linecolor\":\"white\",\"ticks\":\"\"},\"caxis\":{\"gridcolor\":\"white\",\"linecolor\":\"white\",\"ticks\":\"\"}},\"coloraxis\":{\"colorbar\":{\"outlinewidth\":0,\"ticks\":\"\"}},\"colorscale\":{\"sequential\":[[0.0,\"#0d0887\"],[0.1111111111111111,\"#46039f\"],[0.2222222222222222,\"#7201a8\"],[0.3333333333333333,\"#9c179e\"],[0.4444444444444444,\"#bd3786\"],[0.5555555555555556,\"#d8576b\"],[0.6666666666666666,\"#ed7953\"],[0.7777777777777778,\"#fb9f3a\"],[0.8888888888888888,\"#fdca26\"],[1.0,\"#f0f921\"]],\"sequentialminus\":[[0.0,\"#0d0887\"],[0.1111111111111111,\"#46039f\"],[0.2222222222222222,\"#7201a8\"],[0.3333333333333333,\"#9c179e\"],[0.4444444444444444,\"#bd3786\"],[0.5555555555555556,\"#d8576b\"],[0.6666666666666666,\"#ed7953\"],[0.7777777777777778,\"#fb9f3a\"],[0.8888888888888888,\"#fdca26\"],[1.0,\"#f0f921\"]],\"diverging\":[[0,\"#8e0152\"],[0.1,\"#c51b7d\"],[0.2,\"#de77ae\"],[0.3,\"#f1b6da\"],[0.4,\"#fde0ef\"],[0.5,\"#f7f7f7\"],[0.6,\"#e6f5d0\"],[0.7,\"#b8e186\"],[0.8,\"#7fbc41\"],[0.9,\"#4d9221\"],[1,\"#276419\"]]},\"xaxis\":{\"gridcolor\":\"white\",\"linecolor\":\"white\",\"ticks\":\"\",\"title\":{\"standoff\":15},\"zerolinecolor\":\"white\",\"automargin\":true,\"zerolinewidth\":2},\"yaxis\":{\"gridcolor\":\"white\",\"linecolor\":\"white\",\"ticks\":\"\",\"title\":{\"standoff\":15},\"zerolinecolor\":\"white\",\"automargin\":true,\"zerolinewidth\":2},\"scene\":{\"xaxis\":{\"backgroundcolor\":\"#E5ECF6\",\"gridcolor\":\"white\",\"linecolor\":\"white\",\"showbackground\":true,\"ticks\":\"\",\"zerolinecolor\":\"white\",\"gridwidth\":2},\"yaxis\":{\"backgroundcolor\":\"#E5ECF6\",\"gridcolor\":\"white\",\"linecolor\":\"white\",\"showbackground\":true,\"ticks\":\"\",\"zerolinecolor\":\"white\",\"gridwidth\":2},\"zaxis\":{\"backgroundcolor\":\"#E5ECF6\",\"gridcolor\":\"white\",\"linecolor\":\"white\",\"showbackground\":true,\"ticks\":\"\",\"zerolinecolor\":\"white\",\"gridwidth\":2}},\"shapedefaults\":{\"line\":{\"color\":\"#2a3f5f\"}},\"annotationdefaults\":{\"arrowcolor\":\"#2a3f5f\",\"arrowhead\":0,\"arrowwidth\":1},\"geo\":{\"bgcolor\":\"white\",\"landcolor\":\"#E5ECF6\",\"subunitcolor\":\"white\",\"showland\":true,\"showlakes\":true,\"lakecolor\":\"white\"},\"title\":{\"x\":0.05},\"mapbox\":{\"style\":\"light\"}}},\"xaxis\":{\"anchor\":\"y\",\"domain\":[0.0,1.0]},\"yaxis\":{\"anchor\":\"x\",\"domain\":[0.7777777777777778,1.0]},\"xaxis2\":{\"anchor\":\"y2\",\"domain\":[0.0,1.0]},\"yaxis2\":{\"anchor\":\"x2\",\"domain\":[0.3888888888888889,0.6111111111111112]},\"xaxis3\":{\"anchor\":\"y3\",\"domain\":[0.0,1.0]},\"yaxis3\":{\"anchor\":\"x3\",\"domain\":[0.0,0.22222222222222224]},\"annotations\":[{\"font\":{\"size\":16},\"showarrow\":false,\"text\":\"Validation Precision\",\"x\":0.5,\"xanchor\":\"center\",\"xref\":\"paper\",\"y\":1.0,\"yanchor\":\"bottom\",\"yref\":\"paper\"},{\"font\":{\"size\":16},\"showarrow\":false,\"text\":\"Validation Recall\",\"x\":0.5,\"xanchor\":\"center\",\"xref\":\"paper\",\"y\":0.6111111111111112,\"yanchor\":\"bottom\",\"yref\":\"paper\"},{\"font\":{\"size\":16},\"showarrow\":false,\"text\":\"Validation F1\",\"x\":0.5,\"xanchor\":\"center\",\"xref\":\"paper\",\"y\":0.22222222222222224,\"yanchor\":\"bottom\",\"yref\":\"paper\"}],\"title\":{\"text\":\"Validation Scores\"},\"height\":800,\"width\":1200},                        {\"responsive\": true}                    ).then(function(){\n",
              "                            \n",
              "var gd = document.getElementById('dee6cdbc-ae08-4039-9f8e-d4af50f93f6a');\n",
              "var x = new MutationObserver(function (mutations, observer) {{\n",
              "        var display = window.getComputedStyle(gd).display;\n",
              "        if (!display || display === 'none') {{\n",
              "            console.log([gd, 'removed!']);\n",
              "            Plotly.purge(gd);\n",
              "            observer.disconnect();\n",
              "        }}\n",
              "}});\n",
              "\n",
              "// Listen for the removal of the full notebook cells\n",
              "var notebookContainer = gd.closest('#notebook-container');\n",
              "if (notebookContainer) {{\n",
              "    x.observe(notebookContainer, {childList: true});\n",
              "}}\n",
              "\n",
              "// Listen for the clearing of the current output cell\n",
              "var outputEl = gd.closest('.output');\n",
              "if (outputEl) {{\n",
              "    x.observe(outputEl, {childList: true});\n",
              "}}\n",
              "\n",
              "                        })                };                            </script>        </div>\n",
              "</body>\n",
              "</html>"
            ]
          },
          "metadata": {}
        }
      ]
    },
    {
      "cell_type": "markdown",
      "metadata": {
        "id": "77HQ3yYyT-RZ"
      },
      "source": [
        "### Save the model to disk"
      ]
    },
    {
      "cell_type": "code",
      "execution_count": 26,
      "metadata": {
        "id": "_KEUa1yaSBZW",
        "colab": {
          "base_uri": "https://localhost:8080/"
        },
        "outputId": "cc35746f-25de-4ba6-83d3-f00cc0a54846"
      },
      "outputs": [
        {
          "output_type": "stream",
          "name": "stdout",
          "text": [
            "Model saved to ./models/medical_ner\n"
          ]
        }
      ],
      "source": [
        "model_path = \"./models/medical_ner\"\n",
        "ner_model.stages[-1].write().overwrite().save(model_path)\n",
        "print(f\"Model saved to {model_path}\")"
      ]
    },
    {
      "cell_type": "markdown",
      "source": [
        "\n",
        "\n",
        "---\n",
        "\n"
      ],
      "metadata": {
        "id": "-ggPkNl67Due"
      }
    },
    {
      "cell_type": "markdown",
      "source": [
        "## Example prediction"
      ],
      "metadata": {
        "id": "6kF7w3r5WzbI"
      }
    },
    {
      "cell_type": "code",
      "source": [
        "from pyspark.ml import PipelineModel\n",
        "from sparknlp_jsl.annotator import MedicalNerModel\n",
        "from sparknlp.annotator import DocumentAssembler, SentenceDetector, Tokenizer\n",
        "from sparknlp.base import Pipeline\n",
        "from sparknlp_display import NerVisualizer\n",
        "import pyspark.sql.functions as F\n",
        "\n",
        "print(\"Example prediction and visualization:\")\n",
        "\n",
        "# Saved NER model\n",
        "ner_model_path = \"models/medical_ner\"\n",
        "\n",
        "# Create a new pipeline with the saved NER model\n",
        "document = DocumentAssembler()\\\n",
        "    .setInputCol(\"text\")\\\n",
        "    .setOutputCol(\"document\")\n",
        "\n",
        "sentence = SentenceDetector()\\\n",
        "    .setInputCols(['document'])\\\n",
        "    .setOutputCol('sentence')\n",
        "\n",
        "token = Tokenizer()\\\n",
        "    .setInputCols(['sentence'])\\\n",
        "    .setOutputCol('token')\n",
        "\n",
        "loaded_ner_model = MedicalNerModel.load(ner_model_path)\\\n",
        "    .setInputCols([\"sentence\", \"token\", \"embeddings\"])\\\n",
        "    .setOutputCol(\"ner\")\n",
        "\n",
        "converter = NerConverterInternal()\\\n",
        "    .setInputCols([\"document\", \"token\", \"ner\"])\\\n",
        "    .setOutputCol(\"ner_span\")\n",
        "\n",
        "ner_prediction_pipeline = Pipeline(stages=[\n",
        "    document,\n",
        "    sentence,\n",
        "    token,\n",
        "    clinical_embeddings,\n",
        "    loaded_ner_model,\n",
        "    converter])\n",
        "\n",
        "empty_data = spark.createDataFrame([['']]).toDF(\"text\")\n",
        "\n",
        "prediction_model = ner_prediction_pipeline.fit(empty_data)\n",
        "\n",
        "from sparknlp.base import LightPipeline\n",
        "\n",
        "light_model = LightPipeline(prediction_model)\n"
      ],
      "metadata": {
        "colab": {
          "base_uri": "https://localhost:8080/"
        },
        "id": "Ia6saMphWsM4",
        "outputId": "576ee379-f456-453f-c201-f5c9716a0055"
      },
      "execution_count": 27,
      "outputs": [
        {
          "output_type": "stream",
          "name": "stdout",
          "text": [
            "Example prediction and visualization:\n"
          ]
        }
      ]
    },
    {
      "cell_type": "code",
      "source": [
        "text = \"\"\"A 28-year-old female with a history of gestational diabetes mellitus diagnosed eight years prior to presentation and subsequent type two diabetes mellitus ( T2DM ), one prior episode of HTG-induced pancreatitis three years prior to presentation , associated with an acute hepatitis , and obesity with a body mass index ( BMI ) of 33.5 kg/m2 , presented with a one-week history of polyuria , polydipsia , poor appetite , and vomiting .\n",
        "Two weeks prior to presentation , she was treated with a five-day course of amoxicillin for a respiratory tract infection .\n",
        "She was on metformin , glipizide , and dapagliflozin for T2DM and atorvastatin and gemfibrozil for HTG . She had been on dapagliflozin for six months at the time of presentation .\n",
        "Physical examination on presentation was significant for dry oral mucosa ; significantly , her abdominal examination was benign with no tenderness , guarding , or rigidity .\n",
        "Pertinent laboratory findings on admission were : serum glucose 111 mg/dl , bicarbonate 18 mmol/l , anion gap 20 , creatinine 0.4 mg/dL , triglycerides 508 mg/dL , total cholesterol 122 mg/dL , glycated hemoglobin ( HbA1c ) 10% , and venous pH 7.27 .\n",
        "Serum lipase was normal at 43 U/L . Serum acetone levels could not be assessed as blood samples kept hemolyzing due to significant lipemia .\n",
        "The patient was initially admitted for starvation ketosis , as she reported poor oral intake for three days prior to admission .\n",
        "However , serum chemistry obtained six hours after presentation revealed her glucose was 186 mg/dL , the anion gap was still elevated at 21 , serum bicarbonate was 16 mmol/L , triglyceride level peaked at 2050 mg/dL , and lipase was 52 U/L .\n",
        "The β-hydroxybutyrate level was obtained and found to be elevated at 5.29 mmol/L - the original sample was centrifuged and the chylomicron layer removed prior to analysis due to interference from turbidity caused by lipemia again .\n",
        "The patient was treated with an insulin drip for euDKA and HTG with a reduction in the anion gap to 13 and triglycerides to 1400 mg/dL , within 24 hours .\n",
        "Her euDKA was thought to be precipitated by her respiratory tract infection in the setting of SGLT2 inhibitor use .\n",
        "The patient was seen by the endocrinology service and she was discharged on 40 units of insulin glargine at night , 12 units of insulin lispro with meals , and metformin 1000 mg two times a day .\n",
        "It was determined that all SGLT2 inhibitors should be discontinued indefinitely . She had close follow-up with endocrinology post discharge .\"\"\"\n",
        "\n",
        "light_result = light_model.fullAnnotate(text)\n",
        "\n",
        "from sparknlp_display import NerVisualizer\n",
        "\n",
        "visualiser = NerVisualizer()\n",
        "\n",
        "visualiser.display(light_result[0], label_col='ner_span', document_col='document', save_path=\"display_bert_result.html\")\n"
      ],
      "metadata": {
        "colab": {
          "base_uri": "https://localhost:8080/",
          "height": 637
        },
        "id": "2X2J_TK0s90B",
        "outputId": "154d129a-9772-48a8-a01b-24f463fffa9e"
      },
      "execution_count": 28,
      "outputs": [
        {
          "output_type": "display_data",
          "data": {
            "text/plain": [
              "<IPython.core.display.HTML object>"
            ],
            "text/html": [
              "\n",
              "<style>\n",
              "    @import url('https://fonts.googleapis.com/css2?family=Montserrat:wght@300;400;500;600;700&display=swap');\n",
              "    @import url('https://fonts.googleapis.com/css2?family=Vistol Regular:wght@300;400;500;600;700&display=swap');\n",
              "    \n",
              "    .spark-nlp-display-scroll-entities {\n",
              "        border: 1px solid #E7EDF0;\n",
              "        border-radius: 3px;\n",
              "        text-align: justify;\n",
              "        \n",
              "    }\n",
              "    .spark-nlp-display-scroll-entities span {  \n",
              "        font-size: 14px;\n",
              "        line-height: 24px;\n",
              "        color: #536B76;\n",
              "        font-family: 'Montserrat', sans-serif !important;\n",
              "    }\n",
              "    \n",
              "    .spark-nlp-display-entity-wrapper{\n",
              "    \n",
              "        display: inline-grid;\n",
              "        text-align: center;\n",
              "        border-radius: 4px;\n",
              "        margin: 0 2px 5px 2px;\n",
              "        padding: 1px\n",
              "    }\n",
              "    .spark-nlp-display-entity-name{\n",
              "        font-size: 14px;\n",
              "        line-height: 24px;\n",
              "        font-family: 'Montserrat', sans-serif !important;\n",
              "        \n",
              "        background: #f1f2f3;\n",
              "        border-width: medium;\n",
              "        text-align: center;\n",
              "        \n",
              "        font-weight: 400;\n",
              "        \n",
              "        border-radius: 5px;\n",
              "        padding: 2px 5px;\n",
              "        display: block;\n",
              "        margin: 3px 2px;\n",
              "    \n",
              "    }\n",
              "    .spark-nlp-display-entity-type{\n",
              "        font-size: 14px;\n",
              "        line-height: 24px;\n",
              "        color: #ffffff;\n",
              "        font-family: 'Montserrat', sans-serif !important;\n",
              "        \n",
              "        text-transform: uppercase;\n",
              "        \n",
              "        font-weight: 500;\n",
              "\n",
              "        display: block;\n",
              "        padding: 3px 5px;\n",
              "    }\n",
              "    \n",
              "    .spark-nlp-display-entity-resolution{\n",
              "        font-size: 14px;\n",
              "        line-height: 24px;\n",
              "        color: #ffffff;\n",
              "        font-family: 'Vistol Regular', sans-serif !important;\n",
              "        \n",
              "        text-transform: uppercase;\n",
              "        \n",
              "        font-weight: 500;\n",
              "\n",
              "        display: block;\n",
              "        padding: 3px 5px;\n",
              "    }\n",
              "    \n",
              "    .spark-nlp-display-others{\n",
              "        font-size: 14px;\n",
              "        line-height: 24px;\n",
              "        font-family: 'Montserrat', sans-serif !important;\n",
              "        \n",
              "        font-weight: 400;\n",
              "    }\n",
              "\n",
              "</style>\n",
              " <span class=\"spark-nlp-display-others\" style=\"background-color: white\">A 28-year-old female with a history of gestational diabetes mellitus diagnosed eight years prior to presentation and subsequent type two diabetes mellitus ( T2DM ), one prior episode of HTG-induced pancreatitis three years prior to presentation , associated with an acute hepatitis , and obesity with </span><span class=\"spark-nlp-display-entity-wrapper\" style=\"background-color: #800080\"><span class=\"spark-nlp-display-entity-name\">a body mass index </span><span class=\"spark-nlp-display-entity-type\">PROBLEM</span></span><span class=\"spark-nlp-display-others\" style=\"background-color: white\"> ( BMI ) of 33.5 kg/m2 , presented with a one-week history of </span><span class=\"spark-nlp-display-entity-wrapper\" style=\"background-color: #800080\"><span class=\"spark-nlp-display-entity-name\">polyuria , polydipsia </span><span class=\"spark-nlp-display-entity-type\">PROBLEM</span></span><span class=\"spark-nlp-display-others\" style=\"background-color: white\"> , poor appetite , and </span><span class=\"spark-nlp-display-entity-wrapper\" style=\"background-color: #800080\"><span class=\"spark-nlp-display-entity-name\">vomiting </span><span class=\"spark-nlp-display-entity-type\">PROBLEM</span></span><span class=\"spark-nlp-display-others\" style=\"background-color: white\"> .<br>Two weeks prior to presentation , she was treated with a five-day course of amoxicillin for a respiratory tract infection .<br>She was on metformin , glipizide , and dapagliflozin for T2DM and atorvastatin and gemfibrozil for HTG . She had been on dapagliflozin for six months at the time of presentation .<br>Physical examination on presentation was significant for dry oral mucosa ; significantly , her abdominal examination was benign with no tenderness , guarding , or rigidity .<br>Pertinent laboratory findings on admission were : </span><span class=\"spark-nlp-display-entity-wrapper\" style=\"background-color: #77b5fe\"><span class=\"spark-nlp-display-entity-name\">serum glucose 111 </span><span class=\"spark-nlp-display-entity-type\">TEST</span></span><span class=\"spark-nlp-display-others\" style=\"background-color: white\"> mg/dl , bicarbonate 18 mmol/l , anion gap 20 , creatinine 0.4 mg/dL , triglycerides 508 mg/dL , </span><span class=\"spark-nlp-display-entity-wrapper\" style=\"background-color: #77b5fe\"><span class=\"spark-nlp-display-entity-name\">total cholesterol </span><span class=\"spark-nlp-display-entity-type\">TEST</span></span><span class=\"spark-nlp-display-others\" style=\"background-color: white\"> 122 mg/dL , </span><span class=\"spark-nlp-display-entity-wrapper\" style=\"background-color: #77b5fe\"><span class=\"spark-nlp-display-entity-name\">glycated hemoglobin </span><span class=\"spark-nlp-display-entity-type\">TEST</span></span><span class=\"spark-nlp-display-others\" style=\"background-color: white\"> ( HbA1c ) 10% , and </span><span class=\"spark-nlp-display-entity-wrapper\" style=\"background-color: #800080\"><span class=\"spark-nlp-display-entity-name\">venous </span><span class=\"spark-nlp-display-entity-type\">PROBLEM</span></span><span class=\"spark-nlp-display-others\" style=\"background-color: white\"> pH 7.27 .<br>Serum lipase was normal at 43 U/L . Serum acetone levels could not be assessed as blood samples kept hemolyzing due to significant lipemia .<br>The patient was initially admitted for starvation ketosis , as she reported poor oral intake for three days prior to admission .<br>However , serum chemistry obtained six hours after presentation revealed her glucose was 186 mg/dL , the anion gap was still elevated at 21 , serum bicarbonate was 16 mmol/L , triglyceride level peaked at 2050 mg/dL , and lipase was 52 U/L .<br>The β-hydroxybutyrate level was obtained and found to be elevated at 5.29 mmol/L - the original sample was centrifuged and the chylomicron layer removed prior to analysis due to interference from turbidity caused by lipemia again .<br>The patient was treated with an insulin drip for euDKA and HTG with a reduction in the anion gap to 13 and triglycerides to 1400 mg/dL , within 24 hours .<br>Her euDKA was thought to be precipitated by her respiratory tract infection in the setting of SGLT2 inhibitor use .<br>The patient was seen by the endocrinology service and she was discharged on 40 units of insulin glargine at night , 12 units of insulin lispro with meals , and metformin 1000 mg two times a day .<br>It was determined that all SGLT2 inhibitors should be discontinued indefinitely . She had close follow-up with endocrinology post discharge .</span></div>"
            ]
          },
          "metadata": {}
        }
      ]
    },
    {
      "cell_type": "markdown",
      "source": [
        "\n",
        "\n",
        "---\n",
        "*`R.Caliskan`*\n"
      ],
      "metadata": {
        "id": "mz9eFSjXXFbg"
      }
    }
  ],
  "metadata": {
    "colab": {
      "provenance": [],
      "gpuType": "T4",
      "include_colab_link": true
    },
    "kernelspec": {
      "display_name": "Python 3",
      "name": "python3"
    },
    "language_info": {
      "codemirror_mode": {
        "name": "ipython",
        "version": 3
      },
      "file_extension": ".py",
      "mimetype": "text/x-python",
      "name": "python",
      "nbconvert_exporter": "python",
      "pygments_lexer": "ipython3",
      "version": "3.7.6"
    },
    "accelerator": "GPU"
  },
  "nbformat": 4,
  "nbformat_minor": 0
}
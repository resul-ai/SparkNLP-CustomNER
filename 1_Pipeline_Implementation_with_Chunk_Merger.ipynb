{
  "cells": [
    {
      "cell_type": "markdown",
      "metadata": {
        "id": "view-in-github",
        "colab_type": "text"
      },
      "source": [
        "<a href=\"https://colab.research.google.com/github/russell-ai/SparkNLP-CustomNER/blob/main/1_Pipeline_Implementation_with_Chunk_Merger.ipynb\" target=\"_parent\"><img src=\"https://colab.research.google.com/assets/colab-badge.svg\" alt=\"Open In Colab\"/></a>"
      ]
    },
    {
      "cell_type": "markdown",
      "metadata": {
        "id": "I08sFJYCxR0Z"
      },
      "source": [
        "![JohnSnowLabs](https://nlp.johnsnowlabs.com/assets/images/logo.png)"
      ]
    },
    {
      "cell_type": "markdown",
      "metadata": {
        "id": "nWu_IMfY4L1N"
      },
      "source": [
        "# **Interview Task**\n",
        "[Running a Spark NLP Healthcare Pipeline and Training a Custom NER Model](https://docs.google.com/document/d/1l_SpYGAlVGAEe9x-b8avgvKipCXetdap2ttc4UKreO4/edit?tab=t.0)  \n",
        "## **PART-I Pipeline Implementation:**\n"
      ]
    },
    {
      "cell_type": "markdown",
      "metadata": {
        "id": "okhT7AcXxben"
      },
      "source": [
        "## 1. Set Up Spark NLP for Healthcare"
      ]
    },
    {
      "cell_type": "code",
      "execution_count": 1,
      "metadata": {
        "id": "REmprZQ8Mbrr"
      },
      "outputs": [],
      "source": [
        "import json\n",
        "import os\n",
        "\n",
        "from google.colab import files\n",
        "\n",
        "if 'spark_jsl.json' not in os.listdir():\n",
        "  license_keys = files.upload()\n",
        "  os.rename(list(license_keys.keys())[0], 'spark_jsl.json')\n",
        "\n",
        "with open('spark_jsl.json') as f:\n",
        "    license_keys = json.load(f)\n",
        "\n",
        "# Defining license key-value pairs as local variables\n",
        "locals().update(license_keys)\n",
        "os.environ.update(license_keys)"
      ]
    },
    {
      "cell_type": "code",
      "execution_count": 2,
      "metadata": {
        "id": "GiigSdavGaeg",
        "colab": {
          "base_uri": "https://localhost:8080/"
        },
        "outputId": "2ccdbb46-2787-4b08-edff-4404bc89735c"
      },
      "outputs": [
        {
          "output_type": "execute_result",
          "data": {
            "text/plain": [
              "dict_keys(['SPARK_NLP_LICENSE', 'SECRET', 'JSL_VERSION', 'PUBLIC_VERSION', 'AWS_ACCESS_KEY_ID', 'AWS_SECRET_ACCESS_KEY', 'AWS_SESSION_TOKEN'])"
            ]
          },
          "metadata": {},
          "execution_count": 2
        }
      ],
      "source": [
        "license_keys.keys()"
      ]
    },
    {
      "cell_type": "code",
      "execution_count": 3,
      "metadata": {
        "id": "MIjl47npIyCK",
        "colab": {
          "base_uri": "https://localhost:8080/",
          "height": 35
        },
        "outputId": "d501dad0-f9a6-4d87-d89f-b2d67fb5cffe"
      },
      "outputs": [
        {
          "output_type": "execute_result",
          "data": {
            "text/plain": [
              "'5.4.1'"
            ],
            "application/vnd.google.colaboratory.intrinsic+json": {
              "type": "string"
            }
          },
          "metadata": {},
          "execution_count": 3
        }
      ],
      "source": [
        "license_keys['JSL_VERSION']"
      ]
    },
    {
      "cell_type": "code",
      "execution_count": 4,
      "metadata": {
        "id": "VL465qu3GKEG",
        "colab": {
          "base_uri": "https://localhost:8080/",
          "height": 35
        },
        "outputId": "51e88dad-5188-481d-9826-9b4a1ad81a04"
      },
      "outputs": [
        {
          "output_type": "execute_result",
          "data": {
            "text/plain": [
              "'5.4.1'"
            ],
            "application/vnd.google.colaboratory.intrinsic+json": {
              "type": "string"
            }
          },
          "metadata": {},
          "execution_count": 4
        }
      ],
      "source": [
        "license_keys['PUBLIC_VERSION']"
      ]
    },
    {
      "cell_type": "code",
      "execution_count": 5,
      "metadata": {
        "id": "_wRTzAtKjXpo"
      },
      "outputs": [],
      "source": [
        "# Installing pyspark and spark-nlp\n",
        "! pip install --upgrade -q pyspark==3.4.1 spark-nlp==$PUBLIC_VERSION\n",
        "\n",
        "\n",
        "# Installing Spark NLP Healthcare\n",
        "! pip install --upgrade -q spark-nlp-jsl==$JSL_VERSION  --extra-index-url https://pypi.johnsnowlabs.com/$SECRET\n",
        "\n",
        "# Installing Spark NLP Display Library for visualization\n",
        "! pip install -q spark-nlp-display"
      ]
    },
    {
      "cell_type": "code",
      "execution_count": 6,
      "metadata": {
        "id": "ziwjuhAV7DYH",
        "colab": {
          "base_uri": "https://localhost:8080/",
          "height": 254
        },
        "outputId": "415b7147-1407-4dee-c20c-83ffd0ce9409"
      },
      "outputs": [
        {
          "output_type": "stream",
          "name": "stdout",
          "text": [
            "Spark NLP Version : 5.4.1\n",
            "Spark NLP_JSL Version : 5.4.1\n"
          ]
        },
        {
          "output_type": "execute_result",
          "data": {
            "text/plain": [
              "<pyspark.sql.session.SparkSession at 0x7da6a66711e0>"
            ],
            "text/html": [
              "\n",
              "            <div>\n",
              "                <p><b>SparkSession - in-memory</b></p>\n",
              "                \n",
              "        <div>\n",
              "            <p><b>SparkContext</b></p>\n",
              "\n",
              "            <p><a href=\"http://c763ae62fe47:4040\">Spark UI</a></p>\n",
              "\n",
              "            <dl>\n",
              "              <dt>Version</dt>\n",
              "                <dd><code>v3.4.1</code></dd>\n",
              "              <dt>Master</dt>\n",
              "                <dd><code>local[*]</code></dd>\n",
              "              <dt>AppName</dt>\n",
              "                <dd><code>Spark NLP Licensed</code></dd>\n",
              "            </dl>\n",
              "        </div>\n",
              "        \n",
              "            </div>\n",
              "        "
            ]
          },
          "metadata": {},
          "execution_count": 6
        }
      ],
      "source": [
        "import json\n",
        "import os\n",
        "\n",
        "import sparknlp\n",
        "import sparknlp_jsl\n",
        "\n",
        "from sparknlp.base import *\n",
        "from sparknlp.annotator import *\n",
        "from sparknlp_jsl.annotator import *\n",
        "from sparknlp_jsl.pipeline_tracer import PipelineTracer\n",
        "from sparknlp_jsl.pipeline_output_parser import PipelineOutputParser\n",
        "\n",
        "from pyspark.sql import SparkSession\n",
        "from pyspark.sql import functions as F\n",
        "from pyspark.ml import Pipeline,PipelineModel\n",
        "\n",
        "import pandas as pd\n",
        "pd.set_option('display.max_colwidth', 200)\n",
        "\n",
        "import warnings\n",
        "warnings.filterwarnings('ignore')\n",
        "\n",
        "params = {\"spark.driver.memory\":\"16G\",\n",
        "          \"spark.kryoserializer.buffer.max\":\"2000M\",\n",
        "          \"spark.driver.maxResultSize\":\"2000M\"}\n",
        "\n",
        "print(\"Spark NLP Version :\", sparknlp.version())\n",
        "print(\"Spark NLP_JSL Version :\", sparknlp_jsl.version())\n",
        "\n",
        "spark = sparknlp_jsl.start(license_keys['SECRET'],params=params)\n",
        "\n",
        "spark"
      ]
    },
    {
      "cell_type": "code",
      "execution_count": 7,
      "metadata": {
        "id": "4l4VvgI1dRb6",
        "colab": {
          "base_uri": "https://localhost:8080/"
        },
        "outputId": "ad920b2b-ea60-44b6-f9c5-56c393b12622"
      },
      "outputs": [
        {
          "output_type": "stream",
          "name": "stdout",
          "text": [
            "ner_clinical\n",
            "ner_posology\n",
            "ner_posology_small\n",
            "ner_posology_greedy\n",
            "ner_posology_large\n",
            "ner_clinical_large\n",
            "ner_posology_healthcare\n",
            "ner_posology_large_biobert\n",
            "ner_clinical_biobert\n",
            "ner_posology_biobert\n",
            "ner_deid_generic_augmented\n",
            "ner_deid_generic_glove\n",
            "ner_deid_generic_augmented\n",
            "ner_posology_experimental\n",
            "ner_clinical_trials_abstracts\n",
            "ner_posology_emb_clinical_medium\n",
            "ner_posology_emb_clinical_large\n",
            "ner_posology_langtest\n",
            "ner_deid_generic_augmented_langtest\n",
            "ner_clinical_langtest\n",
            "ner_deid_generic_augmented_allUpperCased_langtest\n",
            "ner_clinical_large_langtest\n",
            "ner_clinical_abbreviation_langtest\n",
            "ner_deid_generic_docwise\n"
          ]
        }
      ],
      "source": [
        "from sparknlp_jsl.pretrained import InternalResourceDownloader\n",
        "\n",
        "ner_models = InternalResourceDownloader.returnPrivateModels(\"MedicalNerModel\")\n",
        "for model, lang, version in ner_models:\n",
        "  if lang == \"en\" and (model.startswith(\"ner_clinical\") or model.startswith(\"ner_posology\") or model.startswith(\"ner_deid_generic\")):\n",
        "    print(model)"
      ]
    },
    {
      "cell_type": "code",
      "source": [
        "pipeline_ner_models = {\n",
        "    \"ner_clinical\": \"ner_clinical\",\n",
        "    \"ner_posology\": \"ner_posology_greedy\",\n",
        "    \"ner_deid_generic\": \"ner_deid_generic_augmented\"}"
      ],
      "metadata": {
        "id": "TJWpEXBG2J0c"
      },
      "execution_count": 8,
      "outputs": []
    },
    {
      "cell_type": "markdown",
      "source": [
        "## 2. Dataset Selection"
      ],
      "metadata": {
        "id": "ndUm4nh6cCrr"
      }
    },
    {
      "cell_type": "code",
      "execution_count": 9,
      "metadata": {
        "id": "v1lmxbPt1dZW"
      },
      "outputs": [],
      "source": [
        "# mt_samples dataset from John Snow Labs\n",
        "# ! wget -q https://raw.githubusercontent.com/JohnSnowLabs/spark-nlp-workshop/master/tutorials/Certification_Trainings/Healthcare/data/mt_samples_10.csv\n",
        "! wget -q https://raw.githubusercontent.com/JohnSnowLabs/spark-nlp-workshop/refs/heads/master/healthcare-nlp/data/mt_samples.csv"
      ]
    },
    {
      "cell_type": "code",
      "source": [
        "df = pd.read_csv(\"mt_samples.csv\")\n",
        "print(\"Rows:\", df.shape[0], \" Columns:\", df.shape[1])\n",
        "df.head(5)"
      ],
      "metadata": {
        "colab": {
          "base_uri": "https://localhost:8080/",
          "height": 224
        },
        "id": "Brb-6jb1-hDR",
        "outputId": "3be6a7c6-1c55-40a1-8221-069bf5816262"
      },
      "execution_count": 10,
      "outputs": [
        {
          "output_type": "stream",
          "name": "stdout",
          "text": [
            "Rows: 50  Columns: 1\n"
          ]
        },
        {
          "output_type": "execute_result",
          "data": {
            "text/plain": [
              "                                                                                                                                                                                                      text\n",
              "0  Sample Type / Medical Specialty:\\nHematology - Oncology\\nSample Name:\\nDischarge Summary - Mesothelioma - 1\\nDescription:\\nMesothelioma, pleural effusion, atrial fibrillation, anemia, ascites, eso...\n",
              "1  Sample Type / Medical Specialty:\\nHematology - Oncology\\nSample Name:\\nBCCa Excision - Lower Lid\\nDescription:\\nExcision of large basal cell carcinoma, right lower lid, and repaired with used dors...\n",
              "2  Sample Type / Medical Specialty:\\nHematology - Oncology\\nSample Name:\\nAnemia - Consult\\nDescription:\\nRefractory anemia that is transfusion dependent. At this time, he has been admitted for anemi...\n",
              "3  Sample Type / Medical Specialty:\\nHematology - Oncology\\nSample Name:\\nIntensity-Modulated Radiation Therapy\\nDescription:\\nIntensity-modulated radiation therapy is a complex set of procedures whi...\n",
              "4  Sample Type / Medical Specialty:\\nHematology - Oncology\\nSample Name:\\nNeck Dissection\\nDescription:\\nLeft neck dissection. Metastatic papillary cancer, left neck. The patient had thyroid cancer, ..."
            ],
            "text/html": [
              "\n",
              "  <div id=\"df-c41a4aeb-3dc6-423e-b680-0aa9c4039a16\" class=\"colab-df-container\">\n",
              "    <div>\n",
              "<style scoped>\n",
              "    .dataframe tbody tr th:only-of-type {\n",
              "        vertical-align: middle;\n",
              "    }\n",
              "\n",
              "    .dataframe tbody tr th {\n",
              "        vertical-align: top;\n",
              "    }\n",
              "\n",
              "    .dataframe thead th {\n",
              "        text-align: right;\n",
              "    }\n",
              "</style>\n",
              "<table border=\"1\" class=\"dataframe\">\n",
              "  <thead>\n",
              "    <tr style=\"text-align: right;\">\n",
              "      <th></th>\n",
              "      <th>text</th>\n",
              "    </tr>\n",
              "  </thead>\n",
              "  <tbody>\n",
              "    <tr>\n",
              "      <th>0</th>\n",
              "      <td>Sample Type / Medical Specialty:\\nHematology - Oncology\\nSample Name:\\nDischarge Summary - Mesothelioma - 1\\nDescription:\\nMesothelioma, pleural effusion, atrial fibrillation, anemia, ascites, eso...</td>\n",
              "    </tr>\n",
              "    <tr>\n",
              "      <th>1</th>\n",
              "      <td>Sample Type / Medical Specialty:\\nHematology - Oncology\\nSample Name:\\nBCCa Excision - Lower Lid\\nDescription:\\nExcision of large basal cell carcinoma, right lower lid, and repaired with used dors...</td>\n",
              "    </tr>\n",
              "    <tr>\n",
              "      <th>2</th>\n",
              "      <td>Sample Type / Medical Specialty:\\nHematology - Oncology\\nSample Name:\\nAnemia - Consult\\nDescription:\\nRefractory anemia that is transfusion dependent. At this time, he has been admitted for anemi...</td>\n",
              "    </tr>\n",
              "    <tr>\n",
              "      <th>3</th>\n",
              "      <td>Sample Type / Medical Specialty:\\nHematology - Oncology\\nSample Name:\\nIntensity-Modulated Radiation Therapy\\nDescription:\\nIntensity-modulated radiation therapy is a complex set of procedures whi...</td>\n",
              "    </tr>\n",
              "    <tr>\n",
              "      <th>4</th>\n",
              "      <td>Sample Type / Medical Specialty:\\nHematology - Oncology\\nSample Name:\\nNeck Dissection\\nDescription:\\nLeft neck dissection. Metastatic papillary cancer, left neck. The patient had thyroid cancer, ...</td>\n",
              "    </tr>\n",
              "  </tbody>\n",
              "</table>\n",
              "</div>\n",
              "    <div class=\"colab-df-buttons\">\n",
              "\n",
              "  <div class=\"colab-df-container\">\n",
              "    <button class=\"colab-df-convert\" onclick=\"convertToInteractive('df-c41a4aeb-3dc6-423e-b680-0aa9c4039a16')\"\n",
              "            title=\"Convert this dataframe to an interactive table.\"\n",
              "            style=\"display:none;\">\n",
              "\n",
              "  <svg xmlns=\"http://www.w3.org/2000/svg\" height=\"24px\" viewBox=\"0 -960 960 960\">\n",
              "    <path d=\"M120-120v-720h720v720H120Zm60-500h600v-160H180v160Zm220 220h160v-160H400v160Zm0 220h160v-160H400v160ZM180-400h160v-160H180v160Zm440 0h160v-160H620v160ZM180-180h160v-160H180v160Zm440 0h160v-160H620v160Z\"/>\n",
              "  </svg>\n",
              "    </button>\n",
              "\n",
              "  <style>\n",
              "    .colab-df-container {\n",
              "      display:flex;\n",
              "      gap: 12px;\n",
              "    }\n",
              "\n",
              "    .colab-df-convert {\n",
              "      background-color: #E8F0FE;\n",
              "      border: none;\n",
              "      border-radius: 50%;\n",
              "      cursor: pointer;\n",
              "      display: none;\n",
              "      fill: #1967D2;\n",
              "      height: 32px;\n",
              "      padding: 0 0 0 0;\n",
              "      width: 32px;\n",
              "    }\n",
              "\n",
              "    .colab-df-convert:hover {\n",
              "      background-color: #E2EBFA;\n",
              "      box-shadow: 0px 1px 2px rgba(60, 64, 67, 0.3), 0px 1px 3px 1px rgba(60, 64, 67, 0.15);\n",
              "      fill: #174EA6;\n",
              "    }\n",
              "\n",
              "    .colab-df-buttons div {\n",
              "      margin-bottom: 4px;\n",
              "    }\n",
              "\n",
              "    [theme=dark] .colab-df-convert {\n",
              "      background-color: #3B4455;\n",
              "      fill: #D2E3FC;\n",
              "    }\n",
              "\n",
              "    [theme=dark] .colab-df-convert:hover {\n",
              "      background-color: #434B5C;\n",
              "      box-shadow: 0px 1px 3px 1px rgba(0, 0, 0, 0.15);\n",
              "      filter: drop-shadow(0px 1px 2px rgba(0, 0, 0, 0.3));\n",
              "      fill: #FFFFFF;\n",
              "    }\n",
              "  </style>\n",
              "\n",
              "    <script>\n",
              "      const buttonEl =\n",
              "        document.querySelector('#df-c41a4aeb-3dc6-423e-b680-0aa9c4039a16 button.colab-df-convert');\n",
              "      buttonEl.style.display =\n",
              "        google.colab.kernel.accessAllowed ? 'block' : 'none';\n",
              "\n",
              "      async function convertToInteractive(key) {\n",
              "        const element = document.querySelector('#df-c41a4aeb-3dc6-423e-b680-0aa9c4039a16');\n",
              "        const dataTable =\n",
              "          await google.colab.kernel.invokeFunction('convertToInteractive',\n",
              "                                                    [key], {});\n",
              "        if (!dataTable) return;\n",
              "\n",
              "        const docLinkHtml = 'Like what you see? Visit the ' +\n",
              "          '<a target=\"_blank\" href=https://colab.research.google.com/notebooks/data_table.ipynb>data table notebook</a>'\n",
              "          + ' to learn more about interactive tables.';\n",
              "        element.innerHTML = '';\n",
              "        dataTable['output_type'] = 'display_data';\n",
              "        await google.colab.output.renderOutput(dataTable, element);\n",
              "        const docLink = document.createElement('div');\n",
              "        docLink.innerHTML = docLinkHtml;\n",
              "        element.appendChild(docLink);\n",
              "      }\n",
              "    </script>\n",
              "  </div>\n",
              "\n",
              "\n",
              "<div id=\"df-819700bd-a156-4b82-bcdd-0cd48892467a\">\n",
              "  <button class=\"colab-df-quickchart\" onclick=\"quickchart('df-819700bd-a156-4b82-bcdd-0cd48892467a')\"\n",
              "            title=\"Suggest charts\"\n",
              "            style=\"display:none;\">\n",
              "\n",
              "<svg xmlns=\"http://www.w3.org/2000/svg\" height=\"24px\"viewBox=\"0 0 24 24\"\n",
              "     width=\"24px\">\n",
              "    <g>\n",
              "        <path d=\"M19 3H5c-1.1 0-2 .9-2 2v14c0 1.1.9 2 2 2h14c1.1 0 2-.9 2-2V5c0-1.1-.9-2-2-2zM9 17H7v-7h2v7zm4 0h-2V7h2v10zm4 0h-2v-4h2v4z\"/>\n",
              "    </g>\n",
              "</svg>\n",
              "  </button>\n",
              "\n",
              "<style>\n",
              "  .colab-df-quickchart {\n",
              "      --bg-color: #E8F0FE;\n",
              "      --fill-color: #1967D2;\n",
              "      --hover-bg-color: #E2EBFA;\n",
              "      --hover-fill-color: #174EA6;\n",
              "      --disabled-fill-color: #AAA;\n",
              "      --disabled-bg-color: #DDD;\n",
              "  }\n",
              "\n",
              "  [theme=dark] .colab-df-quickchart {\n",
              "      --bg-color: #3B4455;\n",
              "      --fill-color: #D2E3FC;\n",
              "      --hover-bg-color: #434B5C;\n",
              "      --hover-fill-color: #FFFFFF;\n",
              "      --disabled-bg-color: #3B4455;\n",
              "      --disabled-fill-color: #666;\n",
              "  }\n",
              "\n",
              "  .colab-df-quickchart {\n",
              "    background-color: var(--bg-color);\n",
              "    border: none;\n",
              "    border-radius: 50%;\n",
              "    cursor: pointer;\n",
              "    display: none;\n",
              "    fill: var(--fill-color);\n",
              "    height: 32px;\n",
              "    padding: 0;\n",
              "    width: 32px;\n",
              "  }\n",
              "\n",
              "  .colab-df-quickchart:hover {\n",
              "    background-color: var(--hover-bg-color);\n",
              "    box-shadow: 0 1px 2px rgba(60, 64, 67, 0.3), 0 1px 3px 1px rgba(60, 64, 67, 0.15);\n",
              "    fill: var(--button-hover-fill-color);\n",
              "  }\n",
              "\n",
              "  .colab-df-quickchart-complete:disabled,\n",
              "  .colab-df-quickchart-complete:disabled:hover {\n",
              "    background-color: var(--disabled-bg-color);\n",
              "    fill: var(--disabled-fill-color);\n",
              "    box-shadow: none;\n",
              "  }\n",
              "\n",
              "  .colab-df-spinner {\n",
              "    border: 2px solid var(--fill-color);\n",
              "    border-color: transparent;\n",
              "    border-bottom-color: var(--fill-color);\n",
              "    animation:\n",
              "      spin 1s steps(1) infinite;\n",
              "  }\n",
              "\n",
              "  @keyframes spin {\n",
              "    0% {\n",
              "      border-color: transparent;\n",
              "      border-bottom-color: var(--fill-color);\n",
              "      border-left-color: var(--fill-color);\n",
              "    }\n",
              "    20% {\n",
              "      border-color: transparent;\n",
              "      border-left-color: var(--fill-color);\n",
              "      border-top-color: var(--fill-color);\n",
              "    }\n",
              "    30% {\n",
              "      border-color: transparent;\n",
              "      border-left-color: var(--fill-color);\n",
              "      border-top-color: var(--fill-color);\n",
              "      border-right-color: var(--fill-color);\n",
              "    }\n",
              "    40% {\n",
              "      border-color: transparent;\n",
              "      border-right-color: var(--fill-color);\n",
              "      border-top-color: var(--fill-color);\n",
              "    }\n",
              "    60% {\n",
              "      border-color: transparent;\n",
              "      border-right-color: var(--fill-color);\n",
              "    }\n",
              "    80% {\n",
              "      border-color: transparent;\n",
              "      border-right-color: var(--fill-color);\n",
              "      border-bottom-color: var(--fill-color);\n",
              "    }\n",
              "    90% {\n",
              "      border-color: transparent;\n",
              "      border-bottom-color: var(--fill-color);\n",
              "    }\n",
              "  }\n",
              "</style>\n",
              "\n",
              "  <script>\n",
              "    async function quickchart(key) {\n",
              "      const quickchartButtonEl =\n",
              "        document.querySelector('#' + key + ' button');\n",
              "      quickchartButtonEl.disabled = true;  // To prevent multiple clicks.\n",
              "      quickchartButtonEl.classList.add('colab-df-spinner');\n",
              "      try {\n",
              "        const charts = await google.colab.kernel.invokeFunction(\n",
              "            'suggestCharts', [key], {});\n",
              "      } catch (error) {\n",
              "        console.error('Error during call to suggestCharts:', error);\n",
              "      }\n",
              "      quickchartButtonEl.classList.remove('colab-df-spinner');\n",
              "      quickchartButtonEl.classList.add('colab-df-quickchart-complete');\n",
              "    }\n",
              "    (() => {\n",
              "      let quickchartButtonEl =\n",
              "        document.querySelector('#df-819700bd-a156-4b82-bcdd-0cd48892467a button');\n",
              "      quickchartButtonEl.style.display =\n",
              "        google.colab.kernel.accessAllowed ? 'block' : 'none';\n",
              "    })();\n",
              "  </script>\n",
              "</div>\n",
              "\n",
              "    </div>\n",
              "  </div>\n"
            ],
            "application/vnd.google.colaboratory.intrinsic+json": {
              "type": "dataframe",
              "variable_name": "df",
              "summary": "{\n  \"name\": \"df\",\n  \"rows\": 50,\n  \"fields\": [\n    {\n      \"column\": \"text\",\n      \"properties\": {\n        \"dtype\": \"string\",\n        \"num_unique_values\": 50,\n        \"samples\": [\n          \"Sample Type / Medical Specialty:\\nHematology - Oncology\\nSample Name:\\nHematology Consult\\nDescription:\\nLeukocytosis, acute deep venous thrombosis, right lower extremity with bilateral pulmonary embolism, on intravenous heparin complicated with acute renal failure for evaluation.\\n(Medical Transcription Sample Report)\\nREASON FOR CONSULTATION:\\nAcute deep venous thrombosis, right lower extremity with bilateral pulmonary embolism, on intravenous heparin complicated with acute renal failure for evaluation.\\nHISTORY OF PRESENTING ILLNESS:\\nBriefly, this is a 36-year-old robust Caucasian gentleman with no significant past medical or surgical history, who works as a sales representative, doing a lot of traveling by plane and car and attending several sales shows, developed acute shortness of breath with an episode of syncope this weekend and was brought in by paramedics to Hospital. A V/Q scan revealed multiple pulmonary perfusion defects consistent with high probability pulmonary embolism. A Doppler venous study of the lower extremity also revealed nonocclusive right popliteal vein thrombosis. A CT of the abdomen and pelvis revealed normal-appearing liver, spleen, and pancreas; however, the right kidney appeared smaller compared to left and suggesting possibility of renal infarct. Renal function on admission was within normal range; however, serial renal function showed rapid increase in creatinine to 5 today. He has been on intravenous heparin and hemodialysis is being planned for tomorrow. Reviewing his history, there is no family members with hypercoagulable state or prior history of any thrombotic complication. He denies any recent injury to his lower extremity and in fact denied any calf pain or swelling.\\nPAST MEDICAL AND SURGICAL HISTORY:\\nUnremarkable.\\nSOCIAL HISTORY:\\nHe is married and has 1 son. He has a brother who is healthy. There is no history of tobacco use or alcohol use.\\nFAMILY HISTORY:\\nNo family history of hypercoagulable condition.\\nMEDICATIONS:\\nAdvil p.r.n.\\nALLERGIES:\\nNONE.\\nREVIEW OF SYSTEMS:\\nEssentially unremarkable except for sudden onset dyspnea on easy exertion complicated with episode of syncope. He denied any hemoptysis. He denied any calf swelling or pain. Lately, he has been traveling and has been sitting behind a desk for a long period of time.\\nPHYSICAL EXAMINATION:\\nGENERAL: He is a robust young gentleman, awake, alert, and hemodynamically stable.\\nHEENT: Sclerae anicteric. Conjunctivae normal. Oropharynx normal.\\nNECK: No adenopathy or thyromegaly. No jugular venous distention.\\nHEART: Regular.\\nLUNGS: Bilateral air entry.\\nABDOMEN: Obese and benign.\\nEXTREMITIES: No calf swelling or calf tenderness appreciated.\\nSKIN: No petechiae or ecchymosis.\\nNEUROLOGIC: Nonfocal.\\nLABORATORY FINDINGS:\\nBlood count obtained showed a white count of 16.8, hemoglobin 14.8 g percent, hematocrit 44.6%, MCV 94, and platelet count 209,000. Liver profile normal. Thyroid study revealed a TSH of 1.3. Prothrombin time/INR 1.5, partial thromboplastin time 78.6 seconds. Renal function, BUN 44 and creatinine 5.7. Echocardiogram revealed left ventricular hypertrophy with ejection fraction of 65%, no intramural thrombus noted.\\nIMPRESSION:\\n1. Bilateral pulmonary embolism, most consistent with emboli from right lower extremity, on intravenous heparin, rule out hereditary hypercoagulable state.\\n2. Leukocytosis, most likely leukemoid reaction secondary to acute pulmonary embolism/renal infarction, doubt presence of myeloproliferative disorder.\\n3. Acute renal failure secondary to embolic right renal infarction.\\n4. Obesity.\\nPLAN:\\nFrom hematologic standpoint, we will await hypercoagulable studies, which have all been sent on admission to see if a hereditary component is at play. For now, we will continue intravenous heparin and subsequent oral anticoagulation with Coumadin. In view of worsening renal function, may need temporary hemodialysis until renal function improves. I discussed at length with the patient's wife at the bedside.\\nKeywords:\\nhematology - oncology, thrombosis, heparin, leukemoid, pulmonary embolism, renal function, intravenous, leukocytosis, venous, hypercoagulable, embolism, function, hematology,\",\n          \"Sample Type / Medical Specialty:\\nHematology - Oncology\\nSample Name:\\nNeck Mass Biopsy\\nDescription:\\nMalignant mass of the left neck, squamous cell carcinoma. Left neck mass biopsy and selective surgical neck dissection, left.\\n(Medical Transcription Sample Report)\\nPREOPERATIVE DIAGNOSIS:\\nMalignant mass of the left neck.\\nPOSTOPERATIVE DIAGNOSIS:\\nMalignant mass of the left neck, squamous cell carcinoma.\\nPROCEDURES\\n1. Left neck mass biopsy.\\n2. Selective surgical neck dissection, left.\\nDESCRIPTION OF PROCEDURE:\\nAfter obtaining an informed, the patient was taken to the operating room where a time-out process was followed. Preoperative antibiotic was given and Dr. X proceeded to intubate the patient after a detailed anesthetic preparation that started in the Same Day Surgery and followed in the operating room. Finally, a 5.5-French endotracheal tube was inserted and the patient was able to tolerate that and did have stable vital signs and a proper oxygenation.\\nThen, the patient was positioned with the neck slightly distended and turned toward the opposite side of the operation. The neck was prepped and draped in the usual fashion. I proceeded to mark the site of the mass and then also to mark the proposed site for the creation of a flap. Then, I performed an extensive anesthetic block of the area.\\nThen, an incision was made along the area marked for development of the flap, but in a very limited extent, just to expose the cervical mass. The cervical mass, which was about 4 cm in diameter and very firm and rubbery, was found lodged between the sternocleidomastoid muscle and the internal jugular vein in the area III of the neck. A wedge sample was sent to Pathology for frozen section. At the same time, we waited for the result and the initial report was not clear in the sense that a lot of lymphoepithelial reaction was seen. Therefore, a larger sample was sent to Pathology and at that particular time, the fresh frozen was reported as having squamous elements. This was not totally clear in my mind and therefore I proceeded to excise the full mass, which luckily was not attached to any structures except in the very deep surface. There, there were some attachments to branches of the external carotid artery, which had to be suture ligated. At any rate, the whole specimen was to the lab and finally the diagnosis was that of a metastatic squamous cell carcinoma.\\nWith that information in hand, we proceeded to continue with a neck dissection and proceeded to make an incision along the previously marked sites of the flap, which basically involved a reverse U shape on the left neck. This worked out quite nicely. The external jugular vein was out of the way, so initially we did not deal with it. We proceeded to tackle the area III and extended into II-A. When we excised the mass, the upper end was in intimate relationship with the parotid gland, which was relatively large in this patient, but it looked normal otherwise. Also, I felt that the submaxillary gland was enlarged. At any rate, we decided to clean up the areas III and IV and a few nodes from II-A that were removed, and then we went into the posterior triangle where we identified the spinal accessory nerve, which we protected, actually did not even dissect close to it.\\nThe same nerve had been already identified anterior to the internal jugular vein, very proximally behind the digastric and the sternocleidomastoid muscle. At any rate, there were large nodes in the posterior triangle, in areas V-A and V-B, which were excised and sent to Pathology for examination. Also, there was a remnant of a capsule of the main mass that we proceeded to excise and sent to Pathology as an extra specimen. Hemostasis was revised and found to be adequate. The flaps had been protected by folding it to the chest and protected by wet sponges on both sides of the flap. The flap was replaced in its position. A soft Jackson-Pratt catheter was left in the area, and then we proceeded to approximate the flap with a number of subcutaneous sutures of Vicryl and then running sutures of subcuticular Monocryl to the skin. I would like to mention that also the facial vein was excised and the external jugular vein was ligated. It was in very lateral location and it was on the site of the drain, so we ligated that but did not excise it. A pressure dressing was applied.\\nThe patient tolerated the procedure well. Estimated blood loss was no more than 100 mL. The patient was extubated in the operating room and sent for recovery.\\nKeywords:\\nhematology - oncology, neck mass biopsy, surgical neck dissection, internal jugular vein, external jugular vein, squamous cell carcinoma, neck mass, malignant mass, neck dissection, mass, neck, wedge, vein,\",\n          \"Sample Type / Medical Specialty:\\nHematology - Oncology\\nSample Name:\\nDischarge Summary - Mesothelioma\\nDescription:\\nA patient with preoperative diagnosis of right pleural mass and postoperative diagnosis of mesothelioma.\\n(Medical Transcription Sample Report)\\nPREOPERATIVE DIAGNOSIS:\\nRight pleural mass.\\nPOSTOPERATIVE DIAGNOSIS:\\nMesothelioma.\\nPROCEDURES PERFORMED:\\n1. Flexible bronchoscopy.\\n2. Mediastinoscopy.\\n3. Right thoracotomy.\\n4. Parietal pleural biopsy.\\nCONSULTS:\\nConsults obtained during this hospitalization included:\\n1. Radiation Oncology.\\n2. Pulmonary Medicine.\\n3. Medical Oncology.\\n4. Cancer Center Team consult.\\n5. Massage therapy consult.\\nHOSPITAL COURSE:\\nThe patient's hospital course was unremarkable. Her pain was well controlled with an epidural that was placed by Anesthesia. At the time of discharge, the patient was ambulatory. She was discharged with home oxygen available. She was discharged with albuterol nebulizer treatments, treatments were to be q.i.d. She was discharged with a prescription for Vicodin for pain control. She is to follow up with Dr. X in the office in one week with a chest x-ray. She is instructed not to lift, push or pull anything greater than 10 pounds. She is instructed not to drive until after she sees us in the office and is off her pain medications.\\nKeywords:\\nhematology - oncology, flexible bronchoscopy, mediastinoscopy, right thoracotomy, pleural biopsy, pleural mass, mesothelioma, oncology,\"\n        ],\n        \"semantic_type\": \"\",\n        \"description\": \"\"\n      }\n    }\n  ]\n}"
            }
          },
          "metadata": {},
          "execution_count": 10
        }
      ]
    },
    {
      "cell_type": "code",
      "execution_count": 11,
      "metadata": {
        "id": "f1S9J6CASrSE",
        "colab": {
          "base_uri": "https://localhost:8080/"
        },
        "outputId": "c30df426-22b9-4a8d-9a0a-515d38960c57"
      },
      "outputs": [
        {
          "output_type": "stream",
          "name": "stdout",
          "text": [
            "Rows: 50  Columns: 1 Schema: DataFrame[text: string] \n",
            "\n",
            "+----------------------------------------------------------------------------------------------------+\n",
            "|                                                                                                text|\n",
            "+----------------------------------------------------------------------------------------------------+\n",
            "|Sample Type / Medical Specialty:\\nHematology - Oncology\\nSample Name:\\nDischarge Summary - Mesoth...|\n",
            "|Sample Type / Medical Specialty:\\nHematology - Oncology\\nSample Name:\\nBCCa Excision - Lower Lid\\...|\n",
            "|Sample Type / Medical Specialty:\\nHematology - Oncology\\nSample Name:\\nAnemia - Consult\\nDescript...|\n",
            "|Sample Type / Medical Specialty:\\nHematology - Oncology\\nSample Name:\\nIntensity-Modulated Radiat...|\n",
            "|Sample Type / Medical Specialty:\\nHematology - Oncology\\nSample Name:\\nNeck Dissection\\nDescripti...|\n",
            "+----------------------------------------------------------------------------------------------------+\n",
            "only showing top 5 rows\n",
            "\n"
          ]
        }
      ],
      "source": [
        "mt_samples_df = spark.createDataFrame(df)\n",
        "print(\"Rows:\", mt_samples_df.count(), \" Columns:\", len(mt_samples_df.columns), \"Schema:\", mt_samples_df,\"\\n\")\n",
        "mt_samples_df.show(5,truncate=100)"
      ]
    },
    {
      "cell_type": "code",
      "execution_count": 12,
      "metadata": {
        "id": "m5soib4Tw4PK",
        "colab": {
          "base_uri": "https://localhost:8080/"
        },
        "collapsed": true,
        "outputId": "30051bf9-4be3-4d8c-c6d4-3a318ca31f45"
      },
      "outputs": [
        {
          "output_type": "stream",
          "name": "stdout",
          "text": [
            "Sample Type / Medical Specialty:\n",
            "Hematology - Oncology\n",
            "Sample Name:\n",
            "Discharge Summary - Mesothelioma - 1\n",
            "Description:\n",
            "Mesothelioma, pleural effusion, atrial fibrillation, anemia, ascites, esophageal reflux, and history of deep venous thrombosis.\n",
            "(Medical Transcription Sample Report)\n",
            "PRINCIPAL DIAGNOSIS:\n",
            "Mesothelioma.\n",
            "SECONDARY DIAGNOSES:\n",
            "Pleural effusion, atrial fibrillation, anemia, ascites, esophageal reflux, and history of deep venous thrombosis.\n",
            "PROCEDURES\n",
            "1. On August 24, 2007, decortication of the lung with pleural biopsy and transpleural fluoroscopy.\n",
            "2. On August 20, 2007, thoracentesis.\n",
            "3. On August 31, 2007, Port-A-Cath placement.\n",
            "HISTORY AND PHYSICAL:\n",
            "The patient is a 41-year-old Vietnamese female with a nonproductive cough that started last week. She has had right-sided chest pain radiating to her back with fever starting yesterday. She has a history of pericarditis and pericardectomy in May 2006 and developed cough with right-sided chest pain, and went to an urgent care center. Chest x-ray revealed right-sided pleural effusion.\n",
            "PAST MEDICAL HISTORY\n",
            "1. Pericardectomy.\n",
            "2. Pericarditis.\n",
            "2. Atrial fibrillation.\n",
            "4. RNCA with intracranial thrombolytic treatment.\n",
            "5 PTA of MCA.\n",
            "6. Mesenteric venous thrombosis.\n",
            "7. Pericardial window.\n",
            "8. Cholecystectomy.\n",
            "9. Left thoracentesis.\n",
            "FAMILY HISTORY:\n",
            "No family history of coronary artery disease, CVA, diabetes, CHF or MI. The patient has one family member, a sister, with history of cancer.\n",
            "SOCIAL HISTORY:\n",
            "She is married. Employed with the US Post Office. She is a mother of three. Denies tobacco, alcohol or illicit drug use.\n",
            "MEDICATIONS\n",
            "1. Coumadin 1 mg daily. Last INR was on Tuesday, August 14, 2007, and her INR was 2.3.\n",
            "2. Amiodarone 100 mg p.o. daily.\n",
            "REVIEW OF SYSTEMS:\n",
            "Complete review of systems negative except as in pulmonary as noted above. The patient also reports occasional numbness and tingling of her left arm.\n",
            "PHYSICAL EXAMINATION\n",
            "VITAL SIGNS: Blood pressure 123/95, heart rate 83, respirations 20, temperature 97, and oxygen saturation 97%.\n",
            "GENERAL: Positive nonproductive cough and pain with coughing.\n",
            "HEENT: Pupils are equal and reactive to light and accommodation. Tympanic membranes are clear.\n",
            "NECK: Supple. No lymphadenopathy. No masses.\n",
            "RESPIRATORY: Pleural friction rub is noted.\n",
            "GI: Soft, nondistended, and nontender. Positive bowel sounds. No organomegaly.\n",
            "EXTREMITIES: No edema, no clubbing, no cyanosis, no tenderness. Full range of motion. Normal pulses in all extremities.\n",
            "SKIN: No breakdown or lesions. No ulcers.\n",
            "NEUROLOGIC: Grossly intact. No focal deficits. Awake, alert, and oriented to person, place, and time.\n",
            "LABORATORY DATA:\n",
            "Labs are pending.\n",
            "HOSPITAL COURSE:\n",
            "The patient was admitted for a right-sided pleural effusion for thoracentesis on Monday by Dr. X. Her Coumadin was placed on hold. A repeat echocardiogram was checked. She was started on prophylaxis for DVT with Lovenox 40 mg subcutaneously. Her history dated back to March 2005 when she first sought medical attention for evidence of pericarditis, which was treated with pericardial window in an outside hospital, at that time she was also found to have mesenteric pain and thrombosis, is now anticoagulated. Her pericardial fluid was accumulated and she was seen by Dr. Y. At that time, she was recommended for pericardectomy, which was performed by Dr. Z. Review of her CT scan from March 2006 prior to her pericardectomy, already shows bilateral plural effusions. The patient improved clinically after the pericardectomy with resolution of her symptoms. Recently, she was readmitted to the hospital with chest pain and found to have bilateral pleural effusion, the right greater than the left. CT of the chest also revealed a large mediastinal lymph node. We reviewed the pathology obtained from the pericardectomy in March 2006, which was diagnostic of mesothelioma. At this time, chest tube placement for drainage of the fluid occurred and thoracoscopy with fluid biopsies, which were performed, which revealed epithelioid malignant mesothelioma. The patient was then stained with a PET CT, which showed extensive uptake in the chest, bilateral pleural pericardial effusions, and lymphadenopathy. She also had acidic fluid, pectoral and intramammary lymph nodes and uptake in L4 with SUV of 4. This was consistent with stage III disease. Her repeat echocardiogram showed an ejection fraction of 45% to 49%. She was transferred to Oncology service and started on chemotherapy on September 1, 2007 with cisplatin 75 mg/centimeter squared equaling 109 mg IV piggyback over 2 hours on September 1, 2007, Alimta 500 mg/ centimeter squared equaling 730 mg IV piggyback over 10 minutes. This was all initiated after a Port-A-Cath was placed. The chemotherapy was well tolerated and the patient was discharged the following day after discontinuing IV fluid and IV. Her Port-A-Cath was packed with heparin according to protocol.\n",
            "DISCHARGE MEDICATIONS:\n",
            "Zofran, Phenergan, Coumadin, and Lovenox, and Vicodin\n",
            "DISCHARGE INSTRUCTIONS:\n",
            "She was instructed to followup with Dr. XYZ in the office to check her INR on Tuesday. She was instructed to call if she had any other questions or concerns in the interim.\n",
            "Keywords:\n",
            "hematology - oncology, mesothelioma, pleural effusion, atrial fibrillation, anemia, ascites, esophageal reflux, deep venous thrombosis, port-a-cath placement, port a cath, iv piggyback, venous thrombosis, atrial, thrombosis, pericardial, lymphadenopathy, fluid, pericardectomy, chest, pleural,\n"
          ]
        }
      ],
      "source": [
        "print(mt_samples_df.limit(1).collect()[0]['text'])"
      ]
    },
    {
      "cell_type": "markdown",
      "metadata": {
        "id": "0vWIDpk50QfG"
      },
      "source": [
        "## 3. NER Pipeline Execution:"
      ]
    },
    {
      "cell_type": "markdown",
      "source": [
        "### Pipeline"
      ],
      "metadata": {
        "id": "cqd5lRNoe2bR"
      }
    },
    {
      "cell_type": "code",
      "execution_count": 13,
      "metadata": {
        "id": "kd3wwfajfyDb"
      },
      "outputs": [],
      "source": [
        "def get_pipeline_model(embeddings, models: dict):\n",
        "  # Document assembler\n",
        "  document_assembler = DocumentAssembler()\\\n",
        "      .setInputCol(\"text\")\\\n",
        "      .setOutputCol(\"document\")\n",
        "\n",
        "  # Sentence detector\n",
        "  sentence_detector = SentenceDetector()\\\n",
        "      .setInputCols([\"document\"])\\\n",
        "      .setOutputCol(\"sentence\")\n",
        "\n",
        "  # Tokenizer\n",
        "  tokenizer = Tokenizer()\\\n",
        "      .setInputCols([\"sentence\"])\\\n",
        "      .setOutputCol(\"token\")\n",
        "\n",
        "  # Word Embeddings\n",
        "  embeddings = WordEmbeddingsModel.pretrained(embeddings, \"en\", \"clinical/models\")\\\n",
        "      .setInputCols([\"sentence\", \"token\"])\\\n",
        "      .setOutputCol(\"embeddings\")\n",
        "\n",
        "  # NER models\n",
        "  ner_clinical = MedicalNerModel.pretrained(models[\"ner_clinical\"], \"en\", \"clinical/models\")\\\n",
        "      .setInputCols([\"sentence\", \"token\", \"embeddings\"])\\\n",
        "      .setOutputCol(\"ner_clinical\")\n",
        "\n",
        "  ner_posology_greedy = MedicalNerModel.pretrained(models[\"ner_posology\"], \"en\", \"clinical/models\")\\\n",
        "      .setInputCols([\"sentence\", \"token\", \"embeddings\"])\\\n",
        "      .setOutputCol(\"ner_posology\")\n",
        "\n",
        "  ner_deid_generic = MedicalNerModel.pretrained(models[\"ner_deid_generic\"], \"en\", \"clinical/models\")\\\n",
        "      .setInputCols([\"sentence\", \"token\", \"embeddings\"])\\\n",
        "      .setOutputCol(\"ner_deid\")\n",
        "\n",
        "  # NER Converters\n",
        "  ner_conv_clinical = NerConverterInternal()\\\n",
        "      .setInputCols([\"sentence\", \"token\", \"ner_clinical\"])\\\n",
        "      .setOutputCol(\"ner_chunk_clinical\")\n",
        "\n",
        "  ner_conv_posology = NerConverterInternal()\\\n",
        "      .setInputCols([\"sentence\", \"token\", \"ner_posology\"])\\\n",
        "      .setOutputCol(\"ner_chunk_posology\")\\\n",
        "      .setWhiteList([\"DRUG\"])\n",
        "\n",
        "  ner_conv_deid = NerConverterInternal()\\\n",
        "      .setInputCols([\"sentence\", \"token\", \"ner_deid\"])\\\n",
        "      .setOutputCol(\"ner_chunk_deid\")\\\n",
        "      .setWhiteList([\"NAME\", \"DATE\"])\n",
        "\n",
        "  # Chunk Merger\n",
        "  chunk_merger = ChunkMergeApproach()\\\n",
        "      .setInputCols([\"ner_chunk_clinical\", \"ner_chunk_posology\", \"ner_chunk_deid\"])\\\n",
        "      .setOutputCol(\"merged_chunks\")\\\n",
        "      .setMergeOverlapping(True)\\\n",
        "      .setSelectionStrategy(\"Sequential\")\\\n",
        "      .setChunkPrecedence(\"ner_source,entity\")\\\n",
        "      .setChunkPrecedenceValuePrioritization([\"ner_chunk_posology,DRUG\", \"ner_chunk_deid,NAME\", \"ner_chunk_deid,DATE\", \"ner_chunk_clinical,*\"])\n",
        "\n",
        "  # Pipeline\n",
        "  model = Pipeline(\n",
        "      stages=[\n",
        "          document_assembler,\n",
        "          sentence_detector,\n",
        "          tokenizer,\n",
        "          embeddings,\n",
        "          ner_clinical,\n",
        "          ner_posology_greedy,\n",
        "          ner_deid_generic,\n",
        "          ner_conv_clinical,\n",
        "          ner_conv_posology,\n",
        "          ner_conv_deid,\n",
        "          chunk_merger\n",
        "      ]\n",
        "  )\n",
        "\n",
        "  return model.fit(spark.createDataFrame([[\"\"]]).toDF(\"text\"))\n"
      ]
    },
    {
      "cell_type": "code",
      "source": [
        "embeddings = 'embeddings_clinical'\n",
        "light_pipeline_model = get_pipeline_model(embeddings, pipeline_ner_models)\n",
        "light_model = LightPipeline(light_pipeline_model)"
      ],
      "metadata": {
        "id": "_6U3FwscqDoM",
        "colab": {
          "base_uri": "https://localhost:8080/"
        },
        "outputId": "a6a54a4b-e4a3-4153-98b6-27aac9493d62"
      },
      "execution_count": 14,
      "outputs": [
        {
          "output_type": "stream",
          "name": "stdout",
          "text": [
            "embeddings_clinical download started this may take some time.\n",
            "Approximate size to download 1.6 GB\n",
            "[OK!]\n",
            "ner_clinical download started this may take some time.\n",
            "[OK!]\n",
            "ner_posology_greedy download started this may take some time.\n",
            "[OK!]\n",
            "ner_deid_generic_augmented download started this may take some time.\n",
            "[OK!]\n"
          ]
        }
      ]
    },
    {
      "cell_type": "markdown",
      "source": [
        "### Test pipeline"
      ],
      "metadata": {
        "id": "HNiCVooVc_P1"
      }
    },
    {
      "cell_type": "code",
      "execution_count": 15,
      "metadata": {
        "id": "V81zaAe13qLU",
        "collapsed": true,
        "colab": {
          "base_uri": "https://localhost:8080/"
        },
        "outputId": "aeba97ee-7b50-4a7c-f942-3cb4c263329c"
      },
      "outputs": [
        {
          "output_type": "stream",
          "name": "stdout",
          "text": [
            "[{'document': [Annotation(document, 0, 83, Patient John Doe was prescribed 500mg of Aspirin on 2023-05-15 for his chronic pain., {}, [])],\n",
            "  'embeddings': [Annotation(word_embeddings, 0, 6, Patient, {'isOOV': 'false', 'pieceId': '-1', 'isWordStart': 'true', 'token': 'Patient', 'sentence': '0'}, []),\n",
            "                 Annotation(word_embeddings, 8, 11, John, {'isOOV': 'false', 'pieceId': '-1', 'isWordStart': 'true', 'token': 'John', 'sentence': '0'}, []),\n",
            "                 Annotation(word_embeddings, 13, 15, Doe, {'isOOV': 'false', 'pieceId': '-1', 'isWordStart': 'true', 'token': 'Doe', 'sentence': '0'}, []),\n",
            "                 Annotation(word_embeddings, 17, 19, was, {'isOOV': 'false', 'pieceId': '-1', 'isWordStart': 'true', 'token': 'was', 'sentence': '0'}, []),\n",
            "                 Annotation(word_embeddings, 21, 30, prescribed, {'isOOV': 'false', 'pieceId': '-1', 'isWordStart': 'true', 'token': 'prescribed', 'sentence': '0'}, []),\n",
            "                 Annotation(word_embeddings, 32, 36, 500mg, {'isOOV': 'false', 'pieceId': '-1', 'isWordStart': 'true', 'token': '500mg', 'sentence': '0'}, []),\n",
            "                 Annotation(word_embeddings, 38, 39, of, {'isOOV': 'false', 'pieceId': '-1', 'isWordStart': 'true', 'token': 'of', 'sentence': '0'}, []),\n",
            "                 Annotation(word_embeddings, 41, 47, Aspirin, {'isOOV': 'false', 'pieceId': '-1', 'isWordStart': 'true', 'token': 'Aspirin', 'sentence': '0'}, []),\n",
            "                 Annotation(word_embeddings, 49, 50, on, {'isOOV': 'false', 'pieceId': '-1', 'isWordStart': 'true', 'token': 'on', 'sentence': '0'}, []),\n",
            "                 Annotation(word_embeddings, 52, 61, 2023-05-15, {'isOOV': 'true', 'pieceId': '-1', 'isWordStart': 'true', 'token': '2023-05-15', 'sentence': '0'}, []),\n",
            "                 Annotation(word_embeddings, 63, 65, for, {'isOOV': 'false', 'pieceId': '-1', 'isWordStart': 'true', 'token': 'for', 'sentence': '0'}, []),\n",
            "                 Annotation(word_embeddings, 67, 69, his, {'isOOV': 'false', 'pieceId': '-1', 'isWordStart': 'true', 'token': 'his', 'sentence': '0'}, []),\n",
            "                 Annotation(word_embeddings, 71, 77, chronic, {'isOOV': 'false', 'pieceId': '-1', 'isWordStart': 'true', 'token': 'chronic', 'sentence': '0'}, []),\n",
            "                 Annotation(word_embeddings, 79, 82, pain, {'isOOV': 'false', 'pieceId': '-1', 'isWordStart': 'true', 'token': 'pain', 'sentence': '0'}, []),\n",
            "                 Annotation(word_embeddings, 83, 83, ., {'isOOV': 'false', 'pieceId': '-1', 'isWordStart': 'true', 'token': '.', 'sentence': '0'}, [])],\n",
            "  'merged_chunks': [Annotation(chunk, 8, 15, John Doe, {'entity': 'NAME', 'confidence': '0.93275', 'ner_source': 'ner_chunk_deid', 'chunk': '0', 'sentence': '0'}, []),\n",
            "                    Annotation(chunk, 32, 47, 500mg of Aspirin, {'entity': 'DRUG', 'confidence': '0.5992333', 'ner_source': 'ner_chunk_posology', 'chunk': '1', 'sentence': '0'}, []),\n",
            "                    Annotation(chunk, 52, 61, 2023-05-15, {'entity': 'DATE', 'confidence': '1.0', 'ner_source': 'ner_chunk_deid', 'chunk': '2', 'sentence': '0'}, []),\n",
            "                    Annotation(chunk, 67, 82, his chronic pain, {'entity': 'PROBLEM', 'confidence': '0.9429333', 'ner_source': 'ner_chunk_clinical', 'chunk': '3', 'sentence': '0'}, [])],\n",
            "  'ner_chunk_clinical': [Annotation(chunk, 41, 47, Aspirin, {'chunk': '0', 'confidence': '0.9951', 'ner_source': 'ner_chunk_clinical', 'entity': 'TREATMENT', 'sentence': '0'}, []),\n",
            "                         Annotation(chunk, 67, 82, his chronic pain, {'chunk': '1', 'confidence': '0.9429333', 'ner_source': 'ner_chunk_clinical', 'entity': 'PROBLEM', 'sentence': '0'}, [])],\n",
            "  'ner_chunk_deid': [Annotation(chunk, 8, 15, John Doe, {'chunk': '0', 'confidence': '0.93275', 'ner_source': 'ner_chunk_deid', 'entity': 'NAME', 'sentence': '0'}, []),\n",
            "                     Annotation(chunk, 52, 61, 2023-05-15, {'chunk': '1', 'confidence': '1.0', 'ner_source': 'ner_chunk_deid', 'entity': 'DATE', 'sentence': '0'}, [])],\n",
            "  'ner_chunk_posology': [Annotation(chunk, 32, 47, 500mg of Aspirin, {'chunk': '0', 'confidence': '0.5992333', 'ner_source': 'ner_chunk_posology', 'entity': 'DRUG', 'sentence': '0'}, [])],\n",
            "  'ner_clinical': [Annotation(named_entity, 0, 6, O, {'word': 'Patient', 'confidence': '0.9999', 'sentence': '0'}, []),\n",
            "                   Annotation(named_entity, 8, 11, O, {'word': 'John', 'confidence': '0.9997', 'sentence': '0'}, []),\n",
            "                   Annotation(named_entity, 13, 15, O, {'word': 'Doe', 'confidence': '0.9987', 'sentence': '0'}, []),\n",
            "                   Annotation(named_entity, 17, 19, O, {'word': 'was', 'confidence': '0.9997', 'sentence': '0'}, []),\n",
            "                   Annotation(named_entity, 21, 30, O, {'word': 'prescribed', 'confidence': '0.9781', 'sentence': '0'}, []),\n",
            "                   Annotation(named_entity, 32, 36, O, {'word': '500mg', 'confidence': '0.9916', 'sentence': '0'}, []),\n",
            "                   Annotation(named_entity, 38, 39, O, {'word': 'of', 'confidence': '0.8341', 'sentence': '0'}, []),\n",
            "                   Annotation(named_entity, 41, 47, B-TREATMENT, {'word': 'Aspirin', 'confidence': '0.9951', 'sentence': '0'}, []),\n",
            "                   Annotation(named_entity, 49, 50, O, {'word': 'on', 'confidence': '1.0', 'sentence': '0'}, []),\n",
            "                   Annotation(named_entity, 52, 61, O, {'word': '2023-05-15', 'confidence': '0.9996', 'sentence': '0'}, []),\n",
            "                   Annotation(named_entity, 63, 65, O, {'word': 'for', 'confidence': '0.9998', 'sentence': '0'}, []),\n",
            "                   Annotation(named_entity, 67, 69, B-PROBLEM, {'word': 'his', 'confidence': '0.9245', 'sentence': '0'}, []),\n",
            "                   Annotation(named_entity, 71, 77, I-PROBLEM, {'word': 'chronic', 'confidence': '0.9191', 'sentence': '0'}, []),\n",
            "                   Annotation(named_entity, 79, 82, I-PROBLEM, {'word': 'pain', 'confidence': '0.9852', 'sentence': '0'}, []),\n",
            "                   Annotation(named_entity, 83, 83, O, {'word': '.', 'confidence': '1.0', 'sentence': '0'}, [])],\n",
            "  'ner_deid': [Annotation(named_entity, 0, 6, O, {'word': 'Patient', 'confidence': '1.0', 'sentence': '0'}, []),\n",
            "               Annotation(named_entity, 8, 11, B-NAME, {'word': 'John', 'confidence': '0.9997', 'sentence': '0'}, []),\n",
            "               Annotation(named_entity, 13, 15, I-NAME, {'word': 'Doe', 'confidence': '0.8658', 'sentence': '0'}, []),\n",
            "               Annotation(named_entity, 17, 19, O, {'word': 'was', 'confidence': '1.0', 'sentence': '0'}, []),\n",
            "               Annotation(named_entity, 21, 30, O, {'word': 'prescribed', 'confidence': '1.0', 'sentence': '0'}, []),\n",
            "               Annotation(named_entity, 32, 36, O, {'word': '500mg', 'confidence': '0.9999', 'sentence': '0'}, []),\n",
            "               Annotation(named_entity, 38, 39, O, {'word': 'of', 'confidence': '0.9996', 'sentence': '0'}, []),\n",
            "               Annotation(named_entity, 41, 47, O, {'word': 'Aspirin', 'confidence': '1.0', 'sentence': '0'}, []),\n",
            "               Annotation(named_entity, 49, 50, O, {'word': 'on', 'confidence': '1.0', 'sentence': '0'}, []),\n",
            "               Annotation(named_entity, 52, 61, B-DATE, {'word': '2023-05-15', 'confidence': '1.0', 'sentence': '0'}, []),\n",
            "               Annotation(named_entity, 63, 65, O, {'word': 'for', 'confidence': '1.0', 'sentence': '0'}, []),\n",
            "               Annotation(named_entity, 67, 69, O, {'word': 'his', 'confidence': '1.0', 'sentence': '0'}, []),\n",
            "               Annotation(named_entity, 71, 77, O, {'word': 'chronic', 'confidence': '1.0', 'sentence': '0'}, []),\n",
            "               Annotation(named_entity, 79, 82, O, {'word': 'pain', 'confidence': '1.0', 'sentence': '0'}, []),\n",
            "               Annotation(named_entity, 83, 83, O, {'word': '.', 'confidence': '0.9999', 'sentence': '0'}, [])],\n",
            "  'ner_posology': [Annotation(named_entity, 0, 6, O, {'word': 'Patient', 'confidence': '0.9983', 'sentence': '0'}, []),\n",
            "                   Annotation(named_entity, 8, 11, O, {'word': 'John', 'confidence': '0.6347', 'sentence': '0'}, []),\n",
            "                   Annotation(named_entity, 13, 15, O, {'word': 'Doe', 'confidence': '0.967', 'sentence': '0'}, []),\n",
            "                   Annotation(named_entity, 17, 19, O, {'word': 'was', 'confidence': '0.9741', 'sentence': '0'}, []),\n",
            "                   Annotation(named_entity, 21, 30, O, {'word': 'prescribed', 'confidence': '0.9724', 'sentence': '0'}, []),\n",
            "                   Annotation(named_entity, 32, 36, B-DRUG, {'word': '500mg', 'confidence': '0.2464', 'sentence': '0'}, []),\n",
            "                   Annotation(named_entity, 38, 39, I-DRUG, {'word': 'of', 'confidence': '0.8695', 'sentence': '0'}, []),\n",
            "                   Annotation(named_entity, 41, 47, I-DRUG, {'word': 'Aspirin', 'confidence': '0.6818', 'sentence': '0'}, []),\n",
            "                   Annotation(named_entity, 49, 50, O, {'word': 'on', 'confidence': '0.9923', 'sentence': '0'}, []),\n",
            "                   Annotation(named_entity, 52, 61, B-STRENGTH, {'word': '2023-05-15', 'confidence': '0.968', 'sentence': '0'}, []),\n",
            "                   Annotation(named_entity, 63, 65, O, {'word': 'for', 'confidence': '0.9987', 'sentence': '0'}, []),\n",
            "                   Annotation(named_entity, 67, 69, O, {'word': 'his', 'confidence': '0.973', 'sentence': '0'}, []),\n",
            "                   Annotation(named_entity, 71, 77, O, {'word': 'chronic', 'confidence': '0.9613', 'sentence': '0'}, []),\n",
            "                   Annotation(named_entity, 79, 82, O, {'word': 'pain', 'confidence': '0.7405', 'sentence': '0'}, []),\n",
            "                   Annotation(named_entity, 83, 83, O, {'word': '.', 'confidence': '0.9992', 'sentence': '0'}, [])],\n",
            "  'sentence': [Annotation(document, 0, 83, Patient John Doe was prescribed 500mg of Aspirin on 2023-05-15 for his chronic pain., {'sentence': '0'}, [])],\n",
            "  'token': [Annotation(token, 0, 6, Patient, {'sentence': '0'}, []),\n",
            "            Annotation(token, 8, 11, John, {'sentence': '0'}, []),\n",
            "            Annotation(token, 13, 15, Doe, {'sentence': '0'}, []),\n",
            "            Annotation(token, 17, 19, was, {'sentence': '0'}, []),\n",
            "            Annotation(token, 21, 30, prescribed, {'sentence': '0'}, []),\n",
            "            Annotation(token, 32, 36, 500mg, {'sentence': '0'}, []),\n",
            "            Annotation(token, 38, 39, of, {'sentence': '0'}, []),\n",
            "            Annotation(token, 41, 47, Aspirin, {'sentence': '0'}, []),\n",
            "            Annotation(token, 49, 50, on, {'sentence': '0'}, []),\n",
            "            Annotation(token, 52, 61, 2023-05-15, {'sentence': '0'}, []),\n",
            "            Annotation(token, 63, 65, for, {'sentence': '0'}, []),\n",
            "            Annotation(token, 67, 69, his, {'sentence': '0'}, []),\n",
            "            Annotation(token, 71, 77, chronic, {'sentence': '0'}, []),\n",
            "            Annotation(token, 79, 82, pain, {'sentence': '0'}, []),\n",
            "            Annotation(token, 83, 83, ., {'sentence': '0'}, [])]}]\n"
          ]
        }
      ],
      "source": [
        "# Run the pipeline\n",
        "text = \"Patient John Doe was prescribed 500mg of Aspirin on 2023-05-15 for his chronic pain.\"\n",
        "light_result = light_model.fullAnnotate(text)\n",
        "from pprint import pprint\n",
        "pprint(light_result)"
      ]
    },
    {
      "cell_type": "code",
      "source": [
        "light_result[0][\"merged_chunks\"]"
      ],
      "metadata": {
        "colab": {
          "base_uri": "https://localhost:8080/"
        },
        "id": "t_FPZihXBQz5",
        "outputId": "0bcb3958-1c19-4d39-b7b4-db0405d8aa80"
      },
      "execution_count": 16,
      "outputs": [
        {
          "output_type": "execute_result",
          "data": {
            "text/plain": [
              "[Annotation(chunk, 8, 15, John Doe, {'entity': 'NAME', 'confidence': '0.93275', 'ner_source': 'ner_chunk_deid', 'chunk': '0', 'sentence': '0'}, []),\n",
              " Annotation(chunk, 32, 47, 500mg of Aspirin, {'entity': 'DRUG', 'confidence': '0.5992333', 'ner_source': 'ner_chunk_posology', 'chunk': '1', 'sentence': '0'}, []),\n",
              " Annotation(chunk, 52, 61, 2023-05-15, {'entity': 'DATE', 'confidence': '1.0', 'ner_source': 'ner_chunk_deid', 'chunk': '2', 'sentence': '0'}, []),\n",
              " Annotation(chunk, 67, 82, his chronic pain, {'entity': 'PROBLEM', 'confidence': '0.9429333', 'ner_source': 'ner_chunk_clinical', 'chunk': '3', 'sentence': '0'}, [])]"
            ]
          },
          "metadata": {},
          "execution_count": 16
        }
      ]
    },
    {
      "cell_type": "code",
      "source": [
        "[item.result for item in light_result[0][\"merged_chunks\"]]"
      ],
      "metadata": {
        "colab": {
          "base_uri": "https://localhost:8080/"
        },
        "id": "Pdm-yAsu8NAo",
        "outputId": "1f23afd6-1baa-4302-9ac6-c2eb85679269"
      },
      "execution_count": 17,
      "outputs": [
        {
          "output_type": "execute_result",
          "data": {
            "text/plain": [
              "['John Doe', '500mg of Aspirin', '2023-05-15', 'his chronic pain']"
            ]
          },
          "metadata": {},
          "execution_count": 17
        }
      ]
    },
    {
      "cell_type": "markdown",
      "source": [
        "### Extract **merged_chunks** from the mt_samples via the pipeline"
      ],
      "metadata": {
        "id": "9Fua5HaEddmN"
      }
    },
    {
      "cell_type": "markdown",
      "source": [
        "#### Prepare input texts"
      ],
      "metadata": {
        "id": "_BCuobe1f8yJ"
      }
    },
    {
      "cell_type": "code",
      "source": [
        "# total_rows = mt_samples_df.count()\n",
        "# texts = [mt_samples_df.select(\"text\").collect()[i]['text'] for i in range(total_rows)]\n",
        "# from pyspark.sql.functions import monotonically_increasing_id\n",
        "# texts = mt_samples_df.select(\"text\").withColumn(\"text_id\", monotonically_increasing_id()).collect()"
      ],
      "metadata": {
        "id": "AV7RHvZzHxo2"
      },
      "execution_count": 18,
      "outputs": []
    },
    {
      "cell_type": "code",
      "source": [
        "texts = mt_samples_df.select(\"text\").rdd.flatMap(lambda x: x).collect()\n",
        "print(f\"Rows: {len(texts)} Type: {type(texts)} Element Type: {type(texts[0])}\")"
      ],
      "metadata": {
        "id": "t3nBISDV0zf4",
        "colab": {
          "base_uri": "https://localhost:8080/"
        },
        "outputId": "3d0c4646-c384-4e95-b2cc-627ffe076702"
      },
      "execution_count": 19,
      "outputs": [
        {
          "output_type": "stream",
          "name": "stdout",
          "text": [
            "Rows: 50 Type: <class 'list'> Element Type: <class 'str'>\n"
          ]
        }
      ]
    },
    {
      "cell_type": "code",
      "source": [
        "print(texts[0])"
      ],
      "metadata": {
        "collapsed": true,
        "id": "qKTHJn5Jwa81",
        "colab": {
          "base_uri": "https://localhost:8080/"
        },
        "outputId": "10da2da3-8d1d-4bbf-86fa-af44357d0a35"
      },
      "execution_count": 20,
      "outputs": [
        {
          "output_type": "stream",
          "name": "stdout",
          "text": [
            "Sample Type / Medical Specialty:\n",
            "Hematology - Oncology\n",
            "Sample Name:\n",
            "Discharge Summary - Mesothelioma - 1\n",
            "Description:\n",
            "Mesothelioma, pleural effusion, atrial fibrillation, anemia, ascites, esophageal reflux, and history of deep venous thrombosis.\n",
            "(Medical Transcription Sample Report)\n",
            "PRINCIPAL DIAGNOSIS:\n",
            "Mesothelioma.\n",
            "SECONDARY DIAGNOSES:\n",
            "Pleural effusion, atrial fibrillation, anemia, ascites, esophageal reflux, and history of deep venous thrombosis.\n",
            "PROCEDURES\n",
            "1. On August 24, 2007, decortication of the lung with pleural biopsy and transpleural fluoroscopy.\n",
            "2. On August 20, 2007, thoracentesis.\n",
            "3. On August 31, 2007, Port-A-Cath placement.\n",
            "HISTORY AND PHYSICAL:\n",
            "The patient is a 41-year-old Vietnamese female with a nonproductive cough that started last week. She has had right-sided chest pain radiating to her back with fever starting yesterday. She has a history of pericarditis and pericardectomy in May 2006 and developed cough with right-sided chest pain, and went to an urgent care center. Chest x-ray revealed right-sided pleural effusion.\n",
            "PAST MEDICAL HISTORY\n",
            "1. Pericardectomy.\n",
            "2. Pericarditis.\n",
            "2. Atrial fibrillation.\n",
            "4. RNCA with intracranial thrombolytic treatment.\n",
            "5 PTA of MCA.\n",
            "6. Mesenteric venous thrombosis.\n",
            "7. Pericardial window.\n",
            "8. Cholecystectomy.\n",
            "9. Left thoracentesis.\n",
            "FAMILY HISTORY:\n",
            "No family history of coronary artery disease, CVA, diabetes, CHF or MI. The patient has one family member, a sister, with history of cancer.\n",
            "SOCIAL HISTORY:\n",
            "She is married. Employed with the US Post Office. She is a mother of three. Denies tobacco, alcohol or illicit drug use.\n",
            "MEDICATIONS\n",
            "1. Coumadin 1 mg daily. Last INR was on Tuesday, August 14, 2007, and her INR was 2.3.\n",
            "2. Amiodarone 100 mg p.o. daily.\n",
            "REVIEW OF SYSTEMS:\n",
            "Complete review of systems negative except as in pulmonary as noted above. The patient also reports occasional numbness and tingling of her left arm.\n",
            "PHYSICAL EXAMINATION\n",
            "VITAL SIGNS: Blood pressure 123/95, heart rate 83, respirations 20, temperature 97, and oxygen saturation 97%.\n",
            "GENERAL: Positive nonproductive cough and pain with coughing.\n",
            "HEENT: Pupils are equal and reactive to light and accommodation. Tympanic membranes are clear.\n",
            "NECK: Supple. No lymphadenopathy. No masses.\n",
            "RESPIRATORY: Pleural friction rub is noted.\n",
            "GI: Soft, nondistended, and nontender. Positive bowel sounds. No organomegaly.\n",
            "EXTREMITIES: No edema, no clubbing, no cyanosis, no tenderness. Full range of motion. Normal pulses in all extremities.\n",
            "SKIN: No breakdown or lesions. No ulcers.\n",
            "NEUROLOGIC: Grossly intact. No focal deficits. Awake, alert, and oriented to person, place, and time.\n",
            "LABORATORY DATA:\n",
            "Labs are pending.\n",
            "HOSPITAL COURSE:\n",
            "The patient was admitted for a right-sided pleural effusion for thoracentesis on Monday by Dr. X. Her Coumadin was placed on hold. A repeat echocardiogram was checked. She was started on prophylaxis for DVT with Lovenox 40 mg subcutaneously. Her history dated back to March 2005 when she first sought medical attention for evidence of pericarditis, which was treated with pericardial window in an outside hospital, at that time she was also found to have mesenteric pain and thrombosis, is now anticoagulated. Her pericardial fluid was accumulated and she was seen by Dr. Y. At that time, she was recommended for pericardectomy, which was performed by Dr. Z. Review of her CT scan from March 2006 prior to her pericardectomy, already shows bilateral plural effusions. The patient improved clinically after the pericardectomy with resolution of her symptoms. Recently, she was readmitted to the hospital with chest pain and found to have bilateral pleural effusion, the right greater than the left. CT of the chest also revealed a large mediastinal lymph node. We reviewed the pathology obtained from the pericardectomy in March 2006, which was diagnostic of mesothelioma. At this time, chest tube placement for drainage of the fluid occurred and thoracoscopy with fluid biopsies, which were performed, which revealed epithelioid malignant mesothelioma. The patient was then stained with a PET CT, which showed extensive uptake in the chest, bilateral pleural pericardial effusions, and lymphadenopathy. She also had acidic fluid, pectoral and intramammary lymph nodes and uptake in L4 with SUV of 4. This was consistent with stage III disease. Her repeat echocardiogram showed an ejection fraction of 45% to 49%. She was transferred to Oncology service and started on chemotherapy on September 1, 2007 with cisplatin 75 mg/centimeter squared equaling 109 mg IV piggyback over 2 hours on September 1, 2007, Alimta 500 mg/ centimeter squared equaling 730 mg IV piggyback over 10 minutes. This was all initiated after a Port-A-Cath was placed. The chemotherapy was well tolerated and the patient was discharged the following day after discontinuing IV fluid and IV. Her Port-A-Cath was packed with heparin according to protocol.\n",
            "DISCHARGE MEDICATIONS:\n",
            "Zofran, Phenergan, Coumadin, and Lovenox, and Vicodin\n",
            "DISCHARGE INSTRUCTIONS:\n",
            "She was instructed to followup with Dr. XYZ in the office to check her INR on Tuesday. She was instructed to call if she had any other questions or concerns in the interim.\n",
            "Keywords:\n",
            "hematology - oncology, mesothelioma, pleural effusion, atrial fibrillation, anemia, ascites, esophageal reflux, deep venous thrombosis, port-a-cath placement, port a cath, iv piggyback, venous thrombosis, atrial, thrombosis, pericardial, lymphadenopathy, fluid, pericardectomy, chest, pleural,\n"
          ]
        }
      ]
    },
    {
      "cell_type": "markdown",
      "source": [
        "#### **Getting prediction**"
      ],
      "metadata": {
        "id": "oCfC6BnDfDqw"
      }
    },
    {
      "cell_type": "code",
      "source": [
        "# Initialize lists to store all predictions\n",
        "text_ids = []\n",
        "chunks = []\n",
        "entities = []\n",
        "sentence_ids = []\n",
        "begins = []\n",
        "ends = []\n",
        "confidences = []\n",
        "\n",
        "# Process each text through the pipeline\n",
        "for idx, text in enumerate(texts[:]):\n",
        "    # Get predictions for current text\n",
        "    light_result = light_model.fullAnnotate(text)\n",
        "\n",
        "    # Extract predictions from each text\n",
        "    for annotation in light_result[0]['merged_chunks']:\n",
        "        text_ids.append(idx)\n",
        "        begins.append(annotation.begin)\n",
        "        ends.append(annotation.end)\n",
        "        chunks.append(annotation.result)\n",
        "        entities.append(annotation.metadata['entity'])\n",
        "        sentence_ids.append(annotation.metadata['sentence'])\n",
        "        confidences.append(annotation.metadata['confidence'])\n",
        "\n",
        "# Create DataFrame with all predictions\n",
        "result_df = pd.DataFrame({\n",
        "    'text_id': text_ids,\n",
        "    'begin': begins,\n",
        "    'end': ends,\n",
        "    'chunk': chunks,\n",
        "    'entity': entities,\n",
        "    'sentence_id': sentence_ids,\n",
        "    'confidence': confidences\n",
        "})\n",
        "\n",
        "# Display the first few rows to verify structure\n",
        "print(\"Number of extracted entities:\", len(result_df))\n",
        "print(\"\\nFirst ten rows:\")\n",
        "result_df.head(10)"
      ],
      "metadata": {
        "id": "lJ1G97uoWhGQ",
        "colab": {
          "base_uri": "https://localhost:8080/",
          "height": 415
        },
        "outputId": "f0719aa4-877a-4420-d3f7-d69e86cfe74c"
      },
      "execution_count": 21,
      "outputs": [
        {
          "output_type": "stream",
          "name": "stdout",
          "text": [
            "Number of extracted entities: 4317\n",
            "\n",
            "First ten rows:\n"
          ]
        },
        {
          "output_type": "execute_result",
          "data": {
            "text/plain": [
              "   text_id  begin  end                   chunk   entity sentence_id  \\\n",
              "0        0     88   99            Mesothelioma  PROBLEM           0   \n",
              "1        0    118  129            Mesothelioma  PROBLEM           0   \n",
              "2        0    132  147        pleural effusion  PROBLEM           0   \n",
              "3        0    150  168     atrial fibrillation  PROBLEM           0   \n",
              "4        0    171  176                  anemia  PROBLEM           0   \n",
              "5        0    179  185                 ascites  PROBLEM           0   \n",
              "6        0    188  204       esophageal reflux  PROBLEM           0   \n",
              "7        0    222  243  deep venous thrombosis  PROBLEM           0   \n",
              "8        0    305  316            Mesothelioma  PROBLEM           1   \n",
              "9        0    340  355        Pleural effusion  PROBLEM           2   \n",
              "\n",
              "   confidence  \n",
              "0       0.973  \n",
              "1      0.9993  \n",
              "2  0.99609995  \n",
              "3     0.99815  \n",
              "4      0.9992  \n",
              "5      0.9996  \n",
              "6     0.99665  \n",
              "7  0.95006675  \n",
              "8      0.9967  \n",
              "9     0.97895  "
            ],
            "text/html": [
              "\n",
              "  <div id=\"df-0738e3c6-3791-4ce0-8720-a6c3bcb067c2\" class=\"colab-df-container\">\n",
              "    <div>\n",
              "<style scoped>\n",
              "    .dataframe tbody tr th:only-of-type {\n",
              "        vertical-align: middle;\n",
              "    }\n",
              "\n",
              "    .dataframe tbody tr th {\n",
              "        vertical-align: top;\n",
              "    }\n",
              "\n",
              "    .dataframe thead th {\n",
              "        text-align: right;\n",
              "    }\n",
              "</style>\n",
              "<table border=\"1\" class=\"dataframe\">\n",
              "  <thead>\n",
              "    <tr style=\"text-align: right;\">\n",
              "      <th></th>\n",
              "      <th>text_id</th>\n",
              "      <th>begin</th>\n",
              "      <th>end</th>\n",
              "      <th>chunk</th>\n",
              "      <th>entity</th>\n",
              "      <th>sentence_id</th>\n",
              "      <th>confidence</th>\n",
              "    </tr>\n",
              "  </thead>\n",
              "  <tbody>\n",
              "    <tr>\n",
              "      <th>0</th>\n",
              "      <td>0</td>\n",
              "      <td>88</td>\n",
              "      <td>99</td>\n",
              "      <td>Mesothelioma</td>\n",
              "      <td>PROBLEM</td>\n",
              "      <td>0</td>\n",
              "      <td>0.973</td>\n",
              "    </tr>\n",
              "    <tr>\n",
              "      <th>1</th>\n",
              "      <td>0</td>\n",
              "      <td>118</td>\n",
              "      <td>129</td>\n",
              "      <td>Mesothelioma</td>\n",
              "      <td>PROBLEM</td>\n",
              "      <td>0</td>\n",
              "      <td>0.9993</td>\n",
              "    </tr>\n",
              "    <tr>\n",
              "      <th>2</th>\n",
              "      <td>0</td>\n",
              "      <td>132</td>\n",
              "      <td>147</td>\n",
              "      <td>pleural effusion</td>\n",
              "      <td>PROBLEM</td>\n",
              "      <td>0</td>\n",
              "      <td>0.99609995</td>\n",
              "    </tr>\n",
              "    <tr>\n",
              "      <th>3</th>\n",
              "      <td>0</td>\n",
              "      <td>150</td>\n",
              "      <td>168</td>\n",
              "      <td>atrial fibrillation</td>\n",
              "      <td>PROBLEM</td>\n",
              "      <td>0</td>\n",
              "      <td>0.99815</td>\n",
              "    </tr>\n",
              "    <tr>\n",
              "      <th>4</th>\n",
              "      <td>0</td>\n",
              "      <td>171</td>\n",
              "      <td>176</td>\n",
              "      <td>anemia</td>\n",
              "      <td>PROBLEM</td>\n",
              "      <td>0</td>\n",
              "      <td>0.9992</td>\n",
              "    </tr>\n",
              "    <tr>\n",
              "      <th>5</th>\n",
              "      <td>0</td>\n",
              "      <td>179</td>\n",
              "      <td>185</td>\n",
              "      <td>ascites</td>\n",
              "      <td>PROBLEM</td>\n",
              "      <td>0</td>\n",
              "      <td>0.9996</td>\n",
              "    </tr>\n",
              "    <tr>\n",
              "      <th>6</th>\n",
              "      <td>0</td>\n",
              "      <td>188</td>\n",
              "      <td>204</td>\n",
              "      <td>esophageal reflux</td>\n",
              "      <td>PROBLEM</td>\n",
              "      <td>0</td>\n",
              "      <td>0.99665</td>\n",
              "    </tr>\n",
              "    <tr>\n",
              "      <th>7</th>\n",
              "      <td>0</td>\n",
              "      <td>222</td>\n",
              "      <td>243</td>\n",
              "      <td>deep venous thrombosis</td>\n",
              "      <td>PROBLEM</td>\n",
              "      <td>0</td>\n",
              "      <td>0.95006675</td>\n",
              "    </tr>\n",
              "    <tr>\n",
              "      <th>8</th>\n",
              "      <td>0</td>\n",
              "      <td>305</td>\n",
              "      <td>316</td>\n",
              "      <td>Mesothelioma</td>\n",
              "      <td>PROBLEM</td>\n",
              "      <td>1</td>\n",
              "      <td>0.9967</td>\n",
              "    </tr>\n",
              "    <tr>\n",
              "      <th>9</th>\n",
              "      <td>0</td>\n",
              "      <td>340</td>\n",
              "      <td>355</td>\n",
              "      <td>Pleural effusion</td>\n",
              "      <td>PROBLEM</td>\n",
              "      <td>2</td>\n",
              "      <td>0.97895</td>\n",
              "    </tr>\n",
              "  </tbody>\n",
              "</table>\n",
              "</div>\n",
              "    <div class=\"colab-df-buttons\">\n",
              "\n",
              "  <div class=\"colab-df-container\">\n",
              "    <button class=\"colab-df-convert\" onclick=\"convertToInteractive('df-0738e3c6-3791-4ce0-8720-a6c3bcb067c2')\"\n",
              "            title=\"Convert this dataframe to an interactive table.\"\n",
              "            style=\"display:none;\">\n",
              "\n",
              "  <svg xmlns=\"http://www.w3.org/2000/svg\" height=\"24px\" viewBox=\"0 -960 960 960\">\n",
              "    <path d=\"M120-120v-720h720v720H120Zm60-500h600v-160H180v160Zm220 220h160v-160H400v160Zm0 220h160v-160H400v160ZM180-400h160v-160H180v160Zm440 0h160v-160H620v160ZM180-180h160v-160H180v160Zm440 0h160v-160H620v160Z\"/>\n",
              "  </svg>\n",
              "    </button>\n",
              "\n",
              "  <style>\n",
              "    .colab-df-container {\n",
              "      display:flex;\n",
              "      gap: 12px;\n",
              "    }\n",
              "\n",
              "    .colab-df-convert {\n",
              "      background-color: #E8F0FE;\n",
              "      border: none;\n",
              "      border-radius: 50%;\n",
              "      cursor: pointer;\n",
              "      display: none;\n",
              "      fill: #1967D2;\n",
              "      height: 32px;\n",
              "      padding: 0 0 0 0;\n",
              "      width: 32px;\n",
              "    }\n",
              "\n",
              "    .colab-df-convert:hover {\n",
              "      background-color: #E2EBFA;\n",
              "      box-shadow: 0px 1px 2px rgba(60, 64, 67, 0.3), 0px 1px 3px 1px rgba(60, 64, 67, 0.15);\n",
              "      fill: #174EA6;\n",
              "    }\n",
              "\n",
              "    .colab-df-buttons div {\n",
              "      margin-bottom: 4px;\n",
              "    }\n",
              "\n",
              "    [theme=dark] .colab-df-convert {\n",
              "      background-color: #3B4455;\n",
              "      fill: #D2E3FC;\n",
              "    }\n",
              "\n",
              "    [theme=dark] .colab-df-convert:hover {\n",
              "      background-color: #434B5C;\n",
              "      box-shadow: 0px 1px 3px 1px rgba(0, 0, 0, 0.15);\n",
              "      filter: drop-shadow(0px 1px 2px rgba(0, 0, 0, 0.3));\n",
              "      fill: #FFFFFF;\n",
              "    }\n",
              "  </style>\n",
              "\n",
              "    <script>\n",
              "      const buttonEl =\n",
              "        document.querySelector('#df-0738e3c6-3791-4ce0-8720-a6c3bcb067c2 button.colab-df-convert');\n",
              "      buttonEl.style.display =\n",
              "        google.colab.kernel.accessAllowed ? 'block' : 'none';\n",
              "\n",
              "      async function convertToInteractive(key) {\n",
              "        const element = document.querySelector('#df-0738e3c6-3791-4ce0-8720-a6c3bcb067c2');\n",
              "        const dataTable =\n",
              "          await google.colab.kernel.invokeFunction('convertToInteractive',\n",
              "                                                    [key], {});\n",
              "        if (!dataTable) return;\n",
              "\n",
              "        const docLinkHtml = 'Like what you see? Visit the ' +\n",
              "          '<a target=\"_blank\" href=https://colab.research.google.com/notebooks/data_table.ipynb>data table notebook</a>'\n",
              "          + ' to learn more about interactive tables.';\n",
              "        element.innerHTML = '';\n",
              "        dataTable['output_type'] = 'display_data';\n",
              "        await google.colab.output.renderOutput(dataTable, element);\n",
              "        const docLink = document.createElement('div');\n",
              "        docLink.innerHTML = docLinkHtml;\n",
              "        element.appendChild(docLink);\n",
              "      }\n",
              "    </script>\n",
              "  </div>\n",
              "\n",
              "\n",
              "<div id=\"df-d2198910-534f-43fc-856f-6887c0605897\">\n",
              "  <button class=\"colab-df-quickchart\" onclick=\"quickchart('df-d2198910-534f-43fc-856f-6887c0605897')\"\n",
              "            title=\"Suggest charts\"\n",
              "            style=\"display:none;\">\n",
              "\n",
              "<svg xmlns=\"http://www.w3.org/2000/svg\" height=\"24px\"viewBox=\"0 0 24 24\"\n",
              "     width=\"24px\">\n",
              "    <g>\n",
              "        <path d=\"M19 3H5c-1.1 0-2 .9-2 2v14c0 1.1.9 2 2 2h14c1.1 0 2-.9 2-2V5c0-1.1-.9-2-2-2zM9 17H7v-7h2v7zm4 0h-2V7h2v10zm4 0h-2v-4h2v4z\"/>\n",
              "    </g>\n",
              "</svg>\n",
              "  </button>\n",
              "\n",
              "<style>\n",
              "  .colab-df-quickchart {\n",
              "      --bg-color: #E8F0FE;\n",
              "      --fill-color: #1967D2;\n",
              "      --hover-bg-color: #E2EBFA;\n",
              "      --hover-fill-color: #174EA6;\n",
              "      --disabled-fill-color: #AAA;\n",
              "      --disabled-bg-color: #DDD;\n",
              "  }\n",
              "\n",
              "  [theme=dark] .colab-df-quickchart {\n",
              "      --bg-color: #3B4455;\n",
              "      --fill-color: #D2E3FC;\n",
              "      --hover-bg-color: #434B5C;\n",
              "      --hover-fill-color: #FFFFFF;\n",
              "      --disabled-bg-color: #3B4455;\n",
              "      --disabled-fill-color: #666;\n",
              "  }\n",
              "\n",
              "  .colab-df-quickchart {\n",
              "    background-color: var(--bg-color);\n",
              "    border: none;\n",
              "    border-radius: 50%;\n",
              "    cursor: pointer;\n",
              "    display: none;\n",
              "    fill: var(--fill-color);\n",
              "    height: 32px;\n",
              "    padding: 0;\n",
              "    width: 32px;\n",
              "  }\n",
              "\n",
              "  .colab-df-quickchart:hover {\n",
              "    background-color: var(--hover-bg-color);\n",
              "    box-shadow: 0 1px 2px rgba(60, 64, 67, 0.3), 0 1px 3px 1px rgba(60, 64, 67, 0.15);\n",
              "    fill: var(--button-hover-fill-color);\n",
              "  }\n",
              "\n",
              "  .colab-df-quickchart-complete:disabled,\n",
              "  .colab-df-quickchart-complete:disabled:hover {\n",
              "    background-color: var(--disabled-bg-color);\n",
              "    fill: var(--disabled-fill-color);\n",
              "    box-shadow: none;\n",
              "  }\n",
              "\n",
              "  .colab-df-spinner {\n",
              "    border: 2px solid var(--fill-color);\n",
              "    border-color: transparent;\n",
              "    border-bottom-color: var(--fill-color);\n",
              "    animation:\n",
              "      spin 1s steps(1) infinite;\n",
              "  }\n",
              "\n",
              "  @keyframes spin {\n",
              "    0% {\n",
              "      border-color: transparent;\n",
              "      border-bottom-color: var(--fill-color);\n",
              "      border-left-color: var(--fill-color);\n",
              "    }\n",
              "    20% {\n",
              "      border-color: transparent;\n",
              "      border-left-color: var(--fill-color);\n",
              "      border-top-color: var(--fill-color);\n",
              "    }\n",
              "    30% {\n",
              "      border-color: transparent;\n",
              "      border-left-color: var(--fill-color);\n",
              "      border-top-color: var(--fill-color);\n",
              "      border-right-color: var(--fill-color);\n",
              "    }\n",
              "    40% {\n",
              "      border-color: transparent;\n",
              "      border-right-color: var(--fill-color);\n",
              "      border-top-color: var(--fill-color);\n",
              "    }\n",
              "    60% {\n",
              "      border-color: transparent;\n",
              "      border-right-color: var(--fill-color);\n",
              "    }\n",
              "    80% {\n",
              "      border-color: transparent;\n",
              "      border-right-color: var(--fill-color);\n",
              "      border-bottom-color: var(--fill-color);\n",
              "    }\n",
              "    90% {\n",
              "      border-color: transparent;\n",
              "      border-bottom-color: var(--fill-color);\n",
              "    }\n",
              "  }\n",
              "</style>\n",
              "\n",
              "  <script>\n",
              "    async function quickchart(key) {\n",
              "      const quickchartButtonEl =\n",
              "        document.querySelector('#' + key + ' button');\n",
              "      quickchartButtonEl.disabled = true;  // To prevent multiple clicks.\n",
              "      quickchartButtonEl.classList.add('colab-df-spinner');\n",
              "      try {\n",
              "        const charts = await google.colab.kernel.invokeFunction(\n",
              "            'suggestCharts', [key], {});\n",
              "      } catch (error) {\n",
              "        console.error('Error during call to suggestCharts:', error);\n",
              "      }\n",
              "      quickchartButtonEl.classList.remove('colab-df-spinner');\n",
              "      quickchartButtonEl.classList.add('colab-df-quickchart-complete');\n",
              "    }\n",
              "    (() => {\n",
              "      let quickchartButtonEl =\n",
              "        document.querySelector('#df-d2198910-534f-43fc-856f-6887c0605897 button');\n",
              "      quickchartButtonEl.style.display =\n",
              "        google.colab.kernel.accessAllowed ? 'block' : 'none';\n",
              "    })();\n",
              "  </script>\n",
              "</div>\n",
              "\n",
              "    </div>\n",
              "  </div>\n"
            ],
            "application/vnd.google.colaboratory.intrinsic+json": {
              "type": "dataframe",
              "variable_name": "result_df",
              "summary": "{\n  \"name\": \"result_df\",\n  \"rows\": 4317,\n  \"fields\": [\n    {\n      \"column\": \"text_id\",\n      \"properties\": {\n        \"dtype\": \"number\",\n        \"std\": 14,\n        \"min\": 0,\n        \"max\": 49,\n        \"num_unique_values\": 50,\n        \"samples\": [\n          13,\n          39,\n          30\n        ],\n        \"semantic_type\": \"\",\n        \"description\": \"\"\n      }\n    },\n    {\n      \"column\": \"begin\",\n      \"properties\": {\n        \"dtype\": \"number\",\n        \"std\": 2129,\n        \"min\": 68,\n        \"max\": 10201,\n        \"num_unique_values\": 3130,\n        \"samples\": [\n          1492,\n          1924,\n          895\n        ],\n        \"semantic_type\": \"\",\n        \"description\": \"\"\n      }\n    },\n    {\n      \"column\": \"end\",\n      \"properties\": {\n        \"dtype\": \"number\",\n        \"std\": 2128,\n        \"min\": 73,\n        \"max\": 10210,\n        \"num_unique_values\": 3169,\n        \"samples\": [\n          1176,\n          5770,\n          3059\n        ],\n        \"semantic_type\": \"\",\n        \"description\": \"\"\n      }\n    },\n    {\n      \"column\": \"chunk\",\n      \"properties\": {\n        \"dtype\": \"string\",\n        \"num_unique_values\": 2765,\n        \"samples\": [\n          \"local tissue flaps\",\n          \"local anesthesia\",\n          \"Prolene\"\n        ],\n        \"semantic_type\": \"\",\n        \"description\": \"\"\n      }\n    },\n    {\n      \"column\": \"entity\",\n      \"properties\": {\n        \"dtype\": \"category\",\n        \"num_unique_values\": 6,\n        \"samples\": [\n          \"PROBLEM\",\n          \"DATE\",\n          \"NAME\"\n        ],\n        \"semantic_type\": \"\",\n        \"description\": \"\"\n      }\n    },\n    {\n      \"column\": \"sentence_id\",\n      \"properties\": {\n        \"dtype\": \"category\",\n        \"num_unique_values\": 131,\n        \"samples\": [\n          \"71\",\n          \"56\",\n          \"22\"\n        ],\n        \"semantic_type\": \"\",\n        \"description\": \"\"\n      }\n    },\n    {\n      \"column\": \"confidence\",\n      \"properties\": {\n        \"dtype\": \"string\",\n        \"num_unique_values\": 2788,\n        \"samples\": [\n          \"0.7947\",\n          \"0.6689\",\n          \"0.878\"\n        ],\n        \"semantic_type\": \"\",\n        \"description\": \"\"\n      }\n    }\n  ]\n}"
            }
          },
          "metadata": {},
          "execution_count": 21
        }
      ]
    },
    {
      "cell_type": "code",
      "source": [
        "print(\"Last ten rows:\")\n",
        "result_df.tail(10)"
      ],
      "metadata": {
        "colab": {
          "base_uri": "https://localhost:8080/",
          "height": 380
        },
        "id": "TVqNUjKNPy1E",
        "outputId": "22dbf669-c119-4662-fbbf-b5334010d8c4"
      },
      "execution_count": 22,
      "outputs": [
        {
          "output_type": "stream",
          "name": "stdout",
          "text": [
            "Last ten rows:\n"
          ]
        },
        {
          "output_type": "execute_result",
          "data": {
            "text/plain": [
              "      text_id  begin   end                          chunk   entity  \\\n",
              "4307       49   5701  5717              estrogen receptor     DRUG   \n",
              "4308       49   5720  5728                      her 2 neu  PROBLEM   \n",
              "4309       49   5731  5759  tnm, axillary node dissection  PROBLEM   \n",
              "4310       49   5762  5770                      tamoxifen     DRUG   \n",
              "4311       49   5773  5801  infiltrating ductal carcinoma  PROBLEM   \n",
              "4312       49   5804  5823           upper outer quadrant  PROBLEM   \n",
              "4313       49   5826  5841               ductal carcinoma  PROBLEM   \n",
              "4314       49   5844  5860              breast, carcinoma  PROBLEM   \n",
              "4315       49   5863  5877                axillary, chest  PROBLEM   \n",
              "4316       49   5880  5888                      mammogram     TEST   \n",
              "\n",
              "     sentence_id  confidence  \n",
              "4307          90     0.58185  \n",
              "4308          90       0.629  \n",
              "4309          90     0.71064  \n",
              "4310          90      0.9874  \n",
              "4311          90   0.9763333  \n",
              "4312          90  0.79406667  \n",
              "4313          90  0.97440004  \n",
              "4314          90   0.7565667  \n",
              "4315          90  0.56093335  \n",
              "4316          90      0.3922  "
            ],
            "text/html": [
              "\n",
              "  <div id=\"df-2395a4f7-65c7-428b-8eec-1cbe9141befe\" class=\"colab-df-container\">\n",
              "    <div>\n",
              "<style scoped>\n",
              "    .dataframe tbody tr th:only-of-type {\n",
              "        vertical-align: middle;\n",
              "    }\n",
              "\n",
              "    .dataframe tbody tr th {\n",
              "        vertical-align: top;\n",
              "    }\n",
              "\n",
              "    .dataframe thead th {\n",
              "        text-align: right;\n",
              "    }\n",
              "</style>\n",
              "<table border=\"1\" class=\"dataframe\">\n",
              "  <thead>\n",
              "    <tr style=\"text-align: right;\">\n",
              "      <th></th>\n",
              "      <th>text_id</th>\n",
              "      <th>begin</th>\n",
              "      <th>end</th>\n",
              "      <th>chunk</th>\n",
              "      <th>entity</th>\n",
              "      <th>sentence_id</th>\n",
              "      <th>confidence</th>\n",
              "    </tr>\n",
              "  </thead>\n",
              "  <tbody>\n",
              "    <tr>\n",
              "      <th>4307</th>\n",
              "      <td>49</td>\n",
              "      <td>5701</td>\n",
              "      <td>5717</td>\n",
              "      <td>estrogen receptor</td>\n",
              "      <td>DRUG</td>\n",
              "      <td>90</td>\n",
              "      <td>0.58185</td>\n",
              "    </tr>\n",
              "    <tr>\n",
              "      <th>4308</th>\n",
              "      <td>49</td>\n",
              "      <td>5720</td>\n",
              "      <td>5728</td>\n",
              "      <td>her 2 neu</td>\n",
              "      <td>PROBLEM</td>\n",
              "      <td>90</td>\n",
              "      <td>0.629</td>\n",
              "    </tr>\n",
              "    <tr>\n",
              "      <th>4309</th>\n",
              "      <td>49</td>\n",
              "      <td>5731</td>\n",
              "      <td>5759</td>\n",
              "      <td>tnm, axillary node dissection</td>\n",
              "      <td>PROBLEM</td>\n",
              "      <td>90</td>\n",
              "      <td>0.71064</td>\n",
              "    </tr>\n",
              "    <tr>\n",
              "      <th>4310</th>\n",
              "      <td>49</td>\n",
              "      <td>5762</td>\n",
              "      <td>5770</td>\n",
              "      <td>tamoxifen</td>\n",
              "      <td>DRUG</td>\n",
              "      <td>90</td>\n",
              "      <td>0.9874</td>\n",
              "    </tr>\n",
              "    <tr>\n",
              "      <th>4311</th>\n",
              "      <td>49</td>\n",
              "      <td>5773</td>\n",
              "      <td>5801</td>\n",
              "      <td>infiltrating ductal carcinoma</td>\n",
              "      <td>PROBLEM</td>\n",
              "      <td>90</td>\n",
              "      <td>0.9763333</td>\n",
              "    </tr>\n",
              "    <tr>\n",
              "      <th>4312</th>\n",
              "      <td>49</td>\n",
              "      <td>5804</td>\n",
              "      <td>5823</td>\n",
              "      <td>upper outer quadrant</td>\n",
              "      <td>PROBLEM</td>\n",
              "      <td>90</td>\n",
              "      <td>0.79406667</td>\n",
              "    </tr>\n",
              "    <tr>\n",
              "      <th>4313</th>\n",
              "      <td>49</td>\n",
              "      <td>5826</td>\n",
              "      <td>5841</td>\n",
              "      <td>ductal carcinoma</td>\n",
              "      <td>PROBLEM</td>\n",
              "      <td>90</td>\n",
              "      <td>0.97440004</td>\n",
              "    </tr>\n",
              "    <tr>\n",
              "      <th>4314</th>\n",
              "      <td>49</td>\n",
              "      <td>5844</td>\n",
              "      <td>5860</td>\n",
              "      <td>breast, carcinoma</td>\n",
              "      <td>PROBLEM</td>\n",
              "      <td>90</td>\n",
              "      <td>0.7565667</td>\n",
              "    </tr>\n",
              "    <tr>\n",
              "      <th>4315</th>\n",
              "      <td>49</td>\n",
              "      <td>5863</td>\n",
              "      <td>5877</td>\n",
              "      <td>axillary, chest</td>\n",
              "      <td>PROBLEM</td>\n",
              "      <td>90</td>\n",
              "      <td>0.56093335</td>\n",
              "    </tr>\n",
              "    <tr>\n",
              "      <th>4316</th>\n",
              "      <td>49</td>\n",
              "      <td>5880</td>\n",
              "      <td>5888</td>\n",
              "      <td>mammogram</td>\n",
              "      <td>TEST</td>\n",
              "      <td>90</td>\n",
              "      <td>0.3922</td>\n",
              "    </tr>\n",
              "  </tbody>\n",
              "</table>\n",
              "</div>\n",
              "    <div class=\"colab-df-buttons\">\n",
              "\n",
              "  <div class=\"colab-df-container\">\n",
              "    <button class=\"colab-df-convert\" onclick=\"convertToInteractive('df-2395a4f7-65c7-428b-8eec-1cbe9141befe')\"\n",
              "            title=\"Convert this dataframe to an interactive table.\"\n",
              "            style=\"display:none;\">\n",
              "\n",
              "  <svg xmlns=\"http://www.w3.org/2000/svg\" height=\"24px\" viewBox=\"0 -960 960 960\">\n",
              "    <path d=\"M120-120v-720h720v720H120Zm60-500h600v-160H180v160Zm220 220h160v-160H400v160Zm0 220h160v-160H400v160ZM180-400h160v-160H180v160Zm440 0h160v-160H620v160ZM180-180h160v-160H180v160Zm440 0h160v-160H620v160Z\"/>\n",
              "  </svg>\n",
              "    </button>\n",
              "\n",
              "  <style>\n",
              "    .colab-df-container {\n",
              "      display:flex;\n",
              "      gap: 12px;\n",
              "    }\n",
              "\n",
              "    .colab-df-convert {\n",
              "      background-color: #E8F0FE;\n",
              "      border: none;\n",
              "      border-radius: 50%;\n",
              "      cursor: pointer;\n",
              "      display: none;\n",
              "      fill: #1967D2;\n",
              "      height: 32px;\n",
              "      padding: 0 0 0 0;\n",
              "      width: 32px;\n",
              "    }\n",
              "\n",
              "    .colab-df-convert:hover {\n",
              "      background-color: #E2EBFA;\n",
              "      box-shadow: 0px 1px 2px rgba(60, 64, 67, 0.3), 0px 1px 3px 1px rgba(60, 64, 67, 0.15);\n",
              "      fill: #174EA6;\n",
              "    }\n",
              "\n",
              "    .colab-df-buttons div {\n",
              "      margin-bottom: 4px;\n",
              "    }\n",
              "\n",
              "    [theme=dark] .colab-df-convert {\n",
              "      background-color: #3B4455;\n",
              "      fill: #D2E3FC;\n",
              "    }\n",
              "\n",
              "    [theme=dark] .colab-df-convert:hover {\n",
              "      background-color: #434B5C;\n",
              "      box-shadow: 0px 1px 3px 1px rgba(0, 0, 0, 0.15);\n",
              "      filter: drop-shadow(0px 1px 2px rgba(0, 0, 0, 0.3));\n",
              "      fill: #FFFFFF;\n",
              "    }\n",
              "  </style>\n",
              "\n",
              "    <script>\n",
              "      const buttonEl =\n",
              "        document.querySelector('#df-2395a4f7-65c7-428b-8eec-1cbe9141befe button.colab-df-convert');\n",
              "      buttonEl.style.display =\n",
              "        google.colab.kernel.accessAllowed ? 'block' : 'none';\n",
              "\n",
              "      async function convertToInteractive(key) {\n",
              "        const element = document.querySelector('#df-2395a4f7-65c7-428b-8eec-1cbe9141befe');\n",
              "        const dataTable =\n",
              "          await google.colab.kernel.invokeFunction('convertToInteractive',\n",
              "                                                    [key], {});\n",
              "        if (!dataTable) return;\n",
              "\n",
              "        const docLinkHtml = 'Like what you see? Visit the ' +\n",
              "          '<a target=\"_blank\" href=https://colab.research.google.com/notebooks/data_table.ipynb>data table notebook</a>'\n",
              "          + ' to learn more about interactive tables.';\n",
              "        element.innerHTML = '';\n",
              "        dataTable['output_type'] = 'display_data';\n",
              "        await google.colab.output.renderOutput(dataTable, element);\n",
              "        const docLink = document.createElement('div');\n",
              "        docLink.innerHTML = docLinkHtml;\n",
              "        element.appendChild(docLink);\n",
              "      }\n",
              "    </script>\n",
              "  </div>\n",
              "\n",
              "\n",
              "<div id=\"df-3806930e-1234-480e-9577-c33b571c044d\">\n",
              "  <button class=\"colab-df-quickchart\" onclick=\"quickchart('df-3806930e-1234-480e-9577-c33b571c044d')\"\n",
              "            title=\"Suggest charts\"\n",
              "            style=\"display:none;\">\n",
              "\n",
              "<svg xmlns=\"http://www.w3.org/2000/svg\" height=\"24px\"viewBox=\"0 0 24 24\"\n",
              "     width=\"24px\">\n",
              "    <g>\n",
              "        <path d=\"M19 3H5c-1.1 0-2 .9-2 2v14c0 1.1.9 2 2 2h14c1.1 0 2-.9 2-2V5c0-1.1-.9-2-2-2zM9 17H7v-7h2v7zm4 0h-2V7h2v10zm4 0h-2v-4h2v4z\"/>\n",
              "    </g>\n",
              "</svg>\n",
              "  </button>\n",
              "\n",
              "<style>\n",
              "  .colab-df-quickchart {\n",
              "      --bg-color: #E8F0FE;\n",
              "      --fill-color: #1967D2;\n",
              "      --hover-bg-color: #E2EBFA;\n",
              "      --hover-fill-color: #174EA6;\n",
              "      --disabled-fill-color: #AAA;\n",
              "      --disabled-bg-color: #DDD;\n",
              "  }\n",
              "\n",
              "  [theme=dark] .colab-df-quickchart {\n",
              "      --bg-color: #3B4455;\n",
              "      --fill-color: #D2E3FC;\n",
              "      --hover-bg-color: #434B5C;\n",
              "      --hover-fill-color: #FFFFFF;\n",
              "      --disabled-bg-color: #3B4455;\n",
              "      --disabled-fill-color: #666;\n",
              "  }\n",
              "\n",
              "  .colab-df-quickchart {\n",
              "    background-color: var(--bg-color);\n",
              "    border: none;\n",
              "    border-radius: 50%;\n",
              "    cursor: pointer;\n",
              "    display: none;\n",
              "    fill: var(--fill-color);\n",
              "    height: 32px;\n",
              "    padding: 0;\n",
              "    width: 32px;\n",
              "  }\n",
              "\n",
              "  .colab-df-quickchart:hover {\n",
              "    background-color: var(--hover-bg-color);\n",
              "    box-shadow: 0 1px 2px rgba(60, 64, 67, 0.3), 0 1px 3px 1px rgba(60, 64, 67, 0.15);\n",
              "    fill: var(--button-hover-fill-color);\n",
              "  }\n",
              "\n",
              "  .colab-df-quickchart-complete:disabled,\n",
              "  .colab-df-quickchart-complete:disabled:hover {\n",
              "    background-color: var(--disabled-bg-color);\n",
              "    fill: var(--disabled-fill-color);\n",
              "    box-shadow: none;\n",
              "  }\n",
              "\n",
              "  .colab-df-spinner {\n",
              "    border: 2px solid var(--fill-color);\n",
              "    border-color: transparent;\n",
              "    border-bottom-color: var(--fill-color);\n",
              "    animation:\n",
              "      spin 1s steps(1) infinite;\n",
              "  }\n",
              "\n",
              "  @keyframes spin {\n",
              "    0% {\n",
              "      border-color: transparent;\n",
              "      border-bottom-color: var(--fill-color);\n",
              "      border-left-color: var(--fill-color);\n",
              "    }\n",
              "    20% {\n",
              "      border-color: transparent;\n",
              "      border-left-color: var(--fill-color);\n",
              "      border-top-color: var(--fill-color);\n",
              "    }\n",
              "    30% {\n",
              "      border-color: transparent;\n",
              "      border-left-color: var(--fill-color);\n",
              "      border-top-color: var(--fill-color);\n",
              "      border-right-color: var(--fill-color);\n",
              "    }\n",
              "    40% {\n",
              "      border-color: transparent;\n",
              "      border-right-color: var(--fill-color);\n",
              "      border-top-color: var(--fill-color);\n",
              "    }\n",
              "    60% {\n",
              "      border-color: transparent;\n",
              "      border-right-color: var(--fill-color);\n",
              "    }\n",
              "    80% {\n",
              "      border-color: transparent;\n",
              "      border-right-color: var(--fill-color);\n",
              "      border-bottom-color: var(--fill-color);\n",
              "    }\n",
              "    90% {\n",
              "      border-color: transparent;\n",
              "      border-bottom-color: var(--fill-color);\n",
              "    }\n",
              "  }\n",
              "</style>\n",
              "\n",
              "  <script>\n",
              "    async function quickchart(key) {\n",
              "      const quickchartButtonEl =\n",
              "        document.querySelector('#' + key + ' button');\n",
              "      quickchartButtonEl.disabled = true;  // To prevent multiple clicks.\n",
              "      quickchartButtonEl.classList.add('colab-df-spinner');\n",
              "      try {\n",
              "        const charts = await google.colab.kernel.invokeFunction(\n",
              "            'suggestCharts', [key], {});\n",
              "      } catch (error) {\n",
              "        console.error('Error during call to suggestCharts:', error);\n",
              "      }\n",
              "      quickchartButtonEl.classList.remove('colab-df-spinner');\n",
              "      quickchartButtonEl.classList.add('colab-df-quickchart-complete');\n",
              "    }\n",
              "    (() => {\n",
              "      let quickchartButtonEl =\n",
              "        document.querySelector('#df-3806930e-1234-480e-9577-c33b571c044d button');\n",
              "      quickchartButtonEl.style.display =\n",
              "        google.colab.kernel.accessAllowed ? 'block' : 'none';\n",
              "    })();\n",
              "  </script>\n",
              "</div>\n",
              "\n",
              "    </div>\n",
              "  </div>\n"
            ],
            "application/vnd.google.colaboratory.intrinsic+json": {
              "type": "dataframe",
              "summary": "{\n  \"name\": \"result_df\",\n  \"rows\": 10,\n  \"fields\": [\n    {\n      \"column\": \"text_id\",\n      \"properties\": {\n        \"dtype\": \"number\",\n        \"std\": 0,\n        \"min\": 49,\n        \"max\": 49,\n        \"num_unique_values\": 1,\n        \"samples\": [\n          49\n        ],\n        \"semantic_type\": \"\",\n        \"description\": \"\"\n      }\n    },\n    {\n      \"column\": \"begin\",\n      \"properties\": {\n        \"dtype\": \"number\",\n        \"std\": 62,\n        \"min\": 5701,\n        \"max\": 5880,\n        \"num_unique_values\": 10,\n        \"samples\": [\n          5863\n        ],\n        \"semantic_type\": \"\",\n        \"description\": \"\"\n      }\n    },\n    {\n      \"column\": \"end\",\n      \"properties\": {\n        \"dtype\": \"number\",\n        \"std\": 61,\n        \"min\": 5717,\n        \"max\": 5888,\n        \"num_unique_values\": 10,\n        \"samples\": [\n          5877\n        ],\n        \"semantic_type\": \"\",\n        \"description\": \"\"\n      }\n    },\n    {\n      \"column\": \"chunk\",\n      \"properties\": {\n        \"dtype\": \"string\",\n        \"num_unique_values\": 10,\n        \"samples\": [\n          \"axillary, chest\"\n        ],\n        \"semantic_type\": \"\",\n        \"description\": \"\"\n      }\n    },\n    {\n      \"column\": \"entity\",\n      \"properties\": {\n        \"dtype\": \"category\",\n        \"num_unique_values\": 3,\n        \"samples\": [\n          \"DRUG\"\n        ],\n        \"semantic_type\": \"\",\n        \"description\": \"\"\n      }\n    },\n    {\n      \"column\": \"sentence_id\",\n      \"properties\": {\n        \"dtype\": \"category\",\n        \"num_unique_values\": 1,\n        \"samples\": [\n          \"90\"\n        ],\n        \"semantic_type\": \"\",\n        \"description\": \"\"\n      }\n    },\n    {\n      \"column\": \"confidence\",\n      \"properties\": {\n        \"dtype\": \"string\",\n        \"num_unique_values\": 10,\n        \"samples\": [\n          \"0.56093335\"\n        ],\n        \"semantic_type\": \"\",\n        \"description\": \"\"\n      }\n    }\n  ]\n}"
            }
          },
          "metadata": {},
          "execution_count": 22
        }
      ]
    },
    {
      "cell_type": "code",
      "source": [
        "print(result_df['entity'].value_counts())"
      ],
      "metadata": {
        "colab": {
          "base_uri": "https://localhost:8080/"
        },
        "id": "PUBJK47YQlzw",
        "outputId": "90558349-ae69-42ed-ea20-0cb164307ea1"
      },
      "execution_count": 23,
      "outputs": [
        {
          "output_type": "stream",
          "name": "stdout",
          "text": [
            "entity\n",
            "PROBLEM      2111\n",
            "TREATMENT     854\n",
            "TEST          779\n",
            "DRUG          424\n",
            "DATE          130\n",
            "NAME           19\n",
            "Name: count, dtype: int64\n"
          ]
        }
      ]
    },
    {
      "source": [
        "from matplotlib import pyplot as plt\n",
        "import seaborn as sns\n",
        "result_df.groupby('entity').size().plot(kind='barh', color=sns.palettes.mpl_palette('Dark2'))\n",
        "plt.gca().spines[['top', 'right',]].set_visible(False)"
      ],
      "cell_type": "code",
      "metadata": {
        "colab": {
          "base_uri": "https://localhost:8080/",
          "height": 430
        },
        "id": "bllD3CeoQLyD",
        "outputId": "65b11d26-d486-46a0-a827-04cf84fbcfe1"
      },
      "execution_count": 24,
      "outputs": [
        {
          "output_type": "display_data",
          "data": {
            "text/plain": [
              "<Figure size 640x480 with 1 Axes>"
            ],
            "image/png": "[encoded data removed]"
          },
          "metadata": {}
        }
      ]
    },
    {
      "cell_type": "markdown",
      "source": [
        "#### **Save** the NER results and associated texts as a csv file."
      ],
      "metadata": {
        "id": "pD4izrDGiEMj"
      }
    },
    {
      "cell_type": "code",
      "source": [
        "result_df.to_csv(\"ner_clinical_mtsamples_ner_results_for_conll.csv\", index=False)\n",
        "text_df = pd.DataFrame({'text_id': range(len(texts)), 'text': texts})\n",
        "text_df.to_csv(\"mtsamples_texts.csv\", index=False)"
      ],
      "metadata": {
        "id": "wMva9ndIOfDl"
      },
      "execution_count": 25,
      "outputs": []
    },
    {
      "cell_type": "code",
      "source": [],
      "metadata": {
        "id": "B2Jz4MmxPnv8"
      },
      "execution_count": 25,
      "outputs": []
    },
    {
      "cell_type": "markdown",
      "source": [
        "\n",
        "\n",
        "---\n",
        "***R.Caliskan***\n"
      ],
      "metadata": {
        "id": "vaeP9gh6PoEr"
      }
    }
  ],
  "metadata": {
    "colab": {
      "machine_shape": "hm",
      "provenance": [],
      "include_colab_link": true
    },
    "kernelspec": {
      "display_name": "Python 3",
      "name": "python3"
    },
    "language_info": {
      "codemirror_mode": {
        "name": "ipython",
        "version": 3
      },
      "file_extension": ".py",
      "mimetype": "text/x-python",
      "name": "python",
      "nbconvert_exporter": "python",
      "pygments_lexer": "ipython3",
      "version": "3.9.7"
    },
    "vscode": {
      "interpreter": {
        "hash": "3f47d918ae832c68584484921185f5c85a1760864bf927a683dc6fb56366cc77"
      }
    }
  },
  "nbformat": 4,
  "nbformat_minor": 0
}